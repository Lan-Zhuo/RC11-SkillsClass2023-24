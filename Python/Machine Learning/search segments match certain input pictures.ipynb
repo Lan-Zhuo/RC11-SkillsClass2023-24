{
 "cells": [
  {
   "cell_type": "code",
   "execution_count": 1,
   "id": "3a6e6f1e",
   "metadata": {},
   "outputs": [
    {
     "name": "stdout",
     "output_type": "stream",
     "text": [
      "Requirement already satisfied: moviepy in c:\\users\\zl\\anaconda3\\lib\\site-packages (1.0.3)\n",
      "Requirement already satisfied: decorator<5.0,>=4.0.2 in c:\\users\\zl\\anaconda3\\lib\\site-packages (from moviepy) (4.4.2)\n",
      "Requirement already satisfied: tqdm<5.0,>=4.11.2 in c:\\users\\zl\\anaconda3\\lib\\site-packages (from moviepy) (4.65.0)\n",
      "Requirement already satisfied: requests<3.0,>=2.8.1 in c:\\users\\zl\\anaconda3\\lib\\site-packages (from moviepy) (2.31.0)\n",
      "Requirement already satisfied: proglog<=1.0.0 in c:\\users\\zl\\anaconda3\\lib\\site-packages (from moviepy) (0.1.10)\n",
      "Requirement already satisfied: numpy>=1.17.3 in c:\\users\\zl\\anaconda3\\lib\\site-packages (from moviepy) (1.24.3)\n",
      "Requirement already satisfied: imageio<3.0,>=2.5 in c:\\users\\zl\\anaconda3\\lib\\site-packages (from moviepy) (2.26.0)\n",
      "Requirement already satisfied: imageio-ffmpeg>=0.2.0 in c:\\users\\zl\\anaconda3\\lib\\site-packages (from moviepy) (0.4.9)\n",
      "Requirement already satisfied: pillow>=8.3.2 in c:\\users\\zl\\anaconda3\\lib\\site-packages (from imageio<3.0,>=2.5->moviepy) (9.4.0)\n",
      "Requirement already satisfied: setuptools in c:\\users\\zl\\anaconda3\\lib\\site-packages (from imageio-ffmpeg>=0.2.0->moviepy) (68.0.0)\n",
      "Requirement already satisfied: charset-normalizer<4,>=2 in c:\\users\\zl\\anaconda3\\lib\\site-packages (from requests<3.0,>=2.8.1->moviepy) (2.0.4)\n",
      "Requirement already satisfied: idna<4,>=2.5 in c:\\users\\zl\\anaconda3\\lib\\site-packages (from requests<3.0,>=2.8.1->moviepy) (3.4)\n",
      "Requirement already satisfied: urllib3<3,>=1.21.1 in c:\\users\\zl\\anaconda3\\lib\\site-packages (from requests<3.0,>=2.8.1->moviepy) (1.26.16)\n",
      "Requirement already satisfied: certifi>=2017.4.17 in c:\\users\\zl\\anaconda3\\lib\\site-packages (from requests<3.0,>=2.8.1->moviepy) (2023.7.22)\n",
      "Requirement already satisfied: colorama in c:\\users\\zl\\anaconda3\\lib\\site-packages (from tqdm<5.0,>=4.11.2->moviepy) (0.4.6)\n",
      "Requirement already satisfied: torch in c:\\users\\zl\\anaconda3\\lib\\site-packages (2.1.0)\n",
      "Requirement already satisfied: torchvision in c:\\users\\zl\\anaconda3\\lib\\site-packages (0.16.0)\n",
      "Requirement already satisfied: torchaudio in c:\\users\\zl\\anaconda3\\lib\\site-packages (2.1.0)\n",
      "Requirement already satisfied: filelock in c:\\users\\zl\\anaconda3\\lib\\site-packages (from torch) (3.9.0)\n",
      "Requirement already satisfied: typing-extensions in c:\\users\\zl\\anaconda3\\lib\\site-packages (from torch) (4.7.1)\n",
      "Requirement already satisfied: sympy in c:\\users\\zl\\anaconda3\\lib\\site-packages (from torch) (1.11.1)\n",
      "Requirement already satisfied: networkx in c:\\users\\zl\\anaconda3\\lib\\site-packages (from torch) (3.1)\n",
      "Requirement already satisfied: jinja2 in c:\\users\\zl\\anaconda3\\lib\\site-packages (from torch) (3.1.2)\n",
      "Requirement already satisfied: fsspec in c:\\users\\zl\\anaconda3\\lib\\site-packages (from torch) (2023.4.0)\n",
      "Requirement already satisfied: numpy in c:\\users\\zl\\anaconda3\\lib\\site-packages (from torchvision) (1.24.3)\n",
      "Requirement already satisfied: requests in c:\\users\\zl\\anaconda3\\lib\\site-packages (from torchvision) (2.31.0)\n",
      "Requirement already satisfied: pillow!=8.3.*,>=5.3.0 in c:\\users\\zl\\anaconda3\\lib\\site-packages (from torchvision) (9.4.0)\n",
      "Requirement already satisfied: MarkupSafe>=2.0 in c:\\users\\zl\\anaconda3\\lib\\site-packages (from jinja2->torch) (2.1.1)\n",
      "Requirement already satisfied: charset-normalizer<4,>=2 in c:\\users\\zl\\anaconda3\\lib\\site-packages (from requests->torchvision) (2.0.4)\n",
      "Requirement already satisfied: idna<4,>=2.5 in c:\\users\\zl\\anaconda3\\lib\\site-packages (from requests->torchvision) (3.4)\n",
      "Requirement already satisfied: urllib3<3,>=1.21.1 in c:\\users\\zl\\anaconda3\\lib\\site-packages (from requests->torchvision) (1.26.16)\n",
      "Requirement already satisfied: certifi>=2017.4.17 in c:\\users\\zl\\anaconda3\\lib\\site-packages (from requests->torchvision) (2023.7.22)\n",
      "Requirement already satisfied: mpmath>=0.19 in c:\\users\\zl\\anaconda3\\lib\\site-packages (from sympy->torch) (1.3.0)\n",
      "Requirement already satisfied: tensorflow in c:\\users\\zl\\anaconda3\\lib\\site-packages (2.14.0)\n",
      "Requirement already satisfied: tensorflow-intel==2.14.0 in c:\\users\\zl\\anaconda3\\lib\\site-packages (from tensorflow) (2.14.0)\n",
      "Requirement already satisfied: absl-py>=1.0.0 in c:\\users\\zl\\anaconda3\\lib\\site-packages (from tensorflow-intel==2.14.0->tensorflow) (2.0.0)\n",
      "Requirement already satisfied: astunparse>=1.6.0 in c:\\users\\zl\\anaconda3\\lib\\site-packages (from tensorflow-intel==2.14.0->tensorflow) (1.6.3)\n",
      "Requirement already satisfied: flatbuffers>=23.5.26 in c:\\users\\zl\\anaconda3\\lib\\site-packages (from tensorflow-intel==2.14.0->tensorflow) (23.5.26)\n",
      "Requirement already satisfied: gast!=0.5.0,!=0.5.1,!=0.5.2,>=0.2.1 in c:\\users\\zl\\anaconda3\\lib\\site-packages (from tensorflow-intel==2.14.0->tensorflow) (0.5.4)\n",
      "Requirement already satisfied: google-pasta>=0.1.1 in c:\\users\\zl\\anaconda3\\lib\\site-packages (from tensorflow-intel==2.14.0->tensorflow) (0.2.0)\n",
      "Requirement already satisfied: h5py>=2.9.0 in c:\\users\\zl\\anaconda3\\lib\\site-packages (from tensorflow-intel==2.14.0->tensorflow) (3.9.0)\n",
      "Requirement already satisfied: libclang>=13.0.0 in c:\\users\\zl\\anaconda3\\lib\\site-packages (from tensorflow-intel==2.14.0->tensorflow) (16.0.6)\n",
      "Requirement already satisfied: ml-dtypes==0.2.0 in c:\\users\\zl\\anaconda3\\lib\\site-packages (from tensorflow-intel==2.14.0->tensorflow) (0.2.0)\n",
      "Requirement already satisfied: numpy>=1.23.5 in c:\\users\\zl\\anaconda3\\lib\\site-packages (from tensorflow-intel==2.14.0->tensorflow) (1.24.3)\n",
      "Requirement already satisfied: opt-einsum>=2.3.2 in c:\\users\\zl\\anaconda3\\lib\\site-packages (from tensorflow-intel==2.14.0->tensorflow) (3.3.0)\n",
      "Requirement already satisfied: packaging in c:\\users\\zl\\anaconda3\\lib\\site-packages (from tensorflow-intel==2.14.0->tensorflow) (23.1)\n",
      "Requirement already satisfied: protobuf!=4.21.0,!=4.21.1,!=4.21.2,!=4.21.3,!=4.21.4,!=4.21.5,<5.0.0dev,>=3.20.3 in c:\\users\\zl\\anaconda3\\lib\\site-packages (from tensorflow-intel==2.14.0->tensorflow) (4.25.0)\n",
      "Requirement already satisfied: setuptools in c:\\users\\zl\\anaconda3\\lib\\site-packages (from tensorflow-intel==2.14.0->tensorflow) (68.0.0)\n",
      "Requirement already satisfied: six>=1.12.0 in c:\\users\\zl\\anaconda3\\lib\\site-packages (from tensorflow-intel==2.14.0->tensorflow) (1.16.0)\n",
      "Requirement already satisfied: termcolor>=1.1.0 in c:\\users\\zl\\anaconda3\\lib\\site-packages (from tensorflow-intel==2.14.0->tensorflow) (2.3.0)\n",
      "Requirement already satisfied: typing-extensions>=3.6.6 in c:\\users\\zl\\anaconda3\\lib\\site-packages (from tensorflow-intel==2.14.0->tensorflow) (4.7.1)\n",
      "Requirement already satisfied: wrapt<1.15,>=1.11.0 in c:\\users\\zl\\anaconda3\\lib\\site-packages (from tensorflow-intel==2.14.0->tensorflow) (1.14.1)\n",
      "Requirement already satisfied: tensorflow-io-gcs-filesystem>=0.23.1 in c:\\users\\zl\\anaconda3\\lib\\site-packages (from tensorflow-intel==2.14.0->tensorflow) (0.31.0)\n",
      "Requirement already satisfied: grpcio<2.0,>=1.24.3 in c:\\users\\zl\\anaconda3\\lib\\site-packages (from tensorflow-intel==2.14.0->tensorflow) (1.59.2)\n",
      "Requirement already satisfied: tensorboard<2.15,>=2.14 in c:\\users\\zl\\anaconda3\\lib\\site-packages (from tensorflow-intel==2.14.0->tensorflow) (2.14.1)\n",
      "Requirement already satisfied: tensorflow-estimator<2.15,>=2.14.0 in c:\\users\\zl\\anaconda3\\lib\\site-packages (from tensorflow-intel==2.14.0->tensorflow) (2.14.0)\n",
      "Requirement already satisfied: keras<2.15,>=2.14.0 in c:\\users\\zl\\anaconda3\\lib\\site-packages (from tensorflow-intel==2.14.0->tensorflow) (2.14.0)\n",
      "Requirement already satisfied: wheel<1.0,>=0.23.0 in c:\\users\\zl\\anaconda3\\lib\\site-packages (from astunparse>=1.6.0->tensorflow-intel==2.14.0->tensorflow) (0.38.4)\n",
      "Requirement already satisfied: google-auth<3,>=1.6.3 in c:\\users\\zl\\anaconda3\\lib\\site-packages (from tensorboard<2.15,>=2.14->tensorflow-intel==2.14.0->tensorflow) (2.23.4)\n",
      "Requirement already satisfied: google-auth-oauthlib<1.1,>=0.5 in c:\\users\\zl\\anaconda3\\lib\\site-packages (from tensorboard<2.15,>=2.14->tensorflow-intel==2.14.0->tensorflow) (1.0.0)\n",
      "Requirement already satisfied: markdown>=2.6.8 in c:\\users\\zl\\anaconda3\\lib\\site-packages (from tensorboard<2.15,>=2.14->tensorflow-intel==2.14.0->tensorflow) (3.4.1)\n",
      "Requirement already satisfied: requests<3,>=2.21.0 in c:\\users\\zl\\anaconda3\\lib\\site-packages (from tensorboard<2.15,>=2.14->tensorflow-intel==2.14.0->tensorflow) (2.31.0)\n",
      "Requirement already satisfied: tensorboard-data-server<0.8.0,>=0.7.0 in c:\\users\\zl\\anaconda3\\lib\\site-packages (from tensorboard<2.15,>=2.14->tensorflow-intel==2.14.0->tensorflow) (0.7.2)\n",
      "Requirement already satisfied: werkzeug>=1.0.1 in c:\\users\\zl\\anaconda3\\lib\\site-packages (from tensorboard<2.15,>=2.14->tensorflow-intel==2.14.0->tensorflow) (2.2.3)\n",
      "Requirement already satisfied: cachetools<6.0,>=2.0.0 in c:\\users\\zl\\anaconda3\\lib\\site-packages (from google-auth<3,>=1.6.3->tensorboard<2.15,>=2.14->tensorflow-intel==2.14.0->tensorflow) (5.3.2)\n",
      "Requirement already satisfied: pyasn1-modules>=0.2.1 in c:\\users\\zl\\anaconda3\\lib\\site-packages (from google-auth<3,>=1.6.3->tensorboard<2.15,>=2.14->tensorflow-intel==2.14.0->tensorflow) (0.2.8)\n",
      "Requirement already satisfied: rsa<5,>=3.1.4 in c:\\users\\zl\\anaconda3\\lib\\site-packages (from google-auth<3,>=1.6.3->tensorboard<2.15,>=2.14->tensorflow-intel==2.14.0->tensorflow) (4.9)\n",
      "Requirement already satisfied: requests-oauthlib>=0.7.0 in c:\\users\\zl\\anaconda3\\lib\\site-packages (from google-auth-oauthlib<1.1,>=0.5->tensorboard<2.15,>=2.14->tensorflow-intel==2.14.0->tensorflow) (1.3.1)\n",
      "Requirement already satisfied: charset-normalizer<4,>=2 in c:\\users\\zl\\anaconda3\\lib\\site-packages (from requests<3,>=2.21.0->tensorboard<2.15,>=2.14->tensorflow-intel==2.14.0->tensorflow) (2.0.4)\n",
      "Requirement already satisfied: idna<4,>=2.5 in c:\\users\\zl\\anaconda3\\lib\\site-packages (from requests<3,>=2.21.0->tensorboard<2.15,>=2.14->tensorflow-intel==2.14.0->tensorflow) (3.4)\n",
      "Requirement already satisfied: urllib3<3,>=1.21.1 in c:\\users\\zl\\anaconda3\\lib\\site-packages (from requests<3,>=2.21.0->tensorboard<2.15,>=2.14->tensorflow-intel==2.14.0->tensorflow) (1.26.16)\n",
      "Requirement already satisfied: certifi>=2017.4.17 in c:\\users\\zl\\anaconda3\\lib\\site-packages (from requests<3,>=2.21.0->tensorboard<2.15,>=2.14->tensorflow-intel==2.14.0->tensorflow) (2023.7.22)\n",
      "Requirement already satisfied: MarkupSafe>=2.1.1 in c:\\users\\zl\\anaconda3\\lib\\site-packages (from werkzeug>=1.0.1->tensorboard<2.15,>=2.14->tensorflow-intel==2.14.0->tensorflow) (2.1.1)\n",
      "Requirement already satisfied: pyasn1<0.5.0,>=0.4.6 in c:\\users\\zl\\anaconda3\\lib\\site-packages (from pyasn1-modules>=0.2.1->google-auth<3,>=1.6.3->tensorboard<2.15,>=2.14->tensorflow-intel==2.14.0->tensorflow) (0.4.8)\n",
      "Requirement already satisfied: oauthlib>=3.0.0 in c:\\users\\zl\\anaconda3\\lib\\site-packages (from requests-oauthlib>=0.7.0->google-auth-oauthlib<1.1,>=0.5->tensorboard<2.15,>=2.14->tensorflow-intel==2.14.0->tensorflow) (3.2.2)\n"
     ]
    },
    {
     "name": "stdout",
     "output_type": "stream",
     "text": [
      "Requirement already satisfied: pillow in c:\\users\\zl\\anaconda3\\lib\\site-packages (9.4.0)\n",
      "Requirement already satisfied: scipy in c:\\users\\zl\\anaconda3\\lib\\site-packages (1.11.1)\n",
      "Requirement already satisfied: numpy<1.28.0,>=1.21.6 in c:\\users\\zl\\anaconda3\\lib\\site-packages (from scipy) (1.24.3)\n",
      "Requirement already satisfied: matplotlib in c:\\users\\zl\\anaconda3\\lib\\site-packages (3.7.2)\n",
      "Requirement already satisfied: contourpy>=1.0.1 in c:\\users\\zl\\anaconda3\\lib\\site-packages (from matplotlib) (1.0.5)\n",
      "Requirement already satisfied: cycler>=0.10 in c:\\users\\zl\\anaconda3\\lib\\site-packages (from matplotlib) (0.11.0)\n",
      "Requirement already satisfied: fonttools>=4.22.0 in c:\\users\\zl\\anaconda3\\lib\\site-packages (from matplotlib) (4.25.0)\n",
      "Requirement already satisfied: kiwisolver>=1.0.1 in c:\\users\\zl\\anaconda3\\lib\\site-packages (from matplotlib) (1.4.4)\n",
      "Requirement already satisfied: numpy>=1.20 in c:\\users\\zl\\anaconda3\\lib\\site-packages (from matplotlib) (1.24.3)\n",
      "Requirement already satisfied: packaging>=20.0 in c:\\users\\zl\\anaconda3\\lib\\site-packages (from matplotlib) (23.1)\n",
      "Requirement already satisfied: pillow>=6.2.0 in c:\\users\\zl\\anaconda3\\lib\\site-packages (from matplotlib) (9.4.0)\n",
      "Requirement already satisfied: pyparsing<3.1,>=2.3.1 in c:\\users\\zl\\anaconda3\\lib\\site-packages (from matplotlib) (3.0.9)\n",
      "Requirement already satisfied: python-dateutil>=2.7 in c:\\users\\zl\\anaconda3\\lib\\site-packages (from matplotlib) (2.8.2)\n",
      "Requirement already satisfied: six>=1.5 in c:\\users\\zl\\anaconda3\\lib\\site-packages (from python-dateutil>=2.7->matplotlib) (1.16.0)\n"
     ]
    }
   ],
   "source": [
    "!pip install --upgrade moviepy\n",
    "!pip install torch torchvision torchaudio\n",
    "!pip install tensorflow\n",
    "!pip install pillow\n",
    "!pip install scipy\n",
    "!pip install matplotlib"
   ]
  },
  {
   "cell_type": "code",
   "execution_count": 2,
   "id": "fdc70949",
   "metadata": {},
   "outputs": [],
   "source": [
    "import json\n",
    "import os\n",
    "from moviepy.editor import *\n",
    "from moviepy import *"
   ]
  },
  {
   "cell_type": "code",
   "execution_count": 3,
   "id": "e046a7be",
   "metadata": {},
   "outputs": [],
   "source": [
    "import tensorflow as tf\n",
    "from PIL import *\n",
    "from tensorflow.keras.models import Model\n",
    "from tensorflow.keras.layers import (Dropout, Dense, Softmax)\n",
    "from tensorflow.keras.applications import mobilenet as _mobilenet\n",
    "import random\n",
    "import os\n",
    "import numpy as np\n",
    "from subprocess import call\n",
    "import scipy\n",
    "import matplotlib.pyplot as plt\n",
    "from matplotlib import cm\n",
    "import math\n",
    "from decimal import Decimal, localcontext\n",
    "\n",
    "from pathlib import Path\n"
   ]
  },
  {
   "cell_type": "code",
   "execution_count": 4,
   "id": "4ce67c74",
   "metadata": {},
   "outputs": [],
   "source": [
    "def loadVideosToInfile(folder):\n",
    "    videos = os.listdir(folder)\n",
    "    with open('input', 'w') as inputfile:\n",
    "        for v in videos:\n",
    "            if v.split('.')[-1] == 'mp4':\n",
    "                inputfile.write(v+'\\n')"
   ]
  },
  {
   "cell_type": "code",
   "execution_count": 5,
   "id": "477a8daa",
   "metadata": {},
   "outputs": [
    {
     "name": "stdout",
     "output_type": "stream",
     "text": [
      "C:\\Users\\zl\\video-classification-3d-cnn-pytorch-master\n"
     ]
    }
   ],
   "source": [
    "%cd C:\\Users\\zl\\video-classification-3d-cnn-pytorch-master"
   ]
  },
  {
   "cell_type": "code",
   "execution_count": 6,
   "id": "56fe2133",
   "metadata": {},
   "outputs": [],
   "source": [
    "loadVideosToInfile('../Input_films')"
   ]
  },
  {
   "cell_type": "code",
   "execution_count": 7,
   "id": "ee9a1f2d",
   "metadata": {},
   "outputs": [
    {
     "name": "stdout",
     "output_type": "stream",
     "text": [
      "loading model resnet-34-kinetics-cpu.pth\n",
      "../Input_films\\Abramovic-Marina_4Performances1975.mp4\n",
      "../Input_films\\Abramovic-Marina_Balkan-Erotic-Epic_2006.mp4\n",
      "../Input_films\\Abramovic-Marina_Dangerous-Games_2008.mp4\n",
      "../Input_films\\Abramovic.Marina.Seven.Easy.Pieces.2007.mp4\n"
     ]
    },
    {
     "name": "stderr",
     "output_type": "stream",
     "text": [
      "ffmpeg version 6.0-essentials_build-www.gyan.dev Copyright (c) 2000-2023 the FFmpeg developers\n",
      "  built with gcc 12.2.0 (Rev10, Built by MSYS2 project)\n",
      "  configuration: --enable-gpl --enable-version3 --enable-static --disable-w32threads --disable-autodetect --enable-fontconfig --enable-iconv --enable-gnutls --enable-libxml2 --enable-gmp --enable-bzlib --enable-lzma --enable-zlib --enable-libsrt --enable-libssh --enable-libzmq --enable-avisynth --enable-sdl2 --enable-libwebp --enable-libx264 --enable-libx265 --enable-libxvid --enable-libaom --enable-libopenjpeg --enable-libvpx --enable-mediafoundation --enable-libass --enable-libfreetype --enable-libfribidi --enable-libvidstab --enable-libvmaf --enable-libzimg --enable-amf --enable-cuda-llvm --enable-cuvid --enable-ffnvcodec --enable-nvdec --enable-nvenc --enable-d3d11va --enable-dxva2 --enable-libvpl --enable-libgme --enable-libopenmpt --enable-libopencore-amrwb --enable-libmp3lame --enable-libtheora --enable-libvo-amrwbenc --enable-libgsm --enable-libopencore-amrnb --enable-libopus --enable-libspeex --enable-libvorbis --enable-librubberband\n",
      "  libavutil      58.  2.100 / 58.  2.100\n",
      "  libavcodec     60.  3.100 / 60.  3.100\n",
      "  libavformat    60.  3.100 / 60.  3.100\n",
      "  libavdevice    60.  1.100 / 60.  1.100\n",
      "  libavfilter     9.  3.100 /  9.  3.100\n",
      "  libswscale      7.  1.100 /  7.  1.100\n",
      "  libswresample   4. 10.100 /  4. 10.100\n",
      "  libpostproc    57.  1.100 / 57.  1.100\n",
      "[mov,mp4,m4a,3gp,3g2,mj2 @ 000002574f14ed40] st: 0 edit list: 1 Missing key frame while searching for timestamp: 0\n",
      "[mov,mp4,m4a,3gp,3g2,mj2 @ 000002574f14ed40] st: 0 edit list 1 Cannot find an index entry before timestamp: 0.\n",
      "Input #0, mov,mp4,m4a,3gp,3g2,mj2, from '../Input_films\\Abramovic-Marina_4Performances1975.mp4':\n",
      "  Metadata:\n",
      "    major_brand     : mp42\n",
      "    minor_version   : 0\n",
      "    compatible_brands: mp42mp41\n",
      "    creation_time   : 2013-02-12T23:16:17.000000Z\n",
      "  Duration: 00:53:32.28, start: 0.000000, bitrate: 1379 kb/s\n",
      "  Stream #0:0[0x1](eng): Video: h264 (Main) (avc1 / 0x31637661), yuv420p(tv, progressive), 640x480 [SAR 1:1 DAR 4:3], 1282 kb/s, 29.97 fps, 29.97 tbr, 29970 tbn (default)\n",
      "    Metadata:\n",
      "      creation_time   : 2013-02-12T23:16:17.000000Z\n",
      "      handler_name    : Mainconcept MP4 Video Media Handler\n",
      "      vendor_id       : [0][0][0][0]\n",
      "      encoder         : AVC Coding\n",
      "  Stream #0:1[0x2](eng): Audio: aac (LC) (mp4a / 0x6134706D), 48000 Hz, stereo, fltp, 93 kb/s (default)\n",
      "    Metadata:\n",
      "      creation_time   : 2013-02-12T23:16:17.000000Z\n",
      "      handler_name    : Mainconcept MP4 Sound Media Handler\n",
      "      vendor_id       : [0][0][0][0]\n",
      "Stream mapping:\n",
      "  Stream #0:0 -> #0:0 (h264 (native) -> mjpeg (native))\n",
      "Press [q] to stop, [?] for help\n",
      "[swscaler @ 00000257526e9a00] deprecated pixel format used, make sure you did set range correctly\n",
      "    Last message repeated 3 times\n",
      "Output #0, image2, to 'tmp/image_%05d.jpg':\n",
      "  Metadata:\n",
      "    major_brand     : mp42\n",
      "    minor_version   : 0\n",
      "    compatible_brands: mp42mp41\n",
      "    encoder         : Lavf60.3.100\n",
      "  Stream #0:0(eng): Video: mjpeg, yuvj420p(pc, progressive), 640x480 [SAR 1:1 DAR 4:3], q=2-31, 200 kb/s, 29.97 fps, 29.97 tbn (default)\n",
      "    Metadata:\n",
      "      creation_time   : 2013-02-12T23:16:17.000000Z\n",
      "      handler_name    : Mainconcept MP4 Video Media Handler\n",
      "      vendor_id       : [0][0][0][0]\n",
      "      encoder         : Lavc60.3.100 mjpeg\n",
      "    Side data:\n",
      "      cpb: bitrate max/min/avg: 0/0/200000 buffer size: 0 vbv_delay: N/A\n",
      "frame=    0 fps=0.0 q=4.3 size=       0kB time=00:00:00.00 bitrate=N/A speed=   0x    \n",
      "frame=  669 fps=0.0 q=24.8 size=N/A time=00:00:22.32 bitrate=N/A speed=44.1x    \n",
      "frame= 1361 fps=1352 q=24.8 size=N/A time=00:00:45.41 bitrate=N/A speed=45.1x    \n",
      "frame= 2060 fps=1367 q=24.8 size=N/A time=00:01:08.73 bitrate=N/A speed=45.6x    \n",
      "frame= 2744 fps=1367 q=24.8 size=N/A time=00:01:31.79 bitrate=N/A speed=45.7x    \n",
      "frame= 3429 fps=1367 q=24.8 size=N/A time=00:01:54.41 bitrate=N/A speed=45.6x    \n",
      "frame= 4126 fps=1372 q=24.8 size=N/A time=00:02:17.67 bitrate=N/A speed=45.8x    \n",
      "frame= 4800 fps=1368 q=24.8 size=N/A time=00:02:40.16 bitrate=N/A speed=45.6x    \n",
      "frame= 5464 fps=1363 q=24.8 size=N/A time=00:03:02.31 bitrate=N/A speed=45.5x    \n",
      "frame= 6141 fps=1362 q=24.8 size=N/A time=00:03:24.90 bitrate=N/A speed=45.4x    \n",
      "frame= 6830 fps=1363 q=24.8 size=N/A time=00:03:47.89 bitrate=N/A speed=45.5x    \n",
      "frame= 7585 fps=1376 q=24.8 size=N/A time=00:04:13.08 bitrate=N/A speed=45.9x    \n",
      "frame= 8304 fps=1381 q=24.8 size=N/A time=00:04:37.07 bitrate=N/A speed=46.1x    \n",
      "frame= 9038 fps=1388 q=24.8 size=N/A time=00:05:01.80 bitrate=N/A speed=46.3x    \n",
      "frame= 9774 fps=1394 q=24.8 size=N/A time=00:05:26.12 bitrate=N/A speed=46.5x    \n",
      "frame=10474 fps=1394 q=24.8 size=N/A time=00:05:49.48 bitrate=N/A speed=46.5x    \n",
      "frame=11187 fps=1396 q=24.8 size=N/A time=00:06:13.27 bitrate=N/A speed=46.6x    \n",
      "frame=11825 fps=1389 q=24.8 size=N/A time=00:06:34.56 bitrate=N/A speed=46.3x    \n",
      "frame=12435 fps=1379 q=24.8 size=N/A time=00:06:54.91 bitrate=N/A speed=  46x    \n",
      "frame=13065 fps=1373 q=24.8 size=N/A time=00:07:15.93 bitrate=N/A speed=45.8x    \n",
      "frame=13701 fps=1368 q=24.8 size=N/A time=00:07:37.15 bitrate=N/A speed=45.6x    \n",
      "frame=14353 fps=1365 q=24.8 size=N/A time=00:07:58.91 bitrate=N/A speed=45.5x    \n",
      "frame=15006 fps=1362 q=24.8 size=N/A time=00:08:20.70 bitrate=N/A speed=45.5x    \n",
      "frame=15679 fps=1361 q=24.8 size=N/A time=00:08:43.15 bitrate=N/A speed=45.4x    \n",
      "frame=16335 fps=1359 q=24.8 size=N/A time=00:09:05.04 bitrate=N/A speed=45.4x    \n",
      "frame=16990 fps=1357 q=24.8 size=N/A time=00:09:26.90 bitrate=N/A speed=45.3x    \n",
      "frame=17650 fps=1356 q=24.8 size=N/A time=00:09:48.92 bitrate=N/A speed=45.2x    \n",
      "frame=18312 fps=1355 q=24.8 size=N/A time=00:10:11.01 bitrate=N/A speed=45.2x    \n",
      "frame=18915 fps=1349 q=24.8 size=N/A time=00:10:31.13 bitrate=N/A speed=  45x    \n",
      "frame=19528 fps=1345 q=24.8 size=N/A time=00:10:51.58 bitrate=N/A speed=44.9x    \n",
      "frame=20172 fps=1343 q=24.8 size=N/A time=00:11:13.07 bitrate=N/A speed=44.8x    \n",
      "frame=20827 fps=1342 q=24.8 size=N/A time=00:11:34.92 bitrate=N/A speed=44.8x    \n",
      "frame=21448 fps=1339 q=24.8 size=N/A time=00:11:55.64 bitrate=N/A speed=44.7x    \n",
      "frame=22077 fps=1336 q=24.8 size=N/A time=00:12:16.63 bitrate=N/A speed=44.6x    \n",
      "frame=22680 fps=1332 q=24.8 size=N/A time=00:12:36.75 bitrate=N/A speed=44.5x    \n",
      "frame=23300 fps=1330 q=24.8 size=N/A time=00:12:57.44 bitrate=N/A speed=44.4x    \n",
      "frame=23952 fps=1327 q=24.8 size=N/A time=00:13:19.39 bitrate=N/A speed=44.3x    \n",
      "frame=24566 fps=1324 q=24.8 size=N/A time=00:13:39.68 bitrate=N/A speed=44.2x    \n",
      "frame=25242 fps=1325 q=24.8 size=N/A time=00:14:02.24 bitrate=N/A speed=44.2x    \n",
      "frame=25890 fps=1324 q=24.8 size=N/A time=00:14:23.86 bitrate=N/A speed=44.2x    \n",
      "frame=26422 fps=1317 q=24.8 size=N/A time=00:14:41.61 bitrate=N/A speed=  44x    \n",
      "frame=27032 fps=1315 q=24.8 size=N/A time=00:15:01.96 bitrate=N/A speed=43.9x    \n",
      "frame=27640 fps=1313 q=24.8 size=N/A time=00:15:22.25 bitrate=N/A speed=43.8x    \n",
      "frame=28252 fps=1310 q=24.8 size=N/A time=00:15:42.67 bitrate=N/A speed=43.7x    \n",
      "frame=28774 fps=1304 q=24.8 size=N/A time=00:16:00.09 bitrate=N/A speed=43.5x    \n",
      "frame=29291 fps=1298 q=24.8 size=N/A time=00:16:17.34 bitrate=N/A speed=43.3x    \n",
      "frame=29829 fps=1293 q=24.8 size=N/A time=00:16:35.29 bitrate=N/A speed=43.2x    \n",
      "frame=30441 fps=1292 q=24.8 size=N/A time=00:16:55.71 bitrate=N/A speed=43.1x    \n",
      "frame=31004 fps=1289 q=24.8 size=N/A time=00:17:14.50 bitrate=N/A speed=  43x    \n",
      "frame=31559 fps=1285 q=24.8 size=N/A time=00:17:33.01 bitrate=N/A speed=42.9x    \n",
      "frame=32192 fps=1284 q=24.8 size=N/A time=00:17:54.14 bitrate=N/A speed=42.9x    \n",
      "frame=32805 fps=1283 q=24.8 size=N/A time=00:18:14.59 bitrate=N/A speed=42.8x    \n",
      "frame=33353 fps=1280 q=24.8 size=N/A time=00:18:32.87 bitrate=N/A speed=42.7x    \n",
      "frame=33935 fps=1277 q=24.8 size=N/A time=00:18:52.29 bitrate=N/A speed=42.6x    \n",
      "frame=34446 fps=1273 q=24.8 size=N/A time=00:19:09.34 bitrate=N/A speed=42.5x    \n",
      "frame=34915 fps=1266 q=24.8 size=N/A time=00:19:24.99 bitrate=N/A speed=42.3x    \n",
      "frame=35411 fps=1262 q=24.8 size=N/A time=00:19:41.54 bitrate=N/A speed=42.1x    \n",
      "frame=35933 fps=1258 q=24.8 size=N/A time=00:19:58.96 bitrate=N/A speed=  42x    \n",
      "frame=36480 fps=1255 q=24.8 size=N/A time=00:20:17.21 bitrate=N/A speed=41.9x    \n",
      "frame=36990 fps=1251 q=24.8 size=N/A time=00:20:34.23 bitrate=N/A speed=41.7x    \n",
      "frame=37478 fps=1246 q=24.8 size=N/A time=00:20:50.51 bitrate=N/A speed=41.6x    \n",
      "frame=37961 fps=1242 q=24.8 size=N/A time=00:21:06.63 bitrate=N/A speed=41.4x    \n",
      "frame=38479 fps=1238 q=24.8 size=N/A time=00:21:23.91 bitrate=N/A speed=41.3x    \n",
      "frame=38959 fps=1234 q=24.8 size=N/A time=00:21:39.93 bitrate=N/A speed=41.2x    \n",
      "frame=39402 fps=1229 q=24.8 size=N/A time=00:21:54.71 bitrate=N/A speed=  41x    \n",
      "frame=39855 fps=1224 q=24.8 size=N/A time=00:22:09.82 bitrate=N/A speed=40.8x    \n",
      "frame=40331 fps=1219 q=24.8 size=N/A time=00:22:25.71 bitrate=N/A speed=40.7x    \n",
      "frame=40790 fps=1215 q=24.8 size=N/A time=00:22:41.02 bitrate=N/A speed=40.5x    \n",
      "frame=41255 fps=1211 q=24.8 size=N/A time=00:22:56.54 bitrate=N/A speed=40.4x    \n",
      "frame=41711 fps=1206 q=24.8 size=N/A time=00:23:11.75 bitrate=N/A speed=40.3x    \n",
      "frame=42182 fps=1203 q=24.8 size=N/A time=00:23:27.47 bitrate=N/A speed=40.1x    \n",
      "frame=42625 fps=1198 q=24.8 size=N/A time=00:23:42.25 bitrate=N/A speed=  40x    \n",
      "frame=43067 fps=1194 q=24.8 size=N/A time=00:23:57.00 bitrate=N/A speed=39.8x    \n",
      "frame=43554 fps=1191 q=24.8 size=N/A time=00:24:13.25 bitrate=N/A speed=39.7x    \n",
      "frame=44008 fps=1187 q=24.8 size=N/A time=00:24:28.40 bitrate=N/A speed=39.6x    \n",
      "frame=44449 fps=1183 q=24.8 size=N/A time=00:24:43.11 bitrate=N/A speed=39.5x    \n",
      "frame=44891 fps=1179 q=24.8 size=N/A time=00:24:57.86 bitrate=N/A speed=39.3x    \n",
      "frame=45341 fps=1175 q=24.8 size=N/A time=00:25:12.87 bitrate=N/A speed=39.2x    \n",
      "frame=45810 fps=1172 q=24.8 size=N/A time=00:25:28.52 bitrate=N/A speed=39.1x    \n",
      "frame=46281 fps=1169 q=24.8 size=N/A time=00:25:44.24 bitrate=N/A speed=  39x    \n",
      "frame=46762 fps=1167 q=24.8 size=N/A time=00:26:00.29 bitrate=N/A speed=38.9x    \n",
      "frame=47246 fps=1164 q=24.8 size=N/A time=00:26:16.44 bitrate=N/A speed=38.8x    \n",
      "frame=47702 fps=1161 q=24.8 size=N/A time=00:26:31.65 bitrate=N/A speed=38.7x    \n",
      "frame=48187 fps=1159 q=24.8 size=N/A time=00:26:47.84 bitrate=N/A speed=38.7x    \n",
      "frame=48624 fps=1155 q=24.8 size=N/A time=00:27:02.42 bitrate=N/A speed=38.5x    \n",
      "frame=49085 fps=1153 q=24.8 size=N/A time=00:27:17.80 bitrate=N/A speed=38.5x    \n",
      "frame=49571 fps=1150 q=24.8 size=N/A time=00:27:34.02 bitrate=N/A speed=38.4x    \n",
      "frame=50035 fps=1148 q=24.8 size=N/A time=00:27:49.50 bitrate=N/A speed=38.3x    \n",
      "frame=50507 fps=1145 q=24.8 size=N/A time=00:28:05.48 bitrate=N/A speed=38.2x    \n",
      "frame=51029 fps=1144 q=24.8 size=N/A time=00:28:22.66 bitrate=N/A speed=38.2x    \n",
      "frame=51559 fps=1143 q=24.8 size=N/A time=00:28:40.35 bitrate=N/A speed=38.1x    \n",
      "frame=52050 fps=1141 q=24.8 size=N/A time=00:28:56.73 bitrate=N/A speed=38.1x    \n",
      "frame=52571 fps=1140 q=24.8 size=N/A time=00:29:14.12 bitrate=N/A speed=  38x    \n",
      "frame=53027 fps=1138 q=24.8 size=N/A time=00:29:29.33 bitrate=N/A speed=  38x    \n",
      "frame=53525 fps=1136 q=24.8 size=N/A time=00:29:45.95 bitrate=N/A speed=37.9x    \n",
      "frame=54019 fps=1135 q=24.8 size=N/A time=00:30:02.43 bitrate=N/A speed=37.9x    \n",
      "frame=54504 fps=1133 q=24.8 size=N/A time=00:30:18.61 bitrate=N/A speed=37.8x    \n",
      "frame=54995 fps=1131 q=24.8 size=N/A time=00:30:35.00 bitrate=N/A speed=37.8x    \n",
      "frame=55473 fps=1130 q=24.8 size=N/A time=00:30:50.95 bitrate=N/A speed=37.7x    \n",
      "frame=55965 fps=1128 q=24.8 size=N/A time=00:31:07.36 bitrate=N/A speed=37.6x    \n",
      "frame=56407 fps=1126 q=24.8 size=N/A time=00:31:22.11 bitrate=N/A speed=37.6x    \n",
      "frame=56835 fps=1123 q=24.8 size=N/A time=00:31:36.39 bitrate=N/A speed=37.5x    \n",
      "frame=57305 fps=1121 q=24.8 size=N/A time=00:31:52.07 bitrate=N/A speed=37.4x    \n",
      "frame=57796 fps=1120 q=24.8 size=N/A time=00:32:08.46 bitrate=N/A speed=37.4x    \n",
      "frame=58246 fps=1118 q=24.8 size=N/A time=00:32:23.47 bitrate=N/A speed=37.3x    \n",
      "frame=58728 fps=1116 q=24.8 size=N/A time=00:32:39.55 bitrate=N/A speed=37.2x    \n",
      "frame=59197 fps=1115 q=24.8 size=N/A time=00:32:55.20 bitrate=N/A speed=37.2x    \n",
      "frame=59671 fps=1113 q=24.8 size=N/A time=00:33:11.02 bitrate=N/A speed=37.1x    \n",
      "frame=60175 fps=1112 q=24.8 size=N/A time=00:33:27.84 bitrate=N/A speed=37.1x    \n",
      "frame=60620 fps=1110 q=24.8 size=N/A time=00:33:42.68 bitrate=N/A speed=  37x    \n",
      "frame=61118 fps=1109 q=24.8 size=N/A time=00:33:59.30 bitrate=N/A speed=  37x    \n",
      "frame=61593 fps=1108 q=24.8 size=N/A time=00:34:15.15 bitrate=N/A speed=  37x    \n",
      "frame=62105 fps=1107 q=24.8 size=N/A time=00:34:32.23 bitrate=N/A speed=36.9x    \n",
      "frame=62598 fps=1106 q=24.8 size=N/A time=00:34:48.68 bitrate=N/A speed=36.9x    \n",
      "frame=63107 fps=1105 q=24.8 size=N/A time=00:35:05.67 bitrate=N/A speed=36.9x    \n",
      "frame=63593 fps=1104 q=24.8 size=N/A time=00:35:21.88 bitrate=N/A speed=36.8x    \n",
      "frame=64083 fps=1103 q=24.8 size=N/A time=00:35:38.27 bitrate=N/A speed=36.8x    \n",
      "frame=64571 fps=1102 q=24.8 size=N/A time=00:35:54.52 bitrate=N/A speed=36.8x    \n",
      "frame=65080 fps=1101 q=24.8 size=N/A time=00:36:11.53 bitrate=N/A speed=36.7x    \n",
      "frame=65519 fps=1099 q=24.8 size=N/A time=00:36:26.15 bitrate=N/A speed=36.7x    \n",
      "frame=66005 fps=1098 q=24.8 size=N/A time=00:36:42.36 bitrate=N/A speed=36.6x    \n",
      "frame=66515 fps=1097 q=24.8 size=N/A time=00:36:59.38 bitrate=N/A speed=36.6x    \n",
      "frame=66978 fps=1096 q=24.8 size=N/A time=00:37:14.83 bitrate=N/A speed=36.6x    \n",
      "frame=67459 fps=1095 q=24.8 size=N/A time=00:37:30.88 bitrate=N/A speed=36.5x    \n",
      "frame=67947 fps=1094 q=24.8 size=N/A time=00:37:47.16 bitrate=N/A speed=36.5x    \n",
      "frame=68372 fps=1092 q=24.8 size=N/A time=00:38:01.34 bitrate=N/A speed=36.4x    \n",
      "frame=68892 fps=1091 q=24.8 size=N/A time=00:38:18.69 bitrate=N/A speed=36.4x    \n",
      "frame=69337 fps=1090 q=24.8 size=N/A time=00:38:33.54 bitrate=N/A speed=36.4x    \n",
      "frame=69830 fps=1089 q=24.8 size=N/A time=00:38:49.99 bitrate=N/A speed=36.3x    \n",
      "frame=70311 fps=1088 q=24.8 size=N/A time=00:39:06.04 bitrate=N/A speed=36.3x    \n",
      "frame=70777 fps=1087 q=24.8 size=N/A time=00:39:21.59 bitrate=N/A speed=36.3x    \n",
      "frame=71246 fps=1086 q=24.8 size=N/A time=00:39:37.24 bitrate=N/A speed=36.2x    \n",
      "frame=71713 fps=1084 q=24.8 size=N/A time=00:39:52.82 bitrate=N/A speed=36.2x    \n",
      "frame=72144 fps=1083 q=24.8 size=N/A time=00:40:07.20 bitrate=N/A speed=36.1x    \n",
      "frame=72664 fps=1082 q=24.8 size=N/A time=00:40:24.55 bitrate=N/A speed=36.1x    \n",
      "frame=73123 fps=1081 q=24.8 size=N/A time=00:40:39.87 bitrate=N/A speed=36.1x    \n",
      "frame=73619 fps=1081 q=24.8 size=N/A time=00:40:56.42 bitrate=N/A speed=36.1x    \n",
      "frame=74121 fps=1080 q=24.8 size=N/A time=00:41:13.17 bitrate=N/A speed=  36x    \n",
      "frame=74590 fps=1079 q=24.8 size=N/A time=00:41:28.82 bitrate=N/A speed=  36x    \n",
      "frame=75073 fps=1078 q=24.8 size=N/A time=00:41:44.93 bitrate=N/A speed=  36x    \n",
      "frame=75568 fps=1078 q=24.8 size=N/A time=00:42:01.45 bitrate=N/A speed=  36x    \n",
      "frame=76078 fps=1077 q=24.8 size=N/A time=00:42:18.47 bitrate=N/A speed=35.9x    \n",
      "frame=76613 fps=1077 q=24.8 size=N/A time=00:42:36.32 bitrate=N/A speed=35.9x    \n",
      "frame=77086 fps=1076 q=24.8 size=N/A time=00:42:52.10 bitrate=N/A speed=35.9x    \n",
      "frame=77554 fps=1075 q=24.8 size=N/A time=00:43:07.72 bitrate=N/A speed=35.9x    \n",
      "frame=78055 fps=1075 q=24.8 size=N/A time=00:43:24.43 bitrate=N/A speed=35.9x    \n",
      "frame=78597 fps=1075 q=24.8 size=N/A time=00:43:42.52 bitrate=N/A speed=35.9x    \n",
      "frame=79133 fps=1075 q=24.8 size=N/A time=00:44:00.40 bitrate=N/A speed=35.9x    \n",
      "frame=79636 fps=1074 q=24.8 size=N/A time=00:44:17.19 bitrate=N/A speed=35.8x    \n",
      "frame=80145 fps=1074 q=24.8 size=N/A time=00:44:34.17 bitrate=N/A speed=35.8x    \n",
      "frame=80631 fps=1073 q=24.8 size=N/A time=00:44:50.39 bitrate=N/A speed=35.8x    \n",
      "frame=81148 fps=1073 q=24.8 size=N/A time=00:45:07.64 bitrate=N/A speed=35.8x    \n",
      "frame=81668 fps=1073 q=24.8 size=N/A time=00:45:24.99 bitrate=N/A speed=35.8x    \n",
      "frame=82103 fps=1071 q=24.8 size=N/A time=00:45:39.50 bitrate=N/A speed=35.7x    \n",
      "frame=82644 fps=1071 q=24.8 size=N/A time=00:45:57.55 bitrate=N/A speed=35.7x    \n",
      "frame=83159 fps=1071 q=24.8 size=N/A time=00:46:14.74 bitrate=N/A speed=35.7x    \n",
      "frame=83665 fps=1071 q=24.8 size=N/A time=00:46:31.62 bitrate=N/A speed=35.7x    \n",
      "frame=84170 fps=1070 q=24.8 size=N/A time=00:46:48.47 bitrate=N/A speed=35.7x    \n",
      "frame=84699 fps=1070 q=24.8 size=N/A time=00:47:06.12 bitrate=N/A speed=35.7x    \n",
      "frame=85227 fps=1070 q=24.8 size=N/A time=00:47:23.74 bitrate=N/A speed=35.7x    \n",
      "frame=85725 fps=1070 q=24.8 size=N/A time=00:47:40.36 bitrate=N/A speed=35.7x    \n",
      "frame=86226 fps=1069 q=24.8 size=N/A time=00:47:57.07 bitrate=N/A speed=35.7x    \n",
      "frame=86723 fps=1069 q=24.8 size=N/A time=00:48:13.62 bitrate=N/A speed=35.7x    \n",
      "frame=87224 fps=1068 q=24.8 size=N/A time=00:48:30.37 bitrate=N/A speed=35.6x    \n",
      "frame=87750 fps=1068 q=24.8 size=N/A time=00:48:47.92 bitrate=N/A speed=35.6x    \n",
      "frame=88268 fps=1068 q=24.8 size=N/A time=00:49:05.21 bitrate=N/A speed=35.6x    \n",
      "frame=88778 fps=1068 q=24.8 size=N/A time=00:49:22.22 bitrate=N/A speed=35.6x    \n",
      "frame=89227 fps=1067 q=24.8 size=N/A time=00:49:37.21 bitrate=N/A speed=35.6x    \n",
      "frame=89741 fps=1066 q=24.8 size=N/A time=00:49:54.36 bitrate=N/A speed=35.6x    \n",
      "frame=90272 fps=1066 q=24.8 size=N/A time=00:50:12.07 bitrate=N/A speed=35.6x    \n",
      "frame=90792 fps=1066 q=24.8 size=N/A time=00:50:29.42 bitrate=N/A speed=35.6x    \n",
      "frame=91279 fps=1066 q=24.8 size=N/A time=00:50:45.91 bitrate=N/A speed=35.6x    \n",
      "frame=91784 fps=1065 q=24.8 size=N/A time=00:51:02.52 bitrate=N/A speed=35.5x    \n",
      "frame=92294 fps=1065 q=24.8 size=N/A time=00:51:19.54 bitrate=N/A speed=35.5x    \n",
      "frame=92767 fps=1064 q=24.8 size=N/A time=00:51:35.32 bitrate=N/A speed=35.5x    \n",
      "frame=93282 fps=1064 q=24.8 size=N/A time=00:51:52.51 bitrate=N/A speed=35.5x    \n",
      "frame=93804 fps=1064 q=24.8 size=N/A time=00:52:09.92 bitrate=N/A speed=35.5x    \n",
      "frame=94288 fps=1064 q=24.8 size=N/A time=00:52:26.07 bitrate=N/A speed=35.5x    \n",
      "frame=94758 fps=1063 q=24.8 size=N/A time=00:52:41.76 bitrate=N/A speed=35.5x    \n",
      "frame=95248 fps=1062 q=24.8 size=N/A time=00:52:58.11 bitrate=N/A speed=35.4x    \n",
      "frame=95852 fps=1063 q=24.8 size=N/A time=00:53:18.26 bitrate=N/A speed=35.5x    \n",
      "frame=96271 fps=1064 q=24.8 Lsize=N/A time=00:53:32.21 bitrate=N/A speed=35.5x    \n",
      "video:542943kB audio:0kB subtitle:0kB other streams:0kB global headers:0kB muxing overhead: unknown\n",
      "C:\\Users\\zl\\video-classification-3d-cnn-pytorch-master\\spatial_transforms.py:64: UserWarning: TypedStorage is deprecated. It will be removed in the future and UntypedStorage will be the only storage class. This should only matter to you if you are using storages directly.  To access UntypedStorage directly, use tensor.untyped_storage() instead of tensor.storage()\n",
      "  img = torch.ByteTensor(torch.ByteStorage.from_buffer(pic.tobytes()))\n",
      "C:\\Users\\zl\\video-classification-3d-cnn-pytorch-master\\spatial_transforms.py:64: UserWarning: TypedStorage is deprecated. It will be removed in the future and UntypedStorage will be the only storage class. This should only matter to you if you are using storages directly.  To access UntypedStorage directly, use tensor.untyped_storage() instead of tensor.storage()\n",
      "  img = torch.ByteTensor(torch.ByteStorage.from_buffer(pic.tobytes()))\n",
      "C:\\Users\\zl\\video-classification-3d-cnn-pytorch-master\\spatial_transforms.py:64: UserWarning: TypedStorage is deprecated. It will be removed in the future and UntypedStorage will be the only storage class. This should only matter to you if you are using storages directly.  To access UntypedStorage directly, use tensor.untyped_storage() instead of tensor.storage()\n",
      "  img = torch.ByteTensor(torch.ByteStorage.from_buffer(pic.tobytes()))\n",
      "C:\\Users\\zl\\video-classification-3d-cnn-pytorch-master\\spatial_transforms.py:64: UserWarning: TypedStorage is deprecated. It will be removed in the future and UntypedStorage will be the only storage class. This should only matter to you if you are using storages directly.  To access UntypedStorage directly, use tensor.untyped_storage() instead of tensor.storage()\n",
      "  img = torch.ByteTensor(torch.ByteStorage.from_buffer(pic.tobytes()))\n",
      "C:\\Users\\zl\\video-classification-3d-cnn-pytorch-master\\classify.py:25: UserWarning: volatile was removed and now has no effect. Use `with torch.no_grad():` instead.\n",
      "  inputs = Variable(inputs, volatile=True)\n",
      "ffmpeg version 6.0-essentials_build-www.gyan.dev Copyright (c) 2000-2023 the FFmpeg developers\n",
      "  built with gcc 12.2.0 (Rev10, Built by MSYS2 project)\n",
      "  configuration: --enable-gpl --enable-version3 --enable-static --disable-w32threads --disable-autodetect --enable-fontconfig --enable-iconv --enable-gnutls --enable-libxml2 --enable-gmp --enable-bzlib --enable-lzma --enable-zlib --enable-libsrt --enable-libssh --enable-libzmq --enable-avisynth --enable-sdl2 --enable-libwebp --enable-libx264 --enable-libx265 --enable-libxvid --enable-libaom --enable-libopenjpeg --enable-libvpx --enable-mediafoundation --enable-libass --enable-libfreetype --enable-libfribidi --enable-libvidstab --enable-libvmaf --enable-libzimg --enable-amf --enable-cuda-llvm --enable-cuvid --enable-ffnvcodec --enable-nvdec --enable-nvenc --enable-d3d11va --enable-dxva2 --enable-libvpl --enable-libgme --enable-libopenmpt --enable-libopencore-amrwb --enable-libmp3lame --enable-libtheora --enable-libvo-amrwbenc --enable-libgsm --enable-libopencore-amrnb --enable-libopus --enable-libspeex --enable-libvorbis --enable-librubberband\n",
      "  libavutil      58.  2.100 / 58.  2.100\n",
      "  libavcodec     60.  3.100 / 60.  3.100\n",
      "  libavformat    60.  3.100 / 60.  3.100\n",
      "  libavdevice    60.  1.100 / 60.  1.100\n",
      "  libavfilter     9.  3.100 /  9.  3.100\n",
      "  libswscale      7.  1.100 /  7.  1.100\n",
      "  libswresample   4. 10.100 /  4. 10.100\n",
      "  libpostproc    57.  1.100 / 57.  1.100\n",
      "Input #0, mov,mp4,m4a,3gp,3g2,mj2, from '../Input_films\\Abramovic-Marina_Balkan-Erotic-Epic_2006.mp4':\n",
      "  Metadata:\n",
      "    major_brand     : isom\n",
      "    minor_version   : 512\n",
      "    compatible_brands: mp41\n",
      "    creation_time   : 1970-01-01T00:00:00.000000Z\n",
      "    encoder         : VisualHub 1.28\n",
      "  Duration: 00:13:04.48, start: 0.000000, bitrate: 1905 kb/s\n",
      "  Stream #0:0[0x1](und): Video: h264 (Main) (avc1 / 0x31637661), yuv420p(progressive), 688x384 [SAR 1:1 DAR 43:24], 1772 kb/s, 25 fps, 25 tbr, 25 tbn (default)\n",
      "    Metadata:\n",
      "      creation_time   : 1970-01-01T00:00:00.000000Z\n",
      "      handler_name    : VideoHandler\n",
      "      vendor_id       : [0][0][0][0]\n",
      "  Stream #0:1[0x2](und): Audio: aac (LC) (mp4a / 0x6134706D), 48000 Hz, stereo, fltp, 127 kb/s (default)\n",
      "    Metadata:\n",
      "      creation_time   : 1970-01-01T00:00:00.000000Z\n",
      "      handler_name    : SoundHandler\n",
      "      vendor_id       : [0][0][0][0]\n",
      "Stream mapping:\n",
      "  Stream #0:0 -> #0:0 (h264 (native) -> mjpeg (native))\n",
      "Press [q] to stop, [?] for help\n",
      "[swscaler @ 000002186562ff00] deprecated pixel format used, make sure you did set range correctly\n",
      "Output #0, image2, to 'tmp/image_%05d.jpg':\n",
      "  Metadata:\n",
      "    major_brand     : isom\n",
      "    minor_version   : 512\n",
      "    compatible_brands: mp41\n",
      "    encoder         : Lavf60.3.100\n",
      "  Stream #0:0(und): Video: mjpeg, yuvj420p(pc, progressive), 688x384 [SAR 1:1 DAR 43:24], q=2-31, 200 kb/s, 25 fps, 25 tbn (default)\n",
      "    Metadata:\n",
      "      creation_time   : 1970-01-01T00:00:00.000000Z\n",
      "      handler_name    : VideoHandler\n",
      "      vendor_id       : [0][0][0][0]\n",
      "      encoder         : Lavc60.3.100 mjpeg\n",
      "    Side data:\n",
      "      cpb: bitrate max/min/avg: 0/0/200000 buffer size: 0 vbv_delay: N/A\n",
      "frame=    0 fps=0.0 q=1.6 size=       0kB time=00:00:00.00 bitrate=N/A speed=   0x    \n",
      "frame=  727 fps=0.0 q=24.8 size=N/A time=00:00:29.08 bitrate=N/A speed=57.4x    \n",
      "frame= 1349 fps=1339 q=24.8 size=N/A time=00:00:53.96 bitrate=N/A speed=53.6x    \n",
      "frame= 2079 fps=1379 q=24.8 size=N/A time=00:01:23.16 bitrate=N/A speed=55.2x    \n",
      "frame= 2740 fps=1364 q=24.8 size=N/A time=00:01:49.60 bitrate=N/A speed=54.6x    \n",
      "frame= 3382 fps=1348 q=24.8 size=N/A time=00:02:15.28 bitrate=N/A speed=53.9x    \n",
      "frame= 4032 fps=1340 q=24.8 size=N/A time=00:02:41.28 bitrate=N/A speed=53.6x    \n",
      "frame= 4664 fps=1329 q=24.8 size=N/A time=00:03:06.56 bitrate=N/A speed=53.2x    \n",
      "frame= 5234 fps=1305 q=24.8 size=N/A time=00:03:29.36 bitrate=N/A speed=52.2x    \n",
      "frame= 5811 fps=1288 q=24.8 size=N/A time=00:03:52.44 bitrate=N/A speed=51.5x    \n",
      "frame= 6390 fps=1275 q=24.8 size=N/A time=00:04:15.60 bitrate=N/A speed=  51x    \n",
      "frame= 6982 fps=1267 q=24.8 size=N/A time=00:04:39.28 bitrate=N/A speed=50.7x    \n",
      "frame= 7557 fps=1257 q=24.8 size=N/A time=00:05:02.28 bitrate=N/A speed=50.3x    \n",
      "frame= 8187 fps=1257 q=24.8 size=N/A time=00:05:27.48 bitrate=N/A speed=50.3x    \n",
      "frame= 8838 fps=1260 q=24.8 size=N/A time=00:05:53.52 bitrate=N/A speed=50.4x    \n",
      "frame= 9408 fps=1252 q=24.8 size=N/A time=00:06:16.32 bitrate=N/A speed=50.1x    \n",
      "frame= 9939 fps=1240 q=24.8 size=N/A time=00:06:37.56 bitrate=N/A speed=49.6x    \n",
      "frame=10472 fps=1230 q=24.8 size=N/A time=00:06:58.88 bitrate=N/A speed=49.2x    \n",
      "frame=10957 fps=1216 q=24.8 size=N/A time=00:07:18.28 bitrate=N/A speed=48.6x    \n",
      "frame=11577 fps=1217 q=24.8 size=N/A time=00:07:43.08 bitrate=N/A speed=48.7x    \n",
      "frame=12165 fps=1215 q=24.8 size=N/A time=00:08:06.60 bitrate=N/A speed=48.6x    \n",
      "frame=12693 fps=1207 q=24.8 size=N/A time=00:08:27.72 bitrate=N/A speed=48.3x    \n",
      "frame=13232 fps=1201 q=24.8 size=N/A time=00:08:49.28 bitrate=N/A speed=  48x    \n",
      "frame=13738 fps=1193 q=24.8 size=N/A time=00:09:09.52 bitrate=N/A speed=47.7x    \n",
      "frame=14293 fps=1189 q=24.8 size=N/A time=00:09:31.72 bitrate=N/A speed=47.6x    \n",
      "frame=14824 fps=1184 q=24.8 size=N/A time=00:09:52.96 bitrate=N/A speed=47.4x    \n",
      "frame=15291 fps=1175 q=24.8 size=N/A time=00:10:11.64 bitrate=N/A speed=  47x    \n",
      "frame=15744 fps=1165 q=24.8 size=N/A time=00:10:29.76 bitrate=N/A speed=46.6x    \n",
      "frame=16183 fps=1154 q=24.8 size=N/A time=00:10:47.32 bitrate=N/A speed=46.2x    \n",
      "frame=16650 fps=1147 q=24.8 size=N/A time=00:11:06.00 bitrate=N/A speed=45.9x    \n",
      "frame=17165 fps=1143 q=24.8 size=N/A time=00:11:26.60 bitrate=N/A speed=45.7x    \n",
      "frame=17676 fps=1139 q=24.8 size=N/A time=00:11:47.04 bitrate=N/A speed=45.5x    \n",
      "frame=18184 fps=1135 q=24.8 size=N/A time=00:12:07.36 bitrate=N/A speed=45.4x    \n",
      "frame=18716 fps=1133 q=24.8 size=N/A time=00:12:28.64 bitrate=N/A speed=45.3x    \n",
      "frame=19218 fps=1129 q=24.8 size=N/A time=00:12:48.72 bitrate=N/A speed=45.2x    \n",
      "frame=19612 fps=1125 q=24.8 Lsize=N/A time=00:13:04.44 bitrate=N/A speed=  45x    \n",
      "video:145091kB audio:0kB subtitle:0kB other streams:0kB global headers:0kB muxing overhead: unknown\n",
      "C:\\Users\\zl\\video-classification-3d-cnn-pytorch-master\\spatial_transforms.py:64: UserWarning: TypedStorage is deprecated. It will be removed in the future and UntypedStorage will be the only storage class. This should only matter to you if you are using storages directly.  To access UntypedStorage directly, use tensor.untyped_storage() instead of tensor.storage()\n",
      "  img = torch.ByteTensor(torch.ByteStorage.from_buffer(pic.tobytes()))\n",
      "C:\\Users\\zl\\video-classification-3d-cnn-pytorch-master\\spatial_transforms.py:64: UserWarning: TypedStorage is deprecated. It will be removed in the future and UntypedStorage will be the only storage class. This should only matter to you if you are using storages directly.  To access UntypedStorage directly, use tensor.untyped_storage() instead of tensor.storage()\n",
      "  img = torch.ByteTensor(torch.ByteStorage.from_buffer(pic.tobytes()))\n",
      "C:\\Users\\zl\\video-classification-3d-cnn-pytorch-master\\spatial_transforms.py:64: UserWarning: TypedStorage is deprecated. It will be removed in the future and UntypedStorage will be the only storage class. This should only matter to you if you are using storages directly.  To access UntypedStorage directly, use tensor.untyped_storage() instead of tensor.storage()\n",
      "  img = torch.ByteTensor(torch.ByteStorage.from_buffer(pic.tobytes()))\n",
      "C:\\Users\\zl\\video-classification-3d-cnn-pytorch-master\\spatial_transforms.py:64: UserWarning: TypedStorage is deprecated. It will be removed in the future and UntypedStorage will be the only storage class. This should only matter to you if you are using storages directly.  To access UntypedStorage directly, use tensor.untyped_storage() instead of tensor.storage()\n",
      "  img = torch.ByteTensor(torch.ByteStorage.from_buffer(pic.tobytes()))\n",
      "ffmpeg version 6.0-essentials_build-www.gyan.dev Copyright (c) 2000-2023 the FFmpeg developers\n",
      "  built with gcc 12.2.0 (Rev10, Built by MSYS2 project)\n",
      "  configuration: --enable-gpl --enable-version3 --enable-static --disable-w32threads --disable-autodetect --enable-fontconfig --enable-iconv --enable-gnutls --enable-libxml2 --enable-gmp --enable-bzlib --enable-lzma --enable-zlib --enable-libsrt --enable-libssh --enable-libzmq --enable-avisynth --enable-sdl2 --enable-libwebp --enable-libx264 --enable-libx265 --enable-libxvid --enable-libaom --enable-libopenjpeg --enable-libvpx --enable-mediafoundation --enable-libass --enable-libfreetype --enable-libfribidi --enable-libvidstab --enable-libvmaf --enable-libzimg --enable-amf --enable-cuda-llvm --enable-cuvid --enable-ffnvcodec --enable-nvdec --enable-nvenc --enable-d3d11va --enable-dxva2 --enable-libvpl --enable-libgme --enable-libopenmpt --enable-libopencore-amrwb --enable-libmp3lame --enable-libtheora --enable-libvo-amrwbenc --enable-libgsm --enable-libopencore-amrnb --enable-libopus --enable-libspeex --enable-libvorbis --enable-librubberband\n",
      "  libavutil      58.  2.100 / 58.  2.100\n",
      "  libavcodec     60.  3.100 / 60.  3.100\n",
      "  libavformat    60.  3.100 / 60.  3.100\n",
      "  libavdevice    60.  1.100 / 60.  1.100\n",
      "  libavfilter     9.  3.100 /  9.  3.100\n",
      "  libswscale      7.  1.100 /  7.  1.100\n",
      "  libswresample   4. 10.100 /  4. 10.100\n",
      "  libpostproc    57.  1.100 / 57.  1.100\n",
      "Input #0, mov,mp4,m4a,3gp,3g2,mj2, from '../Input_films\\Abramovic-Marina_Dangerous-Games_2008.mp4':\n",
      "  Metadata:\n",
      "    major_brand     : mp42\n",
      "    minor_version   : 0\n",
      "    compatible_brands: isomavc1mp42\n",
      "    creation_time   : 2009-01-14T12:02:07.000000Z\n",
      "  Duration: 00:05:11.64, start: 0.000000, bitrate: 494 kb/s\n",
      "  Stream #0:0[0x1](und): Audio: aac (LC) (mp4a / 0x6134706D), 44100 Hz, stereo, fltp, 110 kb/s (default)\n",
      "    Metadata:\n",
      "      creation_time   : 2009-01-14T12:02:07.000000Z\n",
      "      handler_name    : (C) 2007 Google Inc. v08.13.2007.\n",
      "      vendor_id       : [0][0][0][0]\n",
      "  Stream #0:1[0x2](und): Video: h264 (Baseline) (avc1 / 0x31637661), yuv420p(progressive), 480x270 [SAR 1:1 DAR 16:9], 381 kb/s, 23.97 fps, 23.97 tbr, 23970 tbn (default)\n",
      "    Metadata:\n",
      "      creation_time   : 2009-01-14T12:02:08.000000Z\n",
      "      handler_name    : (C) 2007 Google Inc. v08.13.2007.\n",
      "      vendor_id       : [0][0][0][0]\n",
      "Stream mapping:\n",
      "  Stream #0:1 -> #0:0 (h264 (native) -> mjpeg (native))\n",
      "Press [q] to stop, [?] for help\n",
      "[swscaler @ 000001c8e24d9540] deprecated pixel format used, make sure you did set range correctly\n",
      "Output #0, image2, to 'tmp/image_%05d.jpg':\n",
      "  Metadata:\n",
      "    major_brand     : mp42\n",
      "    minor_version   : 0\n",
      "    compatible_brands: isomavc1mp42\n",
      "    encoder         : Lavf60.3.100\n",
      "  Stream #0:0(und): Video: mjpeg, yuvj420p(pc, progressive), 480x270 [SAR 1:1 DAR 16:9], q=2-31, 200 kb/s, 23.97 fps, 23.97 tbn (default)\n",
      "    Metadata:\n",
      "      creation_time   : 2009-01-14T12:02:08.000000Z\n",
      "      handler_name    : (C) 2007 Google Inc. v08.13.2007.\n",
      "      vendor_id       : [0][0][0][0]\n",
      "      encoder         : Lavc60.3.100 mjpeg\n",
      "    Side data:\n",
      "      cpb: bitrate max/min/avg: 0/0/200000 buffer size: 0 vbv_delay: N/A\n",
      "frame=    0 fps=0.0 q=1.6 size=       0kB time=00:00:00.00 bitrate=N/A speed=   0x    \n",
      "frame= 1277 fps=0.0 q=24.8 size=N/A time=00:00:53.27 bitrate=N/A speed= 106x    \n",
      "frame= 2265 fps=2255 q=24.8 size=N/A time=00:01:34.49 bitrate=N/A speed=94.1x    \n",
      "frame= 3094 fps=2056 q=24.8 size=N/A time=00:02:09.07 bitrate=N/A speed=85.8x    \n",
      "frame= 3859 fps=1924 q=24.8 size=N/A time=00:02:41.28 bitrate=N/A speed=80.4x    \n",
      "frame= 4637 fps=1850 q=24.8 size=N/A time=00:03:13.45 bitrate=N/A speed=77.2x    \n",
      "frame= 5449 fps=1807 q=24.8 size=N/A time=00:03:47.61 bitrate=N/A speed=75.5x    \n",
      "frame= 6280 fps=1786 q=24.8 size=N/A time=00:04:22.11 bitrate=N/A speed=74.6x    \n",
      "frame= 7015 fps=1747 q=24.8 size=N/A time=00:04:52.65 bitrate=N/A speed=72.9x    \n",
      "frame= 7470 fps=1738 q=24.8 Lsize=N/A time=00:05:11.59 bitrate=N/A speed=72.5x    \n",
      "video:38364kB audio:0kB subtitle:0kB other streams:0kB global headers:0kB muxing overhead: unknown\n",
      "C:\\Users\\zl\\video-classification-3d-cnn-pytorch-master\\spatial_transforms.py:64: UserWarning: TypedStorage is deprecated. It will be removed in the future and UntypedStorage will be the only storage class. This should only matter to you if you are using storages directly.  To access UntypedStorage directly, use tensor.untyped_storage() instead of tensor.storage()\n",
      "  img = torch.ByteTensor(torch.ByteStorage.from_buffer(pic.tobytes()))\n",
      "C:\\Users\\zl\\video-classification-3d-cnn-pytorch-master\\spatial_transforms.py:64: UserWarning: TypedStorage is deprecated. It will be removed in the future and UntypedStorage will be the only storage class. This should only matter to you if you are using storages directly.  To access UntypedStorage directly, use tensor.untyped_storage() instead of tensor.storage()\n",
      "  img = torch.ByteTensor(torch.ByteStorage.from_buffer(pic.tobytes()))\n",
      "C:\\Users\\zl\\video-classification-3d-cnn-pytorch-master\\spatial_transforms.py:64: UserWarning: TypedStorage is deprecated. It will be removed in the future and UntypedStorage will be the only storage class. This should only matter to you if you are using storages directly.  To access UntypedStorage directly, use tensor.untyped_storage() instead of tensor.storage()\n",
      "  img = torch.ByteTensor(torch.ByteStorage.from_buffer(pic.tobytes()))\n",
      "C:\\Users\\zl\\video-classification-3d-cnn-pytorch-master\\spatial_transforms.py:64: UserWarning: TypedStorage is deprecated. It will be removed in the future and UntypedStorage will be the only storage class. This should only matter to you if you are using storages directly.  To access UntypedStorage directly, use tensor.untyped_storage() instead of tensor.storage()\n",
      "  img = torch.ByteTensor(torch.ByteStorage.from_buffer(pic.tobytes()))\n",
      "ffmpeg version 6.0-essentials_build-www.gyan.dev Copyright (c) 2000-2023 the FFmpeg developers\n",
      "  built with gcc 12.2.0 (Rev10, Built by MSYS2 project)\n",
      "  configuration: --enable-gpl --enable-version3 --enable-static --disable-w32threads --disable-autodetect --enable-fontconfig --enable-iconv --enable-gnutls --enable-libxml2 --enable-gmp --enable-bzlib --enable-lzma --enable-zlib --enable-libsrt --enable-libssh --enable-libzmq --enable-avisynth --enable-sdl2 --enable-libwebp --enable-libx264 --enable-libx265 --enable-libxvid --enable-libaom --enable-libopenjpeg --enable-libvpx --enable-mediafoundation --enable-libass --enable-libfreetype --enable-libfribidi --enable-libvidstab --enable-libvmaf --enable-libzimg --enable-amf --enable-cuda-llvm --enable-cuvid --enable-ffnvcodec --enable-nvdec --enable-nvenc --enable-d3d11va --enable-dxva2 --enable-libvpl --enable-libgme --enable-libopenmpt --enable-libopencore-amrwb --enable-libmp3lame --enable-libtheora --enable-libvo-amrwbenc --enable-libgsm --enable-libopencore-amrnb --enable-libopus --enable-libspeex --enable-libvorbis --enable-librubberband\n",
      "  libavutil      58.  2.100 / 58.  2.100\n",
      "  libavcodec     60.  3.100 / 60.  3.100\n",
      "  libavformat    60.  3.100 / 60.  3.100\n",
      "  libavdevice    60.  1.100 / 60.  1.100\n",
      "  libavfilter     9.  3.100 /  9.  3.100\n",
      "  libswscale      7.  1.100 /  7.  1.100\n",
      "  libswresample   4. 10.100 /  4. 10.100\n",
      "  libpostproc    57.  1.100 / 57.  1.100\n",
      "[mov,mp4,m4a,3gp,3g2,mj2 @ 000001f15242ed40] st: 0 edit list: 1 Missing key frame while searching for timestamp: 0\n",
      "[mov,mp4,m4a,3gp,3g2,mj2 @ 000001f15242ed40] st: 0 edit list 1 Cannot find an index entry before timestamp: 0.\n",
      "Input #0, mov,mp4,m4a,3gp,3g2,mj2, from '../Input_films\\Abramovic.Marina.Seven.Easy.Pieces.2007.mp4':\n",
      "  Metadata:\n",
      "    major_brand     : mp42\n",
      "    minor_version   : 0\n",
      "    compatible_brands: mp42mp41\n",
      "    creation_time   : 2013-02-12T23:39:35.000000Z\n",
      "  Duration: 01:32:44.33, start: 0.000000, bitrate: 983 kb/s\n",
      "  Stream #0:0[0x1](eng): Video: h264 (Main) (avc1 / 0x31637661), yuv420p(tv, progressive), 720x400 [SAR 1:1 DAR 9:5], 918 kb/s, 23.98 fps, 23.98 tbr, 23976 tbn (default)\n",
      "    Metadata:\n",
      "      creation_time   : 2013-02-12T23:39:35.000000Z\n",
      "      handler_name    : Mainconcept MP4 Video Media Handler\n",
      "      vendor_id       : [0][0][0][0]\n",
      "      encoder         : AVC Coding\n",
      "  Stream #0:1[0x2](eng): Audio: aac (LC) (mp4a / 0x6134706D), 48000 Hz, stereo, fltp, 61 kb/s (default)\n",
      "    Metadata:\n",
      "      creation_time   : 2013-02-12T23:39:35.000000Z\n",
      "      handler_name    : Mainconcept MP4 Sound Media Handler\n",
      "      vendor_id       : [0][0][0][0]\n",
      "Stream mapping:\n",
      "  Stream #0:0 -> #0:0 (h264 (native) -> mjpeg (native))\n",
      "Press [q] to stop, [?] for help\n",
      "[swscaler @ 000001f15731fcc0] deprecated pixel format used, make sure you did set range correctly\n",
      "[swscaler @ 000001f1575610c0] deprecated pixel format used, make sure you did set range correctly\n",
      "[swscaler @ 000001f15742dc40] deprecated pixel format used, make sure you did set range correctly\n",
      "[swscaler @ 000001f15731fcc0] deprecated pixel format used, make sure you did set range correctly\n",
      "Output #0, image2, to 'tmp/image_%05d.jpg':\n",
      "  Metadata:\n",
      "    major_brand     : mp42\n",
      "    minor_version   : 0\n",
      "    compatible_brands: mp42mp41\n",
      "    encoder         : Lavf60.3.100\n",
      "  Stream #0:0(eng): Video: mjpeg, yuvj420p(pc, progressive), 720x400 [SAR 1:1 DAR 9:5], q=2-31, 200 kb/s, 23.98 fps, 23.98 tbn (default)\n",
      "    Metadata:\n",
      "      creation_time   : 2013-02-12T23:39:35.000000Z\n",
      "      handler_name    : Mainconcept MP4 Video Media Handler\n",
      "      vendor_id       : [0][0][0][0]\n",
      "      encoder         : Lavc60.3.100 mjpeg\n",
      "    Side data:\n",
      "      cpb: bitrate max/min/avg: 0/0/200000 buffer size: 0 vbv_delay: N/A\n",
      "frame=    0 fps=0.0 q=1.6 size=       0kB time=00:00:00.00 bitrate=N/A speed=   0x    \n",
      "frame=  581 fps=0.0 q=24.8 size=N/A time=00:00:24.23 bitrate=N/A speed=47.9x    \n",
      "frame= 1201 fps=1193 q=24.8 size=N/A time=00:00:50.09 bitrate=N/A speed=49.8x    \n",
      "frame= 1814 fps=1203 q=24.8 size=N/A time=00:01:15.65 bitrate=N/A speed=50.2x    \n",
      "frame= 2479 fps=1235 q=24.8 size=N/A time=00:01:43.39 bitrate=N/A speed=51.5x    \n",
      "frame= 3146 fps=1254 q=24.8 size=N/A time=00:02:11.21 bitrate=N/A speed=52.3x    \n",
      "frame= 3847 fps=1279 q=24.8 size=N/A time=00:02:40.45 bitrate=N/A speed=53.3x    \n",
      "frame= 4579 fps=1305 q=24.8 size=N/A time=00:03:10.98 bitrate=N/A speed=54.4x    \n",
      "frame= 5338 fps=1331 q=24.8 size=N/A time=00:03:42.63 bitrate=N/A speed=55.5x    \n",
      "frame= 6019 fps=1335 q=24.8 size=N/A time=00:04:11.04 bitrate=N/A speed=55.7x    \n",
      "frame= 6712 fps=1340 q=24.8 size=N/A time=00:04:39.94 bitrate=N/A speed=55.9x    \n",
      "frame= 7406 fps=1344 q=24.8 size=N/A time=00:05:08.89 bitrate=N/A speed=  56x    \n",
      "frame= 8109 fps=1349 q=24.8 size=N/A time=00:05:38.21 bitrate=N/A speed=56.3x    \n",
      "frame= 8831 fps=1356 q=24.8 size=N/A time=00:06:08.32 bitrate=N/A speed=56.6x    \n",
      "frame= 9550 fps=1362 q=24.8 size=N/A time=00:06:38.31 bitrate=N/A speed=56.8x    \n",
      "frame=10224 fps=1361 q=24.8 size=N/A time=00:07:06.42 bitrate=N/A speed=56.8x    \n",
      "frame=10888 fps=1359 q=24.8 size=N/A time=00:07:34.12 bitrate=N/A speed=56.7x    \n",
      "frame=11479 fps=1348 q=24.8 size=N/A time=00:07:58.77 bitrate=N/A speed=56.2x    \n",
      "frame=12092 fps=1341 q=24.8 size=N/A time=00:08:24.33 bitrate=N/A speed=  56x    \n",
      "frame=12685 fps=1333 q=24.8 size=N/A time=00:08:49.07 bitrate=N/A speed=55.6x    \n",
      "frame=13299 fps=1328 q=24.8 size=N/A time=00:09:14.67 bitrate=N/A speed=55.4x    \n",
      "frame=13838 fps=1316 q=24.8 size=N/A time=00:09:37.16 bitrate=N/A speed=54.9x    \n",
      "frame=14350 fps=1303 q=24.8 size=N/A time=00:09:58.51 bitrate=N/A speed=54.3x    \n",
      "frame=14883 fps=1292 q=24.8 size=N/A time=00:10:20.74 bitrate=N/A speed=53.9x    \n",
      "frame=15413 fps=1283 q=24.8 size=N/A time=00:10:42.85 bitrate=N/A speed=53.5x    \n",
      "frame=15959 fps=1275 q=24.8 size=N/A time=00:11:05.62 bitrate=N/A speed=53.2x    \n",
      "frame=16405 fps=1260 q=24.8 size=N/A time=00:11:24.22 bitrate=N/A speed=52.6x    \n",
      "frame=16919 fps=1252 q=24.8 size=N/A time=00:11:45.66 bitrate=N/A speed=52.2x    \n",
      "frame=17473 fps=1246 q=24.8 size=N/A time=00:12:08.77 bitrate=N/A speed=  52x    \n",
      "frame=18045 fps=1243 q=24.8 size=N/A time=00:12:32.62 bitrate=N/A speed=51.8x    \n",
      "frame=18577 fps=1237 q=24.8 size=N/A time=00:12:54.81 bitrate=N/A speed=51.6x    \n",
      "frame=19120 fps=1232 q=24.8 size=N/A time=00:13:17.46 bitrate=N/A speed=51.4x    \n",
      "frame=19664 fps=1227 q=24.8 size=N/A time=00:13:40.15 bitrate=N/A speed=51.2x    \n",
      "frame=20152 fps=1220 q=24.8 size=N/A time=00:14:00.50 bitrate=N/A speed=50.9x    \n",
      "frame=20647 fps=1213 q=24.8 size=N/A time=00:14:21.15 bitrate=N/A speed=50.6x    \n",
      "frame=21126 fps=1206 q=24.8 size=N/A time=00:14:41.13 bitrate=N/A speed=50.3x    \n",
      "frame=21612 fps=1199 q=24.8 size=N/A time=00:15:01.35 bitrate=N/A speed=  50x    \n",
      "frame=22093 fps=1193 q=24.8 size=N/A time=00:15:21.46 bitrate=N/A speed=49.7x    \n",
      "frame=22598 fps=1188 q=24.8 size=N/A time=00:15:42.52 bitrate=N/A speed=49.5x    \n",
      "frame=23137 fps=1185 q=24.8 size=N/A time=00:16:05.00 bitrate=N/A speed=49.4x    \n",
      "frame=23685 fps=1183 q=24.8 size=N/A time=00:16:27.86 bitrate=N/A speed=49.3x    \n",
      "frame=24260 fps=1182 q=24.8 size=N/A time=00:16:51.84 bitrate=N/A speed=49.3x    \n",
      "frame=24777 fps=1178 q=24.8 size=N/A time=00:17:13.40 bitrate=N/A speed=49.1x    \n",
      "frame=25264 fps=1174 q=24.8 size=N/A time=00:17:33.72 bitrate=N/A speed=48.9x    \n",
      "frame=25745 fps=1169 q=24.8 size=N/A time=00:17:53.78 bitrate=N/A speed=48.7x    \n",
      "frame=26261 fps=1166 q=24.8 size=N/A time=00:18:15.30 bitrate=N/A speed=48.6x    \n",
      "frame=26822 fps=1165 q=24.8 size=N/A time=00:18:38.70 bitrate=N/A speed=48.6x    \n",
      "frame=27369 fps=1163 q=24.8 size=N/A time=00:19:01.51 bitrate=N/A speed=48.5x    \n",
      "frame=27891 fps=1161 q=24.8 size=N/A time=00:19:23.28 bitrate=N/A speed=48.4x    \n",
      "frame=28433 fps=1159 q=24.8 size=N/A time=00:19:45.89 bitrate=N/A speed=48.3x    \n",
      "frame=29015 fps=1159 q=24.8 size=N/A time=00:20:10.16 bitrate=N/A speed=48.4x    \n",
      "frame=29584 fps=1159 q=24.8 size=N/A time=00:20:33.90 bitrate=N/A speed=48.3x    \n",
      "frame=30143 fps=1158 q=24.8 size=N/A time=00:20:57.21 bitrate=N/A speed=48.3x    \n",
      "frame=30654 fps=1155 q=24.8 size=N/A time=00:21:18.52 bitrate=N/A speed=48.2x    \n",
      "frame=31179 fps=1153 q=24.8 size=N/A time=00:21:40.42 bitrate=N/A speed=48.1x    \n",
      "frame=31699 fps=1151 q=24.8 size=N/A time=00:22:02.11 bitrate=N/A speed=  48x    \n",
      "frame=32227 fps=1150 q=24.8 size=N/A time=00:22:24.13 bitrate=N/A speed=  48x    \n",
      "frame=32796 fps=1149 q=24.8 size=N/A time=00:22:47.86 bitrate=N/A speed=47.9x    \n",
      "frame=33350 fps=1149 q=24.8 size=N/A time=00:23:10.97 bitrate=N/A speed=47.9x    \n",
      "frame=33895 fps=1148 q=24.8 size=N/A time=00:23:33.70 bitrate=N/A speed=47.9x    \n",
      "frame=34439 fps=1147 q=24.8 size=N/A time=00:23:56.39 bitrate=N/A speed=47.8x    \n",
      "frame=35009 fps=1147 q=24.8 size=N/A time=00:24:20.16 bitrate=N/A speed=47.8x    \n",
      "frame=35580 fps=1146 q=24.8 size=N/A time=00:24:43.98 bitrate=N/A speed=47.8x    \n",
      "frame=36156 fps=1147 q=24.8 size=N/A time=00:25:08.00 bitrate=N/A speed=47.8x    \n",
      "frame=36652 fps=1144 q=24.8 size=N/A time=00:25:28.69 bitrate=N/A speed=47.7x    \n",
      "frame=37174 fps=1143 q=24.8 size=N/A time=00:25:50.46 bitrate=N/A speed=47.7x    \n",
      "frame=37672 fps=1140 q=24.8 size=N/A time=00:26:11.23 bitrate=N/A speed=47.6x    \n",
      "frame=38239 fps=1140 q=24.8 size=N/A time=00:26:34.88 bitrate=N/A speed=47.6x    \n",
      "frame=38801 fps=1140 q=24.8 size=N/A time=00:26:58.32 bitrate=N/A speed=47.5x    \n",
      "frame=39360 fps=1140 q=24.8 size=N/A time=00:27:21.64 bitrate=N/A speed=47.5x    \n",
      "frame=39948 fps=1140 q=24.8 size=N/A time=00:27:46.16 bitrate=N/A speed=47.6x    \n",
      "frame=40487 fps=1139 q=24.8 size=N/A time=00:28:08.64 bitrate=N/A speed=47.5x    \n",
      "frame=41040 fps=1139 q=24.8 size=N/A time=00:28:31.71 bitrate=N/A speed=47.5x    \n",
      "frame=41588 fps=1138 q=24.8 size=N/A time=00:28:54.56 bitrate=N/A speed=47.5x    \n",
      "frame=42123 fps=1137 q=24.8 size=N/A time=00:29:16.88 bitrate=N/A speed=47.4x    \n",
      "frame=42595 fps=1135 q=24.8 size=N/A time=00:29:36.56 bitrate=N/A speed=47.3x    \n",
      "frame=43155 fps=1134 q=24.8 size=N/A time=00:29:59.92 bitrate=N/A speed=47.3x    \n",
      "frame=43672 fps=1133 q=24.8 size=N/A time=00:30:21.48 bitrate=N/A speed=47.3x    \n",
      "frame=44203 fps=1132 q=24.8 size=N/A time=00:30:43.63 bitrate=N/A speed=47.2x    \n",
      "frame=44721 fps=1131 q=24.8 size=N/A time=00:31:05.24 bitrate=N/A speed=47.2x    \n",
      "frame=45293 fps=1131 q=24.8 size=N/A time=00:31:29.09 bitrate=N/A speed=47.2x    \n",
      "frame=45883 fps=1132 q=24.8 size=N/A time=00:31:53.70 bitrate=N/A speed=47.2x    \n",
      "frame=46487 fps=1133 q=24.8 size=N/A time=00:32:18.89 bitrate=N/A speed=47.2x    \n",
      "frame=47037 fps=1132 q=24.8 size=N/A time=00:32:41.83 bitrate=N/A speed=47.2x    \n",
      "frame=47629 fps=1133 q=24.8 size=N/A time=00:33:06.52 bitrate=N/A speed=47.2x    \n",
      "frame=48146 fps=1132 q=24.8 size=N/A time=00:33:28.09 bitrate=N/A speed=47.2x    \n",
      "frame=48640 fps=1130 q=24.8 size=N/A time=00:33:48.69 bitrate=N/A speed=47.1x    \n",
      "frame=49218 fps=1130 q=24.8 size=N/A time=00:34:12.80 bitrate=N/A speed=47.1x    \n",
      "frame=49760 fps=1130 q=24.8 size=N/A time=00:34:35.40 bitrate=N/A speed=47.1x    \n",
      "frame=50294 fps=1129 q=24.8 size=N/A time=00:34:57.68 bitrate=N/A speed=47.1x    \n",
      "frame=50804 fps=1128 q=24.8 size=N/A time=00:35:18.95 bitrate=N/A speed=  47x    \n",
      "frame=51393 fps=1128 q=24.8 size=N/A time=00:35:43.51 bitrate=N/A speed=47.1x    \n",
      "frame=51947 fps=1128 q=24.8 size=N/A time=00:36:06.62 bitrate=N/A speed=  47x    \n",
      "frame=52501 fps=1128 q=24.8 size=N/A time=00:36:29.73 bitrate=N/A speed=  47x    \n",
      "frame=53100 fps=1129 q=24.8 size=N/A time=00:36:54.71 bitrate=N/A speed=47.1x    \n",
      "frame=53636 fps=1128 q=24.8 size=N/A time=00:37:17.07 bitrate=N/A speed=  47x    \n",
      "frame=54162 fps=1127 q=24.8 size=N/A time=00:37:39.00 bitrate=N/A speed=  47x    \n",
      "frame=54736 fps=1127 q=24.8 size=N/A time=00:38:02.94 bitrate=N/A speed=  47x    \n",
      "frame=55272 fps=1127 q=24.8 size=N/A time=00:38:25.30 bitrate=N/A speed=  47x    \n",
      "frame=55856 fps=1127 q=24.8 size=N/A time=00:38:49.66 bitrate=N/A speed=  47x    \n",
      "frame=56462 fps=1128 q=24.8 size=N/A time=00:39:14.93 bitrate=N/A speed=  47x    \n",
      "frame=57074 fps=1129 q=24.8 size=N/A time=00:39:40.46 bitrate=N/A speed=47.1x    \n",
      "frame=57692 fps=1130 q=24.8 size=N/A time=00:40:06.23 bitrate=N/A speed=47.1x    \n",
      "frame=58287 fps=1131 q=24.8 size=N/A time=00:40:31.05 bitrate=N/A speed=47.2x    \n",
      "frame=58869 fps=1131 q=24.8 size=N/A time=00:40:55.33 bitrate=N/A speed=47.2x    \n",
      "frame=59333 fps=1129 q=24.8 size=N/A time=00:41:14.68 bitrate=N/A speed=47.1x    \n",
      "frame=59851 fps=1128 q=24.8 size=N/A time=00:41:36.28 bitrate=N/A speed=47.1x    \n",
      "frame=60384 fps=1127 q=24.8 size=N/A time=00:41:58.51 bitrate=N/A speed=  47x    \n",
      "frame=60913 fps=1127 q=24.8 size=N/A time=00:42:20.58 bitrate=N/A speed=  47x    \n",
      "frame=61430 fps=1126 q=24.8 size=N/A time=00:42:42.14 bitrate=N/A speed=  47x    \n",
      "frame=61994 fps=1126 q=24.8 size=N/A time=00:43:05.66 bitrate=N/A speed=  47x    \n",
      "frame=62572 fps=1126 q=24.8 size=N/A time=00:43:29.77 bitrate=N/A speed=  47x    \n",
      "frame=63160 fps=1127 q=24.8 size=N/A time=00:43:54.30 bitrate=N/A speed=  47x    \n",
      "frame=63691 fps=1126 q=24.8 size=N/A time=00:44:16.44 bitrate=N/A speed=  47x    \n",
      "frame=64268 fps=1126 q=24.8 size=N/A time=00:44:40.51 bitrate=N/A speed=  47x    \n",
      "frame=64756 fps=1125 q=24.8 size=N/A time=00:45:00.86 bitrate=N/A speed=46.9x    \n",
      "frame=65278 fps=1124 q=24.8 size=N/A time=00:45:22.63 bitrate=N/A speed=46.9x    \n",
      "frame=65778 fps=1123 q=24.8 size=N/A time=00:45:43.49 bitrate=N/A speed=46.8x    \n",
      "frame=66322 fps=1123 q=24.8 size=N/A time=00:46:06.18 bitrate=N/A speed=46.8x    \n",
      "frame=66861 fps=1123 q=24.8 size=N/A time=00:46:28.66 bitrate=N/A speed=46.8x    \n",
      "frame=67326 fps=1121 q=24.8 size=N/A time=00:46:48.05 bitrate=N/A speed=46.8x    \n",
      "frame=67856 fps=1120 q=24.8 size=N/A time=00:47:10.16 bitrate=N/A speed=46.7x    \n",
      "frame=68339 fps=1119 q=24.8 size=N/A time=00:47:30.30 bitrate=N/A speed=46.7x    \n",
      "frame=68844 fps=1118 q=24.8 size=N/A time=00:47:51.37 bitrate=N/A speed=46.6x    \n",
      "frame=69362 fps=1118 q=24.8 size=N/A time=00:48:12.97 bitrate=N/A speed=46.6x    \n",
      "frame=69864 fps=1117 q=24.8 size=N/A time=00:48:33.91 bitrate=N/A speed=46.6x    \n",
      "frame=70396 fps=1116 q=24.8 size=N/A time=00:48:56.10 bitrate=N/A speed=46.6x    \n",
      "frame=70920 fps=1116 q=24.8 size=N/A time=00:49:17.95 bitrate=N/A speed=46.5x    \n",
      "frame=71421 fps=1115 q=24.8 size=N/A time=00:49:38.85 bitrate=N/A speed=46.5x    \n",
      "frame=71942 fps=1114 q=24.8 size=N/A time=00:50:00.58 bitrate=N/A speed=46.5x    \n",
      "frame=72478 fps=1114 q=24.8 size=N/A time=00:50:22.93 bitrate=N/A speed=46.5x    \n",
      "frame=72979 fps=1113 q=24.8 size=N/A time=00:50:43.83 bitrate=N/A speed=46.4x    \n",
      "frame=73515 fps=1113 q=24.8 size=N/A time=00:51:06.19 bitrate=N/A speed=46.4x    \n",
      "frame=74041 fps=1112 q=24.8 size=N/A time=00:51:28.12 bitrate=N/A speed=46.4x    \n",
      "frame=74592 fps=1112 q=24.8 size=N/A time=00:51:51.11 bitrate=N/A speed=46.4x    \n",
      "frame=75091 fps=1111 q=24.8 size=N/A time=00:52:11.92 bitrate=N/A speed=46.4x    \n",
      "frame=75619 fps=1111 q=24.8 size=N/A time=00:52:33.94 bitrate=N/A speed=46.3x    \n",
      "frame=76142 fps=1110 q=24.8 size=N/A time=00:52:55.75 bitrate=N/A speed=46.3x    \n",
      "frame=76636 fps=1110 q=24.8 size=N/A time=00:53:16.36 bitrate=N/A speed=46.3x    \n",
      "frame=77169 fps=1109 q=24.8 size=N/A time=00:53:38.59 bitrate=N/A speed=46.3x    \n",
      "frame=77727 fps=1109 q=24.8 size=N/A time=00:54:01.86 bitrate=N/A speed=46.3x    \n",
      "frame=78288 fps=1109 q=24.8 size=N/A time=00:54:25.26 bitrate=N/A speed=46.3x    \n",
      "frame=78844 fps=1109 q=24.8 size=N/A time=00:54:48.45 bitrate=N/A speed=46.3x    \n",
      "frame=79383 fps=1109 q=24.8 size=N/A time=00:55:10.93 bitrate=N/A speed=46.3x    \n",
      "frame=79939 fps=1109 q=24.8 size=N/A time=00:55:34.12 bitrate=N/A speed=46.3x    \n",
      "frame=80509 fps=1109 q=24.8 size=N/A time=00:55:57.89 bitrate=N/A speed=46.3x    \n",
      "frame=81062 fps=1109 q=24.8 size=N/A time=00:56:20.96 bitrate=N/A speed=46.3x    \n",
      "frame=81633 fps=1110 q=24.8 size=N/A time=00:56:44.77 bitrate=N/A speed=46.3x    \n",
      "frame=82205 fps=1110 q=24.8 size=N/A time=00:57:08.63 bitrate=N/A speed=46.3x    \n",
      "frame=82743 fps=1110 q=24.8 size=N/A time=00:57:31.07 bitrate=N/A speed=46.3x    \n",
      "frame=83309 fps=1110 q=24.8 size=N/A time=00:57:54.68 bitrate=N/A speed=46.3x    \n",
      "frame=83910 fps=1110 q=24.8 size=N/A time=00:58:19.74 bitrate=N/A speed=46.3x    \n",
      "frame=84465 fps=1110 q=24.8 size=N/A time=00:58:42.89 bitrate=N/A speed=46.3x    \n",
      "frame=84996 fps=1110 q=24.8 size=N/A time=00:59:05.04 bitrate=N/A speed=46.3x    \n",
      "frame=85498 fps=1109 q=24.8 size=N/A time=00:59:25.98 bitrate=N/A speed=46.3x    \n",
      "frame=86031 fps=1109 q=24.8 size=N/A time=00:59:48.21 bitrate=N/A speed=46.3x    \n",
      "frame=86591 fps=1109 q=24.8 size=N/A time=01:00:11.56 bitrate=N/A speed=46.3x    \n",
      "frame=87166 fps=1109 q=24.8 size=N/A time=01:00:35.55 bitrate=N/A speed=46.3x    \n",
      "frame=87736 fps=1109 q=24.8 size=N/A time=01:00:59.32 bitrate=N/A speed=46.3x    \n",
      "frame=88286 fps=1109 q=24.8 size=N/A time=01:01:22.26 bitrate=N/A speed=46.3x    \n",
      "frame=88870 fps=1110 q=24.8 size=N/A time=01:01:46.62 bitrate=N/A speed=46.3x    \n",
      "frame=89407 fps=1110 q=24.8 size=N/A time=01:02:09.02 bitrate=N/A speed=46.3x    \n",
      "frame=89962 fps=1110 q=24.8 size=N/A time=01:02:32.16 bitrate=N/A speed=46.3x    \n",
      "frame=90514 fps=1109 q=24.8 size=N/A time=01:02:55.19 bitrate=N/A speed=46.3x    \n",
      "frame=91100 fps=1110 q=24.8 size=N/A time=01:03:19.63 bitrate=N/A speed=46.3x    \n",
      "frame=91645 fps=1110 q=24.8 size=N/A time=01:03:42.36 bitrate=N/A speed=46.3x    \n",
      "frame=92221 fps=1110 q=24.8 size=N/A time=01:04:06.38 bitrate=N/A speed=46.3x    \n",
      "frame=92799 fps=1110 q=24.8 size=N/A time=01:04:30.49 bitrate=N/A speed=46.3x    \n",
      "frame=93326 fps=1110 q=24.8 size=N/A time=01:04:52.47 bitrate=N/A speed=46.3x    \n",
      "frame=93913 fps=1110 q=24.8 size=N/A time=01:05:16.95 bitrate=N/A speed=46.3x    \n",
      "frame=94504 fps=1111 q=24.8 size=N/A time=01:05:41.60 bitrate=N/A speed=46.3x    \n",
      "frame=95118 fps=1111 q=24.8 size=N/A time=01:06:07.21 bitrate=N/A speed=46.4x    \n",
      "frame=95680 fps=1111 q=24.8 size=N/A time=01:06:30.65 bitrate=N/A speed=46.4x    \n",
      "frame=96294 fps=1112 q=24.8 size=N/A time=01:06:56.26 bitrate=N/A speed=46.4x    \n",
      "frame=96881 fps=1112 q=24.8 size=N/A time=01:07:20.74 bitrate=N/A speed=46.4x    \n",
      "frame=97441 fps=1113 q=24.8 size=N/A time=01:07:44.10 bitrate=N/A speed=46.4x    \n",
      "frame=97956 fps=1112 q=24.8 size=N/A time=01:08:05.58 bitrate=N/A speed=46.4x    \n",
      "frame=98542 fps=1112 q=24.8 size=N/A time=01:08:30.02 bitrate=N/A speed=46.4x    \n",
      "frame=99105 fps=1112 q=24.8 size=N/A time=01:08:53.50 bitrate=N/A speed=46.4x    \n",
      "frame=99710 fps=1113 q=24.8 size=N/A time=01:09:18.74 bitrate=N/A speed=46.4x    \n",
      "frame=100288 fps=1113 q=24.8 size=N/A time=01:09:42.84 bitrate=N/A speed=46.4x    \n",
      "frame=100851 fps=1113 q=24.8 size=N/A time=01:10:06.33 bitrate=N/A speed=46.4x    \n",
      "frame=101383 fps=1113 q=24.8 size=N/A time=01:10:28.52 bitrate=N/A speed=46.4x    \n",
      "frame=101969 fps=1113 q=24.8 size=N/A time=01:10:52.96 bitrate=N/A speed=46.4x    \n",
      "frame=102491 fps=1113 q=24.8 size=N/A time=01:11:14.73 bitrate=N/A speed=46.4x    \n",
      "frame=103031 fps=1113 q=24.8 size=N/A time=01:11:37.25 bitrate=N/A speed=46.4x    \n",
      "frame=103577 fps=1113 q=24.8 size=N/A time=01:12:00.02 bitrate=N/A speed=46.4x    \n",
      "frame=104130 fps=1113 q=24.8 size=N/A time=01:12:23.09 bitrate=N/A speed=46.4x    \n",
      "frame=104669 fps=1112 q=24.8 size=N/A time=01:12:45.57 bitrate=N/A speed=46.4x    \n",
      "frame=105228 fps=1112 q=24.8 size=N/A time=01:13:08.88 bitrate=N/A speed=46.4x    \n",
      "frame=105831 fps=1113 q=24.8 size=N/A time=01:13:34.03 bitrate=N/A speed=46.4x    \n",
      "frame=106411 fps=1113 q=24.8 size=N/A time=01:13:58.22 bitrate=N/A speed=46.4x    \n",
      "frame=106999 fps=1113 q=24.8 size=N/A time=01:14:22.75 bitrate=N/A speed=46.4x    \n",
      "frame=107550 fps=1113 q=24.8 size=N/A time=01:14:45.73 bitrate=N/A speed=46.4x    \n",
      "frame=108100 fps=1113 q=24.8 size=N/A time=01:15:08.67 bitrate=N/A speed=46.4x    \n",
      "frame=108649 fps=1113 q=24.8 size=N/A time=01:15:31.57 bitrate=N/A speed=46.4x    \n",
      "frame=109200 fps=1113 q=24.8 size=N/A time=01:15:54.55 bitrate=N/A speed=46.4x    \n",
      "frame=109782 fps=1113 q=24.8 size=N/A time=01:16:18.82 bitrate=N/A speed=46.4x    \n",
      "frame=110357 fps=1114 q=24.8 size=N/A time=01:16:42.81 bitrate=N/A speed=46.4x    \n",
      "frame=110861 fps=1113 q=24.8 size=N/A time=01:17:03.83 bitrate=N/A speed=46.4x    \n",
      "frame=111462 fps=1114 q=24.8 size=N/A time=01:17:28.89 bitrate=N/A speed=46.4x    \n",
      "frame=112053 fps=1114 q=24.8 size=N/A time=01:17:53.54 bitrate=N/A speed=46.5x    \n",
      "frame=112651 fps=1114 q=24.8 size=N/A time=01:18:18.49 bitrate=N/A speed=46.5x    \n",
      "frame=113235 fps=1115 q=24.8 size=N/A time=01:18:42.84 bitrate=N/A speed=46.5x    \n",
      "frame=113799 fps=1115 q=24.8 size=N/A time=01:19:06.37 bitrate=N/A speed=46.5x    \n",
      "frame=114285 fps=1114 q=24.8 size=N/A time=01:19:26.64 bitrate=N/A speed=46.5x    \n",
      "frame=114859 fps=1114 q=24.8 size=N/A time=01:19:50.58 bitrate=N/A speed=46.5x    \n",
      "frame=115412 fps=1114 q=24.8 size=N/A time=01:20:13.64 bitrate=N/A speed=46.5x    \n",
      "frame=115982 fps=1114 q=24.8 size=N/A time=01:20:37.42 bitrate=N/A speed=46.5x    \n",
      "frame=116598 fps=1115 q=24.8 size=N/A time=01:21:03.11 bitrate=N/A speed=46.5x    \n",
      "frame=117141 fps=1115 q=24.8 size=N/A time=01:21:25.76 bitrate=N/A speed=46.5x    \n",
      "frame=117706 fps=1115 q=24.8 size=N/A time=01:21:49.32 bitrate=N/A speed=46.5x    \n",
      "frame=118286 fps=1115 q=24.8 size=N/A time=01:22:13.51 bitrate=N/A speed=46.5x    \n",
      "frame=118812 fps=1114 q=24.8 size=N/A time=01:22:35.45 bitrate=N/A speed=46.5x    \n",
      "frame=119362 fps=1114 q=24.8 size=N/A time=01:22:58.39 bitrate=N/A speed=46.5x    \n",
      "frame=119850 fps=1114 q=24.8 size=N/A time=01:23:18.74 bitrate=N/A speed=46.5x    \n",
      "frame=120385 fps=1114 q=24.8 size=N/A time=01:23:41.06 bitrate=N/A speed=46.4x    \n",
      "frame=120865 fps=1113 q=24.8 size=N/A time=01:24:01.08 bitrate=N/A speed=46.4x    \n",
      "frame=121376 fps=1112 q=24.8 size=N/A time=01:24:22.39 bitrate=N/A speed=46.4x    \n",
      "frame=121930 fps=1112 q=24.8 size=N/A time=01:24:45.50 bitrate=N/A speed=46.4x    \n",
      "frame=122472 fps=1112 q=24.8 size=N/A time=01:25:08.10 bitrate=N/A speed=46.4x    \n",
      "frame=122991 fps=1112 q=24.8 size=N/A time=01:25:29.75 bitrate=N/A speed=46.4x    \n",
      "frame=123559 fps=1112 q=24.8 size=N/A time=01:25:53.44 bitrate=N/A speed=46.4x    \n",
      "frame=124115 fps=1112 q=24.8 size=N/A time=01:26:16.63 bitrate=N/A speed=46.4x    \n",
      "frame=124656 fps=1112 q=24.8 size=N/A time=01:26:39.19 bitrate=N/A speed=46.4x    \n",
      "frame=125197 fps=1112 q=24.8 size=N/A time=01:27:01.76 bitrate=N/A speed=46.4x    \n",
      "frame=125727 fps=1112 q=24.8 size=N/A time=01:27:23.86 bitrate=N/A speed=46.4x    \n",
      "frame=126283 fps=1112 q=24.8 size=N/A time=01:27:47.05 bitrate=N/A speed=46.4x    \n",
      "frame=126836 fps=1111 q=24.8 size=N/A time=01:28:10.12 bitrate=N/A speed=46.4x    \n",
      "frame=127401 fps=1112 q=24.8 size=N/A time=01:28:33.68 bitrate=N/A speed=46.4x    \n",
      "frame=127957 fps=1112 q=24.8 size=N/A time=01:28:56.87 bitrate=N/A speed=46.4x    \n",
      "frame=128545 fps=1112 q=24.8 size=N/A time=01:29:21.40 bitrate=N/A speed=46.4x    \n",
      "frame=128997 fps=1111 q=24.8 size=N/A time=01:29:40.25 bitrate=N/A speed=46.3x    \n",
      "frame=129577 fps=1111 q=24.8 size=N/A time=01:30:04.44 bitrate=N/A speed=46.3x    \n",
      "frame=130107 fps=1111 q=24.8 size=N/A time=01:30:26.55 bitrate=N/A speed=46.3x    \n",
      "frame=130565 fps=1110 q=24.8 size=N/A time=01:30:45.65 bitrate=N/A speed=46.3x    \n",
      "frame=131002 fps=1109 q=24.8 size=N/A time=01:31:03.88 bitrate=N/A speed=46.3x    \n",
      "frame=131393 fps=1108 q=24.8 size=N/A time=01:31:20.18 bitrate=N/A speed=46.2x    \n",
      "frame=131857 fps=1107 q=24.8 size=N/A time=01:31:39.54 bitrate=N/A speed=46.2x    \n",
      "frame=132322 fps=1106 q=24.8 size=N/A time=01:31:58.93 bitrate=N/A speed=46.1x    \n",
      "frame=132904 fps=1106 q=24.8 size=N/A time=01:32:23.20 bitrate=N/A speed=46.1x    \n",
      "frame=133410 fps=1107 q=24.8 Lsize=N/A time=01:32:44.27 bitrate=N/A speed=46.2x    \n",
      "video:796180kB audio:0kB subtitle:0kB other streams:0kB global headers:0kB muxing overhead: unknown\n",
      "C:\\Users\\zl\\video-classification-3d-cnn-pytorch-master\\spatial_transforms.py:64: UserWarning: TypedStorage is deprecated. It will be removed in the future and UntypedStorage will be the only storage class. This should only matter to you if you are using storages directly.  To access UntypedStorage directly, use tensor.untyped_storage() instead of tensor.storage()\n",
      "  img = torch.ByteTensor(torch.ByteStorage.from_buffer(pic.tobytes()))\n",
      "C:\\Users\\zl\\video-classification-3d-cnn-pytorch-master\\spatial_transforms.py:64: UserWarning: TypedStorage is deprecated. It will be removed in the future and UntypedStorage will be the only storage class. This should only matter to you if you are using storages directly.  To access UntypedStorage directly, use tensor.untyped_storage() instead of tensor.storage()\n",
      "  img = torch.ByteTensor(torch.ByteStorage.from_buffer(pic.tobytes()))\n",
      "C:\\Users\\zl\\video-classification-3d-cnn-pytorch-master\\spatial_transforms.py:64: UserWarning: TypedStorage is deprecated. It will be removed in the future and UntypedStorage will be the only storage class. This should only matter to you if you are using storages directly.  To access UntypedStorage directly, use tensor.untyped_storage() instead of tensor.storage()\n",
      "  img = torch.ByteTensor(torch.ByteStorage.from_buffer(pic.tobytes()))\n",
      "C:\\Users\\zl\\video-classification-3d-cnn-pytorch-master\\spatial_transforms.py:64: UserWarning: TypedStorage is deprecated. It will be removed in the future and UntypedStorage will be the only storage class. This should only matter to you if you are using storages directly.  To access UntypedStorage directly, use tensor.untyped_storage() instead of tensor.storage()\n",
      "  img = torch.ByteTensor(torch.ByteStorage.from_buffer(pic.tobytes()))\n"
     ]
    }
   ],
   "source": [
    "! python main.py --input input --video_root ../Input_films --output ../output.json --model resnet-34-kinetics-cpu.pth --model_depth 34 --mode score --resnet_shortcut A --no_cuda"
   ]
  },
  {
   "cell_type": "code",
   "execution_count": 8,
   "id": "104f3d8f",
   "metadata": {},
   "outputs": [],
   "source": [
    "file = open('../output.json')\n",
    "segments = json.load(file)"
   ]
  },
  {
   "cell_type": "code",
   "execution_count": 9,
   "id": "b797890f",
   "metadata": {},
   "outputs": [],
   "source": [
    "folder_path = r'C:\\Users\\zl\\Input_films'\n",
    "fps=[]\n",
    "file_names = os.listdir(folder_path)\n",
    "for file_name in file_names:\n",
    "    file_path = os.path.join(folder_path, file_name)\n",
    "    if file_name.endswith('.mp4'):\n",
    "        video = VideoFileClip(file_path)\n",
    "        fps.append(video.fps)"
   ]
  },
  {
   "cell_type": "code",
   "execution_count": 10,
   "id": "2a11d35b",
   "metadata": {},
   "outputs": [
    {
     "data": {
      "text/plain": [
       "[29.97002997002997, 25.0, 23.976023976023978, 23.976023976023978]"
      ]
     },
     "execution_count": 10,
     "metadata": {},
     "output_type": "execute_result"
    }
   ],
   "source": [
    "fps"
   ]
  },
  {
   "cell_type": "code",
   "execution_count": 11,
   "id": "6fa8c8d7",
   "metadata": {},
   "outputs": [
    {
     "data": {
      "text/plain": [
       "'.DS_Store'"
      ]
     },
     "execution_count": 11,
     "metadata": {},
     "output_type": "execute_result"
    }
   ],
   "source": [
    "file_names.pop(0)"
   ]
  },
  {
   "cell_type": "code",
   "execution_count": 12,
   "id": "763a9a5e",
   "metadata": {
    "scrolled": true
   },
   "outputs": [
    {
     "data": {
      "text/plain": [
       "['Abramovic-Marina_4Performances1975.mp4',\n",
       " 'Abramovic-Marina_Balkan-Erotic-Epic_2006.mp4',\n",
       " 'Abramovic-Marina_Dangerous-Games_2008.mp4',\n",
       " 'Abramovic.Marina.Seven.Easy.Pieces.2007.mp4']"
      ]
     },
     "execution_count": 12,
     "metadata": {},
     "output_type": "execute_result"
    }
   ],
   "source": [
    "file_names"
   ]
  },
  {
   "cell_type": "code",
   "execution_count": 13,
   "id": "7e88c171",
   "metadata": {},
   "outputs": [
    {
     "name": "stdout",
     "output_type": "stream",
     "text": [
      "Abramovic-Marina_4Performances1975.mp4\n",
      "Abramovic-Marina_Balkan-Erotic-Epic_2006.mp4\n",
      "Abramovic-Marina_Dangerous-Games_2008.mp4\n",
      "Abramovic.Marina.Seven.Easy.Pieces.2007.mp4\n"
     ]
    }
   ],
   "source": [
    "label_periods = []\n",
    "for f in segments:\n",
    "    print(f['video'])\n",
    "    currentLabel = None\n",
    "    ts = 0\n",
    "    te = 0\n",
    "    for c in f['clips']:\n",
    "        label = c['label']\n",
    "        s = c['segment'][0]\n",
    "        e = c['segment'][1]\n",
    "        if label == currentLabel:\n",
    "            te = e \n",
    "        else:\n",
    "            label_periods.append([(ts,te),currentLabel, f['video']])\n",
    "\n",
    "            ts = s\n",
    "            te = e \n",
    "            currentLabel = label"
   ]
  },
  {
   "cell_type": "code",
   "execution_count": 14,
   "id": "55da8979",
   "metadata": {},
   "outputs": [
    {
     "data": {
      "text/plain": [
       "[[(0, 0), None, 'Abramovic-Marina_4Performances1975.mp4'],\n",
       " [(1, 48), 'front raises', 'Abramovic-Marina_4Performances1975.mp4'],\n",
       " [(49, 64), 'juggling balls', 'Abramovic-Marina_4Performances1975.mp4'],\n",
       " [(65, 208),\n",
       "  'snatch weight lifting',\n",
       "  'Abramovic-Marina_4Performances1975.mp4'],\n",
       " [(209, 224), 'dancing ballet', 'Abramovic-Marina_4Performances1975.mp4'],\n",
       " [(225, 240), 'smoking', 'Abramovic-Marina_4Performances1975.mp4'],\n",
       " [(241, 256), 'texting', 'Abramovic-Marina_4Performances1975.mp4'],\n",
       " [(257, 272), 'tai chi', 'Abramovic-Marina_4Performances1975.mp4'],\n",
       " [(273, 288), 'playing poker', 'Abramovic-Marina_4Performances1975.mp4'],\n",
       " [(289, 304), 'texting', 'Abramovic-Marina_4Performances1975.mp4'],\n",
       " [(305, 320), 'playing poker', 'Abramovic-Marina_4Performances1975.mp4'],\n",
       " [(321, 336), 'kissing', 'Abramovic-Marina_4Performances1975.mp4'],\n",
       " [(337, 432), 'smoking', 'Abramovic-Marina_4Performances1975.mp4'],\n",
       " [(433, 448),\n",
       "  'sign language interpreting',\n",
       "  'Abramovic-Marina_4Performances1975.mp4'],\n",
       " [(449, 464), 'smoking', 'Abramovic-Marina_4Performances1975.mp4'],\n",
       " [(465, 480), 'writing', 'Abramovic-Marina_4Performances1975.mp4'],\n",
       " [(481, 496), 'smoking', 'Abramovic-Marina_4Performances1975.mp4'],\n",
       " [(497, 512), 'kissing', 'Abramovic-Marina_4Performances1975.mp4'],\n",
       " [(513, 528), 'smoking', 'Abramovic-Marina_4Performances1975.mp4'],\n",
       " [(529, 560),\n",
       "  'sign language interpreting',\n",
       "  'Abramovic-Marina_4Performances1975.mp4'],\n",
       " [(561, 656), 'kissing', 'Abramovic-Marina_4Performances1975.mp4'],\n",
       " [(657, 720), 'playing poker', 'Abramovic-Marina_4Performances1975.mp4'],\n",
       " [(721, 736), 'texting', 'Abramovic-Marina_4Performances1975.mp4'],\n",
       " [(737, 752), 'smoking', 'Abramovic-Marina_4Performances1975.mp4'],\n",
       " [(753, 784), 'playing poker', 'Abramovic-Marina_4Performances1975.mp4'],\n",
       " [(785, 800), 'smoking', 'Abramovic-Marina_4Performances1975.mp4'],\n",
       " [(801, 832), 'playing poker', 'Abramovic-Marina_4Performances1975.mp4'],\n",
       " [(833, 864), 'smoking', 'Abramovic-Marina_4Performances1975.mp4'],\n",
       " [(865, 880), 'playing poker', 'Abramovic-Marina_4Performances1975.mp4'],\n",
       " [(881, 896), 'smoking', 'Abramovic-Marina_4Performances1975.mp4'],\n",
       " [(897, 912), 'playing poker', 'Abramovic-Marina_4Performances1975.mp4'],\n",
       " [(913, 944), 'playing chess', 'Abramovic-Marina_4Performances1975.mp4'],\n",
       " [(945, 976), 'smoking', 'Abramovic-Marina_4Performances1975.mp4'],\n",
       " [(977, 992), 'contact juggling', 'Abramovic-Marina_4Performances1975.mp4'],\n",
       " [(993, 1168), 'smoking', 'Abramovic-Marina_4Performances1975.mp4'],\n",
       " [(1169, 1184), 'contact juggling', 'Abramovic-Marina_4Performances1975.mp4'],\n",
       " [(1185, 1264), 'smoking', 'Abramovic-Marina_4Performances1975.mp4'],\n",
       " [(1265, 1280), 'whistling', 'Abramovic-Marina_4Performances1975.mp4'],\n",
       " [(1281, 1296), 'smoking', 'Abramovic-Marina_4Performances1975.mp4'],\n",
       " [(1297, 1312), 'kissing', 'Abramovic-Marina_4Performances1975.mp4'],\n",
       " [(1313, 1328), 'smoking', 'Abramovic-Marina_4Performances1975.mp4'],\n",
       " [(1329, 1360), 'kissing', 'Abramovic-Marina_4Performances1975.mp4'],\n",
       " [(1361, 1376), 'smoking', 'Abramovic-Marina_4Performances1975.mp4'],\n",
       " [(1377, 1392), 'kissing', 'Abramovic-Marina_4Performances1975.mp4'],\n",
       " [(1393, 1408), 'playing poker', 'Abramovic-Marina_4Performances1975.mp4'],\n",
       " [(1409, 1552), 'smoking', 'Abramovic-Marina_4Performances1975.mp4'],\n",
       " [(1553, 1568), 'brushing hair', 'Abramovic-Marina_4Performances1975.mp4'],\n",
       " [(1569, 1584), 'whistling', 'Abramovic-Marina_4Performances1975.mp4'],\n",
       " [(1585, 1616), 'brushing hair', 'Abramovic-Marina_4Performances1975.mp4'],\n",
       " [(1617, 1632), 'whistling', 'Abramovic-Marina_4Performances1975.mp4'],\n",
       " [(1633, 1648), 'brushing hair', 'Abramovic-Marina_4Performances1975.mp4'],\n",
       " [(1649, 1664), 'smoking', 'Abramovic-Marina_4Performances1975.mp4'],\n",
       " [(1665, 1680), 'brushing hair', 'Abramovic-Marina_4Performances1975.mp4'],\n",
       " [(1681, 1728), 'smoking', 'Abramovic-Marina_4Performances1975.mp4'],\n",
       " [(1729, 1744), 'brushing hair', 'Abramovic-Marina_4Performances1975.mp4'],\n",
       " [(1745, 1840), 'smoking', 'Abramovic-Marina_4Performances1975.mp4'],\n",
       " [(1841, 1856), 'brushing hair', 'Abramovic-Marina_4Performances1975.mp4'],\n",
       " [(1857, 1872), 'smoking', 'Abramovic-Marina_4Performances1975.mp4'],\n",
       " [(1873, 1888), 'brushing hair', 'Abramovic-Marina_4Performances1975.mp4'],\n",
       " [(1889, 1984), 'smoking', 'Abramovic-Marina_4Performances1975.mp4'],\n",
       " [(1985, 2048), 'kissing', 'Abramovic-Marina_4Performances1975.mp4'],\n",
       " [(2049, 2064), 'smoking', 'Abramovic-Marina_4Performances1975.mp4'],\n",
       " [(2065, 2096), 'brushing hair', 'Abramovic-Marina_4Performances1975.mp4'],\n",
       " [(2097, 2144), 'smoking', 'Abramovic-Marina_4Performances1975.mp4'],\n",
       " [(2145, 2160), 'kissing', 'Abramovic-Marina_4Performances1975.mp4'],\n",
       " [(2161, 2176), 'whistling', 'Abramovic-Marina_4Performances1975.mp4'],\n",
       " [(2177, 2192), 'crying', 'Abramovic-Marina_4Performances1975.mp4'],\n",
       " [(2193, 2208), 'beatboxing', 'Abramovic-Marina_4Performances1975.mp4'],\n",
       " [(2209, 2224), 'brushing hair', 'Abramovic-Marina_4Performances1975.mp4'],\n",
       " [(2225, 2240), 'crying', 'Abramovic-Marina_4Performances1975.mp4'],\n",
       " [(2241, 2272), 'whistling', 'Abramovic-Marina_4Performances1975.mp4'],\n",
       " [(2273, 2288), 'crying', 'Abramovic-Marina_4Performances1975.mp4'],\n",
       " [(2289, 2304), 'brushing hair', 'Abramovic-Marina_4Performances1975.mp4'],\n",
       " [(2305, 2320), 'smoking', 'Abramovic-Marina_4Performances1975.mp4'],\n",
       " [(2321, 2352), 'brushing hair', 'Abramovic-Marina_4Performances1975.mp4'],\n",
       " [(2353, 2368), 'smoking', 'Abramovic-Marina_4Performances1975.mp4'],\n",
       " [(2369, 2384), 'kissing', 'Abramovic-Marina_4Performances1975.mp4'],\n",
       " [(2385, 2416), 'brushing hair', 'Abramovic-Marina_4Performances1975.mp4'],\n",
       " [(2417, 2448), 'kissing', 'Abramovic-Marina_4Performances1975.mp4'],\n",
       " [(2449, 2464), 'smoking', 'Abramovic-Marina_4Performances1975.mp4'],\n",
       " [(2465, 2480), 'finger snapping', 'Abramovic-Marina_4Performances1975.mp4'],\n",
       " [(2481, 2512), 'kissing', 'Abramovic-Marina_4Performances1975.mp4'],\n",
       " [(2513, 2528), 'brushing hair', 'Abramovic-Marina_4Performances1975.mp4'],\n",
       " [(2529, 2560), 'kissing', 'Abramovic-Marina_4Performances1975.mp4'],\n",
       " [(2561, 2688), 'brushing hair', 'Abramovic-Marina_4Performances1975.mp4'],\n",
       " [(2689, 2704), 'smoking', 'Abramovic-Marina_4Performances1975.mp4'],\n",
       " [(2705, 2816), 'brushing hair', 'Abramovic-Marina_4Performances1975.mp4'],\n",
       " [(2817, 2832), 'contact juggling', 'Abramovic-Marina_4Performances1975.mp4'],\n",
       " [(2833, 2848), 'finger snapping', 'Abramovic-Marina_4Performances1975.mp4'],\n",
       " [(2849, 2880), 'brushing hair', 'Abramovic-Marina_4Performances1975.mp4'],\n",
       " [(2881, 2912), 'kissing', 'Abramovic-Marina_4Performances1975.mp4'],\n",
       " [(2913, 2976), 'brushing hair', 'Abramovic-Marina_4Performances1975.mp4'],\n",
       " [(2977, 2992), 'fixing hair', 'Abramovic-Marina_4Performances1975.mp4'],\n",
       " [(2993, 3200), 'brushing hair', 'Abramovic-Marina_4Performances1975.mp4'],\n",
       " [(3201, 3216), 'fixing hair', 'Abramovic-Marina_4Performances1975.mp4'],\n",
       " [(3217, 3232), 'shaving head', 'Abramovic-Marina_4Performances1975.mp4'],\n",
       " [(3233, 3248), 'fixing hair', 'Abramovic-Marina_4Performances1975.mp4'],\n",
       " [(3249, 3264), 'playing poker', 'Abramovic-Marina_4Performances1975.mp4'],\n",
       " [(3265, 3296), 'fixing hair', 'Abramovic-Marina_4Performances1975.mp4'],\n",
       " [(3297, 3344), 'brushing hair', 'Abramovic-Marina_4Performances1975.mp4'],\n",
       " [(3345, 3376), 'fixing hair', 'Abramovic-Marina_4Performances1975.mp4'],\n",
       " [(3377, 3424), 'brushing hair', 'Abramovic-Marina_4Performances1975.mp4'],\n",
       " [(3425, 3472), 'fixing hair', 'Abramovic-Marina_4Performances1975.mp4'],\n",
       " [(3473, 3488), 'brushing hair', 'Abramovic-Marina_4Performances1975.mp4'],\n",
       " [(3489, 3536), 'fixing hair', 'Abramovic-Marina_4Performances1975.mp4'],\n",
       " [(3537, 3552),\n",
       "  \"massaging person's head\",\n",
       "  'Abramovic-Marina_4Performances1975.mp4'],\n",
       " [(3553, 3600), 'brushing hair', 'Abramovic-Marina_4Performances1975.mp4'],\n",
       " [(3601, 3648), 'fixing hair', 'Abramovic-Marina_4Performances1975.mp4'],\n",
       " [(3649, 3664), 'taking a shower', 'Abramovic-Marina_4Performances1975.mp4'],\n",
       " [(3665, 3696), 'brushing hair', 'Abramovic-Marina_4Performances1975.mp4'],\n",
       " [(3697, 3712), 'kissing', 'Abramovic-Marina_4Performances1975.mp4'],\n",
       " [(3713, 3728), 'smoking hookah', 'Abramovic-Marina_4Performances1975.mp4'],\n",
       " [(3729, 3792), 'shaking head', 'Abramovic-Marina_4Performances1975.mp4'],\n",
       " [(3793, 3808), 'beatboxing', 'Abramovic-Marina_4Performances1975.mp4'],\n",
       " [(3809, 3840), 'brushing hair', 'Abramovic-Marina_4Performances1975.mp4'],\n",
       " [(3841, 3856), 'beatboxing', 'Abramovic-Marina_4Performances1975.mp4'],\n",
       " [(3857, 3872), 'headbanging', 'Abramovic-Marina_4Performances1975.mp4'],\n",
       " [(3873, 3888), 'shaking head', 'Abramovic-Marina_4Performances1975.mp4'],\n",
       " [(3889, 3920), 'brushing hair', 'Abramovic-Marina_4Performances1975.mp4'],\n",
       " [(3921, 3936), 'fixing hair', 'Abramovic-Marina_4Performances1975.mp4'],\n",
       " [(3937, 3952), 'brushing hair', 'Abramovic-Marina_4Performances1975.mp4'],\n",
       " [(3953, 3968), 'contact juggling', 'Abramovic-Marina_4Performances1975.mp4'],\n",
       " [(3969, 4048), 'brushing hair', 'Abramovic-Marina_4Performances1975.mp4'],\n",
       " [(4049, 4096), 'fixing hair', 'Abramovic-Marina_4Performances1975.mp4'],\n",
       " [(4097, 4128), 'brushing hair', 'Abramovic-Marina_4Performances1975.mp4'],\n",
       " [(4129, 4160), 'fixing hair', 'Abramovic-Marina_4Performances1975.mp4'],\n",
       " [(4161, 4176), 'curling hair', 'Abramovic-Marina_4Performances1975.mp4'],\n",
       " [(4177, 4192), 'smoking', 'Abramovic-Marina_4Performances1975.mp4'],\n",
       " [(4193, 4208), 'fixing hair', 'Abramovic-Marina_4Performances1975.mp4'],\n",
       " [(4209, 4224), 'curling hair', 'Abramovic-Marina_4Performances1975.mp4'],\n",
       " [(4225, 4240), 'fixing hair', 'Abramovic-Marina_4Performances1975.mp4'],\n",
       " [(4241, 4256), 'brushing hair', 'Abramovic-Marina_4Performances1975.mp4'],\n",
       " [(4257, 4272), 'curling hair', 'Abramovic-Marina_4Performances1975.mp4'],\n",
       " [(4273, 4288), 'whistling', 'Abramovic-Marina_4Performances1975.mp4'],\n",
       " [(4289, 4304), 'brushing hair', 'Abramovic-Marina_4Performances1975.mp4'],\n",
       " [(4305, 4336), 'curling hair', 'Abramovic-Marina_4Performances1975.mp4'],\n",
       " [(4337, 4352), 'smoking', 'Abramovic-Marina_4Performances1975.mp4'],\n",
       " [(4353, 4368), 'brushing hair', 'Abramovic-Marina_4Performances1975.mp4'],\n",
       " [(4369, 4384), 'smoking', 'Abramovic-Marina_4Performances1975.mp4'],\n",
       " [(4385, 4416), 'brushing hair', 'Abramovic-Marina_4Performances1975.mp4'],\n",
       " [(4417, 4448), 'contact juggling', 'Abramovic-Marina_4Performances1975.mp4'],\n",
       " [(4449, 4480), 'brushing hair', 'Abramovic-Marina_4Performances1975.mp4'],\n",
       " [(4481, 4496), 'smoking', 'Abramovic-Marina_4Performances1975.mp4'],\n",
       " [(4497, 4528), 'contact juggling', 'Abramovic-Marina_4Performances1975.mp4'],\n",
       " [(4529, 4592), 'brushing hair', 'Abramovic-Marina_4Performances1975.mp4'],\n",
       " [(4593, 4608), 'whistling', 'Abramovic-Marina_4Performances1975.mp4'],\n",
       " [(4609, 4704), 'brushing hair', 'Abramovic-Marina_4Performances1975.mp4'],\n",
       " [(4705, 4720),\n",
       "  'sign language interpreting',\n",
       "  'Abramovic-Marina_4Performances1975.mp4'],\n",
       " [(4721, 4752), 'brushing hair', 'Abramovic-Marina_4Performances1975.mp4'],\n",
       " [(4753, 4784), 'fixing hair', 'Abramovic-Marina_4Performances1975.mp4'],\n",
       " [(4785, 4800), 'gargling', 'Abramovic-Marina_4Performances1975.mp4'],\n",
       " [(4801, 4816), 'brushing hair', 'Abramovic-Marina_4Performances1975.mp4'],\n",
       " [(4817, 4848), 'fixing hair', 'Abramovic-Marina_4Performances1975.mp4'],\n",
       " [(4849, 4896), 'brushing hair', 'Abramovic-Marina_4Performances1975.mp4'],\n",
       " [(4897, 4912), 'fixing hair', 'Abramovic-Marina_4Performances1975.mp4'],\n",
       " [(4913, 4976), 'brushing hair', 'Abramovic-Marina_4Performances1975.mp4'],\n",
       " [(4977, 4992), 'getting a haircut', 'Abramovic-Marina_4Performances1975.mp4'],\n",
       " [(4993, 5008), 'fixing hair', 'Abramovic-Marina_4Performances1975.mp4'],\n",
       " [(5009, 5056), 'brushing hair', 'Abramovic-Marina_4Performances1975.mp4'],\n",
       " [(5057, 5072), 'fixing hair', 'Abramovic-Marina_4Performances1975.mp4'],\n",
       " [(5073, 5104), 'brushing hair', 'Abramovic-Marina_4Performances1975.mp4'],\n",
       " [(5105, 5120),\n",
       "  \"massaging person's head\",\n",
       "  'Abramovic-Marina_4Performances1975.mp4'],\n",
       " [(5121, 5200), 'brushing hair', 'Abramovic-Marina_4Performances1975.mp4'],\n",
       " [(5201, 5216), 'applying cream', 'Abramovic-Marina_4Performances1975.mp4'],\n",
       " [(5217, 5296), 'brushing hair', 'Abramovic-Marina_4Performances1975.mp4'],\n",
       " [(5297, 5312), 'fixing hair', 'Abramovic-Marina_4Performances1975.mp4'],\n",
       " [(5313, 5456), 'brushing hair', 'Abramovic-Marina_4Performances1975.mp4'],\n",
       " [(5457, 5472), 'whistling', 'Abramovic-Marina_4Performances1975.mp4'],\n",
       " [(5473, 5504), 'brushing hair', 'Abramovic-Marina_4Performances1975.mp4'],\n",
       " [(5505, 5520), 'smoking', 'Abramovic-Marina_4Performances1975.mp4'],\n",
       " [(5521, 5600), 'brushing hair', 'Abramovic-Marina_4Performances1975.mp4'],\n",
       " [(5601, 5616), 'smoking', 'Abramovic-Marina_4Performances1975.mp4'],\n",
       " [(5617, 5664), 'brushing hair', 'Abramovic-Marina_4Performances1975.mp4'],\n",
       " [(5665, 5680), 'smoking', 'Abramovic-Marina_4Performances1975.mp4'],\n",
       " [(5681, 5712), 'brushing hair', 'Abramovic-Marina_4Performances1975.mp4'],\n",
       " [(5713, 5744), 'kissing', 'Abramovic-Marina_4Performances1975.mp4'],\n",
       " [(5745, 5760), 'smoking', 'Abramovic-Marina_4Performances1975.mp4'],\n",
       " [(5761, 5776), 'smoking hookah', 'Abramovic-Marina_4Performances1975.mp4'],\n",
       " [(5777, 5792), 'brushing hair', 'Abramovic-Marina_4Performances1975.mp4'],\n",
       " [(5793, 5808), 'kissing', 'Abramovic-Marina_4Performances1975.mp4'],\n",
       " [(5809, 5824), 'contact juggling', 'Abramovic-Marina_4Performances1975.mp4'],\n",
       " [(5825, 5840), 'kissing', 'Abramovic-Marina_4Performances1975.mp4'],\n",
       " [(5841, 5856), 'arm wrestling', 'Abramovic-Marina_4Performances1975.mp4'],\n",
       " [(5857, 5872), 'kissing', 'Abramovic-Marina_4Performances1975.mp4'],\n",
       " [(5873, 5888), 'shaving head', 'Abramovic-Marina_4Performances1975.mp4'],\n",
       " [(5889, 5904), 'kissing', 'Abramovic-Marina_4Performances1975.mp4'],\n",
       " [(5905, 5920), 'shaking head', 'Abramovic-Marina_4Performances1975.mp4'],\n",
       " [(5921, 5936), 'cracking neck', 'Abramovic-Marina_4Performances1975.mp4'],\n",
       " [(5937, 5952), 'brushing hair', 'Abramovic-Marina_4Performances1975.mp4'],\n",
       " [(5953, 5984), 'beatboxing', 'Abramovic-Marina_4Performances1975.mp4'],\n",
       " [(5985, 6016), 'brushing hair', 'Abramovic-Marina_4Performances1975.mp4'],\n",
       " [(6017, 6032), 'taking a shower', 'Abramovic-Marina_4Performances1975.mp4'],\n",
       " [(6033, 6048), 'cracking neck', 'Abramovic-Marina_4Performances1975.mp4'],\n",
       " [(6049, 6096), 'headbanging', 'Abramovic-Marina_4Performances1975.mp4'],\n",
       " [(6097, 6112), 'smoking', 'Abramovic-Marina_4Performances1975.mp4'],\n",
       " [(6113, 6128), 'brushing hair', 'Abramovic-Marina_4Performances1975.mp4'],\n",
       " [(6129, 6144), 'curling hair', 'Abramovic-Marina_4Performances1975.mp4'],\n",
       " [(6145, 6160), 'smoking', 'Abramovic-Marina_4Performances1975.mp4'],\n",
       " [(6161, 6176), 'crying', 'Abramovic-Marina_4Performances1975.mp4'],\n",
       " [(6177, 6192), 'smoking', 'Abramovic-Marina_4Performances1975.mp4'],\n",
       " [(6193, 6208), 'finger snapping', 'Abramovic-Marina_4Performances1975.mp4'],\n",
       " [(6209, 6224), 'whistling', 'Abramovic-Marina_4Performances1975.mp4'],\n",
       " [(6225, 6240), 'headbanging', 'Abramovic-Marina_4Performances1975.mp4'],\n",
       " [(6241, 6288), 'smoking', 'Abramovic-Marina_4Performances1975.mp4'],\n",
       " [(6289, 6304), 'crying', 'Abramovic-Marina_4Performances1975.mp4'],\n",
       " [(6305, 6336), 'smoking', 'Abramovic-Marina_4Performances1975.mp4'],\n",
       " [(6337, 6352), 'crying', 'Abramovic-Marina_4Performances1975.mp4'],\n",
       " [(6353, 6384), 'brushing hair', 'Abramovic-Marina_4Performances1975.mp4'],\n",
       " [(6385, 6400), 'smoking', 'Abramovic-Marina_4Performances1975.mp4'],\n",
       " [(6401, 6432), 'kissing', 'Abramovic-Marina_4Performances1975.mp4'],\n",
       " [(6433, 6448), 'whistling', 'Abramovic-Marina_4Performances1975.mp4'],\n",
       " [(6449, 6496), 'smoking', 'Abramovic-Marina_4Performances1975.mp4'],\n",
       " [(6497, 6512), 'whistling', 'Abramovic-Marina_4Performances1975.mp4'],\n",
       " [(6513, 6544), 'smoking', 'Abramovic-Marina_4Performances1975.mp4'],\n",
       " [(6545, 6560), 'kissing', 'Abramovic-Marina_4Performances1975.mp4'],\n",
       " [(6561, 6576), 'whistling', 'Abramovic-Marina_4Performances1975.mp4'],\n",
       " [(6577, 6592), 'crying', 'Abramovic-Marina_4Performances1975.mp4'],\n",
       " [(6593, 6608), 'shaving head', 'Abramovic-Marina_4Performances1975.mp4'],\n",
       " [(6609, 6624), 'smoking', 'Abramovic-Marina_4Performances1975.mp4'],\n",
       " [(6625, 6656), 'getting a haircut', 'Abramovic-Marina_4Performances1975.mp4'],\n",
       " [(6657, 6672), 'kissing', 'Abramovic-Marina_4Performances1975.mp4'],\n",
       " [(6673, 6688), 'brushing hair', 'Abramovic-Marina_4Performances1975.mp4'],\n",
       " [(6689, 6704), 'curling hair', 'Abramovic-Marina_4Performances1975.mp4'],\n",
       " [(6705, 6736), 'kissing', 'Abramovic-Marina_4Performances1975.mp4'],\n",
       " [(6737, 6768), 'contact juggling', 'Abramovic-Marina_4Performances1975.mp4'],\n",
       " [(6769, 6784), 'kissing', 'Abramovic-Marina_4Performances1975.mp4'],\n",
       " [(6785, 6800), 'smoking', 'Abramovic-Marina_4Performances1975.mp4'],\n",
       " [(6801, 6880), 'brushing hair', 'Abramovic-Marina_4Performances1975.mp4'],\n",
       " [(6881, 6960), 'smoking', 'Abramovic-Marina_4Performances1975.mp4'],\n",
       " [(6961, 6992), 'playing poker', 'Abramovic-Marina_4Performances1975.mp4'],\n",
       " [(6993, 7008), 'smoking', 'Abramovic-Marina_4Performances1975.mp4'],\n",
       " [(7009, 7024), 'brushing hair', 'Abramovic-Marina_4Performances1975.mp4'],\n",
       " [(7025, 7056), 'kissing', 'Abramovic-Marina_4Performances1975.mp4'],\n",
       " [(7057, 7072), 'contact juggling', 'Abramovic-Marina_4Performances1975.mp4'],\n",
       " [(7073, 7088), 'brushing hair', 'Abramovic-Marina_4Performances1975.mp4'],\n",
       " [(7089, 7120), 'kissing', 'Abramovic-Marina_4Performances1975.mp4'],\n",
       " [(7121, 7152), 'brushing hair', 'Abramovic-Marina_4Performances1975.mp4'],\n",
       " [(7153, 7168), 'kissing', 'Abramovic-Marina_4Performances1975.mp4'],\n",
       " [(7169, 7200), 'smoking', 'Abramovic-Marina_4Performances1975.mp4'],\n",
       " [(7201, 7216), 'kissing', 'Abramovic-Marina_4Performances1975.mp4'],\n",
       " [(7217, 7232), 'curling hair', 'Abramovic-Marina_4Performances1975.mp4'],\n",
       " [(7233, 7264), 'smoking', 'Abramovic-Marina_4Performances1975.mp4'],\n",
       " [(7265, 7280), 'kissing', 'Abramovic-Marina_4Performances1975.mp4'],\n",
       " [(7281, 7296), 'smoking', 'Abramovic-Marina_4Performances1975.mp4'],\n",
       " [(7297, 7328), 'brushing hair', 'Abramovic-Marina_4Performances1975.mp4'],\n",
       " [(7329, 7344), 'smoking', 'Abramovic-Marina_4Performances1975.mp4'],\n",
       " [(7345, 7360), 'brushing hair', 'Abramovic-Marina_4Performances1975.mp4'],\n",
       " [(7361, 7376), 'smoking', 'Abramovic-Marina_4Performances1975.mp4'],\n",
       " [(7377, 7392), 'contact juggling', 'Abramovic-Marina_4Performances1975.mp4'],\n",
       " [(7393, 7408), 'brushing hair', 'Abramovic-Marina_4Performances1975.mp4'],\n",
       " [(7409, 7424), 'kissing', 'Abramovic-Marina_4Performances1975.mp4'],\n",
       " [(7425, 7456), 'taking a shower', 'Abramovic-Marina_4Performances1975.mp4'],\n",
       " [(7457, 7488), 'kissing', 'Abramovic-Marina_4Performances1975.mp4'],\n",
       " [(7489, 7504), 'taking a shower', 'Abramovic-Marina_4Performances1975.mp4'],\n",
       " [(7505, 7520), 'tapping pen', 'Abramovic-Marina_4Performances1975.mp4'],\n",
       " [(7521, 7536), 'taking a shower', 'Abramovic-Marina_4Performances1975.mp4'],\n",
       " [(7537, 7552), 'beatboxing', 'Abramovic-Marina_4Performances1975.mp4'],\n",
       " [(7553, 7568), 'taking a shower', 'Abramovic-Marina_4Performances1975.mp4'],\n",
       " [(7569, 7584), 'cracking neck', 'Abramovic-Marina_4Performances1975.mp4'],\n",
       " [(7585, 7600), 'smoking', 'Abramovic-Marina_4Performances1975.mp4'],\n",
       " [(7601, 7616), 'brushing hair', 'Abramovic-Marina_4Performances1975.mp4'],\n",
       " [(7617, 7632), 'smoking', 'Abramovic-Marina_4Performances1975.mp4'],\n",
       " [(7633, 7648),\n",
       "  \"massaging person's head\",\n",
       "  'Abramovic-Marina_4Performances1975.mp4'],\n",
       " [(7649, 7664), 'beatboxing', 'Abramovic-Marina_4Performances1975.mp4'],\n",
       " [(7665, 7712), 'smoking', 'Abramovic-Marina_4Performances1975.mp4'],\n",
       " [(7713, 7728), 'contact juggling', 'Abramovic-Marina_4Performances1975.mp4'],\n",
       " [(7729, 7744), 'smoking', 'Abramovic-Marina_4Performances1975.mp4'],\n",
       " [(7745, 7856), 'kissing', 'Abramovic-Marina_4Performances1975.mp4'],\n",
       " [(7857, 7872), 'whistling', 'Abramovic-Marina_4Performances1975.mp4'],\n",
       " [(7873, 7888), 'smoking', 'Abramovic-Marina_4Performances1975.mp4'],\n",
       " [(7889, 7904), 'eating chips', 'Abramovic-Marina_4Performances1975.mp4'],\n",
       " [(7905, 7920), 'brushing hair', 'Abramovic-Marina_4Performances1975.mp4'],\n",
       " [(7921, 7952), 'smoking', 'Abramovic-Marina_4Performances1975.mp4'],\n",
       " [(7953, 7968), 'playing chess', 'Abramovic-Marina_4Performances1975.mp4'],\n",
       " [(7969, 8000), 'brushing hair', 'Abramovic-Marina_4Performances1975.mp4'],\n",
       " [(8001, 8016), 'curling hair', 'Abramovic-Marina_4Performances1975.mp4'],\n",
       " [(8017, 8032), 'whistling', 'Abramovic-Marina_4Performances1975.mp4'],\n",
       " [(8033, 8048), 'shaving head', 'Abramovic-Marina_4Performances1975.mp4'],\n",
       " [(8049, 8064), 'fixing hair', 'Abramovic-Marina_4Performances1975.mp4'],\n",
       " [(8065, 8096), 'smoking', 'Abramovic-Marina_4Performances1975.mp4'],\n",
       " [(8097, 8112), 'brushing hair', 'Abramovic-Marina_4Performances1975.mp4'],\n",
       " [(8113, 8128), 'whistling', 'Abramovic-Marina_4Performances1975.mp4'],\n",
       " [(8129, 8176), 'brushing hair', 'Abramovic-Marina_4Performances1975.mp4'],\n",
       " [(8177, 8192), 'smoking', 'Abramovic-Marina_4Performances1975.mp4'],\n",
       " [(8193, 8208), 'curling hair', 'Abramovic-Marina_4Performances1975.mp4'],\n",
       " [(8209, 8224), 'smoking', 'Abramovic-Marina_4Performances1975.mp4'],\n",
       " [(8225, 8240), 'curling hair', 'Abramovic-Marina_4Performances1975.mp4'],\n",
       " [(8241, 8288), 'brushing hair', 'Abramovic-Marina_4Performances1975.mp4'],\n",
       " [(8289, 8336), 'kissing', 'Abramovic-Marina_4Performances1975.mp4'],\n",
       " [(8337, 8384), 'brushing hair', 'Abramovic-Marina_4Performances1975.mp4'],\n",
       " [(8385, 8400), 'kissing', 'Abramovic-Marina_4Performances1975.mp4'],\n",
       " [(8401, 8432),\n",
       "  \"massaging person's head\",\n",
       "  'Abramovic-Marina_4Performances1975.mp4'],\n",
       " [(8433, 8480), 'kissing', 'Abramovic-Marina_4Performances1975.mp4'],\n",
       " [(8481, 8544), 'smoking', 'Abramovic-Marina_4Performances1975.mp4'],\n",
       " [(8545, 8560), 'kissing', 'Abramovic-Marina_4Performances1975.mp4'],\n",
       " [(8561, 8576), 'playing poker', 'Abramovic-Marina_4Performances1975.mp4'],\n",
       " [(8577, 8608), 'smoking', 'Abramovic-Marina_4Performances1975.mp4'],\n",
       " [(8609, 8624), 'brushing hair', 'Abramovic-Marina_4Performances1975.mp4'],\n",
       " [(8625, 8640), 'smoking', 'Abramovic-Marina_4Performances1975.mp4'],\n",
       " [(8641, 8672), 'kissing', 'Abramovic-Marina_4Performances1975.mp4'],\n",
       " [(8673, 8704), 'smoking', 'Abramovic-Marina_4Performances1975.mp4'],\n",
       " [(8705, 8720), 'crying', 'Abramovic-Marina_4Performances1975.mp4'],\n",
       " [(8721, 8784), 'kissing', 'Abramovic-Marina_4Performances1975.mp4'],\n",
       " [(8785, 8800), 'smoking', 'Abramovic-Marina_4Performances1975.mp4'],\n",
       " [(8801, 8816), 'kissing', 'Abramovic-Marina_4Performances1975.mp4'],\n",
       " [(8817, 8832), 'playing poker', 'Abramovic-Marina_4Performances1975.mp4'],\n",
       " [(8833, 8848), 'smoking', 'Abramovic-Marina_4Performances1975.mp4'],\n",
       " [(8849, 8864), 'getting a haircut', 'Abramovic-Marina_4Performances1975.mp4'],\n",
       " [(8865, 8880), 'brushing hair', 'Abramovic-Marina_4Performances1975.mp4'],\n",
       " [(8881, 8912), 'kissing', 'Abramovic-Marina_4Performances1975.mp4'],\n",
       " [(8913, 8928), 'getting a haircut', 'Abramovic-Marina_4Performances1975.mp4'],\n",
       " [(8929, 8944), 'shuffling cards', 'Abramovic-Marina_4Performances1975.mp4'],\n",
       " [(8945, 8960), 'kissing', 'Abramovic-Marina_4Performances1975.mp4'],\n",
       " [(8961, 8976), 'smoking hookah', 'Abramovic-Marina_4Performances1975.mp4'],\n",
       " [(8977, 8992), 'smoking', 'Abramovic-Marina_4Performances1975.mp4'],\n",
       " [(8993, 9024), 'kissing', 'Abramovic-Marina_4Performances1975.mp4'],\n",
       " [(9025, 9040), 'smoking', 'Abramovic-Marina_4Performances1975.mp4'],\n",
       " [(9041, 9056),\n",
       "  'trimming or shaving beard',\n",
       "  'Abramovic-Marina_4Performances1975.mp4'],\n",
       " [(9057, 9072), 'kissing', 'Abramovic-Marina_4Performances1975.mp4'],\n",
       " [(9073, 9088), 'smoking', 'Abramovic-Marina_4Performances1975.mp4'],\n",
       " [(9089, 9104), 'getting a haircut', 'Abramovic-Marina_4Performances1975.mp4'],\n",
       " [(9105, 9120), 'brushing hair', 'Abramovic-Marina_4Performances1975.mp4'],\n",
       " [(9121, 9136), 'smoking', 'Abramovic-Marina_4Performances1975.mp4'],\n",
       " [(9137, 9152), 'beatboxing', 'Abramovic-Marina_4Performances1975.mp4'],\n",
       " [(9153, 9168), 'contact juggling', 'Abramovic-Marina_4Performances1975.mp4'],\n",
       " [(9169, 9184), 'shaving head', 'Abramovic-Marina_4Performances1975.mp4'],\n",
       " [(9185, 9200), 'brushing hair', 'Abramovic-Marina_4Performances1975.mp4'],\n",
       " [(9201, 9216), 'smoking', 'Abramovic-Marina_4Performances1975.mp4'],\n",
       " [(9217, 9248), 'kissing', 'Abramovic-Marina_4Performances1975.mp4'],\n",
       " [(9249, 9280), 'smoking', 'Abramovic-Marina_4Performances1975.mp4'],\n",
       " [(9281, 9296),\n",
       "  \"massaging person's head\",\n",
       "  'Abramovic-Marina_4Performances1975.mp4'],\n",
       " [(9297, 9312), 'kissing', 'Abramovic-Marina_4Performances1975.mp4'],\n",
       " [(9313, 9328), 'brushing hair', 'Abramovic-Marina_4Performances1975.mp4'],\n",
       " [(9329, 9344), 'smoking', 'Abramovic-Marina_4Performances1975.mp4'],\n",
       " [(9345, 9360), 'curling hair', 'Abramovic-Marina_4Performances1975.mp4'],\n",
       " [(9361, 9392), 'kissing', 'Abramovic-Marina_4Performances1975.mp4'],\n",
       " [(9393, 9408), 'smoking', 'Abramovic-Marina_4Performances1975.mp4'],\n",
       " [(9409, 9424), 'kissing', 'Abramovic-Marina_4Performances1975.mp4'],\n",
       " [(9425, 9440), 'smoking', 'Abramovic-Marina_4Performances1975.mp4'],\n",
       " [(9441, 9472), 'crying', 'Abramovic-Marina_4Performances1975.mp4'],\n",
       " [(9473, 9488), 'smoking', 'Abramovic-Marina_4Performances1975.mp4'],\n",
       " [(9489, 9504), 'brushing hair', 'Abramovic-Marina_4Performances1975.mp4'],\n",
       " [(9505, 9520), 'smoking', 'Abramovic-Marina_4Performances1975.mp4'],\n",
       " [(9521, 9536), 'curling hair', 'Abramovic-Marina_4Performances1975.mp4'],\n",
       " [(9537, 9680), 'smoking', 'Abramovic-Marina_4Performances1975.mp4'],\n",
       " [(9681, 9696), 'whistling', 'Abramovic-Marina_4Performances1975.mp4'],\n",
       " [(9697, 9712), 'shaving head', 'Abramovic-Marina_4Performances1975.mp4'],\n",
       " [(9713, 9728), 'whistling', 'Abramovic-Marina_4Performances1975.mp4'],\n",
       " [(9729, 9872), 'smoking', 'Abramovic-Marina_4Performances1975.mp4'],\n",
       " [(9873, 9888), 'smoking hookah', 'Abramovic-Marina_4Performances1975.mp4'],\n",
       " [(9889, 9904), 'getting a haircut', 'Abramovic-Marina_4Performances1975.mp4'],\n",
       " [(9905, 9920), 'smoking', 'Abramovic-Marina_4Performances1975.mp4'],\n",
       " [(9921, 9936), 'playing chess', 'Abramovic-Marina_4Performances1975.mp4'],\n",
       " [(9937, 9952), 'getting a haircut', 'Abramovic-Marina_4Performances1975.mp4'],\n",
       " [(9953, 9968), 'smoking', 'Abramovic-Marina_4Performances1975.mp4'],\n",
       " [(9969, 9984), 'whistling', 'Abramovic-Marina_4Performances1975.mp4'],\n",
       " [(9985, 10000), 'brushing hair', 'Abramovic-Marina_4Performances1975.mp4'],\n",
       " [(10001, 10032), 'smoking', 'Abramovic-Marina_4Performances1975.mp4'],\n",
       " [(10033, 10048), 'brushing hair', 'Abramovic-Marina_4Performances1975.mp4'],\n",
       " [(10049, 10064),\n",
       "  'getting a haircut',\n",
       "  'Abramovic-Marina_4Performances1975.mp4'],\n",
       " [(10065, 10096), 'smoking hookah', 'Abramovic-Marina_4Performances1975.mp4'],\n",
       " [(10097, 10112), 'brushing hair', 'Abramovic-Marina_4Performances1975.mp4'],\n",
       " [(10113, 10144), 'finger snapping', 'Abramovic-Marina_4Performances1975.mp4'],\n",
       " [(10145, 10160), 'beatboxing', 'Abramovic-Marina_4Performances1975.mp4'],\n",
       " [(10161, 10192), 'fixing hair', 'Abramovic-Marina_4Performances1975.mp4'],\n",
       " [(10193, 10208), 'brushing hair', 'Abramovic-Marina_4Performances1975.mp4'],\n",
       " [(10209, 10224), 'smoking', 'Abramovic-Marina_4Performances1975.mp4'],\n",
       " [(10225, 10240), 'brushing hair', 'Abramovic-Marina_4Performances1975.mp4'],\n",
       " [(10241, 10256),\n",
       "  'trimming or shaving beard',\n",
       "  'Abramovic-Marina_4Performances1975.mp4'],\n",
       " [(10257, 10288), 'brushing hair', 'Abramovic-Marina_4Performances1975.mp4'],\n",
       " [(10289, 10304), 'fixing hair', 'Abramovic-Marina_4Performances1975.mp4'],\n",
       " [(10305, 10352), 'brushing hair', 'Abramovic-Marina_4Performances1975.mp4'],\n",
       " [(10353, 10368), 'fixing hair', 'Abramovic-Marina_4Performances1975.mp4'],\n",
       " [(10369, 10384), 'brushing hair', 'Abramovic-Marina_4Performances1975.mp4'],\n",
       " [(10385, 10400), 'fixing hair', 'Abramovic-Marina_4Performances1975.mp4'],\n",
       " [(10401, 10416), 'shaking head', 'Abramovic-Marina_4Performances1975.mp4'],\n",
       " [(10417, 10432),\n",
       "  'contact juggling',\n",
       "  'Abramovic-Marina_4Performances1975.mp4'],\n",
       " [(10433, 10448), 'beatboxing', 'Abramovic-Marina_4Performances1975.mp4'],\n",
       " [(10449, 10464), 'fixing hair', 'Abramovic-Marina_4Performances1975.mp4'],\n",
       " [(10465, 10480), 'whistling', 'Abramovic-Marina_4Performances1975.mp4'],\n",
       " [(10481, 10496), 'beatboxing', 'Abramovic-Marina_4Performances1975.mp4'],\n",
       " [(10497, 10512), 'finger snapping', 'Abramovic-Marina_4Performances1975.mp4'],\n",
       " [(10513, 10528), 'brushing hair', 'Abramovic-Marina_4Performances1975.mp4'],\n",
       " [(10529, 10544), 'whistling', 'Abramovic-Marina_4Performances1975.mp4'],\n",
       " [(10545, 10576), 'smoking', 'Abramovic-Marina_4Performances1975.mp4'],\n",
       " [(10577, 10592), 'whistling', 'Abramovic-Marina_4Performances1975.mp4'],\n",
       " [(10593, 10608), 'brushing hair', 'Abramovic-Marina_4Performances1975.mp4'],\n",
       " [(10609, 10624), 'smoking', 'Abramovic-Marina_4Performances1975.mp4'],\n",
       " [(10625, 10656), 'brushing hair', 'Abramovic-Marina_4Performances1975.mp4'],\n",
       " [(10657, 10704), 'whistling', 'Abramovic-Marina_4Performances1975.mp4'],\n",
       " [(10705, 10736), 'brushing hair', 'Abramovic-Marina_4Performances1975.mp4'],\n",
       " [(10737, 10752), 'smoking hookah', 'Abramovic-Marina_4Performances1975.mp4'],\n",
       " [(10753, 10768), 'whistling', 'Abramovic-Marina_4Performances1975.mp4'],\n",
       " [(10769, 10784), 'brushing hair', 'Abramovic-Marina_4Performances1975.mp4'],\n",
       " [(10785, 10800), 'playing cello', 'Abramovic-Marina_4Performances1975.mp4'],\n",
       " [(10801, 10832), 'smoking', 'Abramovic-Marina_4Performances1975.mp4'],\n",
       " [(10833, 11072), 'brushing hair', 'Abramovic-Marina_4Performances1975.mp4'],\n",
       " [(11073, 11088), 'whistling', 'Abramovic-Marina_4Performances1975.mp4'],\n",
       " [(11089, 11104), 'smoking', 'Abramovic-Marina_4Performances1975.mp4'],\n",
       " [(11105, 11120), 'brushing hair', 'Abramovic-Marina_4Performances1975.mp4'],\n",
       " [(11121, 11136), 'whistling', 'Abramovic-Marina_4Performances1975.mp4'],\n",
       " [(11137, 11152), 'brushing hair', 'Abramovic-Marina_4Performances1975.mp4'],\n",
       " [(11153, 11168), 'smoking', 'Abramovic-Marina_4Performances1975.mp4'],\n",
       " [(11169, 11184),\n",
       "  \"massaging person's head\",\n",
       "  'Abramovic-Marina_4Performances1975.mp4'],\n",
       " [(11185, 11216), 'kissing', 'Abramovic-Marina_4Performances1975.mp4'],\n",
       " [(11217, 11232), 'cracking neck', 'Abramovic-Marina_4Performances1975.mp4'],\n",
       " [(11233, 11264), 'smoking', 'Abramovic-Marina_4Performances1975.mp4'],\n",
       " [(11265, 11280),\n",
       "  'contact juggling',\n",
       "  'Abramovic-Marina_4Performances1975.mp4'],\n",
       " [(11281, 11392), 'brushing hair', 'Abramovic-Marina_4Performances1975.mp4'],\n",
       " [(11393, 11408),\n",
       "  \"massaging person's head\",\n",
       "  'Abramovic-Marina_4Performances1975.mp4'],\n",
       " [(11409, 11424), 'smoking hookah', 'Abramovic-Marina_4Performances1975.mp4'],\n",
       " [(11425, 11440), 'brushing hair', 'Abramovic-Marina_4Performances1975.mp4'],\n",
       " [(11441, 11456), 'gargling', 'Abramovic-Marina_4Performances1975.mp4'],\n",
       " [(11457, 11472), 'curling hair', 'Abramovic-Marina_4Performances1975.mp4'],\n",
       " [(11473, 11488),\n",
       "  'contact juggling',\n",
       "  'Abramovic-Marina_4Performances1975.mp4'],\n",
       " [(11489, 11504), 'brushing hair', 'Abramovic-Marina_4Performances1975.mp4'],\n",
       " [(11505, 11520), 'gargling', 'Abramovic-Marina_4Performances1975.mp4'],\n",
       " [(11521, 11536),\n",
       "  'playing recorder',\n",
       "  'Abramovic-Marina_4Performances1975.mp4'],\n",
       " [(11537, 11552), 'brushing hair', 'Abramovic-Marina_4Performances1975.mp4'],\n",
       " [(11553, 11568), 'beatboxing', 'Abramovic-Marina_4Performances1975.mp4'],\n",
       " [(11569, 11584), 'cracking neck', 'Abramovic-Marina_4Performances1975.mp4'],\n",
       " [(11585, 11600), 'brushing hair', 'Abramovic-Marina_4Performances1975.mp4'],\n",
       " [(11601, 11616), 'beatboxing', 'Abramovic-Marina_4Performances1975.mp4'],\n",
       " [(11617, 11648), 'brushing hair', 'Abramovic-Marina_4Performances1975.mp4'],\n",
       " [(11649, 11664), 'finger snapping', 'Abramovic-Marina_4Performances1975.mp4'],\n",
       " [(11665, 11680), 'brushing hair', 'Abramovic-Marina_4Performances1975.mp4'],\n",
       " [(11681, 11696), 'smoking', 'Abramovic-Marina_4Performances1975.mp4'],\n",
       " [(11697, 11712), 'brushing hair', 'Abramovic-Marina_4Performances1975.mp4'],\n",
       " [(11713, 11728), 'whistling', 'Abramovic-Marina_4Performances1975.mp4'],\n",
       " [(11729, 11744), 'smoking', 'Abramovic-Marina_4Performances1975.mp4'],\n",
       " [(11745, 11760), 'whistling', 'Abramovic-Marina_4Performances1975.mp4'],\n",
       " [(11761, 11792), 'smoking', 'Abramovic-Marina_4Performances1975.mp4'],\n",
       " [(11793, 11808), 'brushing hair', 'Abramovic-Marina_4Performances1975.mp4'],\n",
       " [(11809, 11824), 'smoking', 'Abramovic-Marina_4Performances1975.mp4'],\n",
       " [(11825, 11856), 'brushing hair', 'Abramovic-Marina_4Performances1975.mp4'],\n",
       " [(11857, 11872), 'finger snapping', 'Abramovic-Marina_4Performances1975.mp4'],\n",
       " [(11873, 11920), 'brushing hair', 'Abramovic-Marina_4Performances1975.mp4'],\n",
       " [(11921, 11936), 'finger snapping', 'Abramovic-Marina_4Performances1975.mp4'],\n",
       " [(11937, 11984), 'brushing hair', 'Abramovic-Marina_4Performances1975.mp4'],\n",
       " [(11985, 12000), 'headbanging', 'Abramovic-Marina_4Performances1975.mp4'],\n",
       " [(12001, 12016), 'brushing hair', 'Abramovic-Marina_4Performances1975.mp4'],\n",
       " [(12017, 12032), 'spinning poi', 'Abramovic-Marina_4Performances1975.mp4'],\n",
       " [(12033, 12048),\n",
       "  'contact juggling',\n",
       "  'Abramovic-Marina_4Performances1975.mp4'],\n",
       " [(12049, 12080), 'headbanging', 'Abramovic-Marina_4Performances1975.mp4'],\n",
       " [(12081, 12096),\n",
       "  'contact juggling',\n",
       "  'Abramovic-Marina_4Performances1975.mp4'],\n",
       " [(12097, 12128), 'headbanging', 'Abramovic-Marina_4Performances1975.mp4'],\n",
       " [(12129, 12144),\n",
       "  'contact juggling',\n",
       "  'Abramovic-Marina_4Performances1975.mp4'],\n",
       " [(12145, 12160), 'front raises', 'Abramovic-Marina_4Performances1975.mp4'],\n",
       " [(12161, 12176), 'stretching arm', 'Abramovic-Marina_4Performances1975.mp4'],\n",
       " [(12177, 12192), 'spinning poi', 'Abramovic-Marina_4Performances1975.mp4'],\n",
       " [(12193, 12208), 'stretching arm', 'Abramovic-Marina_4Performances1975.mp4'],\n",
       " [(12209, 12224),\n",
       "  'contact juggling',\n",
       "  'Abramovic-Marina_4Performances1975.mp4'],\n",
       " [(12225, 12240),\n",
       "  'sign language interpreting',\n",
       "  'Abramovic-Marina_4Performances1975.mp4'],\n",
       " [(12241, 12256), 'stretching arm', 'Abramovic-Marina_4Performances1975.mp4'],\n",
       " [(12257, 12336), 'headbanging', 'Abramovic-Marina_4Performances1975.mp4'],\n",
       " [(12337, 12352), 'taking a shower', 'Abramovic-Marina_4Performances1975.mp4'],\n",
       " [(12353, 12368), 'headbanging', 'Abramovic-Marina_4Performances1975.mp4'],\n",
       " [(12369, 12384), 'shining shoes', 'Abramovic-Marina_4Performances1975.mp4'],\n",
       " [(12385, 12400), 'smoking hookah', 'Abramovic-Marina_4Performances1975.mp4'],\n",
       " [(12401, 12560), 'smoking', 'Abramovic-Marina_4Performances1975.mp4'],\n",
       " [(12561, 12592), 'kissing', 'Abramovic-Marina_4Performances1975.mp4'],\n",
       " [(12593, 12608), 'playing poker', 'Abramovic-Marina_4Performances1975.mp4'],\n",
       " [(12609, 12624), 'smoking', 'Abramovic-Marina_4Performances1975.mp4'],\n",
       " [(12625, 12640), 'playing poker', 'Abramovic-Marina_4Performances1975.mp4'],\n",
       " [(12641, 12656),\n",
       "  'contact juggling',\n",
       "  'Abramovic-Marina_4Performances1975.mp4'],\n",
       " [(12657, 12704), 'smoking', 'Abramovic-Marina_4Performances1975.mp4'],\n",
       " [(12705, 12720), 'playing poker', 'Abramovic-Marina_4Performances1975.mp4'],\n",
       " [(12721, 12736), 'smoking', 'Abramovic-Marina_4Performances1975.mp4'],\n",
       " [(12737, 12752),\n",
       "  'contact juggling',\n",
       "  'Abramovic-Marina_4Performances1975.mp4'],\n",
       " [(12753, 12784), 'kissing', 'Abramovic-Marina_4Performances1975.mp4'],\n",
       " [(12785, 12800), 'playing poker', 'Abramovic-Marina_4Performances1975.mp4'],\n",
       " [(12801, 12816), 'kissing', 'Abramovic-Marina_4Performances1975.mp4'],\n",
       " [(12817, 12848), 'smoking', 'Abramovic-Marina_4Performances1975.mp4'],\n",
       " [(12849, 12896), 'brushing hair', 'Abramovic-Marina_4Performances1975.mp4'],\n",
       " [(12897, 12912), 'shaving head', 'Abramovic-Marina_4Performances1975.mp4'],\n",
       " [(12913, 12928), 'smoking', 'Abramovic-Marina_4Performances1975.mp4'],\n",
       " [(12929, 12944), 'shaving head', 'Abramovic-Marina_4Performances1975.mp4'],\n",
       " [(12945, 12976), 'brushing hair', 'Abramovic-Marina_4Performances1975.mp4'],\n",
       " [(12977, 12992),\n",
       "  'sign language interpreting',\n",
       "  'Abramovic-Marina_4Performances1975.mp4'],\n",
       " [(12993, 13008), 'brushing hair', 'Abramovic-Marina_4Performances1975.mp4'],\n",
       " [(13009, 13024), 'fixing hair', 'Abramovic-Marina_4Performances1975.mp4'],\n",
       " [(13025, 13040), 'shaving head', 'Abramovic-Marina_4Performances1975.mp4'],\n",
       " [(13041, 13072),\n",
       "  \"massaging person's head\",\n",
       "  'Abramovic-Marina_4Performances1975.mp4'],\n",
       " [(13073, 13120), 'fixing hair', 'Abramovic-Marina_4Performances1975.mp4'],\n",
       " [(13121, 13152), 'curling hair', 'Abramovic-Marina_4Performances1975.mp4'],\n",
       " [(13153, 13168), 'brushing hair', 'Abramovic-Marina_4Performances1975.mp4'],\n",
       " [(13169, 13216), 'fixing hair', 'Abramovic-Marina_4Performances1975.mp4'],\n",
       " [(13217, 13232), 'brushing hair', 'Abramovic-Marina_4Performances1975.mp4'],\n",
       " [(13233, 13280), 'washing hair', 'Abramovic-Marina_4Performances1975.mp4'],\n",
       " [(13281, 13472), 'fixing hair', 'Abramovic-Marina_4Performances1975.mp4'],\n",
       " [(13473, 13488), 'curling hair', 'Abramovic-Marina_4Performances1975.mp4'],\n",
       " [(13489, 13504), 'fixing hair', 'Abramovic-Marina_4Performances1975.mp4'],\n",
       " [(13505, 13520),\n",
       "  \"massaging person's head\",\n",
       "  'Abramovic-Marina_4Performances1975.mp4'],\n",
       " [(13521, 13536), 'fixing hair', 'Abramovic-Marina_4Performances1975.mp4'],\n",
       " [(13537, 13552), 'curling hair', 'Abramovic-Marina_4Performances1975.mp4'],\n",
       " [(13553, 13568), 'fixing hair', 'Abramovic-Marina_4Performances1975.mp4'],\n",
       " [(13569, 13600), 'smoking', 'Abramovic-Marina_4Performances1975.mp4'],\n",
       " [(13601, 13632), 'fixing hair', 'Abramovic-Marina_4Performances1975.mp4'],\n",
       " [(13633, 13664),\n",
       "  \"massaging person's head\",\n",
       "  'Abramovic-Marina_4Performances1975.mp4'],\n",
       " [(13665, 13680), 'brushing hair', 'Abramovic-Marina_4Performances1975.mp4'],\n",
       " [(13681, 13712), 'curling hair', 'Abramovic-Marina_4Performances1975.mp4'],\n",
       " [(13713, 13728), 'brushing hair', 'Abramovic-Marina_4Performances1975.mp4'],\n",
       " [(13729, 13776), 'curling hair', 'Abramovic-Marina_4Performances1975.mp4'],\n",
       " [(13777, 13792),\n",
       "  \"massaging person's head\",\n",
       "  'Abramovic-Marina_4Performances1975.mp4'],\n",
       " [(13793, 13824), 'curling hair', 'Abramovic-Marina_4Performances1975.mp4'],\n",
       " [(13825, 13840), 'fixing hair', 'Abramovic-Marina_4Performances1975.mp4'],\n",
       " [(13841, 13856), 'brushing hair', 'Abramovic-Marina_4Performances1975.mp4'],\n",
       " [(13857, 13904), 'curling hair', 'Abramovic-Marina_4Performances1975.mp4'],\n",
       " [(13905, 13920), 'fixing hair', 'Abramovic-Marina_4Performances1975.mp4'],\n",
       " [(13921, 14000), 'curling hair', 'Abramovic-Marina_4Performances1975.mp4'],\n",
       " [(14001, 14016),\n",
       "  \"massaging person's head\",\n",
       "  'Abramovic-Marina_4Performances1975.mp4'],\n",
       " [(14017, 14080), 'curling hair', 'Abramovic-Marina_4Performances1975.mp4'],\n",
       " [(14081, 14096), 'fixing hair', 'Abramovic-Marina_4Performances1975.mp4'],\n",
       " [(14097, 14176), 'curling hair', 'Abramovic-Marina_4Performances1975.mp4'],\n",
       " [(14177, 14192), 'brushing hair', 'Abramovic-Marina_4Performances1975.mp4'],\n",
       " [(14193, 14208), 'finger snapping', 'Abramovic-Marina_4Performances1975.mp4'],\n",
       " [(14209, 14224), 'smoking', 'Abramovic-Marina_4Performances1975.mp4'],\n",
       " [(14225, 14240), 'beatboxing', 'Abramovic-Marina_4Performances1975.mp4'],\n",
       " [(14241, 14256),\n",
       "  'contact juggling',\n",
       "  'Abramovic-Marina_4Performances1975.mp4'],\n",
       " [(14257, 14272), 'headbanging', 'Abramovic-Marina_4Performances1975.mp4'],\n",
       " [(14273, 14288), 'finger snapping', 'Abramovic-Marina_4Performances1975.mp4'],\n",
       " [(14289, 14304),\n",
       "  'contact juggling',\n",
       "  'Abramovic-Marina_4Performances1975.mp4'],\n",
       " [(14305, 14336), 'finger snapping', 'Abramovic-Marina_4Performances1975.mp4'],\n",
       " [(14337, 14368), 'brushing hair', 'Abramovic-Marina_4Performances1975.mp4'],\n",
       " [(14369, 14384),\n",
       "  'sign language interpreting',\n",
       "  'Abramovic-Marina_4Performances1975.mp4'],\n",
       " [(14385, 14400), 'brushing hair', 'Abramovic-Marina_4Performances1975.mp4'],\n",
       " [(14401, 14416), 'fixing hair', 'Abramovic-Marina_4Performances1975.mp4'],\n",
       " [(14417, 14432),\n",
       "  \"massaging person's head\",\n",
       "  'Abramovic-Marina_4Performances1975.mp4'],\n",
       " [(14433, 14448), 'fixing hair', 'Abramovic-Marina_4Performances1975.mp4'],\n",
       " [(14449, 14464),\n",
       "  'contact juggling',\n",
       "  'Abramovic-Marina_4Performances1975.mp4'],\n",
       " [(14465, 14480), 'brushing hair', 'Abramovic-Marina_4Performances1975.mp4'],\n",
       " [(14481, 14512),\n",
       "  'getting a haircut',\n",
       "  'Abramovic-Marina_4Performances1975.mp4'],\n",
       " [(14513, 14528), 'shaving head', 'Abramovic-Marina_4Performances1975.mp4'],\n",
       " [(14529, 14544), 'curling hair', 'Abramovic-Marina_4Performances1975.mp4'],\n",
       " [(14545, 14576), 'kissing', 'Abramovic-Marina_4Performances1975.mp4'],\n",
       " [(14577, 14592), 'shaving head', 'Abramovic-Marina_4Performances1975.mp4'],\n",
       " [(14593, 14608), 'kissing', 'Abramovic-Marina_4Performances1975.mp4'],\n",
       " [(14609, 14640),\n",
       "  \"massaging person's head\",\n",
       "  'Abramovic-Marina_4Performances1975.mp4'],\n",
       " [(14641, 14688), 'brushing hair', 'Abramovic-Marina_4Performances1975.mp4'],\n",
       " [(14689, 14704), 'finger snapping', 'Abramovic-Marina_4Performances1975.mp4'],\n",
       " [(14705, 14752), 'brushing hair', 'Abramovic-Marina_4Performances1975.mp4'],\n",
       " [(14753, 14768), 'smoking', 'Abramovic-Marina_4Performances1975.mp4'],\n",
       " [(14769, 14784), 'applying cream', 'Abramovic-Marina_4Performances1975.mp4'],\n",
       " [(14785, 14832), 'brushing hair', 'Abramovic-Marina_4Performances1975.mp4'],\n",
       " [(14833, 14848), 'fixing hair', 'Abramovic-Marina_4Performances1975.mp4'],\n",
       " [(14849, 14896), 'brushing hair', 'Abramovic-Marina_4Performances1975.mp4'],\n",
       " [(14897, 14912), 'shaving head', 'Abramovic-Marina_4Performances1975.mp4'],\n",
       " [(14913, 14944), 'kissing', 'Abramovic-Marina_4Performances1975.mp4'],\n",
       " [(14945, 14960),\n",
       "  \"massaging person's head\",\n",
       "  'Abramovic-Marina_4Performances1975.mp4'],\n",
       " [(14961, 14992),\n",
       "  'contact juggling',\n",
       "  'Abramovic-Marina_4Performances1975.mp4'],\n",
       " [(14993, 15008), 'smoking', 'Abramovic-Marina_4Performances1975.mp4'],\n",
       " [(15009, 15072), 'brushing hair', 'Abramovic-Marina_4Performances1975.mp4'],\n",
       " [(15073, 15088),\n",
       "  'contact juggling',\n",
       "  'Abramovic-Marina_4Performances1975.mp4'],\n",
       " [(15089, 15104), 'smoking', 'Abramovic-Marina_4Performances1975.mp4'],\n",
       " [(15105, 15136), 'fixing hair', 'Abramovic-Marina_4Performances1975.mp4'],\n",
       " [(15137, 15152), 'cracking neck', 'Abramovic-Marina_4Performances1975.mp4'],\n",
       " [(15153, 15168), 'shaving head', 'Abramovic-Marina_4Performances1975.mp4'],\n",
       " [(15169, 15200), 'fixing hair', 'Abramovic-Marina_4Performances1975.mp4'],\n",
       " [(15201, 15216),\n",
       "  'contact juggling',\n",
       "  'Abramovic-Marina_4Performances1975.mp4'],\n",
       " [(15217, 15232), 'brushing hair', 'Abramovic-Marina_4Performances1975.mp4'],\n",
       " [(15233, 15248), 'cracking neck', 'Abramovic-Marina_4Performances1975.mp4'],\n",
       " [(15249, 15264), 'taking a shower', 'Abramovic-Marina_4Performances1975.mp4'],\n",
       " [(15265, 15280), 'brushing hair', 'Abramovic-Marina_4Performances1975.mp4'],\n",
       " [(15281, 15296),\n",
       "  \"massaging person's head\",\n",
       "  'Abramovic-Marina_4Performances1975.mp4'],\n",
       " [(15297, 15312), 'curling hair', 'Abramovic-Marina_4Performances1975.mp4'],\n",
       " [(15313, 15328), 'cracking neck', 'Abramovic-Marina_4Performances1975.mp4'],\n",
       " [(15329, 15360), 'brushing hair', 'Abramovic-Marina_4Performances1975.mp4'],\n",
       " [(15361, 15376), 'washing hair', 'Abramovic-Marina_4Performances1975.mp4'],\n",
       " [(15377, 15392), 'fixing hair', 'Abramovic-Marina_4Performances1975.mp4'],\n",
       " [(15393, 15504), 'brushing hair', 'Abramovic-Marina_4Performances1975.mp4'],\n",
       " [(15505, 15520),\n",
       "  'contact juggling',\n",
       "  'Abramovic-Marina_4Performances1975.mp4'],\n",
       " [(15521, 15536), 'cracking neck', 'Abramovic-Marina_4Performances1975.mp4'],\n",
       " [(15537, 15552), 'brushing hair', 'Abramovic-Marina_4Performances1975.mp4'],\n",
       " [(15553, 15568),\n",
       "  'contact juggling',\n",
       "  'Abramovic-Marina_4Performances1975.mp4'],\n",
       " [(15569, 15584), 'headbanging', 'Abramovic-Marina_4Performances1975.mp4'],\n",
       " [(15585, 15600), 'brushing hair', 'Abramovic-Marina_4Performances1975.mp4'],\n",
       " [(15601, 15632), 'headbanging', 'Abramovic-Marina_4Performances1975.mp4'],\n",
       " [(15633, 15648), 'brushing hair', 'Abramovic-Marina_4Performances1975.mp4'],\n",
       " [(15649, 15680), 'headbanging', 'Abramovic-Marina_4Performances1975.mp4'],\n",
       " [(15681, 15696), 'brushing hair', 'Abramovic-Marina_4Performances1975.mp4'],\n",
       " [(15697, 15712), 'headbanging', 'Abramovic-Marina_4Performances1975.mp4'],\n",
       " [(15713, 15728), 'petting cat', 'Abramovic-Marina_4Performances1975.mp4'],\n",
       " [(15729, 15744), 'headbanging', 'Abramovic-Marina_4Performances1975.mp4'],\n",
       " [(15745, 15760),\n",
       "  'contact juggling',\n",
       "  'Abramovic-Marina_4Performances1975.mp4'],\n",
       " [(15761, 15792), 'curling hair', 'Abramovic-Marina_4Performances1975.mp4'],\n",
       " [(15793, 15808), 'brushing hair', 'Abramovic-Marina_4Performances1975.mp4'],\n",
       " [(15809, 15824), 'shaving head', 'Abramovic-Marina_4Performances1975.mp4'],\n",
       " [(15825, 15872), 'curling hair', 'Abramovic-Marina_4Performances1975.mp4'],\n",
       " [(15873, 15888), 'shaving head', 'Abramovic-Marina_4Performances1975.mp4'],\n",
       " [(15889, 15904), 'fixing hair', 'Abramovic-Marina_4Performances1975.mp4'],\n",
       " [(15905, 15920), 'kissing', 'Abramovic-Marina_4Performances1975.mp4'],\n",
       " [(15921, 15936), 'smoking', 'Abramovic-Marina_4Performances1975.mp4'],\n",
       " [(15937, 15952), 'brushing hair', 'Abramovic-Marina_4Performances1975.mp4'],\n",
       " [(15953, 15984), 'shaving head', 'Abramovic-Marina_4Performances1975.mp4'],\n",
       " [(15985, 16016),\n",
       "  'getting a haircut',\n",
       "  'Abramovic-Marina_4Performances1975.mp4'],\n",
       " [(16017, 16032), 'shaving head', 'Abramovic-Marina_4Performances1975.mp4'],\n",
       " [(16033, 16048),\n",
       "  \"massaging person's head\",\n",
       "  'Abramovic-Marina_4Performances1975.mp4'],\n",
       " [(16049, 16064), 'smoking', 'Abramovic-Marina_4Performances1975.mp4'],\n",
       " [(16065, 16080), 'playing chess', 'Abramovic-Marina_4Performances1975.mp4'],\n",
       " [(16081, 16096), 'fixing hair', 'Abramovic-Marina_4Performances1975.mp4'],\n",
       " [(16097, 16112), 'curling hair', 'Abramovic-Marina_4Performances1975.mp4'],\n",
       " [(16113, 16128),\n",
       "  \"massaging person's head\",\n",
       "  'Abramovic-Marina_4Performances1975.mp4'],\n",
       " [(16129, 16144), 'curling hair', 'Abramovic-Marina_4Performances1975.mp4'],\n",
       " [(16145, 16160), 'brushing hair', 'Abramovic-Marina_4Performances1975.mp4'],\n",
       " [(16161, 16176),\n",
       "  \"massaging person's head\",\n",
       "  'Abramovic-Marina_4Performances1975.mp4'],\n",
       " [(16177, 16192), 'smoking', 'Abramovic-Marina_4Performances1975.mp4'],\n",
       " [(16193, 16208), 'brushing hair', 'Abramovic-Marina_4Performances1975.mp4'],\n",
       " [(16209, 16224), 'kissing', 'Abramovic-Marina_4Performances1975.mp4'],\n",
       " [(16225, 16256), 'smoking', 'Abramovic-Marina_4Performances1975.mp4'],\n",
       " [(16257, 16288), 'kissing', 'Abramovic-Marina_4Performances1975.mp4'],\n",
       " [(16289, 16336), 'smoking', 'Abramovic-Marina_4Performances1975.mp4'],\n",
       " [(16337, 16352), 'kissing', 'Abramovic-Marina_4Performances1975.mp4'],\n",
       " [(16353, 16368), 'brushing hair', 'Abramovic-Marina_4Performances1975.mp4'],\n",
       " [(16369, 16416), 'smoking', 'Abramovic-Marina_4Performances1975.mp4'],\n",
       " [(16417, 16432), 'curling hair', 'Abramovic-Marina_4Performances1975.mp4'],\n",
       " [(16433, 16448), 'brushing hair', 'Abramovic-Marina_4Performances1975.mp4'],\n",
       " [(16449, 16464), 'curling hair', 'Abramovic-Marina_4Performances1975.mp4'],\n",
       " [(16465, 16480), 'fixing hair', 'Abramovic-Marina_4Performances1975.mp4'],\n",
       " [(16481, 16512), 'curling hair', 'Abramovic-Marina_4Performances1975.mp4'],\n",
       " [(16513, 16528), 'smoking', 'Abramovic-Marina_4Performances1975.mp4'],\n",
       " [(16529, 16544),\n",
       "  \"massaging person's head\",\n",
       "  'Abramovic-Marina_4Performances1975.mp4'],\n",
       " [(16545, 16560), 'fixing hair', 'Abramovic-Marina_4Performances1975.mp4'],\n",
       " [(16561, 16576), 'whistling', 'Abramovic-Marina_4Performances1975.mp4'],\n",
       " [(16577, 16624), 'fixing hair', 'Abramovic-Marina_4Performances1975.mp4'],\n",
       " [(16625, 16640), 'brushing hair', 'Abramovic-Marina_4Performances1975.mp4'],\n",
       " [(16641, 16704), 'whistling', 'Abramovic-Marina_4Performances1975.mp4'],\n",
       " [(16705, 16720), 'shaving head', 'Abramovic-Marina_4Performances1975.mp4'],\n",
       " [(16721, 16736), 'crying', 'Abramovic-Marina_4Performances1975.mp4'],\n",
       " [(16737, 16784), 'whistling', 'Abramovic-Marina_4Performances1975.mp4'],\n",
       " [(16785, 16800), 'crying', 'Abramovic-Marina_4Performances1975.mp4'],\n",
       " [(16801, 16816), 'kissing', 'Abramovic-Marina_4Performances1975.mp4'],\n",
       " [(16817, 16832), 'crying', 'Abramovic-Marina_4Performances1975.mp4'],\n",
       " [(16833, 16848), 'smoking', 'Abramovic-Marina_4Performances1975.mp4'],\n",
       " [(16849, 16864), 'whistling', 'Abramovic-Marina_4Performances1975.mp4'],\n",
       " [(16865, 16880), 'kissing', 'Abramovic-Marina_4Performances1975.mp4'],\n",
       " [(16881, 16896), 'whistling', 'Abramovic-Marina_4Performances1975.mp4'],\n",
       " [(16897, 16912), 'smoking', 'Abramovic-Marina_4Performances1975.mp4'],\n",
       " [(16913, 16944), 'whistling', 'Abramovic-Marina_4Performances1975.mp4'],\n",
       " [(16945, 16960), 'smoking', 'Abramovic-Marina_4Performances1975.mp4'],\n",
       " [(16961, 16976), 'brushing hair', 'Abramovic-Marina_4Performances1975.mp4'],\n",
       " [(16977, 16992), 'smoking', 'Abramovic-Marina_4Performances1975.mp4'],\n",
       " [(16993, 17040), 'whistling', 'Abramovic-Marina_4Performances1975.mp4'],\n",
       " [(17041, 17056), 'smoking', 'Abramovic-Marina_4Performances1975.mp4'],\n",
       " [(17057, 17072), 'fixing hair', 'Abramovic-Marina_4Performances1975.mp4'],\n",
       " [(17073, 17088), 'beatboxing', 'Abramovic-Marina_4Performances1975.mp4'],\n",
       " [(17089, 17120), 'whistling', 'Abramovic-Marina_4Performances1975.mp4'],\n",
       " [(17121, 17136), 'fixing hair', 'Abramovic-Marina_4Performances1975.mp4'],\n",
       " [(17137, 17152), 'whistling', 'Abramovic-Marina_4Performances1975.mp4'],\n",
       " [(17153, 17168), 'crying', 'Abramovic-Marina_4Performances1975.mp4'],\n",
       " [(17169, 17184), 'fixing hair', 'Abramovic-Marina_4Performances1975.mp4'],\n",
       " [(17185, 17200), 'whistling', 'Abramovic-Marina_4Performances1975.mp4'],\n",
       " [(17201, 17216), 'crying', 'Abramovic-Marina_4Performances1975.mp4'],\n",
       " [(17217, 17232), 'kissing', 'Abramovic-Marina_4Performances1975.mp4'],\n",
       " [(17233, 17264), 'smoking', 'Abramovic-Marina_4Performances1975.mp4'],\n",
       " [(17265, 17280), 'whistling', 'Abramovic-Marina_4Performances1975.mp4'],\n",
       " [(17281, 17328), 'fixing hair', 'Abramovic-Marina_4Performances1975.mp4'],\n",
       " [(17329, 17344), 'brushing hair', 'Abramovic-Marina_4Performances1975.mp4'],\n",
       " [(17345, 17360), 'smoking', 'Abramovic-Marina_4Performances1975.mp4'],\n",
       " [(17361, 17376), 'beatboxing', 'Abramovic-Marina_4Performances1975.mp4'],\n",
       " [(17377, 17392), 'fixing hair', 'Abramovic-Marina_4Performances1975.mp4'],\n",
       " [(17393, 17456), 'smoking', 'Abramovic-Marina_4Performances1975.mp4'],\n",
       " [(17457, 17472), 'whistling', 'Abramovic-Marina_4Performances1975.mp4'],\n",
       " [(17473, 17488), 'smoking', 'Abramovic-Marina_4Performances1975.mp4'],\n",
       " [(17489, 17504), 'fixing hair', 'Abramovic-Marina_4Performances1975.mp4'],\n",
       " [(17505, 17520), 'brushing hair', 'Abramovic-Marina_4Performances1975.mp4'],\n",
       " [(17521, 17536), 'fixing hair', 'Abramovic-Marina_4Performances1975.mp4'],\n",
       " [(17537, 17552), 'smoking', 'Abramovic-Marina_4Performances1975.mp4'],\n",
       " [(17553, 17600), 'kissing', 'Abramovic-Marina_4Performances1975.mp4'],\n",
       " [(17601, 17616), 'playing poker', 'Abramovic-Marina_4Performances1975.mp4'],\n",
       " [(17617, 17632), 'kissing', 'Abramovic-Marina_4Performances1975.mp4'],\n",
       " [(17633, 17696), 'whistling', 'Abramovic-Marina_4Performances1975.mp4'],\n",
       " [(17697, 17712), 'smoking', 'Abramovic-Marina_4Performances1975.mp4'],\n",
       " [(17713, 17776), 'curling hair', 'Abramovic-Marina_4Performances1975.mp4'],\n",
       " [(17777, 17792), 'brushing hair', 'Abramovic-Marina_4Performances1975.mp4'],\n",
       " [(17793, 17824), 'whistling', 'Abramovic-Marina_4Performances1975.mp4'],\n",
       " [(17825, 17840), 'fixing hair', 'Abramovic-Marina_4Performances1975.mp4'],\n",
       " [(17841, 17856), 'smoking', 'Abramovic-Marina_4Performances1975.mp4'],\n",
       " [(17857, 17888), 'kissing', 'Abramovic-Marina_4Performances1975.mp4'],\n",
       " [(17889, 17904), 'shaving head', 'Abramovic-Marina_4Performances1975.mp4'],\n",
       " [(17905, 17920), 'fixing hair', 'Abramovic-Marina_4Performances1975.mp4'],\n",
       " [(17921, 17952), 'brushing hair', 'Abramovic-Marina_4Performances1975.mp4'],\n",
       " [(17953, 17968), 'whistling', 'Abramovic-Marina_4Performances1975.mp4'],\n",
       " [(17969, 17984), 'brushing hair', 'Abramovic-Marina_4Performances1975.mp4'],\n",
       " [(17985, 18016), 'whistling', 'Abramovic-Marina_4Performances1975.mp4'],\n",
       " [(18017, 18048), 'brushing hair', 'Abramovic-Marina_4Performances1975.mp4'],\n",
       " [(18049, 18080), 'smoking', 'Abramovic-Marina_4Performances1975.mp4'],\n",
       " [(18081, 18272), 'whistling', 'Abramovic-Marina_4Performances1975.mp4'],\n",
       " [(18273, 18288), 'smoking', 'Abramovic-Marina_4Performances1975.mp4'],\n",
       " [(18289, 18304), 'brushing hair', 'Abramovic-Marina_4Performances1975.mp4'],\n",
       " [(18305, 18352), 'smoking', 'Abramovic-Marina_4Performances1975.mp4'],\n",
       " [(18353, 18448), 'brushing hair', 'Abramovic-Marina_4Performances1975.mp4'],\n",
       " [(18449, 18464), 'smoking', 'Abramovic-Marina_4Performances1975.mp4'],\n",
       " [(18465, 18480),\n",
       "  'trimming or shaving beard',\n",
       "  'Abramovic-Marina_4Performances1975.mp4'],\n",
       " [(18481, 18592), 'kissing', 'Abramovic-Marina_4Performances1975.mp4'],\n",
       " [(18593, 18624), 'smoking', 'Abramovic-Marina_4Performances1975.mp4'],\n",
       " [(18625, 18640), 'whistling', 'Abramovic-Marina_4Performances1975.mp4'],\n",
       " [(18641, 18672), 'brushing hair', 'Abramovic-Marina_4Performances1975.mp4'],\n",
       " [(18673, 18784), 'kissing', 'Abramovic-Marina_4Performances1975.mp4'],\n",
       " [(18785, 18848), 'whistling', 'Abramovic-Marina_4Performances1975.mp4'],\n",
       " [(18849, 18864), 'crying', 'Abramovic-Marina_4Performances1975.mp4'],\n",
       " [(18865, 18880), 'smoking', 'Abramovic-Marina_4Performances1975.mp4'],\n",
       " [(18881, 18896), 'whistling', 'Abramovic-Marina_4Performances1975.mp4'],\n",
       " [(18897, 18912), 'playing cello', 'Abramovic-Marina_4Performances1975.mp4'],\n",
       " [(18913, 19008), 'smoking', 'Abramovic-Marina_4Performances1975.mp4'],\n",
       " [(19009, 19040), 'brushing hair', 'Abramovic-Marina_4Performances1975.mp4'],\n",
       " [(19041, 19088), 'smoking', 'Abramovic-Marina_4Performances1975.mp4'],\n",
       " [(19089, 19104), 'brushing hair', 'Abramovic-Marina_4Performances1975.mp4'],\n",
       " [(19105, 19136), 'smoking', 'Abramovic-Marina_4Performances1975.mp4'],\n",
       " [(19137, 19168), 'brushing hair', 'Abramovic-Marina_4Performances1975.mp4'],\n",
       " [(19169, 19184), 'playing cello', 'Abramovic-Marina_4Performances1975.mp4'],\n",
       " [(19185, 19216), 'brushing hair', 'Abramovic-Marina_4Performances1975.mp4'],\n",
       " [(19217, 19232), 'whistling', 'Abramovic-Marina_4Performances1975.mp4'],\n",
       " [(19233, 19248), 'crying', 'Abramovic-Marina_4Performances1975.mp4'],\n",
       " [(19249, 19264), 'smoking', 'Abramovic-Marina_4Performances1975.mp4'],\n",
       " [(19265, 19280), 'whistling', 'Abramovic-Marina_4Performances1975.mp4'],\n",
       " [(19281, 19296), 'smoking', 'Abramovic-Marina_4Performances1975.mp4'],\n",
       " [(19297, 19328), 'whistling', 'Abramovic-Marina_4Performances1975.mp4'],\n",
       " [(19329, 19360), 'beatboxing', 'Abramovic-Marina_4Performances1975.mp4'],\n",
       " [(19361, 19376), 'kissing', 'Abramovic-Marina_4Performances1975.mp4'],\n",
       " [(19377, 19392), 'smoking', 'Abramovic-Marina_4Performances1975.mp4'],\n",
       " [(19393, 19424), 'whistling', 'Abramovic-Marina_4Performances1975.mp4'],\n",
       " [(19425, 19440), 'beatboxing', 'Abramovic-Marina_4Performances1975.mp4'],\n",
       " [(19441, 19456), 'smoking', 'Abramovic-Marina_4Performances1975.mp4'],\n",
       " [(19457, 19472), 'brushing hair', 'Abramovic-Marina_4Performances1975.mp4'],\n",
       " [(19473, 19488), 'smoking', 'Abramovic-Marina_4Performances1975.mp4'],\n",
       " [(19489, 19504),\n",
       "  'contact juggling',\n",
       "  'Abramovic-Marina_4Performances1975.mp4'],\n",
       " [(19505, 19520), 'crying', 'Abramovic-Marina_4Performances1975.mp4'],\n",
       " [(19521, 19536), 'smoking', 'Abramovic-Marina_4Performances1975.mp4'],\n",
       " [(19537, 19552), 'brushing hair', 'Abramovic-Marina_4Performances1975.mp4'],\n",
       " [(19553, 19568),\n",
       "  'tying knot (not on a tie)',\n",
       "  'Abramovic-Marina_4Performances1975.mp4'],\n",
       " [(19569, 19584), 'shuffling cards', 'Abramovic-Marina_4Performances1975.mp4'],\n",
       " [(19585, 19616), 'brushing hair', 'Abramovic-Marina_4Performances1975.mp4'],\n",
       " [(19617, 19632), 'shuffling cards', 'Abramovic-Marina_4Performances1975.mp4'],\n",
       " [(19633, 19648), 'taking a shower', 'Abramovic-Marina_4Performances1975.mp4'],\n",
       " [(19649, 19664), 'kissing', 'Abramovic-Marina_4Performances1975.mp4'],\n",
       " [(19665, 19680), 'washing hair', 'Abramovic-Marina_4Performances1975.mp4'],\n",
       " [(19681, 19744), 'brushing hair', 'Abramovic-Marina_4Performances1975.mp4'],\n",
       " [(19745, 19760), 'cracking neck', 'Abramovic-Marina_4Performances1975.mp4'],\n",
       " [(19761, 19792), 'headbanging', 'Abramovic-Marina_4Performances1975.mp4'],\n",
       " [(19793, 19808), 'taking a shower', 'Abramovic-Marina_4Performances1975.mp4'],\n",
       " [(19809, 19824), 'headbanging', 'Abramovic-Marina_4Performances1975.mp4'],\n",
       " [(19825, 19840), 'shuffling cards', 'Abramovic-Marina_4Performances1975.mp4'],\n",
       " [(19841, 19856), 'brushing hair', 'Abramovic-Marina_4Performances1975.mp4'],\n",
       " [(19857, 19888), 'shuffling cards', 'Abramovic-Marina_4Performances1975.mp4'],\n",
       " [(19889, 19904), 'brushing hair', 'Abramovic-Marina_4Performances1975.mp4'],\n",
       " [(19905, 19920), 'smoking', 'Abramovic-Marina_4Performances1975.mp4'],\n",
       " [(19921, 19936), 'headbanging', 'Abramovic-Marina_4Performances1975.mp4'],\n",
       " [(19937, 19984), 'brushing hair', 'Abramovic-Marina_4Performances1975.mp4'],\n",
       " [(19985, 20000), 'tapping pen', 'Abramovic-Marina_4Performances1975.mp4'],\n",
       " [(20001, 20016), 'headbanging', 'Abramovic-Marina_4Performances1975.mp4'],\n",
       " [(20017, 20032), 'brushing hair', 'Abramovic-Marina_4Performances1975.mp4'],\n",
       " [(20033, 20048), 'tapping pen', 'Abramovic-Marina_4Performances1975.mp4'],\n",
       " [(20049, 20064), 'smoking', 'Abramovic-Marina_4Performances1975.mp4'],\n",
       " [(20065, 20080), 'smoking hookah', 'Abramovic-Marina_4Performances1975.mp4'],\n",
       " [(20081, 20112), 'smoking', 'Abramovic-Marina_4Performances1975.mp4'],\n",
       " [(20113, 20128), 'brushing hair', 'Abramovic-Marina_4Performances1975.mp4'],\n",
       " [(20129, 20144), 'smoking', 'Abramovic-Marina_4Performances1975.mp4'],\n",
       " [(20145, 20160), 'brushing hair', 'Abramovic-Marina_4Performances1975.mp4'],\n",
       " [(20161, 20192), 'smoking', 'Abramovic-Marina_4Performances1975.mp4'],\n",
       " [(20193, 20208), 'curling hair', 'Abramovic-Marina_4Performances1975.mp4'],\n",
       " [(20209, 20256), 'brushing hair', 'Abramovic-Marina_4Performances1975.mp4'],\n",
       " [(20257, 20272), 'smoking', 'Abramovic-Marina_4Performances1975.mp4'],\n",
       " [(20273, 20304), 'crying', 'Abramovic-Marina_4Performances1975.mp4'],\n",
       " [(20305, 20320), 'brushing hair', 'Abramovic-Marina_4Performances1975.mp4'],\n",
       " [(20321, 20336), 'smoking', 'Abramovic-Marina_4Performances1975.mp4'],\n",
       " [(20337, 20352), 'kissing', 'Abramovic-Marina_4Performances1975.mp4'],\n",
       " [(20353, 20368), 'smoking', 'Abramovic-Marina_4Performances1975.mp4'],\n",
       " [(20369, 20384), 'brushing hair', 'Abramovic-Marina_4Performances1975.mp4'],\n",
       " [(20385, 20400), 'smoking', 'Abramovic-Marina_4Performances1975.mp4'],\n",
       " [(20401, 20416), 'brushing hair', 'Abramovic-Marina_4Performances1975.mp4'],\n",
       " [(20417, 20464), 'smoking', 'Abramovic-Marina_4Performances1975.mp4'],\n",
       " [(20465, 20480), 'brushing hair', 'Abramovic-Marina_4Performances1975.mp4'],\n",
       " [(20481, 20544), 'whistling', 'Abramovic-Marina_4Performances1975.mp4'],\n",
       " [(20545, 20560), 'brushing hair', 'Abramovic-Marina_4Performances1975.mp4'],\n",
       " [(20561, 20576), 'smoking', 'Abramovic-Marina_4Performances1975.mp4'],\n",
       " [(20577, 20608), 'whistling', 'Abramovic-Marina_4Performances1975.mp4'],\n",
       " [(20609, 20624), 'smoking', 'Abramovic-Marina_4Performances1975.mp4'],\n",
       " [(20625, 20672), 'brushing hair', 'Abramovic-Marina_4Performances1975.mp4'],\n",
       " [(20673, 20688), 'fixing hair', 'Abramovic-Marina_4Performances1975.mp4'],\n",
       " [(20689, 20704), 'brushing hair', 'Abramovic-Marina_4Performances1975.mp4'],\n",
       " [(20705, 20720), 'whistling', 'Abramovic-Marina_4Performances1975.mp4'],\n",
       " [(20721, 20736), 'brushing hair', 'Abramovic-Marina_4Performances1975.mp4'],\n",
       " [(20737, 20752), 'fixing hair', 'Abramovic-Marina_4Performances1975.mp4'],\n",
       " [(20753, 20800), 'brushing hair', 'Abramovic-Marina_4Performances1975.mp4'],\n",
       " [(20801, 20816), 'fixing hair', 'Abramovic-Marina_4Performances1975.mp4'],\n",
       " [(20817, 20832), 'brushing hair', 'Abramovic-Marina_4Performances1975.mp4'],\n",
       " [(20833, 20848), 'whistling', 'Abramovic-Marina_4Performances1975.mp4'],\n",
       " [(20849, 20864), 'fixing hair', 'Abramovic-Marina_4Performances1975.mp4'],\n",
       " [(20865, 20880), 'whistling', 'Abramovic-Marina_4Performances1975.mp4'],\n",
       " [(20881, 20912), 'brushing hair', 'Abramovic-Marina_4Performances1975.mp4'],\n",
       " [(20913, 20928), 'kissing', 'Abramovic-Marina_4Performances1975.mp4'],\n",
       " [(20929, 20976), 'brushing hair', 'Abramovic-Marina_4Performances1975.mp4'],\n",
       " [(20977, 20992), 'fixing hair', 'Abramovic-Marina_4Performances1975.mp4'],\n",
       " [(20993, 21008), 'whistling', 'Abramovic-Marina_4Performances1975.mp4'],\n",
       " [(21009, 21024), 'brushing hair', 'Abramovic-Marina_4Performances1975.mp4'],\n",
       " [(21025, 21040), 'whistling', 'Abramovic-Marina_4Performances1975.mp4'],\n",
       " [(21041, 21056), 'fixing hair', 'Abramovic-Marina_4Performances1975.mp4'],\n",
       " [(21057, 21072), 'smoking', 'Abramovic-Marina_4Performances1975.mp4'],\n",
       " [(21073, 21088), 'curling hair', 'Abramovic-Marina_4Performances1975.mp4'],\n",
       " [(21089, 21120), 'brushing hair', 'Abramovic-Marina_4Performances1975.mp4'],\n",
       " [(21121, 21136), 'shaving head', 'Abramovic-Marina_4Performances1975.mp4'],\n",
       " [(21137, 21184), 'fixing hair', 'Abramovic-Marina_4Performances1975.mp4'],\n",
       " [(21185, 21200), 'brushing hair', 'Abramovic-Marina_4Performances1975.mp4'],\n",
       " [(21201, 21232), 'fixing hair', 'Abramovic-Marina_4Performances1975.mp4'],\n",
       " [(21233, 21248), 'smoking', 'Abramovic-Marina_4Performances1975.mp4'],\n",
       " [(21249, 21264), 'brushing hair', 'Abramovic-Marina_4Performances1975.mp4'],\n",
       " [(21265, 21280), 'finger snapping', 'Abramovic-Marina_4Performances1975.mp4'],\n",
       " [(21281, 21296), 'smoking hookah', 'Abramovic-Marina_4Performances1975.mp4'],\n",
       " [(21297, 21312), 'fixing hair', 'Abramovic-Marina_4Performances1975.mp4'],\n",
       " [(21313, 21328), 'finger snapping', 'Abramovic-Marina_4Performances1975.mp4'],\n",
       " [(21329, 21344), 'beatboxing', 'Abramovic-Marina_4Performances1975.mp4'],\n",
       " [(21345, 21360), 'whistling', 'Abramovic-Marina_4Performances1975.mp4'],\n",
       " [(21361, 21376), 'fixing hair', 'Abramovic-Marina_4Performances1975.mp4'],\n",
       " [(21377, 21472), 'brushing hair', 'Abramovic-Marina_4Performances1975.mp4'],\n",
       " [(21473, 21488), 'smoking', 'Abramovic-Marina_4Performances1975.mp4'],\n",
       " [(21489, 21536), 'brushing hair', 'Abramovic-Marina_4Performances1975.mp4'],\n",
       " [(21537, 21552), 'fixing hair', 'Abramovic-Marina_4Performances1975.mp4'],\n",
       " [(21553, 21568), 'brushing hair', 'Abramovic-Marina_4Performances1975.mp4'],\n",
       " [(21569, 21584), 'whistling', 'Abramovic-Marina_4Performances1975.mp4'],\n",
       " [(21585, 21600), 'brushing hair', 'Abramovic-Marina_4Performances1975.mp4'],\n",
       " [(21601, 21616), 'curling hair', 'Abramovic-Marina_4Performances1975.mp4'],\n",
       " [(21617, 21632), 'headbanging', 'Abramovic-Marina_4Performances1975.mp4'],\n",
       " [(21633, 21680), 'smoking', 'Abramovic-Marina_4Performances1975.mp4'],\n",
       " [(21681, 21696), 'smoking hookah', 'Abramovic-Marina_4Performances1975.mp4'],\n",
       " [(21697, 21728), 'smoking', 'Abramovic-Marina_4Performances1975.mp4'],\n",
       " [(21729, 21744), 'brushing hair', 'Abramovic-Marina_4Performances1975.mp4'],\n",
       " [(21745, 21760), 'smoking', 'Abramovic-Marina_4Performances1975.mp4'],\n",
       " [(21761, 21776), 'whistling', 'Abramovic-Marina_4Performances1975.mp4'],\n",
       " [(21777, 21808), 'smoking', 'Abramovic-Marina_4Performances1975.mp4'],\n",
       " [(21809, 21824), 'crying', 'Abramovic-Marina_4Performances1975.mp4'],\n",
       " [(21825, 21840), 'kissing', 'Abramovic-Marina_4Performances1975.mp4'],\n",
       " [(21841, 21856), 'smoking', 'Abramovic-Marina_4Performances1975.mp4'],\n",
       " [(21857, 21872), 'shaving head', 'Abramovic-Marina_4Performances1975.mp4'],\n",
       " [(21873, 21952), 'kissing', 'Abramovic-Marina_4Performances1975.mp4'],\n",
       " [(21953, 21984), 'smoking', 'Abramovic-Marina_4Performances1975.mp4'],\n",
       " [(21985, 22000), 'crying', 'Abramovic-Marina_4Performances1975.mp4'],\n",
       " [(22001, 22096), 'smoking', 'Abramovic-Marina_4Performances1975.mp4'],\n",
       " [(22097, 22144), 'kissing', 'Abramovic-Marina_4Performances1975.mp4'],\n",
       " [(22145, 22256), 'smoking', 'Abramovic-Marina_4Performances1975.mp4'],\n",
       " [(22257, 22272), 'smoking hookah', 'Abramovic-Marina_4Performances1975.mp4'],\n",
       " [(22273, 22304), 'smoking', 'Abramovic-Marina_4Performances1975.mp4'],\n",
       " [(22305, 22336), 'kissing', 'Abramovic-Marina_4Performances1975.mp4'],\n",
       " [(22337, 22352),\n",
       "  'contact juggling',\n",
       "  'Abramovic-Marina_4Performances1975.mp4'],\n",
       " [(22353, 22368), 'kissing', 'Abramovic-Marina_4Performances1975.mp4'],\n",
       " [(22369, 22384), 'smoking', 'Abramovic-Marina_4Performances1975.mp4'],\n",
       " [(22385, 22400), 'shaving head', 'Abramovic-Marina_4Performances1975.mp4'],\n",
       " [(22401, 22432), 'smoking', 'Abramovic-Marina_4Performances1975.mp4'],\n",
       " [(22433, 22480), 'shaving head', 'Abramovic-Marina_4Performances1975.mp4'],\n",
       " [(22481, 22496), 'kissing', 'Abramovic-Marina_4Performances1975.mp4'],\n",
       " [(22497, 22512), 'brushing hair', 'Abramovic-Marina_4Performances1975.mp4'],\n",
       " [(22513, 22528), 'finger snapping', 'Abramovic-Marina_4Performances1975.mp4'],\n",
       " [(22529, 22544), 'brushing hair', 'Abramovic-Marina_4Performances1975.mp4'],\n",
       " [(22545, 22560), 'playing cello', 'Abramovic-Marina_4Performances1975.mp4'],\n",
       " [(22561, 22576), 'brushing hair', 'Abramovic-Marina_4Performances1975.mp4'],\n",
       " [(22577, 22592), 'smoking hookah', 'Abramovic-Marina_4Performances1975.mp4'],\n",
       " [(22593, 22608), 'brushing hair', 'Abramovic-Marina_4Performances1975.mp4'],\n",
       " [(22609, 22624), 'smoking', 'Abramovic-Marina_4Performances1975.mp4'],\n",
       " [(22625, 22640), 'brushing hair', 'Abramovic-Marina_4Performances1975.mp4'],\n",
       " [(22641, 22656), 'shaking head', 'Abramovic-Marina_4Performances1975.mp4'],\n",
       " [(22657, 22672), 'headbanging', 'Abramovic-Marina_4Performances1975.mp4'],\n",
       " [(22673, 22704),\n",
       "  'contact juggling',\n",
       "  'Abramovic-Marina_4Performances1975.mp4'],\n",
       " [(22705, 22720),\n",
       "  'blowing out candles',\n",
       "  'Abramovic-Marina_4Performances1975.mp4'],\n",
       " [(22721, 22752), 'spinning poi', 'Abramovic-Marina_4Performances1975.mp4'],\n",
       " [(22753, 22832), 'smoking', 'Abramovic-Marina_4Performances1975.mp4'],\n",
       " [(22833, 22848), 'curling hair', 'Abramovic-Marina_4Performances1975.mp4'],\n",
       " [(22849, 22864), 'kissing', 'Abramovic-Marina_4Performances1975.mp4'],\n",
       " [(22865, 22880), 'smoking', 'Abramovic-Marina_4Performances1975.mp4'],\n",
       " [(22881, 22912), 'brushing hair', 'Abramovic-Marina_4Performances1975.mp4'],\n",
       " [(22913, 22928), 'smoking', 'Abramovic-Marina_4Performances1975.mp4'],\n",
       " [(22929, 22944), 'brushing hair', 'Abramovic-Marina_4Performances1975.mp4'],\n",
       " [(22945, 22960), 'smoking', 'Abramovic-Marina_4Performances1975.mp4'],\n",
       " [(22961, 22992), 'kissing', 'Abramovic-Marina_4Performances1975.mp4'],\n",
       " [(22993, 23008), 'smoking', 'Abramovic-Marina_4Performances1975.mp4'],\n",
       " [(23009, 23120), 'kissing', 'Abramovic-Marina_4Performances1975.mp4'],\n",
       " [(23121, 23152), 'smoking', 'Abramovic-Marina_4Performances1975.mp4'],\n",
       " [(23153, 23168), 'brushing hair', 'Abramovic-Marina_4Performances1975.mp4'],\n",
       " [(23169, 23184), 'smoking', 'Abramovic-Marina_4Performances1975.mp4'],\n",
       " [(23185, 23200), 'belly dancing', 'Abramovic-Marina_4Performances1975.mp4'],\n",
       " [(23201, 23216),\n",
       "  'contact juggling',\n",
       "  'Abramovic-Marina_4Performances1975.mp4'],\n",
       " [(23217, 23232), 'kissing', 'Abramovic-Marina_4Performances1975.mp4'],\n",
       " [(23233, 23248), 'smoking', 'Abramovic-Marina_4Performances1975.mp4'],\n",
       " [(23249, 23264),\n",
       "  'sign language interpreting',\n",
       "  'Abramovic-Marina_4Performances1975.mp4'],\n",
       " [(23265, 23280), 'fixing hair', 'Abramovic-Marina_4Performances1975.mp4'],\n",
       " [(23281, 23296),\n",
       "  \"massaging person's head\",\n",
       "  'Abramovic-Marina_4Performances1975.mp4'],\n",
       " [(23297, 23328), 'brushing hair', 'Abramovic-Marina_4Performances1975.mp4'],\n",
       " [(23329, 23344),\n",
       "  'contact juggling',\n",
       "  'Abramovic-Marina_4Performances1975.mp4'],\n",
       " [(23345, 23360), 'headbanging', 'Abramovic-Marina_4Performances1975.mp4'],\n",
       " [(23361, 23392), 'shaking head', 'Abramovic-Marina_4Performances1975.mp4'],\n",
       " [(23393, 23408), 'headbanging', 'Abramovic-Marina_4Performances1975.mp4'],\n",
       " [(23409, 23424), 'taking a shower', 'Abramovic-Marina_4Performances1975.mp4'],\n",
       " [(23425, 23472), 'brushing hair', 'Abramovic-Marina_4Performances1975.mp4'],\n",
       " [(23473, 23504), 'headbanging', 'Abramovic-Marina_4Performances1975.mp4'],\n",
       " [(23505, 23520),\n",
       "  'contact juggling',\n",
       "  'Abramovic-Marina_4Performances1975.mp4'],\n",
       " [(23521, 23536), 'smoking', 'Abramovic-Marina_4Performances1975.mp4'],\n",
       " [(23537, 23552), 'cracking neck', 'Abramovic-Marina_4Performances1975.mp4'],\n",
       " [(23553, 23568), 'beatboxing', 'Abramovic-Marina_4Performances1975.mp4'],\n",
       " [(23569, 23584), 'headbanging', 'Abramovic-Marina_4Performances1975.mp4'],\n",
       " [(23585, 23600), 'kissing', 'Abramovic-Marina_4Performances1975.mp4'],\n",
       " [(23601, 23616), 'shaking head', 'Abramovic-Marina_4Performances1975.mp4'],\n",
       " [(23617, 23632), 'kissing', 'Abramovic-Marina_4Performances1975.mp4'],\n",
       " [(23633, 23648), 'brushing hair', 'Abramovic-Marina_4Performances1975.mp4'],\n",
       " [(23649, 23664), 'smoking hookah', 'Abramovic-Marina_4Performances1975.mp4'],\n",
       " [(23665, 23680), 'shuffling cards', 'Abramovic-Marina_4Performances1975.mp4'],\n",
       " [(23681, 23696), 'smoking', 'Abramovic-Marina_4Performances1975.mp4'],\n",
       " [(23697, 23712), 'brushing hair', 'Abramovic-Marina_4Performances1975.mp4'],\n",
       " [(23713, 23728), 'headbanging', 'Abramovic-Marina_4Performances1975.mp4'],\n",
       " [(23729, 23744), 'washing hair', 'Abramovic-Marina_4Performances1975.mp4'],\n",
       " [(23745, 23808), 'brushing hair', 'Abramovic-Marina_4Performances1975.mp4'],\n",
       " [(23809, 23824), 'cracking neck', 'Abramovic-Marina_4Performances1975.mp4'],\n",
       " [(23825, 23840), 'brushing hair', 'Abramovic-Marina_4Performances1975.mp4'],\n",
       " [(23841, 23872), 'cracking neck', 'Abramovic-Marina_4Performances1975.mp4'],\n",
       " [(23873, 23904), 'brushing hair', 'Abramovic-Marina_4Performances1975.mp4'],\n",
       " [(23905, 23920), 'headbanging', 'Abramovic-Marina_4Performances1975.mp4'],\n",
       " [(23921, 23936), 'brushing hair', 'Abramovic-Marina_4Performances1975.mp4'],\n",
       " [(23937, 23952), 'headbanging', 'Abramovic-Marina_4Performances1975.mp4'],\n",
       " [(23953, 23984), 'brushing hair', 'Abramovic-Marina_4Performances1975.mp4'],\n",
       " [(23985, 24000), 'taking a shower', 'Abramovic-Marina_4Performances1975.mp4'],\n",
       " [(24001, 24032), 'brushing hair', 'Abramovic-Marina_4Performances1975.mp4'],\n",
       " [(24033, 24048), 'kissing', 'Abramovic-Marina_4Performances1975.mp4'],\n",
       " [(24049, 24096), 'brushing hair', 'Abramovic-Marina_4Performances1975.mp4'],\n",
       " [(24097, 24112), 'headbanging', 'Abramovic-Marina_4Performances1975.mp4'],\n",
       " [(24113, 24128),\n",
       "  'getting a haircut',\n",
       "  'Abramovic-Marina_4Performances1975.mp4'],\n",
       " [(24129, 24144),\n",
       "  \"massaging person's head\",\n",
       "  'Abramovic-Marina_4Performances1975.mp4'],\n",
       " [(24145, 24160), 'brushing hair', 'Abramovic-Marina_4Performances1975.mp4'],\n",
       " [(24161, 24176), 'smoking', 'Abramovic-Marina_4Performances1975.mp4'],\n",
       " [(24177, 24224), 'kissing', 'Abramovic-Marina_4Performances1975.mp4'],\n",
       " [(24225, 24240), 'shaving head', 'Abramovic-Marina_4Performances1975.mp4'],\n",
       " [(24241, 24256), 'smoking', 'Abramovic-Marina_4Performances1975.mp4'],\n",
       " [(24257, 24272), 'kissing', 'Abramovic-Marina_4Performances1975.mp4'],\n",
       " [(24273, 24288), 'brushing hair', 'Abramovic-Marina_4Performances1975.mp4'],\n",
       " [(24289, 24320), 'kissing', 'Abramovic-Marina_4Performances1975.mp4'],\n",
       " [(24321, 24352), 'headbanging', 'Abramovic-Marina_4Performances1975.mp4'],\n",
       " [(24353, 24416), 'smoking', 'Abramovic-Marina_4Performances1975.mp4'],\n",
       " [(24417, 24432), 'curling hair', 'Abramovic-Marina_4Performances1975.mp4'],\n",
       " [(24433, 24464), 'smoking', 'Abramovic-Marina_4Performances1975.mp4'],\n",
       " [(24465, 24480), 'kissing', 'Abramovic-Marina_4Performances1975.mp4'],\n",
       " [(24481, 24496), 'smoking', 'Abramovic-Marina_4Performances1975.mp4'],\n",
       " [(24497, 24528),\n",
       "  'contact juggling',\n",
       "  'Abramovic-Marina_4Performances1975.mp4'],\n",
       " [(24529, 24592), 'kissing', 'Abramovic-Marina_4Performances1975.mp4'],\n",
       " [(24593, 24608), 'curling hair', 'Abramovic-Marina_4Performances1975.mp4'],\n",
       " [(24609, 24640), 'yoga', 'Abramovic-Marina_4Performances1975.mp4'],\n",
       " [(24641, 24656),\n",
       "  'contact juggling',\n",
       "  'Abramovic-Marina_4Performances1975.mp4'],\n",
       " [(24657, 24688), 'brushing hair', 'Abramovic-Marina_4Performances1975.mp4'],\n",
       " [(24689, 24704),\n",
       "  'contact juggling',\n",
       "  'Abramovic-Marina_4Performances1975.mp4'],\n",
       " [(24705, 24720), 'gargling', 'Abramovic-Marina_4Performances1975.mp4'],\n",
       " [(24721, 24736),\n",
       "  'trimming or shaving beard',\n",
       "  'Abramovic-Marina_4Performances1975.mp4'],\n",
       " [(24737, 24752), 'smoking', 'Abramovic-Marina_4Performances1975.mp4'],\n",
       " [(24753, 24768),\n",
       "  \"massaging person's head\",\n",
       "  'Abramovic-Marina_4Performances1975.mp4'],\n",
       " [(24769, 24784), 'brushing hair', 'Abramovic-Marina_4Performances1975.mp4'],\n",
       " [(24785, 24800),\n",
       "  'contact juggling',\n",
       "  'Abramovic-Marina_4Performances1975.mp4'],\n",
       " [(24801, 24816),\n",
       "  \"massaging person's head\",\n",
       "  'Abramovic-Marina_4Performances1975.mp4'],\n",
       " [(24817, 24960), 'brushing hair', 'Abramovic-Marina_4Performances1975.mp4'],\n",
       " [(24961, 24976),\n",
       "  'contact juggling',\n",
       "  'Abramovic-Marina_4Performances1975.mp4'],\n",
       " [(24977, 24992), 'headbanging', 'Abramovic-Marina_4Performances1975.mp4'],\n",
       " [(24993, 25008),\n",
       "  'contact juggling',\n",
       "  'Abramovic-Marina_4Performances1975.mp4'],\n",
       " [(25009, 25056), 'spinning poi', 'Abramovic-Marina_4Performances1975.mp4'],\n",
       " [(25057, 25072), 'dancing ballet', 'Abramovic-Marina_4Performances1975.mp4'],\n",
       " [(25073, 25088),\n",
       "  'snatch weight lifting',\n",
       "  'Abramovic-Marina_4Performances1975.mp4'],\n",
       " [(25089, 25104), 'juggling balls', 'Abramovic-Marina_4Performances1975.mp4'],\n",
       " [(25105, 25120), 'texting', 'Abramovic-Marina_4Performances1975.mp4'],\n",
       " [(25121, 25152), 'front raises', 'Abramovic-Marina_4Performances1975.mp4'],\n",
       " [(25153, 25248), 'texting', 'Abramovic-Marina_4Performances1975.mp4'],\n",
       " [(25249, 25264), 'front raises', 'Abramovic-Marina_4Performances1975.mp4'],\n",
       " [(25265, 25296), 'texting', 'Abramovic-Marina_4Performances1975.mp4'],\n",
       " [(25297, 25552), 'front raises', 'Abramovic-Marina_4Performances1975.mp4'],\n",
       " [(25553, 25568), 'juggling balls', 'Abramovic-Marina_4Performances1975.mp4'],\n",
       " [(25569, 25664),\n",
       "  'snatch weight lifting',\n",
       "  'Abramovic-Marina_4Performances1975.mp4'],\n",
       " [(25665, 25680), 'spinning poi', 'Abramovic-Marina_4Performances1975.mp4'],\n",
       " [(25681, 25792),\n",
       "  'snatch weight lifting',\n",
       "  'Abramovic-Marina_4Performances1975.mp4'],\n",
       " [(25793, 25808), 'kissing', 'Abramovic-Marina_4Performances1975.mp4'],\n",
       " [(25809, 26192), 'playing poker', 'Abramovic-Marina_4Performances1975.mp4'],\n",
       " [(26193, 26208), 'whistling', 'Abramovic-Marina_4Performances1975.mp4'],\n",
       " [(26209, 26304), 'playing poker', 'Abramovic-Marina_4Performances1975.mp4'],\n",
       " [(26305, 26320), 'smoking', 'Abramovic-Marina_4Performances1975.mp4'],\n",
       " [(26321, 26336), 'testifying', 'Abramovic-Marina_4Performances1975.mp4'],\n",
       " [(26337, 26368), 'playing poker', 'Abramovic-Marina_4Performances1975.mp4'],\n",
       " [(26369, 26400), 'testifying', 'Abramovic-Marina_4Performances1975.mp4'],\n",
       " [(26401, 26560), 'playing poker', 'Abramovic-Marina_4Performances1975.mp4'],\n",
       " [(26561, 26576), 'testifying', 'Abramovic-Marina_4Performances1975.mp4'],\n",
       " [(26577, 26624), 'playing poker', 'Abramovic-Marina_4Performances1975.mp4'],\n",
       " [(26625, 26640), 'writing', 'Abramovic-Marina_4Performances1975.mp4'],\n",
       " [(26641, 26656), 'smoking', 'Abramovic-Marina_4Performances1975.mp4'],\n",
       " [(26657, 26672), 'yawning', 'Abramovic-Marina_4Performances1975.mp4'],\n",
       " [(26673, 26688), 'playing poker', 'Abramovic-Marina_4Performances1975.mp4'],\n",
       " [(26689, 26704), 'testifying', 'Abramovic-Marina_4Performances1975.mp4'],\n",
       " [(26705, 26736), 'whistling', 'Abramovic-Marina_4Performances1975.mp4'],\n",
       " [(26737, 26752), 'testifying', 'Abramovic-Marina_4Performances1975.mp4'],\n",
       " [(26753, 26768), 'playing poker', 'Abramovic-Marina_4Performances1975.mp4'],\n",
       " [(26769, 26944), 'testifying', 'Abramovic-Marina_4Performances1975.mp4'],\n",
       " [(26945, 26960), 'playing poker', 'Abramovic-Marina_4Performances1975.mp4'],\n",
       " [(26961, 27024), 'testifying', 'Abramovic-Marina_4Performances1975.mp4'],\n",
       " [(27025, 27040), 'playing poker', 'Abramovic-Marina_4Performances1975.mp4'],\n",
       " [(27041, 27056), 'testifying', 'Abramovic-Marina_4Performances1975.mp4'],\n",
       " [(27057, 27072), 'smoking', 'Abramovic-Marina_4Performances1975.mp4'],\n",
       " [(27073, 27120), 'playing poker', 'Abramovic-Marina_4Performances1975.mp4'],\n",
       " [(27121, 27136), 'smoking', 'Abramovic-Marina_4Performances1975.mp4'],\n",
       " [(27137, 27152), 'grooming dog', 'Abramovic-Marina_4Performances1975.mp4'],\n",
       " [(27153, 27168), 'whistling', 'Abramovic-Marina_4Performances1975.mp4'],\n",
       " [(27169, 27200), 'playing poker', 'Abramovic-Marina_4Performances1975.mp4'],\n",
       " [(27201, 27216), 'smoking', 'Abramovic-Marina_4Performances1975.mp4'],\n",
       " ...]"
      ]
     },
     "execution_count": 14,
     "metadata": {},
     "output_type": "execute_result"
    }
   ],
   "source": [
    "label_periods"
   ]
  },
  {
   "cell_type": "code",
   "execution_count": 15,
   "id": "4a2c2e36",
   "metadata": {},
   "outputs": [],
   "source": [
    "longPeriods = []\n",
    "for lp in label_periods:\n",
    "    for i in range(0,len(file_names)):\n",
    "        if file_names[i]==lp[2]:\n",
    "            frame_length=1/fps[i]\n",
    "            if lp[0][1]-lp[0][0] > 4/frame_length:\n",
    "                longPeriods.append(lp)"
   ]
  },
  {
   "cell_type": "code",
   "execution_count": 16,
   "id": "e58e3217",
   "metadata": {},
   "outputs": [
    {
     "data": {
      "text/plain": [
       "[[(65, 208),\n",
       "  'snatch weight lifting',\n",
       "  'Abramovic-Marina_4Performances1975.mp4'],\n",
       " [(993, 1168), 'smoking', 'Abramovic-Marina_4Performances1975.mp4'],\n",
       " [(1409, 1552), 'smoking', 'Abramovic-Marina_4Performances1975.mp4'],\n",
       " [(2561, 2688), 'brushing hair', 'Abramovic-Marina_4Performances1975.mp4'],\n",
       " [(2993, 3200), 'brushing hair', 'Abramovic-Marina_4Performances1975.mp4'],\n",
       " [(5313, 5456), 'brushing hair', 'Abramovic-Marina_4Performances1975.mp4'],\n",
       " [(9537, 9680), 'smoking', 'Abramovic-Marina_4Performances1975.mp4'],\n",
       " [(9729, 9872), 'smoking', 'Abramovic-Marina_4Performances1975.mp4'],\n",
       " [(10833, 11072), 'brushing hair', 'Abramovic-Marina_4Performances1975.mp4'],\n",
       " [(12401, 12560), 'smoking', 'Abramovic-Marina_4Performances1975.mp4'],\n",
       " [(13281, 13472), 'fixing hair', 'Abramovic-Marina_4Performances1975.mp4'],\n",
       " [(18081, 18272), 'whistling', 'Abramovic-Marina_4Performances1975.mp4'],\n",
       " [(24817, 24960), 'brushing hair', 'Abramovic-Marina_4Performances1975.mp4'],\n",
       " [(25297, 25552), 'front raises', 'Abramovic-Marina_4Performances1975.mp4'],\n",
       " [(25809, 26192), 'playing poker', 'Abramovic-Marina_4Performances1975.mp4'],\n",
       " [(26401, 26560), 'playing poker', 'Abramovic-Marina_4Performances1975.mp4'],\n",
       " [(26769, 26944), 'testifying', 'Abramovic-Marina_4Performances1975.mp4'],\n",
       " [(27217, 27360), 'testifying', 'Abramovic-Marina_4Performances1975.mp4'],\n",
       " [(28033, 28208), 'testifying', 'Abramovic-Marina_4Performances1975.mp4'],\n",
       " [(30273, 30448), 'playing poker', 'Abramovic-Marina_4Performances1975.mp4'],\n",
       " [(30641, 30864), 'playing poker', 'Abramovic-Marina_4Performances1975.mp4'],\n",
       " [(31281, 31408), 'playing poker', 'Abramovic-Marina_4Performances1975.mp4'],\n",
       " [(32081, 32224), 'playing poker', 'Abramovic-Marina_4Performances1975.mp4'],\n",
       " [(33265, 33440), 'whistling', 'Abramovic-Marina_4Performances1975.mp4'],\n",
       " [(33521, 33712), 'whistling', 'Abramovic-Marina_4Performances1975.mp4'],\n",
       " [(34753, 34912), 'whistling', 'Abramovic-Marina_4Performances1975.mp4'],\n",
       " [(35537, 35664), 'testifying', 'Abramovic-Marina_4Performances1975.mp4'],\n",
       " [(35761, 35888), 'testifying', 'Abramovic-Marina_4Performances1975.mp4'],\n",
       " [(36257, 36416), 'playing poker', 'Abramovic-Marina_4Performances1975.mp4'],\n",
       " [(36417, 36544), 'testifying', 'Abramovic-Marina_4Performances1975.mp4'],\n",
       " [(36769, 36896), 'playing poker', 'Abramovic-Marina_4Performances1975.mp4'],\n",
       " [(38257, 38384), 'testifying', 'Abramovic-Marina_4Performances1975.mp4'],\n",
       " [(38881, 39104), 'playing poker', 'Abramovic-Marina_4Performances1975.mp4'],\n",
       " [(39233, 39408), 'playing poker', 'Abramovic-Marina_4Performances1975.mp4'],\n",
       " [(40705, 40864), 'playing poker', 'Abramovic-Marina_4Performances1975.mp4'],\n",
       " [(41521, 41664), 'playing poker', 'Abramovic-Marina_4Performances1975.mp4'],\n",
       " [(46113, 46256), 'testifying', 'Abramovic-Marina_4Performances1975.mp4'],\n",
       " [(46577, 46704), 'playing poker', 'Abramovic-Marina_4Performances1975.mp4'],\n",
       " [(46833, 46960), 'playing poker', 'Abramovic-Marina_4Performances1975.mp4'],\n",
       " [(47393, 47616), 'playing poker', 'Abramovic-Marina_4Performances1975.mp4'],\n",
       " [(48561, 48720), 'playing poker', 'Abramovic-Marina_4Performances1975.mp4'],\n",
       " [(50449, 50768), 'tai chi', 'Abramovic-Marina_4Performances1975.mp4'],\n",
       " [(50769, 50960),\n",
       "  'sign language interpreting',\n",
       "  'Abramovic-Marina_4Performances1975.mp4'],\n",
       " [(51393, 51776), 'whistling', 'Abramovic-Marina_4Performances1975.mp4'],\n",
       " [(51809, 52112), 'whistling', 'Abramovic-Marina_4Performances1975.mp4'],\n",
       " [(52129, 52464), 'whistling', 'Abramovic-Marina_4Performances1975.mp4'],\n",
       " [(52481, 52656), 'whistling', 'Abramovic-Marina_4Performances1975.mp4'],\n",
       " [(52673, 52944), 'whistling', 'Abramovic-Marina_4Performances1975.mp4'],\n",
       " [(53361, 53632), 'whistling', 'Abramovic-Marina_4Performances1975.mp4'],\n",
       " [(53649, 53904), 'whistling', 'Abramovic-Marina_4Performances1975.mp4'],\n",
       " [(54113, 54288), 'whistling', 'Abramovic-Marina_4Performances1975.mp4'],\n",
       " [(54689, 54928), 'whistling', 'Abramovic-Marina_4Performances1975.mp4'],\n",
       " [(54945, 55072), 'whistling', 'Abramovic-Marina_4Performances1975.mp4'],\n",
       " [(55313, 55488), 'whistling', 'Abramovic-Marina_4Performances1975.mp4'],\n",
       " [(55505, 55776), 'whistling', 'Abramovic-Marina_4Performances1975.mp4'],\n",
       " [(55793, 56048), 'whistling', 'Abramovic-Marina_4Performances1975.mp4'],\n",
       " [(56065, 56192), 'whistling', 'Abramovic-Marina_4Performances1975.mp4'],\n",
       " [(56273, 56432), 'whistling', 'Abramovic-Marina_4Performances1975.mp4'],\n",
       " [(56449, 57040), 'whistling', 'Abramovic-Marina_4Performances1975.mp4'],\n",
       " [(57057, 57680), 'whistling', 'Abramovic-Marina_4Performances1975.mp4'],\n",
       " [(57777, 58192), 'whistling', 'Abramovic-Marina_4Performances1975.mp4'],\n",
       " [(58337, 58688), 'whistling', 'Abramovic-Marina_4Performances1975.mp4'],\n",
       " [(58929, 59104), 'whistling', 'Abramovic-Marina_4Performances1975.mp4'],\n",
       " [(59137, 59328), 'whistling', 'Abramovic-Marina_4Performances1975.mp4'],\n",
       " [(59345, 59792), 'whistling', 'Abramovic-Marina_4Performances1975.mp4'],\n",
       " [(59857, 60240), 'whistling', 'Abramovic-Marina_4Performances1975.mp4'],\n",
       " [(60273, 60528), 'whistling', 'Abramovic-Marina_4Performances1975.mp4'],\n",
       " [(61009, 61136), 'whistling', 'Abramovic-Marina_4Performances1975.mp4'],\n",
       " [(61185, 61472), 'whistling', 'Abramovic-Marina_4Performances1975.mp4'],\n",
       " [(61489, 61808), 'whistling', 'Abramovic-Marina_4Performances1975.mp4'],\n",
       " [(61905, 62400), 'whistling', 'Abramovic-Marina_4Performances1975.mp4'],\n",
       " [(62417, 62656), 'whistling', 'Abramovic-Marina_4Performances1975.mp4'],\n",
       " [(62673, 63184), 'whistling', 'Abramovic-Marina_4Performances1975.mp4'],\n",
       " [(63201, 63920), 'whistling', 'Abramovic-Marina_4Performances1975.mp4'],\n",
       " [(63937, 64224), 'whistling', 'Abramovic-Marina_4Performances1975.mp4'],\n",
       " [(64241, 64368), 'whistling', 'Abramovic-Marina_4Performances1975.mp4'],\n",
       " [(64401, 65024), 'whistling', 'Abramovic-Marina_4Performances1975.mp4'],\n",
       " [(65057, 66064), 'whistling', 'Abramovic-Marina_4Performances1975.mp4'],\n",
       " [(66545, 66768), 'whistling', 'Abramovic-Marina_4Performances1975.mp4'],\n",
       " [(66785, 67840), 'whistling', 'Abramovic-Marina_4Performances1975.mp4'],\n",
       " [(67857, 68160), 'whistling', 'Abramovic-Marina_4Performances1975.mp4'],\n",
       " [(68177, 68336), 'whistling', 'Abramovic-Marina_4Performances1975.mp4'],\n",
       " [(68353, 68496), 'whistling', 'Abramovic-Marina_4Performances1975.mp4'],\n",
       " [(68513, 68816), 'whistling', 'Abramovic-Marina_4Performances1975.mp4'],\n",
       " [(68833, 69072), 'whistling', 'Abramovic-Marina_4Performances1975.mp4'],\n",
       " [(69153, 69824), 'whistling', 'Abramovic-Marina_4Performances1975.mp4'],\n",
       " [(69921, 70096), 'whistling', 'Abramovic-Marina_4Performances1975.mp4'],\n",
       " [(70337, 70656), 'whistling', 'Abramovic-Marina_4Performances1975.mp4'],\n",
       " [(70865, 71136), 'whistling', 'Abramovic-Marina_4Performances1975.mp4'],\n",
       " [(71217, 71648), 'whistling', 'Abramovic-Marina_4Performances1975.mp4'],\n",
       " [(72145, 72288), 'whistling', 'Abramovic-Marina_4Performances1975.mp4'],\n",
       " [(72641, 72816), 'whistling', 'Abramovic-Marina_4Performances1975.mp4'],\n",
       " [(72849, 72976), 'whistling', 'Abramovic-Marina_4Performances1975.mp4'],\n",
       " [(73041, 73184), 'whistling', 'Abramovic-Marina_4Performances1975.mp4'],\n",
       " [(73233, 73808), 'whistling', 'Abramovic-Marina_4Performances1975.mp4'],\n",
       " [(73985, 74112), 'whistling', 'Abramovic-Marina_4Performances1975.mp4'],\n",
       " [(74129, 74384), 'whistling', 'Abramovic-Marina_4Performances1975.mp4'],\n",
       " [(74417, 74624), 'whistling', 'Abramovic-Marina_4Performances1975.mp4'],\n",
       " [(74689, 74912), 'whistling', 'Abramovic-Marina_4Performances1975.mp4'],\n",
       " [(74929, 75184), 'whistling', 'Abramovic-Marina_4Performances1975.mp4'],\n",
       " [(75201, 75328), 'whistling', 'Abramovic-Marina_4Performances1975.mp4'],\n",
       " [(75473, 75744), 'whistling', 'Abramovic-Marina_4Performances1975.mp4'],\n",
       " [(75841, 76016), 'whistling', 'Abramovic-Marina_4Performances1975.mp4'],\n",
       " [(76033, 76400), 'whistling', 'Abramovic-Marina_4Performances1975.mp4'],\n",
       " [(76417, 76576), 'whistling', 'Abramovic-Marina_4Performances1975.mp4'],\n",
       " [(76657, 76800), 'whistling', 'Abramovic-Marina_4Performances1975.mp4'],\n",
       " [(76961, 78000), 'whistling', 'Abramovic-Marina_4Performances1975.mp4'],\n",
       " [(78017, 78160), 'whistling', 'Abramovic-Marina_4Performances1975.mp4'],\n",
       " [(78801, 78976), 'yoga', 'Abramovic-Marina_4Performances1975.mp4'],\n",
       " [(79297, 79488), 'dancing ballet', 'Abramovic-Marina_4Performances1975.mp4'],\n",
       " [(79809, 80256), 'dancing ballet', 'Abramovic-Marina_4Performances1975.mp4'],\n",
       " [(80273, 80400), 'dancing ballet', 'Abramovic-Marina_4Performances1975.mp4'],\n",
       " [(80913, 81168), 'dancing ballet', 'Abramovic-Marina_4Performances1975.mp4'],\n",
       " [(81425, 81552), 'dancing ballet', 'Abramovic-Marina_4Performances1975.mp4'],\n",
       " [(82081, 82272), 'dancing ballet', 'Abramovic-Marina_4Performances1975.mp4'],\n",
       " [(82801, 82976), 'dancing ballet', 'Abramovic-Marina_4Performances1975.mp4'],\n",
       " [(83505, 83680), 'dancing ballet', 'Abramovic-Marina_4Performances1975.mp4'],\n",
       " [(83729, 83968), 'dancing ballet', 'Abramovic-Marina_4Performances1975.mp4'],\n",
       " [(83985, 84144), 'dancing ballet', 'Abramovic-Marina_4Performances1975.mp4'],\n",
       " [(84369, 84576), 'tap dancing', 'Abramovic-Marina_4Performances1975.mp4'],\n",
       " [(84737, 84864), 'tap dancing', 'Abramovic-Marina_4Performances1975.mp4'],\n",
       " [(84993, 85136), 'tap dancing', 'Abramovic-Marina_4Performances1975.mp4'],\n",
       " [(85393, 85552), 'tap dancing', 'Abramovic-Marina_4Performances1975.mp4'],\n",
       " [(85905, 86048), 'tap dancing', 'Abramovic-Marina_4Performances1975.mp4'],\n",
       " [(86065, 86256), 'tap dancing', 'Abramovic-Marina_4Performances1975.mp4'],\n",
       " [(86497, 86640), 'tap dancing', 'Abramovic-Marina_4Performances1975.mp4'],\n",
       " [(86849, 86992), 'yoga', 'Abramovic-Marina_4Performances1975.mp4'],\n",
       " [(87825, 88048), 'yoga', 'Abramovic-Marina_4Performances1975.mp4'],\n",
       " [(90705, 90848), 'robot dancing', 'Abramovic-Marina_4Performances1975.mp4'],\n",
       " [(94257, 94496), 'yoga', 'Abramovic-Marina_4Performances1975.mp4'],\n",
       " [(95393, 95536), 'front raises', 'Abramovic-Marina_4Performances1975.mp4'],\n",
       " [(95585, 96176),\n",
       "  'snatch weight lifting',\n",
       "  'Abramovic-Marina_4Performances1975.mp4'],\n",
       " [(209, 608),\n",
       "  'sign language interpreting',\n",
       "  'Abramovic-Marina_Balkan-Erotic-Epic_2006.mp4'],\n",
       " [(881, 1072), 'yoga', 'Abramovic-Marina_Balkan-Erotic-Epic_2006.mp4'],\n",
       " [(1249, 1376), 'yoga', 'Abramovic-Marina_Balkan-Erotic-Epic_2006.mp4'],\n",
       " [(1489, 1616),\n",
       "  'sign language interpreting',\n",
       "  'Abramovic-Marina_Balkan-Erotic-Epic_2006.mp4'],\n",
       " [(2305, 2432),\n",
       "  'riding or walking with horse',\n",
       "  'Abramovic-Marina_Balkan-Erotic-Epic_2006.mp4'],\n",
       " [(2641, 2832), 'drawing', 'Abramovic-Marina_Balkan-Erotic-Epic_2006.mp4'],\n",
       " [(2945, 3056), 'writing', 'Abramovic-Marina_Balkan-Erotic-Epic_2006.mp4'],\n",
       " [(3057, 3248), 'drawing', 'Abramovic-Marina_Balkan-Erotic-Epic_2006.mp4'],\n",
       " [(3841, 4080),\n",
       "  'sign language interpreting',\n",
       "  'Abramovic-Marina_Balkan-Erotic-Epic_2006.mp4'],\n",
       " [(4865, 5120), 'yoga', 'Abramovic-Marina_Balkan-Erotic-Epic_2006.mp4'],\n",
       " [(5425, 5536), 'kissing', 'Abramovic-Marina_Balkan-Erotic-Epic_2006.mp4'],\n",
       " [(5537, 5664), 'yoga', 'Abramovic-Marina_Balkan-Erotic-Epic_2006.mp4'],\n",
       " [(5809, 6144),\n",
       "  'golf putting',\n",
       "  'Abramovic-Marina_Balkan-Erotic-Epic_2006.mp4'],\n",
       " [(7841, 8080), 'singing', 'Abramovic-Marina_Balkan-Erotic-Epic_2006.mp4'],\n",
       " [(8369, 8960),\n",
       "  'stretching leg',\n",
       "  'Abramovic-Marina_Balkan-Erotic-Epic_2006.mp4'],\n",
       " [(8993, 9824),\n",
       "  'chopping wood',\n",
       "  'Abramovic-Marina_Balkan-Erotic-Epic_2006.mp4'],\n",
       " [(10001, 10112),\n",
       "  'sign language interpreting',\n",
       "  'Abramovic-Marina_Balkan-Erotic-Epic_2006.mp4'],\n",
       " [(10305, 10496), 'writing', 'Abramovic-Marina_Balkan-Erotic-Epic_2006.mp4'],\n",
       " [(10641, 10768), 'drawing', 'Abramovic-Marina_Balkan-Erotic-Epic_2006.mp4'],\n",
       " [(10993, 11104), 'writing', 'Abramovic-Marina_Balkan-Erotic-Epic_2006.mp4'],\n",
       " [(11441, 11552), 'tai chi', 'Abramovic-Marina_Balkan-Erotic-Epic_2006.mp4'],\n",
       " [(11745, 11888),\n",
       "  'walking the dog',\n",
       "  'Abramovic-Marina_Balkan-Erotic-Epic_2006.mp4'],\n",
       " [(14401, 14512), 'tai chi', 'Abramovic-Marina_Balkan-Erotic-Epic_2006.mp4'],\n",
       " [(14849, 15008), 'writing', 'Abramovic-Marina_Balkan-Erotic-Epic_2006.mp4'],\n",
       " [(15105, 15232), 'writing', 'Abramovic-Marina_Balkan-Erotic-Epic_2006.mp4'],\n",
       " [(15313, 15456), 'writing', 'Abramovic-Marina_Balkan-Erotic-Epic_2006.mp4'],\n",
       " [(15473, 16320),\n",
       "  'cheerleading',\n",
       "  'Abramovic-Marina_Balkan-Erotic-Epic_2006.mp4'],\n",
       " [(16353, 16912), 'singing', 'Abramovic-Marina_Balkan-Erotic-Epic_2006.mp4'],\n",
       " [(16929, 17248), 'singing', 'Abramovic-Marina_Balkan-Erotic-Epic_2006.mp4'],\n",
       " [(17665, 18400), 'singing', 'Abramovic-Marina_Balkan-Erotic-Epic_2006.mp4'],\n",
       " [(161, 400), 'tai chi', 'Abramovic-Marina_Dangerous-Games_2008.mp4'],\n",
       " [(449, 624), 'tai chi', 'Abramovic-Marina_Dangerous-Games_2008.mp4'],\n",
       " [(641, 752), 'tai chi', 'Abramovic-Marina_Dangerous-Games_2008.mp4'],\n",
       " [(785, 1024), 'news anchoring', 'Abramovic-Marina_Dangerous-Games_2008.mp4'],\n",
       " [(1329, 1456), 'diving cliff', 'Abramovic-Marina_Dangerous-Games_2008.mp4'],\n",
       " [(1473, 1600), 'diving cliff', 'Abramovic-Marina_Dangerous-Games_2008.mp4'],\n",
       " [(1857, 2192),\n",
       "  'passing American football (not in game)',\n",
       "  'Abramovic-Marina_Dangerous-Games_2008.mp4'],\n",
       " [(5457, 6272),\n",
       "  'extinguishing fire',\n",
       "  'Abramovic-Marina_Dangerous-Games_2008.mp4'],\n",
       " [(7313, 7424), 'tai chi', 'Abramovic-Marina_Dangerous-Games_2008.mp4'],\n",
       " [(209, 336), 'tai chi', 'Abramovic.Marina.Seven.Easy.Pieces.2007.mp4'],\n",
       " [(769, 912), 'tai chi', 'Abramovic.Marina.Seven.Easy.Pieces.2007.mp4'],\n",
       " [(977, 1440),\n",
       "  'cleaning windows',\n",
       "  'Abramovic.Marina.Seven.Easy.Pieces.2007.mp4'],\n",
       " [(1457, 1632),\n",
       "  'checking tires',\n",
       "  'Abramovic.Marina.Seven.Easy.Pieces.2007.mp4'],\n",
       " [(1713, 1904),\n",
       "  'checking tires',\n",
       "  'Abramovic.Marina.Seven.Easy.Pieces.2007.mp4'],\n",
       " [(1905, 2224), 'tai chi', 'Abramovic.Marina.Seven.Easy.Pieces.2007.mp4'],\n",
       " [(2257, 2368), 'tai chi', 'Abramovic.Marina.Seven.Easy.Pieces.2007.mp4'],\n",
       " [(2705, 2928), 'tai chi', 'Abramovic.Marina.Seven.Easy.Pieces.2007.mp4'],\n",
       " [(3089, 3264), 'tai chi', 'Abramovic.Marina.Seven.Easy.Pieces.2007.mp4'],\n",
       " [(3297, 3584), 'tai chi', 'Abramovic.Marina.Seven.Easy.Pieces.2007.mp4'],\n",
       " [(3697, 3936), 'testifying', 'Abramovic.Marina.Seven.Easy.Pieces.2007.mp4'],\n",
       " [(4257, 4528), 'kissing', 'Abramovic.Marina.Seven.Easy.Pieces.2007.mp4'],\n",
       " [(4609, 4928), 'whistling', 'Abramovic.Marina.Seven.Easy.Pieces.2007.mp4'],\n",
       " [(5057, 5168), 'testifying', 'Abramovic.Marina.Seven.Easy.Pieces.2007.mp4'],\n",
       " [(5457, 5616),\n",
       "  'massaging back',\n",
       "  'Abramovic.Marina.Seven.Easy.Pieces.2007.mp4'],\n",
       " [(5617, 5728),\n",
       "  \"massaging person's head\",\n",
       "  'Abramovic.Marina.Seven.Easy.Pieces.2007.mp4'],\n",
       " [(6129, 6416),\n",
       "  'stretching leg',\n",
       "  'Abramovic.Marina.Seven.Easy.Pieces.2007.mp4'],\n",
       " [(6433, 7760),\n",
       "  'stretching leg',\n",
       "  'Abramovic.Marina.Seven.Easy.Pieces.2007.mp4'],\n",
       " [(8001, 8128),\n",
       "  'playing poker',\n",
       "  'Abramovic.Marina.Seven.Easy.Pieces.2007.mp4'],\n",
       " [(8129, 8288),\n",
       "  'stretching arm',\n",
       "  'Abramovic.Marina.Seven.Easy.Pieces.2007.mp4'],\n",
       " [(8353, 8480),\n",
       "  'stretching arm',\n",
       "  'Abramovic.Marina.Seven.Easy.Pieces.2007.mp4'],\n",
       " [(8497, 8864), 'whistling', 'Abramovic.Marina.Seven.Easy.Pieces.2007.mp4'],\n",
       " [(8977, 9440), 'whistling', 'Abramovic.Marina.Seven.Easy.Pieces.2007.mp4'],\n",
       " [(9441, 9920),\n",
       "  'stretching leg',\n",
       "  'Abramovic.Marina.Seven.Easy.Pieces.2007.mp4'],\n",
       " [(10001, 10224),\n",
       "  \"massaging person's head\",\n",
       "  'Abramovic.Marina.Seven.Easy.Pieces.2007.mp4'],\n",
       " [(10401, 10672), 'testifying', 'Abramovic.Marina.Seven.Easy.Pieces.2007.mp4'],\n",
       " [(11505, 11792),\n",
       "  'setting table',\n",
       "  'Abramovic.Marina.Seven.Easy.Pieces.2007.mp4'],\n",
       " [(12049, 12176), 'whistling', 'Abramovic.Marina.Seven.Easy.Pieces.2007.mp4'],\n",
       " [(12449, 12592), 'testifying', 'Abramovic.Marina.Seven.Easy.Pieces.2007.mp4'],\n",
       " [(12689, 13152), 'whistling', 'Abramovic.Marina.Seven.Easy.Pieces.2007.mp4'],\n",
       " [(13153, 13264),\n",
       "  'playing volleyball',\n",
       "  'Abramovic.Marina.Seven.Easy.Pieces.2007.mp4'],\n",
       " [(13297, 13728), 'whistling', 'Abramovic.Marina.Seven.Easy.Pieces.2007.mp4'],\n",
       " [(13745, 13936), 'testifying', 'Abramovic.Marina.Seven.Easy.Pieces.2007.mp4'],\n",
       " [(14065, 14176),\n",
       "  'skateboarding',\n",
       "  'Abramovic.Marina.Seven.Easy.Pieces.2007.mp4'],\n",
       " [(14177, 14320),\n",
       "  'washing feet',\n",
       "  'Abramovic.Marina.Seven.Easy.Pieces.2007.mp4'],\n",
       " [(14801, 14928),\n",
       "  'waxing legs',\n",
       "  'Abramovic.Marina.Seven.Easy.Pieces.2007.mp4'],\n",
       " [(15537, 15744), 'whistling', 'Abramovic.Marina.Seven.Easy.Pieces.2007.mp4'],\n",
       " [(16113, 16224), 'testifying', 'Abramovic.Marina.Seven.Easy.Pieces.2007.mp4'],\n",
       " [(16785, 16992),\n",
       "  'giving or receiving award',\n",
       "  'Abramovic.Marina.Seven.Easy.Pieces.2007.mp4'],\n",
       " [(17105, 17264), 'crying', 'Abramovic.Marina.Seven.Easy.Pieces.2007.mp4'],\n",
       " [(17281, 17392), 'testifying', 'Abramovic.Marina.Seven.Easy.Pieces.2007.mp4'],\n",
       " [(17697, 17824), 'whistling', 'Abramovic.Marina.Seven.Easy.Pieces.2007.mp4'],\n",
       " [(18625, 18896),\n",
       "  'playing cymbals',\n",
       "  'Abramovic.Marina.Seven.Easy.Pieces.2007.mp4'],\n",
       " [(18897, 19040), 'testifying', 'Abramovic.Marina.Seven.Easy.Pieces.2007.mp4'],\n",
       " [(19185, 19360), 'testifying', 'Abramovic.Marina.Seven.Easy.Pieces.2007.mp4'],\n",
       " [(19633, 19760), 'smoking', 'Abramovic.Marina.Seven.Easy.Pieces.2007.mp4'],\n",
       " [(19873, 20064), 'texting', 'Abramovic.Marina.Seven.Easy.Pieces.2007.mp4'],\n",
       " [(20081, 20240), 'texting', 'Abramovic.Marina.Seven.Easy.Pieces.2007.mp4'],\n",
       " [(20241, 20368), 'testifying', 'Abramovic.Marina.Seven.Easy.Pieces.2007.mp4'],\n",
       " [(20785, 20896),\n",
       "  'getting a tattoo',\n",
       "  'Abramovic.Marina.Seven.Easy.Pieces.2007.mp4'],\n",
       " [(21473, 21744), 'testifying', 'Abramovic.Marina.Seven.Easy.Pieces.2007.mp4'],\n",
       " [(22161, 22368),\n",
       "  'shining shoes',\n",
       "  'Abramovic.Marina.Seven.Easy.Pieces.2007.mp4'],\n",
       " [(23473, 23584), 'kissing', 'Abramovic.Marina.Seven.Easy.Pieces.2007.mp4'],\n",
       " [(24129, 24240), 'crying', 'Abramovic.Marina.Seven.Easy.Pieces.2007.mp4'],\n",
       " [(24369, 24496), 'smoking', 'Abramovic.Marina.Seven.Easy.Pieces.2007.mp4'],\n",
       " [(24513, 24640), 'smoking', 'Abramovic.Marina.Seven.Easy.Pieces.2007.mp4'],\n",
       " [(25649, 25760),\n",
       "  'tango dancing',\n",
       "  'Abramovic.Marina.Seven.Easy.Pieces.2007.mp4'],\n",
       " [(25857, 26096),\n",
       "  'sled dog racing',\n",
       "  'Abramovic.Marina.Seven.Easy.Pieces.2007.mp4'],\n",
       " [(26337, 26496),\n",
       "  'changing oil',\n",
       "  'Abramovic.Marina.Seven.Easy.Pieces.2007.mp4'],\n",
       " [(26961, 27072),\n",
       "  'playing poker',\n",
       "  'Abramovic.Marina.Seven.Easy.Pieces.2007.mp4'],\n",
       " [(27489, 27600), 'kissing', 'Abramovic.Marina.Seven.Easy.Pieces.2007.mp4'],\n",
       " [(28225, 28368),\n",
       "  'hockey stop',\n",
       "  'Abramovic.Marina.Seven.Easy.Pieces.2007.mp4'],\n",
       " [(29633, 29744),\n",
       "  'tango dancing',\n",
       "  'Abramovic.Marina.Seven.Easy.Pieces.2007.mp4'],\n",
       " [(29761, 29904), 'bowling', 'Abramovic.Marina.Seven.Easy.Pieces.2007.mp4'],\n",
       " [(29969, 30128),\n",
       "  'tasting beer',\n",
       "  'Abramovic.Marina.Seven.Easy.Pieces.2007.mp4'],\n",
       " [(30305, 30432),\n",
       "  'playing guitar',\n",
       "  'Abramovic.Marina.Seven.Easy.Pieces.2007.mp4'],\n",
       " [(30561, 30688),\n",
       "  'playing guitar',\n",
       "  'Abramovic.Marina.Seven.Easy.Pieces.2007.mp4'],\n",
       " [(30929, 31072), 'kissing', 'Abramovic.Marina.Seven.Easy.Pieces.2007.mp4'],\n",
       " [(31153, 31312),\n",
       "  'playing poker',\n",
       "  'Abramovic.Marina.Seven.Easy.Pieces.2007.mp4'],\n",
       " [(31601, 31792), 'crying', 'Abramovic.Marina.Seven.Easy.Pieces.2007.mp4'],\n",
       " [(31985, 32272), 'kissing', 'Abramovic.Marina.Seven.Easy.Pieces.2007.mp4'],\n",
       " [(32273, 32464), 'whistling', 'Abramovic.Marina.Seven.Easy.Pieces.2007.mp4'],\n",
       " [(32865, 33040), 'testifying', 'Abramovic.Marina.Seven.Easy.Pieces.2007.mp4'],\n",
       " [(33393, 33520), 'testifying', 'Abramovic.Marina.Seven.Easy.Pieces.2007.mp4'],\n",
       " [(33697, 33808), 'kissing', 'Abramovic.Marina.Seven.Easy.Pieces.2007.mp4'],\n",
       " [(34305, 34448), 'texting', 'Abramovic.Marina.Seven.Easy.Pieces.2007.mp4'],\n",
       " [(34497, 34656),\n",
       "  'answering questions',\n",
       "  'Abramovic.Marina.Seven.Easy.Pieces.2007.mp4'],\n",
       " [(34961, 35824),\n",
       "  'playing guitar',\n",
       "  'Abramovic.Marina.Seven.Easy.Pieces.2007.mp4'],\n",
       " [(36369, 36576),\n",
       "  'playing poker',\n",
       "  'Abramovic.Marina.Seven.Easy.Pieces.2007.mp4'],\n",
       " [(36657, 37008), 'testifying', 'Abramovic.Marina.Seven.Easy.Pieces.2007.mp4'],\n",
       " [(37041, 37152),\n",
       "  'changing oil',\n",
       "  'Abramovic.Marina.Seven.Easy.Pieces.2007.mp4'],\n",
       " [(37185, 37296),\n",
       "  'changing oil',\n",
       "  'Abramovic.Marina.Seven.Easy.Pieces.2007.mp4'],\n",
       " [(37569, 37712), 'smoking', 'Abramovic.Marina.Seven.Easy.Pieces.2007.mp4'],\n",
       " [(37825, 37952),\n",
       "  'playing guitar',\n",
       "  'Abramovic.Marina.Seven.Easy.Pieces.2007.mp4'],\n",
       " [(37953, 38064), 'archery', 'Abramovic.Marina.Seven.Easy.Pieces.2007.mp4'],\n",
       " [(38577, 38752),\n",
       "  'checking tires',\n",
       "  'Abramovic.Marina.Seven.Easy.Pieces.2007.mp4'],\n",
       " [(39217, 40000),\n",
       "  \"massaging person's head\",\n",
       "  'Abramovic.Marina.Seven.Easy.Pieces.2007.mp4'],\n",
       " [(40065, 40208),\n",
       "  'playing chess',\n",
       "  'Abramovic.Marina.Seven.Easy.Pieces.2007.mp4'],\n",
       " [(40881, 41104),\n",
       "  'playing xylophone',\n",
       "  'Abramovic.Marina.Seven.Easy.Pieces.2007.mp4'],\n",
       " [(41489, 41616),\n",
       "  'playing chess',\n",
       "  'Abramovic.Marina.Seven.Easy.Pieces.2007.mp4'],\n",
       " [(42401, 42560),\n",
       "  'skateboarding',\n",
       "  'Abramovic.Marina.Seven.Easy.Pieces.2007.mp4'],\n",
       " [(44161, 44320),\n",
       "  'skateboarding',\n",
       "  'Abramovic.Marina.Seven.Easy.Pieces.2007.mp4'],\n",
       " [(44481, 44656),\n",
       "  'stretching leg',\n",
       "  'Abramovic.Marina.Seven.Easy.Pieces.2007.mp4'],\n",
       " [(44801, 45056),\n",
       "  'stretching arm',\n",
       "  'Abramovic.Marina.Seven.Easy.Pieces.2007.mp4'],\n",
       " [(45505, 45968), 'situp', 'Abramovic.Marina.Seven.Easy.Pieces.2007.mp4'],\n",
       " [(46081, 46272), 'situp', 'Abramovic.Marina.Seven.Easy.Pieces.2007.mp4'],\n",
       " [(46417, 46528),\n",
       "  'stretching leg',\n",
       "  'Abramovic.Marina.Seven.Easy.Pieces.2007.mp4'],\n",
       " [(47377, 47536),\n",
       "  'breakdancing',\n",
       "  'Abramovic.Marina.Seven.Easy.Pieces.2007.mp4'],\n",
       " [(48449, 48592), 'bartending', 'Abramovic.Marina.Seven.Easy.Pieces.2007.mp4'],\n",
       " [(50353, 50592), 'bowling', 'Abramovic.Marina.Seven.Easy.Pieces.2007.mp4'],\n",
       " [(50881, 51360),\n",
       "  'sharpening knives',\n",
       "  'Abramovic.Marina.Seven.Easy.Pieces.2007.mp4'],\n",
       " [(51633, 51792), 'bowling', 'Abramovic.Marina.Seven.Easy.Pieces.2007.mp4'],\n",
       " [(51793, 52096),\n",
       "  'cracking neck',\n",
       "  'Abramovic.Marina.Seven.Easy.Pieces.2007.mp4'],\n",
       " [(52577, 52784),\n",
       "  'blowing out candles',\n",
       "  'Abramovic.Marina.Seven.Easy.Pieces.2007.mp4'],\n",
       " [(52785, 52944),\n",
       "  'blowing glass',\n",
       "  'Abramovic.Marina.Seven.Easy.Pieces.2007.mp4'],\n",
       " [(52961, 53168),\n",
       "  'cracking neck',\n",
       "  'Abramovic.Marina.Seven.Easy.Pieces.2007.mp4'],\n",
       " [(53425, 53664),\n",
       "  'stretching arm',\n",
       "  'Abramovic.Marina.Seven.Easy.Pieces.2007.mp4'],\n",
       " [(54369, 54496),\n",
       "  'milking cow',\n",
       "  'Abramovic.Marina.Seven.Easy.Pieces.2007.mp4'],\n",
       " [(54609, 54848), 'writing', 'Abramovic.Marina.Seven.Easy.Pieces.2007.mp4'],\n",
       " [(54849, 54960),\n",
       "  'shining shoes',\n",
       "  'Abramovic.Marina.Seven.Easy.Pieces.2007.mp4'],\n",
       " [(55729, 55888),\n",
       "  'blowing glass',\n",
       "  'Abramovic.Marina.Seven.Easy.Pieces.2007.mp4'],\n",
       " [(55953, 56208),\n",
       "  \"massaging person's head\",\n",
       "  'Abramovic.Marina.Seven.Easy.Pieces.2007.mp4'],\n",
       " [(56209, 56528), 'high jump', 'Abramovic.Marina.Seven.Easy.Pieces.2007.mp4'],\n",
       " [(56545, 58064),\n",
       "  'cracking neck',\n",
       "  'Abramovic.Marina.Seven.Easy.Pieces.2007.mp4'],\n",
       " [(59361, 59520),\n",
       "  'playing trombone',\n",
       "  'Abramovic.Marina.Seven.Easy.Pieces.2007.mp4'],\n",
       " [(59601, 59856),\n",
       "  'giving or receiving award',\n",
       "  'Abramovic.Marina.Seven.Easy.Pieces.2007.mp4'],\n",
       " [(59905, 60048),\n",
       "  'playing clarinet',\n",
       "  'Abramovic.Marina.Seven.Easy.Pieces.2007.mp4'],\n",
       " [(61713, 61840),\n",
       "  'playing didgeridoo',\n",
       "  'Abramovic.Marina.Seven.Easy.Pieces.2007.mp4'],\n",
       " [(62449, 62592),\n",
       "  'playing didgeridoo',\n",
       "  'Abramovic.Marina.Seven.Easy.Pieces.2007.mp4'],\n",
       " [(63905, 64112),\n",
       "  'giving or receiving award',\n",
       "  'Abramovic.Marina.Seven.Easy.Pieces.2007.mp4'],\n",
       " [(64673, 64848),\n",
       "  'playing poker',\n",
       "  'Abramovic.Marina.Seven.Easy.Pieces.2007.mp4'],\n",
       " [(65873, 65984),\n",
       "  'sharpening pencil',\n",
       "  'Abramovic.Marina.Seven.Easy.Pieces.2007.mp4'],\n",
       " [(66289, 66576),\n",
       "  'playing trombone',\n",
       "  'Abramovic.Marina.Seven.Easy.Pieces.2007.mp4'],\n",
       " [(66593, 66880),\n",
       "  'playing trombone',\n",
       "  'Abramovic.Marina.Seven.Easy.Pieces.2007.mp4'],\n",
       " [(66881, 66992),\n",
       "  'giving or receiving award',\n",
       "  'Abramovic.Marina.Seven.Easy.Pieces.2007.mp4'],\n",
       " [(73201, 73312),\n",
       "  'playing recorder',\n",
       "  'Abramovic.Marina.Seven.Easy.Pieces.2007.mp4'],\n",
       " [(76593, 76720),\n",
       "  'dancing ballet',\n",
       "  'Abramovic.Marina.Seven.Easy.Pieces.2007.mp4'],\n",
       " [(77793, 77968),\n",
       "  'dancing ballet',\n",
       "  'Abramovic.Marina.Seven.Easy.Pieces.2007.mp4'],\n",
       " [(78129, 78256),\n",
       "  'cheerleading',\n",
       "  'Abramovic.Marina.Seven.Easy.Pieces.2007.mp4'],\n",
       " [(78369, 78512),\n",
       "  'playing trombone',\n",
       "  'Abramovic.Marina.Seven.Easy.Pieces.2007.mp4'],\n",
       " [(79041, 79152), 'smoking', 'Abramovic.Marina.Seven.Easy.Pieces.2007.mp4'],\n",
       " [(79185, 79600),\n",
       "  'ice fishing',\n",
       "  'Abramovic.Marina.Seven.Easy.Pieces.2007.mp4'],\n",
       " [(79697, 79936),\n",
       "  'diving cliff',\n",
       "  'Abramovic.Marina.Seven.Easy.Pieces.2007.mp4'],\n",
       " [(80049, 80192),\n",
       "  'tasting beer',\n",
       "  'Abramovic.Marina.Seven.Easy.Pieces.2007.mp4'],\n",
       " [(80209, 80448),\n",
       "  'tasting beer',\n",
       "  'Abramovic.Marina.Seven.Easy.Pieces.2007.mp4'],\n",
       " [(80705, 80832), 'smoking', 'Abramovic.Marina.Seven.Easy.Pieces.2007.mp4'],\n",
       " [(81377, 81536),\n",
       "  'front raises',\n",
       "  'Abramovic.Marina.Seven.Easy.Pieces.2007.mp4'],\n",
       " [(82673, 82800),\n",
       "  'punching person (boxing)',\n",
       "  'Abramovic.Marina.Seven.Easy.Pieces.2007.mp4'],\n",
       " [(83601, 83888),\n",
       "  'tying knot (not on a tie)',\n",
       "  'Abramovic.Marina.Seven.Easy.Pieces.2007.mp4'],\n",
       " [(83905, 84032),\n",
       "  'dancing ballet',\n",
       "  'Abramovic.Marina.Seven.Easy.Pieces.2007.mp4'],\n",
       " [(85009, 85296),\n",
       "  'punching person (boxing)',\n",
       "  'Abramovic.Marina.Seven.Easy.Pieces.2007.mp4'],\n",
       " [(85313, 85824),\n",
       "  'punching person (boxing)',\n",
       "  'Abramovic.Marina.Seven.Easy.Pieces.2007.mp4'],\n",
       " [(85841, 86272),\n",
       "  'punching person (boxing)',\n",
       "  'Abramovic.Marina.Seven.Easy.Pieces.2007.mp4'],\n",
       " [(86289, 86608),\n",
       "  'punching person (boxing)',\n",
       "  'Abramovic.Marina.Seven.Easy.Pieces.2007.mp4'],\n",
       " [(86625, 86880),\n",
       "  'punching person (boxing)',\n",
       "  'Abramovic.Marina.Seven.Easy.Pieces.2007.mp4'],\n",
       " [(87345, 87568),\n",
       "  'punching person (boxing)',\n",
       "  'Abramovic.Marina.Seven.Easy.Pieces.2007.mp4'],\n",
       " [(87569, 87696),\n",
       "  'dancing ballet',\n",
       "  'Abramovic.Marina.Seven.Easy.Pieces.2007.mp4'],\n",
       " [(87729, 87856), 'yoga', 'Abramovic.Marina.Seven.Easy.Pieces.2007.mp4'],\n",
       " [(88289, 88896),\n",
       "  'massaging feet',\n",
       "  'Abramovic.Marina.Seven.Easy.Pieces.2007.mp4'],\n",
       " [(90097, 90304), 'kissing', 'Abramovic.Marina.Seven.Easy.Pieces.2007.mp4'],\n",
       " [(90433, 90672),\n",
       "  'diving cliff',\n",
       "  'Abramovic.Marina.Seven.Easy.Pieces.2007.mp4'],\n",
       " [(90785, 91088),\n",
       "  'tasting beer',\n",
       "  'Abramovic.Marina.Seven.Easy.Pieces.2007.mp4'],\n",
       " [(91201, 91312),\n",
       "  'massaging back',\n",
       "  'Abramovic.Marina.Seven.Easy.Pieces.2007.mp4'],\n",
       " [(93489, 94016), 'bandaging', 'Abramovic.Marina.Seven.Easy.Pieces.2007.mp4'],\n",
       " [(94017, 94208),\n",
       "  \"massaging person's head\",\n",
       "  'Abramovic.Marina.Seven.Easy.Pieces.2007.mp4'],\n",
       " [(94977, 95200), 'yoga', 'Abramovic.Marina.Seven.Easy.Pieces.2007.mp4'],\n",
       " [(96561, 96768), 'smoking', 'Abramovic.Marina.Seven.Easy.Pieces.2007.mp4'],\n",
       " [(96833, 97232), 'smoking', 'Abramovic.Marina.Seven.Easy.Pieces.2007.mp4'],\n",
       " [(97361, 97504),\n",
       "  'dancing ballet',\n",
       "  'Abramovic.Marina.Seven.Easy.Pieces.2007.mp4'],\n",
       " [(97729, 97920),\n",
       "  'waxing chest',\n",
       "  'Abramovic.Marina.Seven.Easy.Pieces.2007.mp4'],\n",
       " [(97937, 98064),\n",
       "  'stretching arm',\n",
       "  'Abramovic.Marina.Seven.Easy.Pieces.2007.mp4'],\n",
       " [(98433, 98848),\n",
       "  'somersaulting',\n",
       "  'Abramovic.Marina.Seven.Easy.Pieces.2007.mp4'],\n",
       " [(98977, 99216),\n",
       "  'tasting beer',\n",
       "  'Abramovic.Marina.Seven.Easy.Pieces.2007.mp4'],\n",
       " [(99281, 99392), 'smoking', 'Abramovic.Marina.Seven.Easy.Pieces.2007.mp4'],\n",
       " [(99649, 99808),\n",
       "  'tasting beer',\n",
       "  'Abramovic.Marina.Seven.Easy.Pieces.2007.mp4'],\n",
       " [(99809, 99920),\n",
       "  'folding napkins',\n",
       "  'Abramovic.Marina.Seven.Easy.Pieces.2007.mp4'],\n",
       " [(100049, 100160),\n",
       "  \"massaging person's head\",\n",
       "  'Abramovic.Marina.Seven.Easy.Pieces.2007.mp4'],\n",
       " [(100401, 100528),\n",
       "  'dunking basketball',\n",
       "  'Abramovic.Marina.Seven.Easy.Pieces.2007.mp4'],\n",
       " [(100545, 100720),\n",
       "  'bookbinding',\n",
       "  'Abramovic.Marina.Seven.Easy.Pieces.2007.mp4'],\n",
       " [(100721, 100864),\n",
       "  'massaging legs',\n",
       "  'Abramovic.Marina.Seven.Easy.Pieces.2007.mp4'],\n",
       " [(101409, 101520),\n",
       "  'playing poker',\n",
       "  'Abramovic.Marina.Seven.Easy.Pieces.2007.mp4'],\n",
       " [(101985, 102320), 'yoga', 'Abramovic.Marina.Seven.Easy.Pieces.2007.mp4'],\n",
       " [(102689, 102992),\n",
       "  'massaging back',\n",
       "  'Abramovic.Marina.Seven.Easy.Pieces.2007.mp4'],\n",
       " [(103137, 103248),\n",
       "  'answering questions',\n",
       "  'Abramovic.Marina.Seven.Easy.Pieces.2007.mp4'],\n",
       " [(104305, 104528),\n",
       "  'taking a shower',\n",
       "  'Abramovic.Marina.Seven.Easy.Pieces.2007.mp4'],\n",
       " [(104545, 104688),\n",
       "  'taking a shower',\n",
       "  'Abramovic.Marina.Seven.Easy.Pieces.2007.mp4'],\n",
       " [(105953, 106064),\n",
       "  'punching person (boxing)',\n",
       "  'Abramovic.Marina.Seven.Easy.Pieces.2007.mp4'],\n",
       " [(106577, 106720),\n",
       "  'punching person (boxing)',\n",
       "  'Abramovic.Marina.Seven.Easy.Pieces.2007.mp4'],\n",
       " [(108065, 108272),\n",
       "  'waxing chest',\n",
       "  'Abramovic.Marina.Seven.Easy.Pieces.2007.mp4'],\n",
       " [(108289, 108512),\n",
       "  'answering questions',\n",
       "  'Abramovic.Marina.Seven.Easy.Pieces.2007.mp4'],\n",
       " [(108881, 108992),\n",
       "  'playing volleyball',\n",
       "  'Abramovic.Marina.Seven.Easy.Pieces.2007.mp4'],\n",
       " [(109057, 109248),\n",
       "  'massaging back',\n",
       "  'Abramovic.Marina.Seven.Easy.Pieces.2007.mp4'],\n",
       " [(109281, 109600),\n",
       "  'massaging back',\n",
       "  'Abramovic.Marina.Seven.Easy.Pieces.2007.mp4'],\n",
       " [(110721, 111136),\n",
       "  'stretching arm',\n",
       "  'Abramovic.Marina.Seven.Easy.Pieces.2007.mp4'],\n",
       " [(111249, 111456), 'drawing', 'Abramovic.Marina.Seven.Easy.Pieces.2007.mp4'],\n",
       " [(111585, 111696),\n",
       "  'stretching arm',\n",
       "  'Abramovic.Marina.Seven.Easy.Pieces.2007.mp4'],\n",
       " [(112001, 112176),\n",
       "  'dancing ballet',\n",
       "  'Abramovic.Marina.Seven.Easy.Pieces.2007.mp4'],\n",
       " [(112945, 113088),\n",
       "  'stretching arm',\n",
       "  'Abramovic.Marina.Seven.Easy.Pieces.2007.mp4'],\n",
       " [(113409, 113536),\n",
       "  'playing tennis',\n",
       "  'Abramovic.Marina.Seven.Easy.Pieces.2007.mp4'],\n",
       " [(113937, 114048), 'texting', 'Abramovic.Marina.Seven.Easy.Pieces.2007.mp4'],\n",
       " [(116497, 116720),\n",
       "  'stretching arm',\n",
       "  'Abramovic.Marina.Seven.Easy.Pieces.2007.mp4'],\n",
       " [(116737, 116912),\n",
       "  'stretching arm',\n",
       "  'Abramovic.Marina.Seven.Easy.Pieces.2007.mp4'],\n",
       " [(118177, 118640),\n",
       "  'stretching arm',\n",
       "  'Abramovic.Marina.Seven.Easy.Pieces.2007.mp4'],\n",
       " [(118897, 119136),\n",
       "  'stretching arm',\n",
       "  'Abramovic.Marina.Seven.Easy.Pieces.2007.mp4'],\n",
       " [(119745, 119856),\n",
       "  'skateboarding',\n",
       "  'Abramovic.Marina.Seven.Easy.Pieces.2007.mp4'],\n",
       " [(119921, 120048),\n",
       "  'checking tires',\n",
       "  'Abramovic.Marina.Seven.Easy.Pieces.2007.mp4'],\n",
       " [(120065, 120256),\n",
       "  'dancing ballet',\n",
       "  'Abramovic.Marina.Seven.Easy.Pieces.2007.mp4'],\n",
       " [(120257, 120368), 'bowling', 'Abramovic.Marina.Seven.Easy.Pieces.2007.mp4'],\n",
       " [(120625, 120832), 'bowling', 'Abramovic.Marina.Seven.Easy.Pieces.2007.mp4'],\n",
       " [(121105, 121456),\n",
       "  'gymnastics tumbling',\n",
       "  'Abramovic.Marina.Seven.Easy.Pieces.2007.mp4'],\n",
       " [(122785, 122992),\n",
       "  'massaging back',\n",
       "  'Abramovic.Marina.Seven.Easy.Pieces.2007.mp4'],\n",
       " [(123153, 123280),\n",
       "  'ice climbing',\n",
       "  'Abramovic.Marina.Seven.Easy.Pieces.2007.mp4'],\n",
       " [(123457, 123584),\n",
       "  'ice climbing',\n",
       "  'Abramovic.Marina.Seven.Easy.Pieces.2007.mp4'],\n",
       " [(123809, 123984), 'tai chi', 'Abramovic.Marina.Seven.Easy.Pieces.2007.mp4'],\n",
       " [(124433, 124576), 'tai chi', 'Abramovic.Marina.Seven.Easy.Pieces.2007.mp4'],\n",
       " [(126001, 126144), 'bowling', 'Abramovic.Marina.Seven.Easy.Pieces.2007.mp4'],\n",
       " [(126241, 126448),\n",
       "  'snowboarding',\n",
       "  'Abramovic.Marina.Seven.Easy.Pieces.2007.mp4'],\n",
       " [(126785, 126960),\n",
       "  'snatch weight lifting',\n",
       "  'Abramovic.Marina.Seven.Easy.Pieces.2007.mp4'],\n",
       " [(127681, 127904), 'tai chi', 'Abramovic.Marina.Seven.Easy.Pieces.2007.mp4'],\n",
       " [(127905, 129408),\n",
       "  'playing tennis',\n",
       "  'Abramovic.Marina.Seven.Easy.Pieces.2007.mp4'],\n",
       " [(130321, 130448), 'tai chi', 'Abramovic.Marina.Seven.Easy.Pieces.2007.mp4'],\n",
       " [(131473, 131648),\n",
       "  'salsa dancing',\n",
       "  'Abramovic.Marina.Seven.Easy.Pieces.2007.mp4'],\n",
       " [(132353, 132464), 'tai chi', 'Abramovic.Marina.Seven.Easy.Pieces.2007.mp4'],\n",
       " [(133041, 133216), 'tai chi', 'Abramovic.Marina.Seven.Easy.Pieces.2007.mp4']]"
      ]
     },
     "execution_count": 16,
     "metadata": {},
     "output_type": "execute_result"
    }
   ],
   "source": [
    "longPeriods"
   ]
  },
  {
   "cell_type": "code",
   "execution_count": 17,
   "id": "0cefdbe0",
   "metadata": {},
   "outputs": [
    {
     "data": {
      "text/plain": [
       "['snatch weight lifting',\n",
       " 'smoking',\n",
       " 'brushing hair',\n",
       " 'fixing hair',\n",
       " 'whistling',\n",
       " 'front raises',\n",
       " 'playing poker',\n",
       " 'testifying',\n",
       " 'tai chi',\n",
       " 'sign language interpreting',\n",
       " 'yoga',\n",
       " 'dancing ballet',\n",
       " 'tap dancing',\n",
       " 'robot dancing',\n",
       " 'riding or walking with horse',\n",
       " 'drawing',\n",
       " 'writing',\n",
       " 'kissing',\n",
       " 'golf putting',\n",
       " 'singing',\n",
       " 'stretching leg',\n",
       " 'chopping wood',\n",
       " 'walking the dog',\n",
       " 'cheerleading',\n",
       " 'news anchoring',\n",
       " 'diving cliff',\n",
       " 'passing American football (not in game)',\n",
       " 'extinguishing fire',\n",
       " 'cleaning windows',\n",
       " 'checking tires',\n",
       " 'massaging back',\n",
       " \"massaging person's head\",\n",
       " 'stretching arm',\n",
       " 'setting table',\n",
       " 'playing volleyball',\n",
       " 'skateboarding',\n",
       " 'washing feet',\n",
       " 'waxing legs',\n",
       " 'giving or receiving award',\n",
       " 'crying',\n",
       " 'playing cymbals',\n",
       " 'texting',\n",
       " 'getting a tattoo',\n",
       " 'shining shoes',\n",
       " 'tango dancing',\n",
       " 'sled dog racing',\n",
       " 'changing oil',\n",
       " 'hockey stop',\n",
       " 'bowling',\n",
       " 'tasting beer',\n",
       " 'playing guitar',\n",
       " 'answering questions',\n",
       " 'archery',\n",
       " 'playing chess',\n",
       " 'playing xylophone',\n",
       " 'situp',\n",
       " 'breakdancing',\n",
       " 'bartending',\n",
       " 'sharpening knives',\n",
       " 'cracking neck',\n",
       " 'blowing out candles',\n",
       " 'blowing glass',\n",
       " 'milking cow',\n",
       " 'high jump',\n",
       " 'playing trombone',\n",
       " 'playing clarinet',\n",
       " 'playing didgeridoo',\n",
       " 'sharpening pencil',\n",
       " 'playing recorder',\n",
       " 'ice fishing',\n",
       " 'punching person (boxing)',\n",
       " 'tying knot (not on a tie)',\n",
       " 'massaging feet',\n",
       " 'bandaging',\n",
       " 'waxing chest',\n",
       " 'somersaulting',\n",
       " 'folding napkins',\n",
       " 'dunking basketball',\n",
       " 'bookbinding',\n",
       " 'massaging legs',\n",
       " 'taking a shower',\n",
       " 'playing tennis',\n",
       " 'gymnastics tumbling',\n",
       " 'ice climbing',\n",
       " 'snowboarding',\n",
       " 'salsa dancing']"
      ]
     },
     "execution_count": 17,
     "metadata": {},
     "output_type": "execute_result"
    }
   ],
   "source": [
    "class1=[]\n",
    "for i in range(0,len(longPeriods)):\n",
    "    class1.append(longPeriods[i][1])\n",
    "class2=[]\n",
    "for i in class1:\n",
    "    if i not in class2:\n",
    "        class2.append(i)\n",
    "class2"
   ]
  },
  {
   "cell_type": "code",
   "execution_count": 18,
   "id": "2541b9f1",
   "metadata": {},
   "outputs": [],
   "source": [
    "clips = []\n",
    "for l in longPeriods:\n",
    "    video = VideoFileClip(r\"../Input_films/\"+l[2])\n",
    "    for i in range(0,len(file_names)):\n",
    "        if file_names[i]==l[2]:\n",
    "            frame_length=1/fps[i]\n",
    "            subclip = video.subclip(l[0][0]*frame_length,l[0][1]*frame_length)\n",
    "            clips.append([subclip,l[1]+'_'+str(int(l[0][0]*frame_length))])"
   ]
  },
  {
   "cell_type": "code",
   "execution_count": 19,
   "id": "61fac7cd",
   "metadata": {},
   "outputs": [
    {
     "data": {
      "text/plain": [
       "[[<moviepy.video.io.VideoFileClip.VideoFileClip at 0x22cd5e08890>,\n",
       "  'snatch weight lifting_2'],\n",
       " [<moviepy.video.io.VideoFileClip.VideoFileClip at 0x22cd5779e90>,\n",
       "  'smoking_33'],\n",
       " [<moviepy.video.io.VideoFileClip.VideoFileClip at 0x22ce00a2810>,\n",
       "  'smoking_47'],\n",
       " [<moviepy.video.io.VideoFileClip.VideoFileClip at 0x22ce00ad190>,\n",
       "  'brushing hair_85'],\n",
       " [<moviepy.video.io.VideoFileClip.VideoFileClip at 0x22ce00adcd0>,\n",
       "  'brushing hair_99'],\n",
       " [<moviepy.video.io.VideoFileClip.VideoFileClip at 0x22ce00aebd0>,\n",
       "  'brushing hair_177'],\n",
       " [<moviepy.video.io.VideoFileClip.VideoFileClip at 0x22ce00b83d0>,\n",
       "  'smoking_318'],\n",
       " [<moviepy.video.io.VideoFileClip.VideoFileClip at 0x22ce00b8810>,\n",
       "  'smoking_324'],\n",
       " [<moviepy.video.io.VideoFileClip.VideoFileClip at 0x22ce00b9810>,\n",
       "  'brushing hair_361'],\n",
       " [<moviepy.video.io.VideoFileClip.VideoFileClip at 0x22cd5d8f250>,\n",
       "  'smoking_413'],\n",
       " [<moviepy.video.io.VideoFileClip.VideoFileClip at 0x22ce00bb710>,\n",
       "  'fixing hair_443'],\n",
       " [<moviepy.video.io.VideoFileClip.VideoFileClip at 0x22ce00cc690>,\n",
       "  'whistling_603'],\n",
       " [<moviepy.video.io.VideoFileClip.VideoFileClip at 0x22ce00cd210>,\n",
       "  'brushing hair_828'],\n",
       " [<moviepy.video.io.VideoFileClip.VideoFileClip at 0x22ce00cdd50>,\n",
       "  'front raises_844'],\n",
       " [<moviepy.video.io.VideoFileClip.VideoFileClip at 0x22ce00cea10>,\n",
       "  'playing poker_861'],\n",
       " [<moviepy.video.io.VideoFileClip.VideoFileClip at 0x22ce00cf610>,\n",
       "  'playing poker_880'],\n",
       " [<moviepy.video.io.VideoFileClip.VideoFileClip at 0x22ce00cf6d0>,\n",
       "  'testifying_893'],\n",
       " [<moviepy.video.io.VideoFileClip.VideoFileClip at 0x22ce00e0d50>,\n",
       "  'testifying_908'],\n",
       " [<moviepy.video.io.VideoFileClip.VideoFileClip at 0x22ce00e18d0>,\n",
       "  'testifying_935'],\n",
       " [<moviepy.video.io.VideoFileClip.VideoFileClip at 0x22ce00e2350>,\n",
       "  'playing poker_1010'],\n",
       " [<moviepy.video.io.VideoFileClip.VideoFileClip at 0x22ce00e2f10>,\n",
       "  'playing poker_1022'],\n",
       " [<moviepy.video.io.VideoFileClip.VideoFileClip at 0x22ce00b9f90>,\n",
       "  'playing poker_1043'],\n",
       " [<moviepy.video.io.VideoFileClip.VideoFileClip at 0x22ce00e3c90>,\n",
       "  'playing poker_1070'],\n",
       " [<moviepy.video.io.VideoFileClip.VideoFileClip at 0x22ce00ecbd0>,\n",
       "  'whistling_1109'],\n",
       " [<moviepy.video.io.VideoFileClip.VideoFileClip at 0x22ce00ed650>,\n",
       "  'whistling_1118'],\n",
       " [<moviepy.video.io.VideoFileClip.VideoFileClip at 0x22ce00ee190>,\n",
       "  'whistling_1159'],\n",
       " [<moviepy.video.io.VideoFileClip.VideoFileClip at 0x22ce00eec10>,\n",
       "  'testifying_1185'],\n",
       " [<moviepy.video.io.VideoFileClip.VideoFileClip at 0x22ce00ef790>,\n",
       "  'testifying_1193'],\n",
       " [<moviepy.video.io.VideoFileClip.VideoFileClip at 0x22ce00efb10>,\n",
       "  'playing poker_1209'],\n",
       " [<moviepy.video.io.VideoFileClip.VideoFileClip at 0x22ce00f0d90>,\n",
       "  'testifying_1215'],\n",
       " [<moviepy.video.io.VideoFileClip.VideoFileClip at 0x22ce00f18d0>,\n",
       "  'playing poker_1226'],\n",
       " [<moviepy.video.io.VideoFileClip.VideoFileClip at 0x22ce00f2310>,\n",
       "  'testifying_1276'],\n",
       " [<moviepy.video.io.VideoFileClip.VideoFileClip at 0x22ce00f2e90>,\n",
       "  'playing poker_1297'],\n",
       " [<moviepy.video.io.VideoFileClip.VideoFileClip at 0x22ce00f38d0>,\n",
       "  'playing poker_1309'],\n",
       " [<moviepy.video.io.VideoFileClip.VideoFileClip at 0x22ce0104410>,\n",
       "  'playing poker_1358'],\n",
       " [<moviepy.video.io.VideoFileClip.VideoFileClip at 0x22ce0104ed0>,\n",
       "  'playing poker_1385'],\n",
       " [<moviepy.video.io.VideoFileClip.VideoFileClip at 0x22ce0105a90>,\n",
       "  'testifying_1538'],\n",
       " [<moviepy.video.io.VideoFileClip.VideoFileClip at 0x22ce01065d0>,\n",
       "  'playing poker_1554'],\n",
       " [<moviepy.video.io.VideoFileClip.VideoFileClip at 0x22ce01070d0>,\n",
       "  'playing poker_1562'],\n",
       " [<moviepy.video.io.VideoFileClip.VideoFileClip at 0x22ce0107b10>,\n",
       "  'playing poker_1581'],\n",
       " [<moviepy.video.io.VideoFileClip.VideoFileClip at 0x22ce0110610>,\n",
       "  'playing poker_1620'],\n",
       " [<moviepy.video.io.VideoFileClip.VideoFileClip at 0x22ce0111090>,\n",
       "  'tai chi_1683'],\n",
       " [<moviepy.video.io.VideoFileClip.VideoFileClip at 0x22ce0111b90>,\n",
       "  'sign language interpreting_1693'],\n",
       " [<moviepy.video.io.VideoFileClip.VideoFileClip at 0x22ce0112650>,\n",
       "  'whistling_1714'],\n",
       " [<moviepy.video.io.VideoFileClip.VideoFileClip at 0x22ce0113150>,\n",
       "  'whistling_1728'],\n",
       " [<moviepy.video.io.VideoFileClip.VideoFileClip at 0x22ce0113650>,\n",
       "  'whistling_1739'],\n",
       " [<moviepy.video.io.VideoFileClip.VideoFileClip at 0x22ce0120810>,\n",
       "  'whistling_1751'],\n",
       " [<moviepy.video.io.VideoFileClip.VideoFileClip at 0x22ce0121290>,\n",
       "  'whistling_1757'],\n",
       " [<moviepy.video.io.VideoFileClip.VideoFileClip at 0x22ce0121d10>,\n",
       "  'whistling_1780'],\n",
       " [<moviepy.video.io.VideoFileClip.VideoFileClip at 0x22ce0122810>,\n",
       "  'whistling_1790'],\n",
       " [<moviepy.video.io.VideoFileClip.VideoFileClip at 0x22ce0123310>,\n",
       "  'whistling_1805'],\n",
       " [<moviepy.video.io.VideoFileClip.VideoFileClip at 0x22ce0123e10>,\n",
       "  'whistling_1824'],\n",
       " [<moviepy.video.io.VideoFileClip.VideoFileClip at 0x22ce0128910>,\n",
       "  'whistling_1833'],\n",
       " [<moviepy.video.io.VideoFileClip.VideoFileClip at 0x22ce0129390>,\n",
       "  'whistling_1845'],\n",
       " [<moviepy.video.io.VideoFileClip.VideoFileClip at 0x22ce0129e90>,\n",
       "  'whistling_1852'],\n",
       " [<moviepy.video.io.VideoFileClip.VideoFileClip at 0x22ce012aa50>,\n",
       "  'whistling_1861'],\n",
       " [<moviepy.video.io.VideoFileClip.VideoFileClip at 0x22ce012b550>,\n",
       "  'whistling_1870'],\n",
       " [<moviepy.video.io.VideoFileClip.VideoFileClip at 0x22ce012bd10>,\n",
       "  'whistling_1877'],\n",
       " [<moviepy.video.io.VideoFileClip.VideoFileClip at 0x22ce0138a90>,\n",
       "  'whistling_1883'],\n",
       " [<moviepy.video.io.VideoFileClip.VideoFileClip at 0x22ce0139510>,\n",
       "  'whistling_1903'],\n",
       " [<moviepy.video.io.VideoFileClip.VideoFileClip at 0x22ce013a010>,\n",
       "  'whistling_1927'],\n",
       " [<moviepy.video.io.VideoFileClip.VideoFileClip at 0x22ce013aa90>,\n",
       "  'whistling_1946'],\n",
       " [<moviepy.video.io.VideoFileClip.VideoFileClip at 0x22ce013b590>,\n",
       "  'whistling_1966'],\n",
       " [<moviepy.video.io.VideoFileClip.VideoFileClip at 0x22ce013b890>,\n",
       "  'whistling_1973'],\n",
       " [<moviepy.video.io.VideoFileClip.VideoFileClip at 0x22ce0148c10>,\n",
       "  'whistling_1980'],\n",
       " [<moviepy.video.io.VideoFileClip.VideoFileClip at 0x22ce01496d0>,\n",
       "  'whistling_1997'],\n",
       " [<moviepy.video.io.VideoFileClip.VideoFileClip at 0x22ce014a1d0>,\n",
       "  'whistling_2011'],\n",
       " [<moviepy.video.io.VideoFileClip.VideoFileClip at 0x22ce014ac90>,\n",
       "  'whistling_2035'],\n",
       " [<moviepy.video.io.VideoFileClip.VideoFileClip at 0x22ce014b650>,\n",
       "  'whistling_2041'],\n",
       " [<moviepy.video.io.VideoFileClip.VideoFileClip at 0x22ce014bc50>,\n",
       "  'whistling_2051'],\n",
       " [<moviepy.video.io.VideoFileClip.VideoFileClip at 0x22ce0154dd0>,\n",
       "  'whistling_2065'],\n",
       " [<moviepy.video.io.VideoFileClip.VideoFileClip at 0x22ce0155950>,\n",
       "  'whistling_2082'],\n",
       " [<moviepy.video.io.VideoFileClip.VideoFileClip at 0x22ce01563d0>,\n",
       "  'whistling_2091'],\n",
       " [<moviepy.video.io.VideoFileClip.VideoFileClip at 0x22ce0156ed0>,\n",
       "  'whistling_2108'],\n",
       " [<moviepy.video.io.VideoFileClip.VideoFileClip at 0x22ce0157950>,\n",
       "  'whistling_2133'],\n",
       " [<moviepy.video.io.VideoFileClip.VideoFileClip at 0x22ce0158510>,\n",
       "  'whistling_2143'],\n",
       " [<moviepy.video.io.VideoFileClip.VideoFileClip at 0x22ce0158fd0>,\n",
       "  'whistling_2148'],\n",
       " [<moviepy.video.io.VideoFileClip.VideoFileClip at 0x22ce0159a50>,\n",
       "  'whistling_2170'],\n",
       " [<moviepy.video.io.VideoFileClip.VideoFileClip at 0x22ce015a550>,\n",
       "  'whistling_2220'],\n",
       " [<moviepy.video.io.VideoFileClip.VideoFileClip at 0x22ce015b090>,\n",
       "  'whistling_2228'],\n",
       " [<moviepy.video.io.VideoFileClip.VideoFileClip at 0x22ce015bb90>,\n",
       "  'whistling_2264'],\n",
       " [<moviepy.video.io.VideoFileClip.VideoFileClip at 0x22ce0174750>,\n",
       "  'whistling_2274'],\n",
       " [<moviepy.video.io.VideoFileClip.VideoFileClip at 0x22ce01752d0>,\n",
       "  'whistling_2280'],\n",
       " [<moviepy.video.io.VideoFileClip.VideoFileClip at 0x22ce0175e10>,\n",
       "  'whistling_2286'],\n",
       " [<moviepy.video.io.VideoFileClip.VideoFileClip at 0x22ce0176a50>,\n",
       "  'whistling_2296'],\n",
       " [<moviepy.video.io.VideoFileClip.VideoFileClip at 0x22ce0177650>,\n",
       "  'whistling_2307'],\n",
       " [<moviepy.video.io.VideoFileClip.VideoFileClip at 0x22ce0177ad0>,\n",
       "  'whistling_2333'],\n",
       " [<moviepy.video.io.VideoFileClip.VideoFileClip at 0x22ce017ce10>,\n",
       "  'whistling_2346'],\n",
       " [<moviepy.video.io.VideoFileClip.VideoFileClip at 0x22ce017d950>,\n",
       "  'whistling_2364'],\n",
       " [<moviepy.video.io.VideoFileClip.VideoFileClip at 0x22ce017e5d0>,\n",
       "  'whistling_2376'],\n",
       " [<moviepy.video.io.VideoFileClip.VideoFileClip at 0x22ce017f110>,\n",
       "  'whistling_2407'],\n",
       " [<moviepy.video.io.VideoFileClip.VideoFileClip at 0x22ce017fc90>,\n",
       "  'whistling_2423'],\n",
       " [<moviepy.video.io.VideoFileClip.VideoFileClip at 0x22ce01888d0>,\n",
       "  'whistling_2430'],\n",
       " [<moviepy.video.io.VideoFileClip.VideoFileClip at 0x22ce0189450>,\n",
       "  'whistling_2437'],\n",
       " [<moviepy.video.io.VideoFileClip.VideoFileClip at 0x22ce0189fd0>,\n",
       "  'whistling_2443'],\n",
       " [<moviepy.video.io.VideoFileClip.VideoFileClip at 0x22ce018ab10>,\n",
       "  'whistling_2468'],\n",
       " [<moviepy.video.io.VideoFileClip.VideoFileClip at 0x22ce018b650>,\n",
       "  'whistling_2473'],\n",
       " [<moviepy.video.io.VideoFileClip.VideoFileClip at 0x22ce018b810>,\n",
       "  'whistling_2483'],\n",
       " [<moviepy.video.io.VideoFileClip.VideoFileClip at 0x22ce019cd50>,\n",
       "  'whistling_2492'],\n",
       " [<moviepy.video.io.VideoFileClip.VideoFileClip at 0x22ce019d8d0>,\n",
       "  'whistling_2500'],\n",
       " [<moviepy.video.io.VideoFileClip.VideoFileClip at 0x22ce019e410>,\n",
       "  'whistling_2509'],\n",
       " [<moviepy.video.io.VideoFileClip.VideoFileClip at 0x22ce019ef50>,\n",
       "  'whistling_2518'],\n",
       " [<moviepy.video.io.VideoFileClip.VideoFileClip at 0x22ce019fa90>,\n",
       "  'whistling_2530'],\n",
       " [<moviepy.video.io.VideoFileClip.VideoFileClip at 0x22ce01a4610>,\n",
       "  'whistling_2536'],\n",
       " [<moviepy.video.io.VideoFileClip.VideoFileClip at 0x22ce01a51d0>,\n",
       "  'whistling_2549'],\n",
       " [<moviepy.video.io.VideoFileClip.VideoFileClip at 0x22ce01a5d10>,\n",
       "  'whistling_2557'],\n",
       " [<moviepy.video.io.VideoFileClip.VideoFileClip at 0x22ce01a6850>,\n",
       "  'whistling_2567'],\n",
       " [<moviepy.video.io.VideoFileClip.VideoFileClip at 0x22ce01a73d0>,\n",
       "  'whistling_2603'],\n",
       " [<moviepy.video.io.VideoFileClip.VideoFileClip at 0x22ce01a7f90>,\n",
       "  'yoga_2629'],\n",
       " [<moviepy.video.io.VideoFileClip.VideoFileClip at 0x22ce01acb50>,\n",
       "  'dancing ballet_2645'],\n",
       " [<moviepy.video.io.VideoFileClip.VideoFileClip at 0x22ce01ad650>,\n",
       "  'dancing ballet_2662'],\n",
       " [<moviepy.video.io.VideoFileClip.VideoFileClip at 0x22ce01ae190>,\n",
       "  'dancing ballet_2678'],\n",
       " [<moviepy.video.io.VideoFileClip.VideoFileClip at 0x22ce01aec90>,\n",
       "  'dancing ballet_2699'],\n",
       " [<moviepy.video.io.VideoFileClip.VideoFileClip at 0x22ce01af910>,\n",
       "  'dancing ballet_2716'],\n",
       " [<moviepy.video.io.VideoFileClip.VideoFileClip at 0x22ce01bc450>,\n",
       "  'dancing ballet_2738'],\n",
       " [<moviepy.video.io.VideoFileClip.VideoFileClip at 0x22ce01bcf50>,\n",
       "  'dancing ballet_2762'],\n",
       " [<moviepy.video.io.VideoFileClip.VideoFileClip at 0x22ce01bda90>,\n",
       "  'dancing ballet_2786'],\n",
       " [<moviepy.video.io.VideoFileClip.VideoFileClip at 0x22ce01be650>,\n",
       "  'dancing ballet_2793'],\n",
       " [<moviepy.video.io.VideoFileClip.VideoFileClip at 0x22ce01bf150>,\n",
       "  'dancing ballet_2802'],\n",
       " [<moviepy.video.io.VideoFileClip.VideoFileClip at 0x22ce01bfc90>,\n",
       "  'tap dancing_2815'],\n",
       " [<moviepy.video.io.VideoFileClip.VideoFileClip at 0x22ce01cc7d0>,\n",
       "  'tap dancing_2827'],\n",
       " [<moviepy.video.io.VideoFileClip.VideoFileClip at 0x22ce01cd310>,\n",
       "  'tap dancing_2835'],\n",
       " [<moviepy.video.io.VideoFileClip.VideoFileClip at 0x22ce01cde10>,\n",
       "  'tap dancing_2849'],\n",
       " [<moviepy.video.io.VideoFileClip.VideoFileClip at 0x22ce01ce950>,\n",
       "  'tap dancing_2866'],\n",
       " [<moviepy.video.io.VideoFileClip.VideoFileClip at 0x22ce01cf450>,\n",
       "  'tap dancing_2871'],\n",
       " [<moviepy.video.io.VideoFileClip.VideoFileClip at 0x22ce01cff50>,\n",
       "  'tap dancing_2886'],\n",
       " [<moviepy.video.io.VideoFileClip.VideoFileClip at 0x22ce01e4a90>,\n",
       "  'yoga_2897'],\n",
       " [<moviepy.video.io.VideoFileClip.VideoFileClip at 0x22ce01e55d0>,\n",
       "  'yoga_2930'],\n",
       " [<moviepy.video.io.VideoFileClip.VideoFileClip at 0x22ce01e5890>,\n",
       "  'robot dancing_3026'],\n",
       " [<moviepy.video.io.VideoFileClip.VideoFileClip at 0x22ce01e6c90>,\n",
       "  'yoga_3145'],\n",
       " [<moviepy.video.io.VideoFileClip.VideoFileClip at 0x22ce01e7810>,\n",
       "  'front raises_3182'],\n",
       " [<moviepy.video.io.VideoFileClip.VideoFileClip at 0x22ce01f4350>,\n",
       "  'snatch weight lifting_3189'],\n",
       " [<moviepy.video.io.VideoFileClip.VideoFileClip at 0x22ce01f4e50>,\n",
       "  'sign language interpreting_8'],\n",
       " [<moviepy.video.io.VideoFileClip.VideoFileClip at 0x22ce01f5950>, 'yoga_35'],\n",
       " [<moviepy.video.io.VideoFileClip.VideoFileClip at 0x22ce01f6490>, 'yoga_49'],\n",
       " [<moviepy.video.io.VideoFileClip.VideoFileClip at 0x22ce01f6fd0>,\n",
       "  'sign language interpreting_59'],\n",
       " [<moviepy.video.io.VideoFileClip.VideoFileClip at 0x22ce01f7ad0>,\n",
       "  'riding or walking with horse_92'],\n",
       " [<moviepy.video.io.VideoFileClip.VideoFileClip at 0x22ce01f8610>,\n",
       "  'drawing_105'],\n",
       " [<moviepy.video.io.VideoFileClip.VideoFileClip at 0x22ce01f9190>,\n",
       "  'writing_117'],\n",
       " [<moviepy.video.io.VideoFileClip.VideoFileClip at 0x22ce01f9d10>,\n",
       "  'drawing_122'],\n",
       " [<moviepy.video.io.VideoFileClip.VideoFileClip at 0x22ce01fa850>,\n",
       "  'sign language interpreting_153'],\n",
       " [<moviepy.video.io.VideoFileClip.VideoFileClip at 0x22ce01fb350>, 'yoga_194'],\n",
       " [<moviepy.video.io.VideoFileClip.VideoFileClip at 0x22ce01fbe90>,\n",
       "  'kissing_217'],\n",
       " [<moviepy.video.io.VideoFileClip.VideoFileClip at 0x22ce020ca10>, 'yoga_221'],\n",
       " [<moviepy.video.io.VideoFileClip.VideoFileClip at 0x22ce020d590>,\n",
       "  'golf putting_232'],\n",
       " [<moviepy.video.io.VideoFileClip.VideoFileClip at 0x22ce020e0d0>,\n",
       "  'singing_313'],\n",
       " [<moviepy.video.io.VideoFileClip.VideoFileClip at 0x22ce020ec10>,\n",
       "  'stretching leg_334'],\n",
       " [<moviepy.video.io.VideoFileClip.VideoFileClip at 0x22ce020f790>,\n",
       "  'chopping wood_359'],\n",
       " [<moviepy.video.io.VideoFileClip.VideoFileClip at 0x22ce0214310>,\n",
       "  'sign language interpreting_400'],\n",
       " [<moviepy.video.io.VideoFileClip.VideoFileClip at 0x22ce0214e10>,\n",
       "  'writing_412'],\n",
       " [<moviepy.video.io.VideoFileClip.VideoFileClip at 0x22ce0215950>,\n",
       "  'drawing_425'],\n",
       " [<moviepy.video.io.VideoFileClip.VideoFileClip at 0x22ce0216490>,\n",
       "  'writing_439'],\n",
       " [<moviepy.video.io.VideoFileClip.VideoFileClip at 0x22ce0216fd0>,\n",
       "  'tai chi_457'],\n",
       " [<moviepy.video.io.VideoFileClip.VideoFileClip at 0x22ce0217b50>,\n",
       "  'walking the dog_469'],\n",
       " [<moviepy.video.io.VideoFileClip.VideoFileClip at 0x22ce0224690>,\n",
       "  'tai chi_576'],\n",
       " [<moviepy.video.io.VideoFileClip.VideoFileClip at 0x22ce02251d0>,\n",
       "  'writing_593'],\n",
       " [<moviepy.video.io.VideoFileClip.VideoFileClip at 0x22ce0225d10>,\n",
       "  'writing_604'],\n",
       " [<moviepy.video.io.VideoFileClip.VideoFileClip at 0x22ce0226850>,\n",
       "  'writing_612'],\n",
       " [<moviepy.video.io.VideoFileClip.VideoFileClip at 0x22ce0227390>,\n",
       "  'cheerleading_618'],\n",
       " [<moviepy.video.io.VideoFileClip.VideoFileClip at 0x22ce0227f10>,\n",
       "  'singing_654'],\n",
       " [<moviepy.video.io.VideoFileClip.VideoFileClip at 0x22c80320ad0>,\n",
       "  'singing_677'],\n",
       " [<moviepy.video.io.VideoFileClip.VideoFileClip at 0x22c80321650>,\n",
       "  'singing_706'],\n",
       " [<moviepy.video.io.VideoFileClip.VideoFileClip at 0x22c80322190>,\n",
       "  'tai chi_6'],\n",
       " [<moviepy.video.io.VideoFileClip.VideoFileClip at 0x22c80322cd0>,\n",
       "  'tai chi_18'],\n",
       " [<moviepy.video.io.VideoFileClip.VideoFileClip at 0x22c80323810>,\n",
       "  'tai chi_26'],\n",
       " [<moviepy.video.io.VideoFileClip.VideoFileClip at 0x22c8032c410>,\n",
       "  'news anchoring_32'],\n",
       " [<moviepy.video.io.VideoFileClip.VideoFileClip at 0x22c8032cf10>,\n",
       "  'diving cliff_55'],\n",
       " [<moviepy.video.io.VideoFileClip.VideoFileClip at 0x22c8032d0d0>,\n",
       "  'diving cliff_61'],\n",
       " [<moviepy.video.io.VideoFileClip.VideoFileClip at 0x22c8032e5d0>,\n",
       "  'passing American football (not in game)_77'],\n",
       " [<moviepy.video.io.VideoFileClip.VideoFileClip at 0x22c8032f0d0>,\n",
       "  'extinguishing fire_227'],\n",
       " [<moviepy.video.io.VideoFileClip.VideoFileClip at 0x22c8032f390>,\n",
       "  'tai chi_305'],\n",
       " [<moviepy.video.io.VideoFileClip.VideoFileClip at 0x22c8033c750>,\n",
       "  'tai chi_8'],\n",
       " [<moviepy.video.io.VideoFileClip.VideoFileClip at 0x22c8033d290>,\n",
       "  'tai chi_32'],\n",
       " [<moviepy.video.io.VideoFileClip.VideoFileClip at 0x22c8033ddd0>,\n",
       "  'cleaning windows_40'],\n",
       " [<moviepy.video.io.VideoFileClip.VideoFileClip at 0x22c8033e8d0>,\n",
       "  'checking tires_60'],\n",
       " [<moviepy.video.io.VideoFileClip.VideoFileClip at 0x22c8033f3d0>,\n",
       "  'checking tires_71'],\n",
       " [<moviepy.video.io.VideoFileClip.VideoFileClip at 0x22c8033fed0>,\n",
       "  'tai chi_79'],\n",
       " [<moviepy.video.io.VideoFileClip.VideoFileClip at 0x22c80348a50>,\n",
       "  'tai chi_94'],\n",
       " [<moviepy.video.io.VideoFileClip.VideoFileClip at 0x22c80349610>,\n",
       "  'tai chi_112'],\n",
       " [<moviepy.video.io.VideoFileClip.VideoFileClip at 0x22c8034a150>,\n",
       "  'tai chi_128'],\n",
       " [<moviepy.video.io.VideoFileClip.VideoFileClip at 0x22c8034ac90>,\n",
       "  'tai chi_137'],\n",
       " [<moviepy.video.io.VideoFileClip.VideoFileClip at 0x22c8034b7d0>,\n",
       "  'testifying_154'],\n",
       " [<moviepy.video.io.VideoFileClip.VideoFileClip at 0x22c80354390>,\n",
       "  'kissing_177'],\n",
       " [<moviepy.video.io.VideoFileClip.VideoFileClip at 0x22c80354ed0>,\n",
       "  'whistling_192'],\n",
       " [<moviepy.video.io.VideoFileClip.VideoFileClip at 0x22c80355a10>,\n",
       "  'testifying_210'],\n",
       " [<moviepy.video.io.VideoFileClip.VideoFileClip at 0x22c80356550>,\n",
       "  'massaging back_227'],\n",
       " [<moviepy.video.io.VideoFileClip.VideoFileClip at 0x22c80357050>,\n",
       "  \"massaging person's head_234\"],\n",
       " [<moviepy.video.io.VideoFileClip.VideoFileClip at 0x22c80357b90>,\n",
       "  'stretching leg_255'],\n",
       " [<moviepy.video.io.VideoFileClip.VideoFileClip at 0x22c80364710>,\n",
       "  'stretching leg_268'],\n",
       " [<moviepy.video.io.VideoFileClip.VideoFileClip at 0x22c80365210>,\n",
       "  'playing poker_333'],\n",
       " [<moviepy.video.io.VideoFileClip.VideoFileClip at 0x22c80365d90>,\n",
       "  'stretching arm_339'],\n",
       " [<moviepy.video.io.VideoFileClip.VideoFileClip at 0x22c80366890>,\n",
       "  'stretching arm_348'],\n",
       " [<moviepy.video.io.VideoFileClip.VideoFileClip at 0x22c80367390>,\n",
       "  'whistling_354'],\n",
       " [<moviepy.video.io.VideoFileClip.VideoFileClip at 0x22c80367ed0>,\n",
       "  'whistling_374'],\n",
       " [<moviepy.video.io.VideoFileClip.VideoFileClip at 0x22c80370a50>,\n",
       "  'stretching leg_393'],\n",
       " [<moviepy.video.io.VideoFileClip.VideoFileClip at 0x22c80371590>,\n",
       "  \"massaging person's head_417\"],\n",
       " [<moviepy.video.io.VideoFileClip.VideoFileClip at 0x22c80372090>,\n",
       "  'testifying_433'],\n",
       " [<moviepy.video.io.VideoFileClip.VideoFileClip at 0x22c80372c50>,\n",
       "  'setting table_479'],\n",
       " [<moviepy.video.io.VideoFileClip.VideoFileClip at 0x22c80373710>,\n",
       "  'whistling_502'],\n",
       " [<moviepy.video.io.VideoFileClip.VideoFileClip at 0x22c80373a90>,\n",
       "  'testifying_519'],\n",
       " [<moviepy.video.io.VideoFileClip.VideoFileClip at 0x22c8037ce10>,\n",
       "  'whistling_529'],\n",
       " [<moviepy.video.io.VideoFileClip.VideoFileClip at 0x22c8037d990>,\n",
       "  'playing volleyball_548'],\n",
       " [<moviepy.video.io.VideoFileClip.VideoFileClip at 0x22c8037e490>,\n",
       "  'whistling_554'],\n",
       " [<moviepy.video.io.VideoFileClip.VideoFileClip at 0x22c8037efd0>,\n",
       "  'testifying_573'],\n",
       " [<moviepy.video.io.VideoFileClip.VideoFileClip at 0x22c8032f310>,\n",
       "  'skateboarding_586'],\n",
       " [<moviepy.video.io.VideoFileClip.VideoFileClip at 0x22c80390690>,\n",
       "  'washing feet_591'],\n",
       " [<moviepy.video.io.VideoFileClip.VideoFileClip at 0x22c80391190>,\n",
       "  'waxing legs_617'],\n",
       " [<moviepy.video.io.VideoFileClip.VideoFileClip at 0x22c80391cd0>,\n",
       "  'whistling_648'],\n",
       " [<moviepy.video.io.VideoFileClip.VideoFileClip at 0x22c80392810>,\n",
       "  'testifying_672'],\n",
       " [<moviepy.video.io.VideoFileClip.VideoFileClip at 0x22c80393350>,\n",
       "  'giving or receiving award_700'],\n",
       " [<moviepy.video.io.VideoFileClip.VideoFileClip at 0x22c80393e50>,\n",
       "  'crying_713'],\n",
       " [<moviepy.video.io.VideoFileClip.VideoFileClip at 0x22c803989d0>,\n",
       "  'testifying_720'],\n",
       " [<moviepy.video.io.VideoFileClip.VideoFileClip at 0x22c80399510>,\n",
       "  'whistling_738'],\n",
       " [<moviepy.video.io.VideoFileClip.VideoFileClip at 0x22c8039a050>,\n",
       "  'playing cymbals_776'],\n",
       " [<moviepy.video.io.VideoFileClip.VideoFileClip at 0x22c8039ab50>,\n",
       "  'testifying_788'],\n",
       " [<moviepy.video.io.VideoFileClip.VideoFileClip at 0x22c8039b690>,\n",
       "  'testifying_800'],\n",
       " [<moviepy.video.io.VideoFileClip.VideoFileClip at 0x22c8039bfd0>,\n",
       "  'smoking_818'],\n",
       " [<moviepy.video.io.VideoFileClip.VideoFileClip at 0x22c803a4d50>,\n",
       "  'texting_828'],\n",
       " [<moviepy.video.io.VideoFileClip.VideoFileClip at 0x22c803a5890>,\n",
       "  'texting_837'],\n",
       " [<moviepy.video.io.VideoFileClip.VideoFileClip at 0x22c803a6410>,\n",
       "  'testifying_844'],\n",
       " [<moviepy.video.io.VideoFileClip.VideoFileClip at 0x22c803a6f50>,\n",
       "  'getting a tattoo_866'],\n",
       " [<moviepy.video.io.VideoFileClip.VideoFileClip at 0x22c803a7a50>,\n",
       "  'testifying_895'],\n",
       " [<moviepy.video.io.VideoFileClip.VideoFileClip at 0x22c803b05d0>,\n",
       "  'shining shoes_924'],\n",
       " [<moviepy.video.io.VideoFileClip.VideoFileClip at 0x22c803b10d0>,\n",
       "  'kissing_979'],\n",
       " [<moviepy.video.io.VideoFileClip.VideoFileClip at 0x22c803b1c50>,\n",
       "  'crying_1006'],\n",
       " [<moviepy.video.io.VideoFileClip.VideoFileClip at 0x22c803b2810>,\n",
       "  'smoking_1016'],\n",
       " [<moviepy.video.io.VideoFileClip.VideoFileClip at 0x22c803b33d0>,\n",
       "  'smoking_1022'],\n",
       " [<moviepy.video.io.VideoFileClip.VideoFileClip at 0x22c803b3f10>,\n",
       "  'tango dancing_1069'],\n",
       " [<moviepy.video.io.VideoFileClip.VideoFileClip at 0x22c803c0a50>,\n",
       "  'sled dog racing_1078'],\n",
       " [<moviepy.video.io.VideoFileClip.VideoFileClip at 0x22c803c1550>,\n",
       "  'changing oil_1098'],\n",
       " [<moviepy.video.io.VideoFileClip.VideoFileClip at 0x22c803c2050>,\n",
       "  'playing poker_1124'],\n",
       " [<moviepy.video.io.VideoFileClip.VideoFileClip at 0x22c803c2b50>,\n",
       "  'kissing_1146'],\n",
       " [<moviepy.video.io.VideoFileClip.VideoFileClip at 0x22c803c3690>,\n",
       "  'hockey stop_1177'],\n",
       " [<moviepy.video.io.VideoFileClip.VideoFileClip at 0x22c803c3f90>,\n",
       "  'tango dancing_1235'],\n",
       " [<moviepy.video.io.VideoFileClip.VideoFileClip at 0x22c803cccd0>,\n",
       "  'bowling_1241'],\n",
       " [<moviepy.video.io.VideoFileClip.VideoFileClip at 0x22c803cd890>,\n",
       "  'tasting beer_1249'],\n",
       " [<moviepy.video.io.VideoFileClip.VideoFileClip at 0x22c803ce390>,\n",
       "  'playing guitar_1263'],\n",
       " [<moviepy.video.io.VideoFileClip.VideoFileClip at 0x22c803cee90>,\n",
       "  'playing guitar_1274'],\n",
       " [<moviepy.video.io.VideoFileClip.VideoFileClip at 0x22c803cf990>,\n",
       "  'kissing_1289'],\n",
       " [<moviepy.video.io.VideoFileClip.VideoFileClip at 0x22c803e0550>,\n",
       "  'playing poker_1299'],\n",
       " [<moviepy.video.io.VideoFileClip.VideoFileClip at 0x22c803e1050>,\n",
       "  'crying_1318'],\n",
       " [<moviepy.video.io.VideoFileClip.VideoFileClip at 0x22c803e1b90>,\n",
       "  'kissing_1334'],\n",
       " [<moviepy.video.io.VideoFileClip.VideoFileClip at 0x22c803e26d0>,\n",
       "  'whistling_1346'],\n",
       " [<moviepy.video.io.VideoFileClip.VideoFileClip at 0x22c803e3210>,\n",
       "  'testifying_1370'],\n",
       " [<moviepy.video.io.VideoFileClip.VideoFileClip at 0x22c803e3d50>,\n",
       "  'testifying_1392'],\n",
       " [<moviepy.video.io.VideoFileClip.VideoFileClip at 0x22c803f0910>,\n",
       "  'kissing_1405'],\n",
       " [<moviepy.video.io.VideoFileClip.VideoFileClip at 0x22c803f1450>,\n",
       "  'texting_1430'],\n",
       " [<moviepy.video.io.VideoFileClip.VideoFileClip at 0x22c803f1f90>,\n",
       "  'answering questions_1438'],\n",
       " [<moviepy.video.io.VideoFileClip.VideoFileClip at 0x22c803f2a90>,\n",
       "  'playing guitar_1458'],\n",
       " [<moviepy.video.io.VideoFileClip.VideoFileClip at 0x22c803f3590>,\n",
       "  'playing poker_1516'],\n",
       " [<moviepy.video.io.VideoFileClip.VideoFileClip at 0x22c803f3e90>,\n",
       "  'testifying_1528'],\n",
       " [<moviepy.video.io.VideoFileClip.VideoFileClip at 0x22c803f8c10>,\n",
       "  'changing oil_1544'],\n",
       " [<moviepy.video.io.VideoFileClip.VideoFileClip at 0x22c803f9710>,\n",
       "  'changing oil_1550'],\n",
       " [<moviepy.video.io.VideoFileClip.VideoFileClip at 0x22c803fa210>,\n",
       "  'smoking_1566'],\n",
       " [<moviepy.video.io.VideoFileClip.VideoFileClip at 0x22c803fad50>,\n",
       "  'playing guitar_1577'],\n",
       " [<moviepy.video.io.VideoFileClip.VideoFileClip at 0x22c803fb850>,\n",
       "  'archery_1582'],\n",
       " [<moviepy.video.io.VideoFileClip.VideoFileClip at 0x22c804083d0>,\n",
       "  'checking tires_1608'],\n",
       " [<moviepy.video.io.VideoFileClip.VideoFileClip at 0x22c80408ed0>,\n",
       "  \"massaging person's head_1635\"],\n",
       " [<moviepy.video.io.VideoFileClip.VideoFileClip at 0x22c804099d0>,\n",
       "  'playing chess_1671'],\n",
       " [<moviepy.video.io.VideoFileClip.VideoFileClip at 0x22c8040a510>,\n",
       "  'playing xylophone_1705'],\n",
       " [<moviepy.video.io.VideoFileClip.VideoFileClip at 0x22c8040afd0>,\n",
       "  'playing chess_1730'],\n",
       " [<moviepy.video.io.VideoFileClip.VideoFileClip at 0x22c8040bb50>,\n",
       "  'skateboarding_1768'],\n",
       " [<moviepy.video.io.VideoFileClip.VideoFileClip at 0x22c80418690>,\n",
       "  'skateboarding_1841'],\n",
       " [<moviepy.video.io.VideoFileClip.VideoFileClip at 0x22c80419190>,\n",
       "  'stretching leg_1855'],\n",
       " [<moviepy.video.io.VideoFileClip.VideoFileClip at 0x22c80419c90>,\n",
       "  'stretching arm_1868'],\n",
       " [<moviepy.video.io.VideoFileClip.VideoFileClip at 0x22c8041a790>,\n",
       "  'situp_1897'],\n",
       " [<moviepy.video.io.VideoFileClip.VideoFileClip at 0x22c8041b2d0>,\n",
       "  'situp_1921'],\n",
       " [<moviepy.video.io.VideoFileClip.VideoFileClip at 0x22c8041be10>,\n",
       "  'stretching leg_1935'],\n",
       " [<moviepy.video.io.VideoFileClip.VideoFileClip at 0x22c80420950>,\n",
       "  'breakdancing_1976'],\n",
       " [<moviepy.video.io.VideoFileClip.VideoFileClip at 0x22c80421490>,\n",
       "  'bartending_2020'],\n",
       " [<moviepy.video.io.VideoFileClip.VideoFileClip at 0x22c80421fd0>,\n",
       "  'bowling_2100'],\n",
       " [<moviepy.video.io.VideoFileClip.VideoFileClip at 0x22c80422b10>,\n",
       "  'sharpening knives_2122'],\n",
       " [<moviepy.video.io.VideoFileClip.VideoFileClip at 0x22c80423610>,\n",
       "  'bowling_2153'],\n",
       " [<moviepy.video.io.VideoFileClip.VideoFileClip at 0x22c80423750>,\n",
       "  'cracking neck_2160'],\n",
       " [<moviepy.video.io.VideoFileClip.VideoFileClip at 0x22c80434c90>,\n",
       "  'blowing out candles_2192'],\n",
       " [<moviepy.video.io.VideoFileClip.VideoFileClip at 0x22c80435790>,\n",
       "  'blowing glass_2201'],\n",
       " [<moviepy.video.io.VideoFileClip.VideoFileClip at 0x22c80436290>,\n",
       "  'cracking neck_2208'],\n",
       " [<moviepy.video.io.VideoFileClip.VideoFileClip at 0x22c80436d90>,\n",
       "  'stretching arm_2228'],\n",
       " [<moviepy.video.io.VideoFileClip.VideoFileClip at 0x22c80437890>,\n",
       "  'milking cow_2267'],\n",
       " [<moviepy.video.io.VideoFileClip.VideoFileClip at 0x22c80440410>,\n",
       "  'writing_2277'],\n",
       " [<moviepy.video.io.VideoFileClip.VideoFileClip at 0x22c80440f50>,\n",
       "  'shining shoes_2287'],\n",
       " [<moviepy.video.io.VideoFileClip.VideoFileClip at 0x22c80441a50>,\n",
       "  'blowing glass_2324'],\n",
       " [<moviepy.video.io.VideoFileClip.VideoFileClip at 0x22c80442550>,\n",
       "  \"massaging person's head_2333\"],\n",
       " [<moviepy.video.io.VideoFileClip.VideoFileClip at 0x22c80443050>,\n",
       "  'high jump_2344'],\n",
       " [<moviepy.video.io.VideoFileClip.VideoFileClip at 0x22c80443b90>,\n",
       "  'cracking neck_2358'],\n",
       " [<moviepy.video.io.VideoFileClip.VideoFileClip at 0x22c804486d0>,\n",
       "  'playing trombone_2475'],\n",
       " [<moviepy.video.io.VideoFileClip.VideoFileClip at 0x22c804491d0>,\n",
       "  'giving or receiving award_2485'],\n",
       " [<moviepy.video.io.VideoFileClip.VideoFileClip at 0x22c80449d10>,\n",
       "  'playing clarinet_2498'],\n",
       " [<moviepy.video.io.VideoFileClip.VideoFileClip at 0x22c8044a810>,\n",
       "  'playing didgeridoo_2573'],\n",
       " [<moviepy.video.io.VideoFileClip.VideoFileClip at 0x22c8044b310>,\n",
       "  'playing didgeridoo_2604'],\n",
       " [<moviepy.video.io.VideoFileClip.VideoFileClip at 0x22c8044be10>,\n",
       "  'giving or receiving award_2665'],\n",
       " [<moviepy.video.io.VideoFileClip.VideoFileClip at 0x22c80464950>,\n",
       "  'playing poker_2697'],\n",
       " [<moviepy.video.io.VideoFileClip.VideoFileClip at 0x22c80465490>,\n",
       "  'sharpening pencil_2747'],\n",
       " [<moviepy.video.io.VideoFileClip.VideoFileClip at 0x22c80465fd0>,\n",
       "  'playing trombone_2764'],\n",
       " [<moviepy.video.io.VideoFileClip.VideoFileClip at 0x22c80466ad0>,\n",
       "  'playing trombone_2777'],\n",
       " [<moviepy.video.io.VideoFileClip.VideoFileClip at 0x22c804675d0>,\n",
       "  'giving or receiving award_2789'],\n",
       " [<moviepy.video.io.VideoFileClip.VideoFileClip at 0x22c80467710>,\n",
       "  'playing recorder_3053'],\n",
       " [<moviepy.video.io.VideoFileClip.VideoFileClip at 0x22c8046cc10>,\n",
       "  'dancing ballet_3194'],\n",
       " [<moviepy.video.io.VideoFileClip.VideoFileClip at 0x22c8046d0d0>,\n",
       "  'dancing ballet_3244'],\n",
       " [<moviepy.video.io.VideoFileClip.VideoFileClip at 0x22c8046e250>,\n",
       "  'cheerleading_3258'],\n",
       " [<moviepy.video.io.VideoFileClip.VideoFileClip at 0x22c8046ed50>,\n",
       "  'playing trombone_3268'],\n",
       " [<moviepy.video.io.VideoFileClip.VideoFileClip at 0x22c8046f850>,\n",
       "  'smoking_3296'],\n",
       " [<moviepy.video.io.VideoFileClip.VideoFileClip at 0x22c804783d0>,\n",
       "  'ice fishing_3302'],\n",
       " [<moviepy.video.io.VideoFileClip.VideoFileClip at 0x22c8037f890>,\n",
       "  'diving cliff_3324'],\n",
       " [<moviepy.video.io.VideoFileClip.VideoFileClip at 0x22c804799d0>,\n",
       "  'tasting beer_3338'],\n",
       " [<moviepy.video.io.VideoFileClip.VideoFileClip at 0x22c8047a4d0>,\n",
       "  'tasting beer_3345'],\n",
       " [<moviepy.video.io.VideoFileClip.VideoFileClip at 0x22c8047afd0>,\n",
       "  'smoking_3366'],\n",
       " [<moviepy.video.io.VideoFileClip.VideoFileClip at 0x22c8047bb50>,\n",
       "  'front raises_3394'],\n",
       " [<moviepy.video.io.VideoFileClip.VideoFileClip at 0x22c80488690>,\n",
       "  'punching person (boxing)_3448'],\n",
       " [<moviepy.video.io.VideoFileClip.VideoFileClip at 0x22c80489190>,\n",
       "  'tying knot (not on a tie)_3486'],\n",
       " [<moviepy.video.io.VideoFileClip.VideoFileClip at 0x22c80489c90>,\n",
       "  'dancing ballet_3499'],\n",
       " [<moviepy.video.io.VideoFileClip.VideoFileClip at 0x22c8048a790>,\n",
       "  'punching person (boxing)_3545'],\n",
       " [<moviepy.video.io.VideoFileClip.VideoFileClip at 0x22c8048b290>,\n",
       "  'punching person (boxing)_3558'],\n",
       " [<moviepy.video.io.VideoFileClip.VideoFileClip at 0x22c8048bd50>,\n",
       "  'punching person (boxing)_3580'],\n",
       " [<moviepy.video.io.VideoFileClip.VideoFileClip at 0x22c804908d0>,\n",
       "  'punching person (boxing)_3598'],\n",
       " [<moviepy.video.io.VideoFileClip.VideoFileClip at 0x22c804913d0>,\n",
       "  'punching person (boxing)_3612'],\n",
       " [<moviepy.video.io.VideoFileClip.VideoFileClip at 0x22c80491ed0>,\n",
       "  'punching person (boxing)_3643'],\n",
       " [<moviepy.video.io.VideoFileClip.VideoFileClip at 0x22c804929d0>,\n",
       "  'dancing ballet_3652'],\n",
       " [<moviepy.video.io.VideoFileClip.VideoFileClip at 0x22c804934d0>,\n",
       "  'yoga_3659'],\n",
       " [<moviepy.video.io.VideoFileClip.VideoFileClip at 0x22c80493950>,\n",
       "  'massaging feet_3682'],\n",
       " [<moviepy.video.io.VideoFileClip.VideoFileClip at 0x22c8049cb90>,\n",
       "  'kissing_3757'],\n",
       " [<moviepy.video.io.VideoFileClip.VideoFileClip at 0x22c8049d0d0>,\n",
       "  'diving cliff_3771'],\n",
       " [<moviepy.video.io.VideoFileClip.VideoFileClip at 0x22c8049e1d0>,\n",
       "  'tasting beer_3786'],\n",
       " [<moviepy.video.io.VideoFileClip.VideoFileClip at 0x22c8049ecd0>,\n",
       "  'massaging back_3803'],\n",
       " [<moviepy.video.io.VideoFileClip.VideoFileClip at 0x22c8049f810>,\n",
       "  'bandaging_3899'],\n",
       " [<moviepy.video.io.VideoFileClip.VideoFileClip at 0x22c804a83d0>,\n",
       "  \"massaging person's head_3921\"],\n",
       " [<moviepy.video.io.VideoFileClip.VideoFileClip at 0x22c804a8ed0>,\n",
       "  'yoga_3961'],\n",
       " [<moviepy.video.io.VideoFileClip.VideoFileClip at 0x22c804a9a10>,\n",
       "  'smoking_4027'],\n",
       " [<moviepy.video.io.VideoFileClip.VideoFileClip at 0x22c804aa550>,\n",
       "  'smoking_4038'],\n",
       " [<moviepy.video.io.VideoFileClip.VideoFileClip at 0x22c804ab090>,\n",
       "  'dancing ballet_4060'],\n",
       " [<moviepy.video.io.VideoFileClip.VideoFileClip at 0x22c804abb90>,\n",
       "  'waxing chest_4076'],\n",
       " [<moviepy.video.io.VideoFileClip.VideoFileClip at 0x22c804b86d0>,\n",
       "  'stretching arm_4084'],\n",
       " [<moviepy.video.io.VideoFileClip.VideoFileClip at 0x22c804b91d0>,\n",
       "  'somersaulting_4105'],\n",
       " [<moviepy.video.io.VideoFileClip.VideoFileClip at 0x22c804b9cd0>,\n",
       "  'tasting beer_4128'],\n",
       " [<moviepy.video.io.VideoFileClip.VideoFileClip at 0x22c804ba7d0>,\n",
       "  'smoking_4140'],\n",
       " [<moviepy.video.io.VideoFileClip.VideoFileClip at 0x22c804bb2d0>,\n",
       "  'tasting beer_4156'],\n",
       " [<moviepy.video.io.VideoFileClip.VideoFileClip at 0x22c804bbe10>,\n",
       "  'folding napkins_4162'],\n",
       " [<moviepy.video.io.VideoFileClip.VideoFileClip at 0x22c804cc950>,\n",
       "  \"massaging person's head_4172\"],\n",
       " [<moviepy.video.io.VideoFileClip.VideoFileClip at 0x22c804cd450>,\n",
       "  'dunking basketball_4187'],\n",
       " [<moviepy.video.io.VideoFileClip.VideoFileClip at 0x22c804cdf50>,\n",
       "  'bookbinding_4193'],\n",
       " [<moviepy.video.io.VideoFileClip.VideoFileClip at 0x22c804cea50>,\n",
       "  'massaging legs_4200'],\n",
       " [<moviepy.video.io.VideoFileClip.VideoFileClip at 0x22c804cf550>,\n",
       "  'playing poker_4229'],\n",
       " [<moviepy.video.io.VideoFileClip.VideoFileClip at 0x22c804cfe50>,\n",
       "  'yoga_4253'],\n",
       " [<moviepy.video.io.VideoFileClip.VideoFileClip at 0x22c804d4bd0>,\n",
       "  'massaging back_4282'],\n",
       " [<moviepy.video.io.VideoFileClip.VideoFileClip at 0x22c804d56d0>,\n",
       "  'answering questions_4301'],\n",
       " [<moviepy.video.io.VideoFileClip.VideoFileClip at 0x22c804d61d0>,\n",
       "  'taking a shower_4350'],\n",
       " [<moviepy.video.io.VideoFileClip.VideoFileClip at 0x22c804d6cd0>,\n",
       "  'taking a shower_4360'],\n",
       " [<moviepy.video.io.VideoFileClip.VideoFileClip at 0x22c804d77d0>,\n",
       "  'punching person (boxing)_4419'],\n",
       " [<moviepy.video.io.VideoFileClip.VideoFileClip at 0x22c804e8310>,\n",
       "  'punching person (boxing)_4445'],\n",
       " [<moviepy.video.io.VideoFileClip.VideoFileClip at 0x22c804e8e10>,\n",
       "  'waxing chest_4507'],\n",
       " [<moviepy.video.io.VideoFileClip.VideoFileClip at 0x22c804e9910>,\n",
       "  'answering questions_4516'],\n",
       " [<moviepy.video.io.VideoFileClip.VideoFileClip at 0x22c804ea410>,\n",
       "  'playing volleyball_4541'],\n",
       " [<moviepy.video.io.VideoFileClip.VideoFileClip at 0x22c804eaf10>,\n",
       "  'massaging back_4548'],\n",
       " [<moviepy.video.io.VideoFileClip.VideoFileClip at 0x22c804eba10>,\n",
       "  'massaging back_4557'],\n",
       " [<moviepy.video.io.VideoFileClip.VideoFileClip at 0x22c804f8550>,\n",
       "  'stretching arm_4617'],\n",
       " [<moviepy.video.io.VideoFileClip.VideoFileClip at 0x22c804f9050>,\n",
       "  'drawing_4640'],\n",
       " [<moviepy.video.io.VideoFileClip.VideoFileClip at 0x22c804f9b90>,\n",
       "  'stretching arm_4654'],\n",
       " [<moviepy.video.io.VideoFileClip.VideoFileClip at 0x22c804fa690>,\n",
       "  'dancing ballet_4671'],\n",
       " [<moviepy.video.io.VideoFileClip.VideoFileClip at 0x22c804fb190>,\n",
       "  'stretching arm_4710'],\n",
       " [<moviepy.video.io.VideoFileClip.VideoFileClip at 0x22c804fbc90>,\n",
       "  'playing tennis_4730'],\n",
       " [<moviepy.video.io.VideoFileClip.VideoFileClip at 0x22c805007d0>,\n",
       "  'texting_4752'],\n",
       " [<moviepy.video.io.VideoFileClip.VideoFileClip at 0x22c80501310>,\n",
       "  'stretching arm_4858'],\n",
       " [<moviepy.video.io.VideoFileClip.VideoFileClip at 0x22c80501e10>,\n",
       "  'stretching arm_4868'],\n",
       " [<moviepy.video.io.VideoFileClip.VideoFileClip at 0x22c80502910>,\n",
       "  'stretching arm_4928'],\n",
       " [<moviepy.video.io.VideoFileClip.VideoFileClip at 0x22c80503410>,\n",
       "  'stretching arm_4958'],\n",
       " [<moviepy.video.io.VideoFileClip.VideoFileClip at 0x22c80503f10>,\n",
       "  'skateboarding_4994'],\n",
       " [<moviepy.video.io.VideoFileClip.VideoFileClip at 0x22c80514a50>,\n",
       "  'checking tires_5001'],\n",
       " [<moviepy.video.io.VideoFileClip.VideoFileClip at 0x22c80515550>,\n",
       "  'dancing ballet_5007'],\n",
       " [<moviepy.video.io.VideoFileClip.VideoFileClip at 0x22c80516050>,\n",
       "  'bowling_5015'],\n",
       " [<moviepy.video.io.VideoFileClip.VideoFileClip at 0x22c80516310>,\n",
       "  'bowling_5031'],\n",
       " [<moviepy.video.io.VideoFileClip.VideoFileClip at 0x22c805176d0>,\n",
       "  'gymnastics tumbling_5051'],\n",
       " [<moviepy.video.io.VideoFileClip.VideoFileClip at 0x22c80517c50>,\n",
       "  'massaging back_5121'],\n",
       " [<moviepy.video.io.VideoFileClip.VideoFileClip at 0x22c80530d50>,\n",
       "  'ice climbing_5136'],\n",
       " [<moviepy.video.io.VideoFileClip.VideoFileClip at 0x22c80531850>,\n",
       "  'ice climbing_5149'],\n",
       " [<moviepy.video.io.VideoFileClip.VideoFileClip at 0x22c80532350>,\n",
       "  'tai chi_5163'],\n",
       " [<moviepy.video.io.VideoFileClip.VideoFileClip at 0x22c80532e90>,\n",
       "  'tai chi_5189'],\n",
       " [<moviepy.video.io.VideoFileClip.VideoFileClip at 0x22c805339d0>,\n",
       "  'bowling_5255'],\n",
       " [<moviepy.video.io.VideoFileClip.VideoFileClip at 0x22c80540550>,\n",
       "  'snowboarding_5265'],\n",
       " [<moviepy.video.io.VideoFileClip.VideoFileClip at 0x22c80541050>,\n",
       "  'snatch weight lifting_5287'],\n",
       " [<moviepy.video.io.VideoFileClip.VideoFileClip at 0x22c80541b90>,\n",
       "  'tai chi_5325'],\n",
       " [<moviepy.video.io.VideoFileClip.VideoFileClip at 0x22c805426d0>,\n",
       "  'playing tennis_5334'],\n",
       " [<moviepy.video.io.VideoFileClip.VideoFileClip at 0x22c805431d0>,\n",
       "  'tai chi_5435'],\n",
       " [<moviepy.video.io.VideoFileClip.VideoFileClip at 0x22c80543d10>,\n",
       "  'salsa dancing_5483'],\n",
       " [<moviepy.video.io.VideoFileClip.VideoFileClip at 0x22c80550850>,\n",
       "  'tai chi_5520'],\n",
       " [<moviepy.video.io.VideoFileClip.VideoFileClip at 0x22c80551390>,\n",
       "  'tai chi_5548']]"
      ]
     },
     "execution_count": 19,
     "metadata": {},
     "output_type": "execute_result"
    }
   ],
   "source": [
    "clips"
   ]
  },
  {
   "cell_type": "code",
   "execution_count": 20,
   "id": "b75da3da",
   "metadata": {},
   "outputs": [],
   "source": [
    "dictionary={}\n",
    "classifyclips=[]\n",
    "for i in class2:\n",
    "    classifyclips=[]\n",
    "    for x in range(0,len(longPeriods)):\n",
    "        if longPeriods[x][1]==i:\n",
    "            classifyclips.append(clips[x])\n",
    "    dictionary[i]=classifyclips        "
   ]
  },
  {
   "cell_type": "code",
   "execution_count": 21,
   "id": "ef4df29c",
   "metadata": {},
   "outputs": [
    {
     "data": {
      "text/plain": [
       "{'snatch weight lifting': [[<moviepy.video.io.VideoFileClip.VideoFileClip at 0x22cd5e08890>,\n",
       "   'snatch weight lifting_2'],\n",
       "  [<moviepy.video.io.VideoFileClip.VideoFileClip at 0x22ce01f4350>,\n",
       "   'snatch weight lifting_3189'],\n",
       "  [<moviepy.video.io.VideoFileClip.VideoFileClip at 0x22c80541050>,\n",
       "   'snatch weight lifting_5287']],\n",
       " 'smoking': [[<moviepy.video.io.VideoFileClip.VideoFileClip at 0x22cd5779e90>,\n",
       "   'smoking_33'],\n",
       "  [<moviepy.video.io.VideoFileClip.VideoFileClip at 0x22ce00a2810>,\n",
       "   'smoking_47'],\n",
       "  [<moviepy.video.io.VideoFileClip.VideoFileClip at 0x22ce00b83d0>,\n",
       "   'smoking_318'],\n",
       "  [<moviepy.video.io.VideoFileClip.VideoFileClip at 0x22ce00b8810>,\n",
       "   'smoking_324'],\n",
       "  [<moviepy.video.io.VideoFileClip.VideoFileClip at 0x22cd5d8f250>,\n",
       "   'smoking_413'],\n",
       "  [<moviepy.video.io.VideoFileClip.VideoFileClip at 0x22c8039bfd0>,\n",
       "   'smoking_818'],\n",
       "  [<moviepy.video.io.VideoFileClip.VideoFileClip at 0x22c803b2810>,\n",
       "   'smoking_1016'],\n",
       "  [<moviepy.video.io.VideoFileClip.VideoFileClip at 0x22c803b33d0>,\n",
       "   'smoking_1022'],\n",
       "  [<moviepy.video.io.VideoFileClip.VideoFileClip at 0x22c803fa210>,\n",
       "   'smoking_1566'],\n",
       "  [<moviepy.video.io.VideoFileClip.VideoFileClip at 0x22c8046f850>,\n",
       "   'smoking_3296'],\n",
       "  [<moviepy.video.io.VideoFileClip.VideoFileClip at 0x22c8047afd0>,\n",
       "   'smoking_3366'],\n",
       "  [<moviepy.video.io.VideoFileClip.VideoFileClip at 0x22c804a9a10>,\n",
       "   'smoking_4027'],\n",
       "  [<moviepy.video.io.VideoFileClip.VideoFileClip at 0x22c804aa550>,\n",
       "   'smoking_4038'],\n",
       "  [<moviepy.video.io.VideoFileClip.VideoFileClip at 0x22c804ba7d0>,\n",
       "   'smoking_4140']],\n",
       " 'brushing hair': [[<moviepy.video.io.VideoFileClip.VideoFileClip at 0x22ce00ad190>,\n",
       "   'brushing hair_85'],\n",
       "  [<moviepy.video.io.VideoFileClip.VideoFileClip at 0x22ce00adcd0>,\n",
       "   'brushing hair_99'],\n",
       "  [<moviepy.video.io.VideoFileClip.VideoFileClip at 0x22ce00aebd0>,\n",
       "   'brushing hair_177'],\n",
       "  [<moviepy.video.io.VideoFileClip.VideoFileClip at 0x22ce00b9810>,\n",
       "   'brushing hair_361'],\n",
       "  [<moviepy.video.io.VideoFileClip.VideoFileClip at 0x22ce00cd210>,\n",
       "   'brushing hair_828']],\n",
       " 'fixing hair': [[<moviepy.video.io.VideoFileClip.VideoFileClip at 0x22ce00bb710>,\n",
       "   'fixing hair_443']],\n",
       " 'whistling': [[<moviepy.video.io.VideoFileClip.VideoFileClip at 0x22ce00cc690>,\n",
       "   'whistling_603'],\n",
       "  [<moviepy.video.io.VideoFileClip.VideoFileClip at 0x22ce00ecbd0>,\n",
       "   'whistling_1109'],\n",
       "  [<moviepy.video.io.VideoFileClip.VideoFileClip at 0x22ce00ed650>,\n",
       "   'whistling_1118'],\n",
       "  [<moviepy.video.io.VideoFileClip.VideoFileClip at 0x22ce00ee190>,\n",
       "   'whistling_1159'],\n",
       "  [<moviepy.video.io.VideoFileClip.VideoFileClip at 0x22ce0112650>,\n",
       "   'whistling_1714'],\n",
       "  [<moviepy.video.io.VideoFileClip.VideoFileClip at 0x22ce0113150>,\n",
       "   'whistling_1728'],\n",
       "  [<moviepy.video.io.VideoFileClip.VideoFileClip at 0x22ce0113650>,\n",
       "   'whistling_1739'],\n",
       "  [<moviepy.video.io.VideoFileClip.VideoFileClip at 0x22ce0120810>,\n",
       "   'whistling_1751'],\n",
       "  [<moviepy.video.io.VideoFileClip.VideoFileClip at 0x22ce0121290>,\n",
       "   'whistling_1757'],\n",
       "  [<moviepy.video.io.VideoFileClip.VideoFileClip at 0x22ce0121d10>,\n",
       "   'whistling_1780'],\n",
       "  [<moviepy.video.io.VideoFileClip.VideoFileClip at 0x22ce0122810>,\n",
       "   'whistling_1790'],\n",
       "  [<moviepy.video.io.VideoFileClip.VideoFileClip at 0x22ce0123310>,\n",
       "   'whistling_1805'],\n",
       "  [<moviepy.video.io.VideoFileClip.VideoFileClip at 0x22ce0123e10>,\n",
       "   'whistling_1824'],\n",
       "  [<moviepy.video.io.VideoFileClip.VideoFileClip at 0x22ce0128910>,\n",
       "   'whistling_1833'],\n",
       "  [<moviepy.video.io.VideoFileClip.VideoFileClip at 0x22ce0129390>,\n",
       "   'whistling_1845'],\n",
       "  [<moviepy.video.io.VideoFileClip.VideoFileClip at 0x22ce0129e90>,\n",
       "   'whistling_1852'],\n",
       "  [<moviepy.video.io.VideoFileClip.VideoFileClip at 0x22ce012aa50>,\n",
       "   'whistling_1861'],\n",
       "  [<moviepy.video.io.VideoFileClip.VideoFileClip at 0x22ce012b550>,\n",
       "   'whistling_1870'],\n",
       "  [<moviepy.video.io.VideoFileClip.VideoFileClip at 0x22ce012bd10>,\n",
       "   'whistling_1877'],\n",
       "  [<moviepy.video.io.VideoFileClip.VideoFileClip at 0x22ce0138a90>,\n",
       "   'whistling_1883'],\n",
       "  [<moviepy.video.io.VideoFileClip.VideoFileClip at 0x22ce0139510>,\n",
       "   'whistling_1903'],\n",
       "  [<moviepy.video.io.VideoFileClip.VideoFileClip at 0x22ce013a010>,\n",
       "   'whistling_1927'],\n",
       "  [<moviepy.video.io.VideoFileClip.VideoFileClip at 0x22ce013aa90>,\n",
       "   'whistling_1946'],\n",
       "  [<moviepy.video.io.VideoFileClip.VideoFileClip at 0x22ce013b590>,\n",
       "   'whistling_1966'],\n",
       "  [<moviepy.video.io.VideoFileClip.VideoFileClip at 0x22ce013b890>,\n",
       "   'whistling_1973'],\n",
       "  [<moviepy.video.io.VideoFileClip.VideoFileClip at 0x22ce0148c10>,\n",
       "   'whistling_1980'],\n",
       "  [<moviepy.video.io.VideoFileClip.VideoFileClip at 0x22ce01496d0>,\n",
       "   'whistling_1997'],\n",
       "  [<moviepy.video.io.VideoFileClip.VideoFileClip at 0x22ce014a1d0>,\n",
       "   'whistling_2011'],\n",
       "  [<moviepy.video.io.VideoFileClip.VideoFileClip at 0x22ce014ac90>,\n",
       "   'whistling_2035'],\n",
       "  [<moviepy.video.io.VideoFileClip.VideoFileClip at 0x22ce014b650>,\n",
       "   'whistling_2041'],\n",
       "  [<moviepy.video.io.VideoFileClip.VideoFileClip at 0x22ce014bc50>,\n",
       "   'whistling_2051'],\n",
       "  [<moviepy.video.io.VideoFileClip.VideoFileClip at 0x22ce0154dd0>,\n",
       "   'whistling_2065'],\n",
       "  [<moviepy.video.io.VideoFileClip.VideoFileClip at 0x22ce0155950>,\n",
       "   'whistling_2082'],\n",
       "  [<moviepy.video.io.VideoFileClip.VideoFileClip at 0x22ce01563d0>,\n",
       "   'whistling_2091'],\n",
       "  [<moviepy.video.io.VideoFileClip.VideoFileClip at 0x22ce0156ed0>,\n",
       "   'whistling_2108'],\n",
       "  [<moviepy.video.io.VideoFileClip.VideoFileClip at 0x22ce0157950>,\n",
       "   'whistling_2133'],\n",
       "  [<moviepy.video.io.VideoFileClip.VideoFileClip at 0x22ce0158510>,\n",
       "   'whistling_2143'],\n",
       "  [<moviepy.video.io.VideoFileClip.VideoFileClip at 0x22ce0158fd0>,\n",
       "   'whistling_2148'],\n",
       "  [<moviepy.video.io.VideoFileClip.VideoFileClip at 0x22ce0159a50>,\n",
       "   'whistling_2170'],\n",
       "  [<moviepy.video.io.VideoFileClip.VideoFileClip at 0x22ce015a550>,\n",
       "   'whistling_2220'],\n",
       "  [<moviepy.video.io.VideoFileClip.VideoFileClip at 0x22ce015b090>,\n",
       "   'whistling_2228'],\n",
       "  [<moviepy.video.io.VideoFileClip.VideoFileClip at 0x22ce015bb90>,\n",
       "   'whistling_2264'],\n",
       "  [<moviepy.video.io.VideoFileClip.VideoFileClip at 0x22ce0174750>,\n",
       "   'whistling_2274'],\n",
       "  [<moviepy.video.io.VideoFileClip.VideoFileClip at 0x22ce01752d0>,\n",
       "   'whistling_2280'],\n",
       "  [<moviepy.video.io.VideoFileClip.VideoFileClip at 0x22ce0175e10>,\n",
       "   'whistling_2286'],\n",
       "  [<moviepy.video.io.VideoFileClip.VideoFileClip at 0x22ce0176a50>,\n",
       "   'whistling_2296'],\n",
       "  [<moviepy.video.io.VideoFileClip.VideoFileClip at 0x22ce0177650>,\n",
       "   'whistling_2307'],\n",
       "  [<moviepy.video.io.VideoFileClip.VideoFileClip at 0x22ce0177ad0>,\n",
       "   'whistling_2333'],\n",
       "  [<moviepy.video.io.VideoFileClip.VideoFileClip at 0x22ce017ce10>,\n",
       "   'whistling_2346'],\n",
       "  [<moviepy.video.io.VideoFileClip.VideoFileClip at 0x22ce017d950>,\n",
       "   'whistling_2364'],\n",
       "  [<moviepy.video.io.VideoFileClip.VideoFileClip at 0x22ce017e5d0>,\n",
       "   'whistling_2376'],\n",
       "  [<moviepy.video.io.VideoFileClip.VideoFileClip at 0x22ce017f110>,\n",
       "   'whistling_2407'],\n",
       "  [<moviepy.video.io.VideoFileClip.VideoFileClip at 0x22ce017fc90>,\n",
       "   'whistling_2423'],\n",
       "  [<moviepy.video.io.VideoFileClip.VideoFileClip at 0x22ce01888d0>,\n",
       "   'whistling_2430'],\n",
       "  [<moviepy.video.io.VideoFileClip.VideoFileClip at 0x22ce0189450>,\n",
       "   'whistling_2437'],\n",
       "  [<moviepy.video.io.VideoFileClip.VideoFileClip at 0x22ce0189fd0>,\n",
       "   'whistling_2443'],\n",
       "  [<moviepy.video.io.VideoFileClip.VideoFileClip at 0x22ce018ab10>,\n",
       "   'whistling_2468'],\n",
       "  [<moviepy.video.io.VideoFileClip.VideoFileClip at 0x22ce018b650>,\n",
       "   'whistling_2473'],\n",
       "  [<moviepy.video.io.VideoFileClip.VideoFileClip at 0x22ce018b810>,\n",
       "   'whistling_2483'],\n",
       "  [<moviepy.video.io.VideoFileClip.VideoFileClip at 0x22ce019cd50>,\n",
       "   'whistling_2492'],\n",
       "  [<moviepy.video.io.VideoFileClip.VideoFileClip at 0x22ce019d8d0>,\n",
       "   'whistling_2500'],\n",
       "  [<moviepy.video.io.VideoFileClip.VideoFileClip at 0x22ce019e410>,\n",
       "   'whistling_2509'],\n",
       "  [<moviepy.video.io.VideoFileClip.VideoFileClip at 0x22ce019ef50>,\n",
       "   'whistling_2518'],\n",
       "  [<moviepy.video.io.VideoFileClip.VideoFileClip at 0x22ce019fa90>,\n",
       "   'whistling_2530'],\n",
       "  [<moviepy.video.io.VideoFileClip.VideoFileClip at 0x22ce01a4610>,\n",
       "   'whistling_2536'],\n",
       "  [<moviepy.video.io.VideoFileClip.VideoFileClip at 0x22ce01a51d0>,\n",
       "   'whistling_2549'],\n",
       "  [<moviepy.video.io.VideoFileClip.VideoFileClip at 0x22ce01a5d10>,\n",
       "   'whistling_2557'],\n",
       "  [<moviepy.video.io.VideoFileClip.VideoFileClip at 0x22ce01a6850>,\n",
       "   'whistling_2567'],\n",
       "  [<moviepy.video.io.VideoFileClip.VideoFileClip at 0x22ce01a73d0>,\n",
       "   'whistling_2603'],\n",
       "  [<moviepy.video.io.VideoFileClip.VideoFileClip at 0x22c80354ed0>,\n",
       "   'whistling_192'],\n",
       "  [<moviepy.video.io.VideoFileClip.VideoFileClip at 0x22c80367390>,\n",
       "   'whistling_354'],\n",
       "  [<moviepy.video.io.VideoFileClip.VideoFileClip at 0x22c80367ed0>,\n",
       "   'whistling_374'],\n",
       "  [<moviepy.video.io.VideoFileClip.VideoFileClip at 0x22c80373710>,\n",
       "   'whistling_502'],\n",
       "  [<moviepy.video.io.VideoFileClip.VideoFileClip at 0x22c8037ce10>,\n",
       "   'whistling_529'],\n",
       "  [<moviepy.video.io.VideoFileClip.VideoFileClip at 0x22c8037e490>,\n",
       "   'whistling_554'],\n",
       "  [<moviepy.video.io.VideoFileClip.VideoFileClip at 0x22c80391cd0>,\n",
       "   'whistling_648'],\n",
       "  [<moviepy.video.io.VideoFileClip.VideoFileClip at 0x22c80399510>,\n",
       "   'whistling_738'],\n",
       "  [<moviepy.video.io.VideoFileClip.VideoFileClip at 0x22c803e26d0>,\n",
       "   'whistling_1346']],\n",
       " 'front raises': [[<moviepy.video.io.VideoFileClip.VideoFileClip at 0x22ce00cdd50>,\n",
       "   'front raises_844'],\n",
       "  [<moviepy.video.io.VideoFileClip.VideoFileClip at 0x22ce01e7810>,\n",
       "   'front raises_3182'],\n",
       "  [<moviepy.video.io.VideoFileClip.VideoFileClip at 0x22c8047bb50>,\n",
       "   'front raises_3394']],\n",
       " 'playing poker': [[<moviepy.video.io.VideoFileClip.VideoFileClip at 0x22ce00cea10>,\n",
       "   'playing poker_861'],\n",
       "  [<moviepy.video.io.VideoFileClip.VideoFileClip at 0x22ce00cf610>,\n",
       "   'playing poker_880'],\n",
       "  [<moviepy.video.io.VideoFileClip.VideoFileClip at 0x22ce00e2350>,\n",
       "   'playing poker_1010'],\n",
       "  [<moviepy.video.io.VideoFileClip.VideoFileClip at 0x22ce00e2f10>,\n",
       "   'playing poker_1022'],\n",
       "  [<moviepy.video.io.VideoFileClip.VideoFileClip at 0x22ce00b9f90>,\n",
       "   'playing poker_1043'],\n",
       "  [<moviepy.video.io.VideoFileClip.VideoFileClip at 0x22ce00e3c90>,\n",
       "   'playing poker_1070'],\n",
       "  [<moviepy.video.io.VideoFileClip.VideoFileClip at 0x22ce00efb10>,\n",
       "   'playing poker_1209'],\n",
       "  [<moviepy.video.io.VideoFileClip.VideoFileClip at 0x22ce00f18d0>,\n",
       "   'playing poker_1226'],\n",
       "  [<moviepy.video.io.VideoFileClip.VideoFileClip at 0x22ce00f2e90>,\n",
       "   'playing poker_1297'],\n",
       "  [<moviepy.video.io.VideoFileClip.VideoFileClip at 0x22ce00f38d0>,\n",
       "   'playing poker_1309'],\n",
       "  [<moviepy.video.io.VideoFileClip.VideoFileClip at 0x22ce0104410>,\n",
       "   'playing poker_1358'],\n",
       "  [<moviepy.video.io.VideoFileClip.VideoFileClip at 0x22ce0104ed0>,\n",
       "   'playing poker_1385'],\n",
       "  [<moviepy.video.io.VideoFileClip.VideoFileClip at 0x22ce01065d0>,\n",
       "   'playing poker_1554'],\n",
       "  [<moviepy.video.io.VideoFileClip.VideoFileClip at 0x22ce01070d0>,\n",
       "   'playing poker_1562'],\n",
       "  [<moviepy.video.io.VideoFileClip.VideoFileClip at 0x22ce0107b10>,\n",
       "   'playing poker_1581'],\n",
       "  [<moviepy.video.io.VideoFileClip.VideoFileClip at 0x22ce0110610>,\n",
       "   'playing poker_1620'],\n",
       "  [<moviepy.video.io.VideoFileClip.VideoFileClip at 0x22c80365210>,\n",
       "   'playing poker_333'],\n",
       "  [<moviepy.video.io.VideoFileClip.VideoFileClip at 0x22c803c2050>,\n",
       "   'playing poker_1124'],\n",
       "  [<moviepy.video.io.VideoFileClip.VideoFileClip at 0x22c803e0550>,\n",
       "   'playing poker_1299'],\n",
       "  [<moviepy.video.io.VideoFileClip.VideoFileClip at 0x22c803f3590>,\n",
       "   'playing poker_1516'],\n",
       "  [<moviepy.video.io.VideoFileClip.VideoFileClip at 0x22c80464950>,\n",
       "   'playing poker_2697'],\n",
       "  [<moviepy.video.io.VideoFileClip.VideoFileClip at 0x22c804cf550>,\n",
       "   'playing poker_4229']],\n",
       " 'testifying': [[<moviepy.video.io.VideoFileClip.VideoFileClip at 0x22ce00cf6d0>,\n",
       "   'testifying_893'],\n",
       "  [<moviepy.video.io.VideoFileClip.VideoFileClip at 0x22ce00e0d50>,\n",
       "   'testifying_908'],\n",
       "  [<moviepy.video.io.VideoFileClip.VideoFileClip at 0x22ce00e18d0>,\n",
       "   'testifying_935'],\n",
       "  [<moviepy.video.io.VideoFileClip.VideoFileClip at 0x22ce00eec10>,\n",
       "   'testifying_1185'],\n",
       "  [<moviepy.video.io.VideoFileClip.VideoFileClip at 0x22ce00ef790>,\n",
       "   'testifying_1193'],\n",
       "  [<moviepy.video.io.VideoFileClip.VideoFileClip at 0x22ce00f0d90>,\n",
       "   'testifying_1215'],\n",
       "  [<moviepy.video.io.VideoFileClip.VideoFileClip at 0x22ce00f2310>,\n",
       "   'testifying_1276'],\n",
       "  [<moviepy.video.io.VideoFileClip.VideoFileClip at 0x22ce0105a90>,\n",
       "   'testifying_1538'],\n",
       "  [<moviepy.video.io.VideoFileClip.VideoFileClip at 0x22c8034b7d0>,\n",
       "   'testifying_154'],\n",
       "  [<moviepy.video.io.VideoFileClip.VideoFileClip at 0x22c80355a10>,\n",
       "   'testifying_210'],\n",
       "  [<moviepy.video.io.VideoFileClip.VideoFileClip at 0x22c80372090>,\n",
       "   'testifying_433'],\n",
       "  [<moviepy.video.io.VideoFileClip.VideoFileClip at 0x22c80373a90>,\n",
       "   'testifying_519'],\n",
       "  [<moviepy.video.io.VideoFileClip.VideoFileClip at 0x22c8037efd0>,\n",
       "   'testifying_573'],\n",
       "  [<moviepy.video.io.VideoFileClip.VideoFileClip at 0x22c80392810>,\n",
       "   'testifying_672'],\n",
       "  [<moviepy.video.io.VideoFileClip.VideoFileClip at 0x22c803989d0>,\n",
       "   'testifying_720'],\n",
       "  [<moviepy.video.io.VideoFileClip.VideoFileClip at 0x22c8039ab50>,\n",
       "   'testifying_788'],\n",
       "  [<moviepy.video.io.VideoFileClip.VideoFileClip at 0x22c8039b690>,\n",
       "   'testifying_800'],\n",
       "  [<moviepy.video.io.VideoFileClip.VideoFileClip at 0x22c803a6410>,\n",
       "   'testifying_844'],\n",
       "  [<moviepy.video.io.VideoFileClip.VideoFileClip at 0x22c803a7a50>,\n",
       "   'testifying_895'],\n",
       "  [<moviepy.video.io.VideoFileClip.VideoFileClip at 0x22c803e3210>,\n",
       "   'testifying_1370'],\n",
       "  [<moviepy.video.io.VideoFileClip.VideoFileClip at 0x22c803e3d50>,\n",
       "   'testifying_1392'],\n",
       "  [<moviepy.video.io.VideoFileClip.VideoFileClip at 0x22c803f3e90>,\n",
       "   'testifying_1528']],\n",
       " 'tai chi': [[<moviepy.video.io.VideoFileClip.VideoFileClip at 0x22ce0111090>,\n",
       "   'tai chi_1683'],\n",
       "  [<moviepy.video.io.VideoFileClip.VideoFileClip at 0x22ce0216fd0>,\n",
       "   'tai chi_457'],\n",
       "  [<moviepy.video.io.VideoFileClip.VideoFileClip at 0x22ce0224690>,\n",
       "   'tai chi_576'],\n",
       "  [<moviepy.video.io.VideoFileClip.VideoFileClip at 0x22c80322190>,\n",
       "   'tai chi_6'],\n",
       "  [<moviepy.video.io.VideoFileClip.VideoFileClip at 0x22c80322cd0>,\n",
       "   'tai chi_18'],\n",
       "  [<moviepy.video.io.VideoFileClip.VideoFileClip at 0x22c80323810>,\n",
       "   'tai chi_26'],\n",
       "  [<moviepy.video.io.VideoFileClip.VideoFileClip at 0x22c8032f390>,\n",
       "   'tai chi_305'],\n",
       "  [<moviepy.video.io.VideoFileClip.VideoFileClip at 0x22c8033c750>,\n",
       "   'tai chi_8'],\n",
       "  [<moviepy.video.io.VideoFileClip.VideoFileClip at 0x22c8033d290>,\n",
       "   'tai chi_32'],\n",
       "  [<moviepy.video.io.VideoFileClip.VideoFileClip at 0x22c8033fed0>,\n",
       "   'tai chi_79'],\n",
       "  [<moviepy.video.io.VideoFileClip.VideoFileClip at 0x22c80348a50>,\n",
       "   'tai chi_94'],\n",
       "  [<moviepy.video.io.VideoFileClip.VideoFileClip at 0x22c80349610>,\n",
       "   'tai chi_112'],\n",
       "  [<moviepy.video.io.VideoFileClip.VideoFileClip at 0x22c8034a150>,\n",
       "   'tai chi_128'],\n",
       "  [<moviepy.video.io.VideoFileClip.VideoFileClip at 0x22c8034ac90>,\n",
       "   'tai chi_137'],\n",
       "  [<moviepy.video.io.VideoFileClip.VideoFileClip at 0x22c80532350>,\n",
       "   'tai chi_5163'],\n",
       "  [<moviepy.video.io.VideoFileClip.VideoFileClip at 0x22c80532e90>,\n",
       "   'tai chi_5189'],\n",
       "  [<moviepy.video.io.VideoFileClip.VideoFileClip at 0x22c80541b90>,\n",
       "   'tai chi_5325'],\n",
       "  [<moviepy.video.io.VideoFileClip.VideoFileClip at 0x22c805431d0>,\n",
       "   'tai chi_5435'],\n",
       "  [<moviepy.video.io.VideoFileClip.VideoFileClip at 0x22c80550850>,\n",
       "   'tai chi_5520'],\n",
       "  [<moviepy.video.io.VideoFileClip.VideoFileClip at 0x22c80551390>,\n",
       "   'tai chi_5548']],\n",
       " 'sign language interpreting': [[<moviepy.video.io.VideoFileClip.VideoFileClip at 0x22ce0111b90>,\n",
       "   'sign language interpreting_1693'],\n",
       "  [<moviepy.video.io.VideoFileClip.VideoFileClip at 0x22ce01f4e50>,\n",
       "   'sign language interpreting_8'],\n",
       "  [<moviepy.video.io.VideoFileClip.VideoFileClip at 0x22ce01f6fd0>,\n",
       "   'sign language interpreting_59'],\n",
       "  [<moviepy.video.io.VideoFileClip.VideoFileClip at 0x22ce01fa850>,\n",
       "   'sign language interpreting_153'],\n",
       "  [<moviepy.video.io.VideoFileClip.VideoFileClip at 0x22ce0214310>,\n",
       "   'sign language interpreting_400']],\n",
       " 'yoga': [[<moviepy.video.io.VideoFileClip.VideoFileClip at 0x22ce01a7f90>,\n",
       "   'yoga_2629'],\n",
       "  [<moviepy.video.io.VideoFileClip.VideoFileClip at 0x22ce01e4a90>,\n",
       "   'yoga_2897'],\n",
       "  [<moviepy.video.io.VideoFileClip.VideoFileClip at 0x22ce01e55d0>,\n",
       "   'yoga_2930'],\n",
       "  [<moviepy.video.io.VideoFileClip.VideoFileClip at 0x22ce01e6c90>,\n",
       "   'yoga_3145'],\n",
       "  [<moviepy.video.io.VideoFileClip.VideoFileClip at 0x22ce01f5950>, 'yoga_35'],\n",
       "  [<moviepy.video.io.VideoFileClip.VideoFileClip at 0x22ce01f6490>, 'yoga_49'],\n",
       "  [<moviepy.video.io.VideoFileClip.VideoFileClip at 0x22ce01fb350>,\n",
       "   'yoga_194'],\n",
       "  [<moviepy.video.io.VideoFileClip.VideoFileClip at 0x22ce020ca10>,\n",
       "   'yoga_221'],\n",
       "  [<moviepy.video.io.VideoFileClip.VideoFileClip at 0x22c804934d0>,\n",
       "   'yoga_3659'],\n",
       "  [<moviepy.video.io.VideoFileClip.VideoFileClip at 0x22c804a8ed0>,\n",
       "   'yoga_3961'],\n",
       "  [<moviepy.video.io.VideoFileClip.VideoFileClip at 0x22c804cfe50>,\n",
       "   'yoga_4253']],\n",
       " 'dancing ballet': [[<moviepy.video.io.VideoFileClip.VideoFileClip at 0x22ce01acb50>,\n",
       "   'dancing ballet_2645'],\n",
       "  [<moviepy.video.io.VideoFileClip.VideoFileClip at 0x22ce01ad650>,\n",
       "   'dancing ballet_2662'],\n",
       "  [<moviepy.video.io.VideoFileClip.VideoFileClip at 0x22ce01ae190>,\n",
       "   'dancing ballet_2678'],\n",
       "  [<moviepy.video.io.VideoFileClip.VideoFileClip at 0x22ce01aec90>,\n",
       "   'dancing ballet_2699'],\n",
       "  [<moviepy.video.io.VideoFileClip.VideoFileClip at 0x22ce01af910>,\n",
       "   'dancing ballet_2716'],\n",
       "  [<moviepy.video.io.VideoFileClip.VideoFileClip at 0x22ce01bc450>,\n",
       "   'dancing ballet_2738'],\n",
       "  [<moviepy.video.io.VideoFileClip.VideoFileClip at 0x22ce01bcf50>,\n",
       "   'dancing ballet_2762'],\n",
       "  [<moviepy.video.io.VideoFileClip.VideoFileClip at 0x22ce01bda90>,\n",
       "   'dancing ballet_2786'],\n",
       "  [<moviepy.video.io.VideoFileClip.VideoFileClip at 0x22ce01be650>,\n",
       "   'dancing ballet_2793'],\n",
       "  [<moviepy.video.io.VideoFileClip.VideoFileClip at 0x22ce01bf150>,\n",
       "   'dancing ballet_2802'],\n",
       "  [<moviepy.video.io.VideoFileClip.VideoFileClip at 0x22c8046cc10>,\n",
       "   'dancing ballet_3194'],\n",
       "  [<moviepy.video.io.VideoFileClip.VideoFileClip at 0x22c8046d0d0>,\n",
       "   'dancing ballet_3244'],\n",
       "  [<moviepy.video.io.VideoFileClip.VideoFileClip at 0x22c80489c90>,\n",
       "   'dancing ballet_3499'],\n",
       "  [<moviepy.video.io.VideoFileClip.VideoFileClip at 0x22c804929d0>,\n",
       "   'dancing ballet_3652'],\n",
       "  [<moviepy.video.io.VideoFileClip.VideoFileClip at 0x22c804ab090>,\n",
       "   'dancing ballet_4060'],\n",
       "  [<moviepy.video.io.VideoFileClip.VideoFileClip at 0x22c804fa690>,\n",
       "   'dancing ballet_4671'],\n",
       "  [<moviepy.video.io.VideoFileClip.VideoFileClip at 0x22c80515550>,\n",
       "   'dancing ballet_5007']],\n",
       " 'tap dancing': [[<moviepy.video.io.VideoFileClip.VideoFileClip at 0x22ce01bfc90>,\n",
       "   'tap dancing_2815'],\n",
       "  [<moviepy.video.io.VideoFileClip.VideoFileClip at 0x22ce01cc7d0>,\n",
       "   'tap dancing_2827'],\n",
       "  [<moviepy.video.io.VideoFileClip.VideoFileClip at 0x22ce01cd310>,\n",
       "   'tap dancing_2835'],\n",
       "  [<moviepy.video.io.VideoFileClip.VideoFileClip at 0x22ce01cde10>,\n",
       "   'tap dancing_2849'],\n",
       "  [<moviepy.video.io.VideoFileClip.VideoFileClip at 0x22ce01ce950>,\n",
       "   'tap dancing_2866'],\n",
       "  [<moviepy.video.io.VideoFileClip.VideoFileClip at 0x22ce01cf450>,\n",
       "   'tap dancing_2871'],\n",
       "  [<moviepy.video.io.VideoFileClip.VideoFileClip at 0x22ce01cff50>,\n",
       "   'tap dancing_2886']],\n",
       " 'robot dancing': [[<moviepy.video.io.VideoFileClip.VideoFileClip at 0x22ce01e5890>,\n",
       "   'robot dancing_3026']],\n",
       " 'riding or walking with horse': [[<moviepy.video.io.VideoFileClip.VideoFileClip at 0x22ce01f7ad0>,\n",
       "   'riding or walking with horse_92']],\n",
       " 'drawing': [[<moviepy.video.io.VideoFileClip.VideoFileClip at 0x22ce01f8610>,\n",
       "   'drawing_105'],\n",
       "  [<moviepy.video.io.VideoFileClip.VideoFileClip at 0x22ce01f9d10>,\n",
       "   'drawing_122'],\n",
       "  [<moviepy.video.io.VideoFileClip.VideoFileClip at 0x22ce0215950>,\n",
       "   'drawing_425'],\n",
       "  [<moviepy.video.io.VideoFileClip.VideoFileClip at 0x22c804f9050>,\n",
       "   'drawing_4640']],\n",
       " 'writing': [[<moviepy.video.io.VideoFileClip.VideoFileClip at 0x22ce01f9190>,\n",
       "   'writing_117'],\n",
       "  [<moviepy.video.io.VideoFileClip.VideoFileClip at 0x22ce0214e10>,\n",
       "   'writing_412'],\n",
       "  [<moviepy.video.io.VideoFileClip.VideoFileClip at 0x22ce0216490>,\n",
       "   'writing_439'],\n",
       "  [<moviepy.video.io.VideoFileClip.VideoFileClip at 0x22ce02251d0>,\n",
       "   'writing_593'],\n",
       "  [<moviepy.video.io.VideoFileClip.VideoFileClip at 0x22ce0225d10>,\n",
       "   'writing_604'],\n",
       "  [<moviepy.video.io.VideoFileClip.VideoFileClip at 0x22ce0226850>,\n",
       "   'writing_612'],\n",
       "  [<moviepy.video.io.VideoFileClip.VideoFileClip at 0x22c80440410>,\n",
       "   'writing_2277']],\n",
       " 'kissing': [[<moviepy.video.io.VideoFileClip.VideoFileClip at 0x22ce01fbe90>,\n",
       "   'kissing_217'],\n",
       "  [<moviepy.video.io.VideoFileClip.VideoFileClip at 0x22c80354390>,\n",
       "   'kissing_177'],\n",
       "  [<moviepy.video.io.VideoFileClip.VideoFileClip at 0x22c803b10d0>,\n",
       "   'kissing_979'],\n",
       "  [<moviepy.video.io.VideoFileClip.VideoFileClip at 0x22c803c2b50>,\n",
       "   'kissing_1146'],\n",
       "  [<moviepy.video.io.VideoFileClip.VideoFileClip at 0x22c803cf990>,\n",
       "   'kissing_1289'],\n",
       "  [<moviepy.video.io.VideoFileClip.VideoFileClip at 0x22c803e1b90>,\n",
       "   'kissing_1334'],\n",
       "  [<moviepy.video.io.VideoFileClip.VideoFileClip at 0x22c803f0910>,\n",
       "   'kissing_1405'],\n",
       "  [<moviepy.video.io.VideoFileClip.VideoFileClip at 0x22c8049cb90>,\n",
       "   'kissing_3757']],\n",
       " 'golf putting': [[<moviepy.video.io.VideoFileClip.VideoFileClip at 0x22ce020d590>,\n",
       "   'golf putting_232']],\n",
       " 'singing': [[<moviepy.video.io.VideoFileClip.VideoFileClip at 0x22ce020e0d0>,\n",
       "   'singing_313'],\n",
       "  [<moviepy.video.io.VideoFileClip.VideoFileClip at 0x22ce0227f10>,\n",
       "   'singing_654'],\n",
       "  [<moviepy.video.io.VideoFileClip.VideoFileClip at 0x22c80320ad0>,\n",
       "   'singing_677'],\n",
       "  [<moviepy.video.io.VideoFileClip.VideoFileClip at 0x22c80321650>,\n",
       "   'singing_706']],\n",
       " 'stretching leg': [[<moviepy.video.io.VideoFileClip.VideoFileClip at 0x22ce020ec10>,\n",
       "   'stretching leg_334'],\n",
       "  [<moviepy.video.io.VideoFileClip.VideoFileClip at 0x22c80357b90>,\n",
       "   'stretching leg_255'],\n",
       "  [<moviepy.video.io.VideoFileClip.VideoFileClip at 0x22c80364710>,\n",
       "   'stretching leg_268'],\n",
       "  [<moviepy.video.io.VideoFileClip.VideoFileClip at 0x22c80370a50>,\n",
       "   'stretching leg_393'],\n",
       "  [<moviepy.video.io.VideoFileClip.VideoFileClip at 0x22c80419190>,\n",
       "   'stretching leg_1855'],\n",
       "  [<moviepy.video.io.VideoFileClip.VideoFileClip at 0x22c8041be10>,\n",
       "   'stretching leg_1935']],\n",
       " 'chopping wood': [[<moviepy.video.io.VideoFileClip.VideoFileClip at 0x22ce020f790>,\n",
       "   'chopping wood_359']],\n",
       " 'walking the dog': [[<moviepy.video.io.VideoFileClip.VideoFileClip at 0x22ce0217b50>,\n",
       "   'walking the dog_469']],\n",
       " 'cheerleading': [[<moviepy.video.io.VideoFileClip.VideoFileClip at 0x22ce0227390>,\n",
       "   'cheerleading_618'],\n",
       "  [<moviepy.video.io.VideoFileClip.VideoFileClip at 0x22c8046e250>,\n",
       "   'cheerleading_3258']],\n",
       " 'news anchoring': [[<moviepy.video.io.VideoFileClip.VideoFileClip at 0x22c8032c410>,\n",
       "   'news anchoring_32']],\n",
       " 'diving cliff': [[<moviepy.video.io.VideoFileClip.VideoFileClip at 0x22c8032cf10>,\n",
       "   'diving cliff_55'],\n",
       "  [<moviepy.video.io.VideoFileClip.VideoFileClip at 0x22c8032d0d0>,\n",
       "   'diving cliff_61'],\n",
       "  [<moviepy.video.io.VideoFileClip.VideoFileClip at 0x22c8037f890>,\n",
       "   'diving cliff_3324'],\n",
       "  [<moviepy.video.io.VideoFileClip.VideoFileClip at 0x22c8049d0d0>,\n",
       "   'diving cliff_3771']],\n",
       " 'passing American football (not in game)': [[<moviepy.video.io.VideoFileClip.VideoFileClip at 0x22c8032e5d0>,\n",
       "   'passing American football (not in game)_77']],\n",
       " 'extinguishing fire': [[<moviepy.video.io.VideoFileClip.VideoFileClip at 0x22c8032f0d0>,\n",
       "   'extinguishing fire_227']],\n",
       " 'cleaning windows': [[<moviepy.video.io.VideoFileClip.VideoFileClip at 0x22c8033ddd0>,\n",
       "   'cleaning windows_40']],\n",
       " 'checking tires': [[<moviepy.video.io.VideoFileClip.VideoFileClip at 0x22c8033e8d0>,\n",
       "   'checking tires_60'],\n",
       "  [<moviepy.video.io.VideoFileClip.VideoFileClip at 0x22c8033f3d0>,\n",
       "   'checking tires_71'],\n",
       "  [<moviepy.video.io.VideoFileClip.VideoFileClip at 0x22c804083d0>,\n",
       "   'checking tires_1608'],\n",
       "  [<moviepy.video.io.VideoFileClip.VideoFileClip at 0x22c80514a50>,\n",
       "   'checking tires_5001']],\n",
       " 'massaging back': [[<moviepy.video.io.VideoFileClip.VideoFileClip at 0x22c80356550>,\n",
       "   'massaging back_227'],\n",
       "  [<moviepy.video.io.VideoFileClip.VideoFileClip at 0x22c8049ecd0>,\n",
       "   'massaging back_3803'],\n",
       "  [<moviepy.video.io.VideoFileClip.VideoFileClip at 0x22c804d4bd0>,\n",
       "   'massaging back_4282'],\n",
       "  [<moviepy.video.io.VideoFileClip.VideoFileClip at 0x22c804eaf10>,\n",
       "   'massaging back_4548'],\n",
       "  [<moviepy.video.io.VideoFileClip.VideoFileClip at 0x22c804eba10>,\n",
       "   'massaging back_4557'],\n",
       "  [<moviepy.video.io.VideoFileClip.VideoFileClip at 0x22c80517c50>,\n",
       "   'massaging back_5121']],\n",
       " \"massaging person's head\": [[<moviepy.video.io.VideoFileClip.VideoFileClip at 0x22c80357050>,\n",
       "   \"massaging person's head_234\"],\n",
       "  [<moviepy.video.io.VideoFileClip.VideoFileClip at 0x22c80371590>,\n",
       "   \"massaging person's head_417\"],\n",
       "  [<moviepy.video.io.VideoFileClip.VideoFileClip at 0x22c80408ed0>,\n",
       "   \"massaging person's head_1635\"],\n",
       "  [<moviepy.video.io.VideoFileClip.VideoFileClip at 0x22c80442550>,\n",
       "   \"massaging person's head_2333\"],\n",
       "  [<moviepy.video.io.VideoFileClip.VideoFileClip at 0x22c804a83d0>,\n",
       "   \"massaging person's head_3921\"],\n",
       "  [<moviepy.video.io.VideoFileClip.VideoFileClip at 0x22c804cc950>,\n",
       "   \"massaging person's head_4172\"]],\n",
       " 'stretching arm': [[<moviepy.video.io.VideoFileClip.VideoFileClip at 0x22c80365d90>,\n",
       "   'stretching arm_339'],\n",
       "  [<moviepy.video.io.VideoFileClip.VideoFileClip at 0x22c80366890>,\n",
       "   'stretching arm_348'],\n",
       "  [<moviepy.video.io.VideoFileClip.VideoFileClip at 0x22c80419c90>,\n",
       "   'stretching arm_1868'],\n",
       "  [<moviepy.video.io.VideoFileClip.VideoFileClip at 0x22c80436d90>,\n",
       "   'stretching arm_2228'],\n",
       "  [<moviepy.video.io.VideoFileClip.VideoFileClip at 0x22c804b86d0>,\n",
       "   'stretching arm_4084'],\n",
       "  [<moviepy.video.io.VideoFileClip.VideoFileClip at 0x22c804f8550>,\n",
       "   'stretching arm_4617'],\n",
       "  [<moviepy.video.io.VideoFileClip.VideoFileClip at 0x22c804f9b90>,\n",
       "   'stretching arm_4654'],\n",
       "  [<moviepy.video.io.VideoFileClip.VideoFileClip at 0x22c804fb190>,\n",
       "   'stretching arm_4710'],\n",
       "  [<moviepy.video.io.VideoFileClip.VideoFileClip at 0x22c80501310>,\n",
       "   'stretching arm_4858'],\n",
       "  [<moviepy.video.io.VideoFileClip.VideoFileClip at 0x22c80501e10>,\n",
       "   'stretching arm_4868'],\n",
       "  [<moviepy.video.io.VideoFileClip.VideoFileClip at 0x22c80502910>,\n",
       "   'stretching arm_4928'],\n",
       "  [<moviepy.video.io.VideoFileClip.VideoFileClip at 0x22c80503410>,\n",
       "   'stretching arm_4958']],\n",
       " 'setting table': [[<moviepy.video.io.VideoFileClip.VideoFileClip at 0x22c80372c50>,\n",
       "   'setting table_479']],\n",
       " 'playing volleyball': [[<moviepy.video.io.VideoFileClip.VideoFileClip at 0x22c8037d990>,\n",
       "   'playing volleyball_548'],\n",
       "  [<moviepy.video.io.VideoFileClip.VideoFileClip at 0x22c804ea410>,\n",
       "   'playing volleyball_4541']],\n",
       " 'skateboarding': [[<moviepy.video.io.VideoFileClip.VideoFileClip at 0x22c8032f310>,\n",
       "   'skateboarding_586'],\n",
       "  [<moviepy.video.io.VideoFileClip.VideoFileClip at 0x22c8040bb50>,\n",
       "   'skateboarding_1768'],\n",
       "  [<moviepy.video.io.VideoFileClip.VideoFileClip at 0x22c80418690>,\n",
       "   'skateboarding_1841'],\n",
       "  [<moviepy.video.io.VideoFileClip.VideoFileClip at 0x22c80503f10>,\n",
       "   'skateboarding_4994']],\n",
       " 'washing feet': [[<moviepy.video.io.VideoFileClip.VideoFileClip at 0x22c80390690>,\n",
       "   'washing feet_591']],\n",
       " 'waxing legs': [[<moviepy.video.io.VideoFileClip.VideoFileClip at 0x22c80391190>,\n",
       "   'waxing legs_617']],\n",
       " 'giving or receiving award': [[<moviepy.video.io.VideoFileClip.VideoFileClip at 0x22c80393350>,\n",
       "   'giving or receiving award_700'],\n",
       "  [<moviepy.video.io.VideoFileClip.VideoFileClip at 0x22c804491d0>,\n",
       "   'giving or receiving award_2485'],\n",
       "  [<moviepy.video.io.VideoFileClip.VideoFileClip at 0x22c8044be10>,\n",
       "   'giving or receiving award_2665'],\n",
       "  [<moviepy.video.io.VideoFileClip.VideoFileClip at 0x22c804675d0>,\n",
       "   'giving or receiving award_2789']],\n",
       " 'crying': [[<moviepy.video.io.VideoFileClip.VideoFileClip at 0x22c80393e50>,\n",
       "   'crying_713'],\n",
       "  [<moviepy.video.io.VideoFileClip.VideoFileClip at 0x22c803b1c50>,\n",
       "   'crying_1006'],\n",
       "  [<moviepy.video.io.VideoFileClip.VideoFileClip at 0x22c803e1050>,\n",
       "   'crying_1318']],\n",
       " 'playing cymbals': [[<moviepy.video.io.VideoFileClip.VideoFileClip at 0x22c8039a050>,\n",
       "   'playing cymbals_776']],\n",
       " 'texting': [[<moviepy.video.io.VideoFileClip.VideoFileClip at 0x22c803a4d50>,\n",
       "   'texting_828'],\n",
       "  [<moviepy.video.io.VideoFileClip.VideoFileClip at 0x22c803a5890>,\n",
       "   'texting_837'],\n",
       "  [<moviepy.video.io.VideoFileClip.VideoFileClip at 0x22c803f1450>,\n",
       "   'texting_1430'],\n",
       "  [<moviepy.video.io.VideoFileClip.VideoFileClip at 0x22c805007d0>,\n",
       "   'texting_4752']],\n",
       " 'getting a tattoo': [[<moviepy.video.io.VideoFileClip.VideoFileClip at 0x22c803a6f50>,\n",
       "   'getting a tattoo_866']],\n",
       " 'shining shoes': [[<moviepy.video.io.VideoFileClip.VideoFileClip at 0x22c803b05d0>,\n",
       "   'shining shoes_924'],\n",
       "  [<moviepy.video.io.VideoFileClip.VideoFileClip at 0x22c80440f50>,\n",
       "   'shining shoes_2287']],\n",
       " 'tango dancing': [[<moviepy.video.io.VideoFileClip.VideoFileClip at 0x22c803b3f10>,\n",
       "   'tango dancing_1069'],\n",
       "  [<moviepy.video.io.VideoFileClip.VideoFileClip at 0x22c803c3f90>,\n",
       "   'tango dancing_1235']],\n",
       " 'sled dog racing': [[<moviepy.video.io.VideoFileClip.VideoFileClip at 0x22c803c0a50>,\n",
       "   'sled dog racing_1078']],\n",
       " 'changing oil': [[<moviepy.video.io.VideoFileClip.VideoFileClip at 0x22c803c1550>,\n",
       "   'changing oil_1098'],\n",
       "  [<moviepy.video.io.VideoFileClip.VideoFileClip at 0x22c803f8c10>,\n",
       "   'changing oil_1544'],\n",
       "  [<moviepy.video.io.VideoFileClip.VideoFileClip at 0x22c803f9710>,\n",
       "   'changing oil_1550']],\n",
       " 'hockey stop': [[<moviepy.video.io.VideoFileClip.VideoFileClip at 0x22c803c3690>,\n",
       "   'hockey stop_1177']],\n",
       " 'bowling': [[<moviepy.video.io.VideoFileClip.VideoFileClip at 0x22c803cccd0>,\n",
       "   'bowling_1241'],\n",
       "  [<moviepy.video.io.VideoFileClip.VideoFileClip at 0x22c80421fd0>,\n",
       "   'bowling_2100'],\n",
       "  [<moviepy.video.io.VideoFileClip.VideoFileClip at 0x22c80423610>,\n",
       "   'bowling_2153'],\n",
       "  [<moviepy.video.io.VideoFileClip.VideoFileClip at 0x22c80516050>,\n",
       "   'bowling_5015'],\n",
       "  [<moviepy.video.io.VideoFileClip.VideoFileClip at 0x22c80516310>,\n",
       "   'bowling_5031'],\n",
       "  [<moviepy.video.io.VideoFileClip.VideoFileClip at 0x22c805339d0>,\n",
       "   'bowling_5255']],\n",
       " 'tasting beer': [[<moviepy.video.io.VideoFileClip.VideoFileClip at 0x22c803cd890>,\n",
       "   'tasting beer_1249'],\n",
       "  [<moviepy.video.io.VideoFileClip.VideoFileClip at 0x22c804799d0>,\n",
       "   'tasting beer_3338'],\n",
       "  [<moviepy.video.io.VideoFileClip.VideoFileClip at 0x22c8047a4d0>,\n",
       "   'tasting beer_3345'],\n",
       "  [<moviepy.video.io.VideoFileClip.VideoFileClip at 0x22c8049e1d0>,\n",
       "   'tasting beer_3786'],\n",
       "  [<moviepy.video.io.VideoFileClip.VideoFileClip at 0x22c804b9cd0>,\n",
       "   'tasting beer_4128'],\n",
       "  [<moviepy.video.io.VideoFileClip.VideoFileClip at 0x22c804bb2d0>,\n",
       "   'tasting beer_4156']],\n",
       " 'playing guitar': [[<moviepy.video.io.VideoFileClip.VideoFileClip at 0x22c803ce390>,\n",
       "   'playing guitar_1263'],\n",
       "  [<moviepy.video.io.VideoFileClip.VideoFileClip at 0x22c803cee90>,\n",
       "   'playing guitar_1274'],\n",
       "  [<moviepy.video.io.VideoFileClip.VideoFileClip at 0x22c803f2a90>,\n",
       "   'playing guitar_1458'],\n",
       "  [<moviepy.video.io.VideoFileClip.VideoFileClip at 0x22c803fad50>,\n",
       "   'playing guitar_1577']],\n",
       " 'answering questions': [[<moviepy.video.io.VideoFileClip.VideoFileClip at 0x22c803f1f90>,\n",
       "   'answering questions_1438'],\n",
       "  [<moviepy.video.io.VideoFileClip.VideoFileClip at 0x22c804d56d0>,\n",
       "   'answering questions_4301'],\n",
       "  [<moviepy.video.io.VideoFileClip.VideoFileClip at 0x22c804e9910>,\n",
       "   'answering questions_4516']],\n",
       " 'archery': [[<moviepy.video.io.VideoFileClip.VideoFileClip at 0x22c803fb850>,\n",
       "   'archery_1582']],\n",
       " 'playing chess': [[<moviepy.video.io.VideoFileClip.VideoFileClip at 0x22c804099d0>,\n",
       "   'playing chess_1671'],\n",
       "  [<moviepy.video.io.VideoFileClip.VideoFileClip at 0x22c8040afd0>,\n",
       "   'playing chess_1730']],\n",
       " 'playing xylophone': [[<moviepy.video.io.VideoFileClip.VideoFileClip at 0x22c8040a510>,\n",
       "   'playing xylophone_1705']],\n",
       " 'situp': [[<moviepy.video.io.VideoFileClip.VideoFileClip at 0x22c8041a790>,\n",
       "   'situp_1897'],\n",
       "  [<moviepy.video.io.VideoFileClip.VideoFileClip at 0x22c8041b2d0>,\n",
       "   'situp_1921']],\n",
       " 'breakdancing': [[<moviepy.video.io.VideoFileClip.VideoFileClip at 0x22c80420950>,\n",
       "   'breakdancing_1976']],\n",
       " 'bartending': [[<moviepy.video.io.VideoFileClip.VideoFileClip at 0x22c80421490>,\n",
       "   'bartending_2020']],\n",
       " 'sharpening knives': [[<moviepy.video.io.VideoFileClip.VideoFileClip at 0x22c80422b10>,\n",
       "   'sharpening knives_2122']],\n",
       " 'cracking neck': [[<moviepy.video.io.VideoFileClip.VideoFileClip at 0x22c80423750>,\n",
       "   'cracking neck_2160'],\n",
       "  [<moviepy.video.io.VideoFileClip.VideoFileClip at 0x22c80436290>,\n",
       "   'cracking neck_2208'],\n",
       "  [<moviepy.video.io.VideoFileClip.VideoFileClip at 0x22c80443b90>,\n",
       "   'cracking neck_2358']],\n",
       " 'blowing out candles': [[<moviepy.video.io.VideoFileClip.VideoFileClip at 0x22c80434c90>,\n",
       "   'blowing out candles_2192']],\n",
       " 'blowing glass': [[<moviepy.video.io.VideoFileClip.VideoFileClip at 0x22c80435790>,\n",
       "   'blowing glass_2201'],\n",
       "  [<moviepy.video.io.VideoFileClip.VideoFileClip at 0x22c80441a50>,\n",
       "   'blowing glass_2324']],\n",
       " 'milking cow': [[<moviepy.video.io.VideoFileClip.VideoFileClip at 0x22c80437890>,\n",
       "   'milking cow_2267']],\n",
       " 'high jump': [[<moviepy.video.io.VideoFileClip.VideoFileClip at 0x22c80443050>,\n",
       "   'high jump_2344']],\n",
       " 'playing trombone': [[<moviepy.video.io.VideoFileClip.VideoFileClip at 0x22c804486d0>,\n",
       "   'playing trombone_2475'],\n",
       "  [<moviepy.video.io.VideoFileClip.VideoFileClip at 0x22c80465fd0>,\n",
       "   'playing trombone_2764'],\n",
       "  [<moviepy.video.io.VideoFileClip.VideoFileClip at 0x22c80466ad0>,\n",
       "   'playing trombone_2777'],\n",
       "  [<moviepy.video.io.VideoFileClip.VideoFileClip at 0x22c8046ed50>,\n",
       "   'playing trombone_3268']],\n",
       " 'playing clarinet': [[<moviepy.video.io.VideoFileClip.VideoFileClip at 0x22c80449d10>,\n",
       "   'playing clarinet_2498']],\n",
       " 'playing didgeridoo': [[<moviepy.video.io.VideoFileClip.VideoFileClip at 0x22c8044a810>,\n",
       "   'playing didgeridoo_2573'],\n",
       "  [<moviepy.video.io.VideoFileClip.VideoFileClip at 0x22c8044b310>,\n",
       "   'playing didgeridoo_2604']],\n",
       " 'sharpening pencil': [[<moviepy.video.io.VideoFileClip.VideoFileClip at 0x22c80465490>,\n",
       "   'sharpening pencil_2747']],\n",
       " 'playing recorder': [[<moviepy.video.io.VideoFileClip.VideoFileClip at 0x22c80467710>,\n",
       "   'playing recorder_3053']],\n",
       " 'ice fishing': [[<moviepy.video.io.VideoFileClip.VideoFileClip at 0x22c804783d0>,\n",
       "   'ice fishing_3302']],\n",
       " 'punching person (boxing)': [[<moviepy.video.io.VideoFileClip.VideoFileClip at 0x22c80488690>,\n",
       "   'punching person (boxing)_3448'],\n",
       "  [<moviepy.video.io.VideoFileClip.VideoFileClip at 0x22c8048a790>,\n",
       "   'punching person (boxing)_3545'],\n",
       "  [<moviepy.video.io.VideoFileClip.VideoFileClip at 0x22c8048b290>,\n",
       "   'punching person (boxing)_3558'],\n",
       "  [<moviepy.video.io.VideoFileClip.VideoFileClip at 0x22c8048bd50>,\n",
       "   'punching person (boxing)_3580'],\n",
       "  [<moviepy.video.io.VideoFileClip.VideoFileClip at 0x22c804908d0>,\n",
       "   'punching person (boxing)_3598'],\n",
       "  [<moviepy.video.io.VideoFileClip.VideoFileClip at 0x22c804913d0>,\n",
       "   'punching person (boxing)_3612'],\n",
       "  [<moviepy.video.io.VideoFileClip.VideoFileClip at 0x22c80491ed0>,\n",
       "   'punching person (boxing)_3643'],\n",
       "  [<moviepy.video.io.VideoFileClip.VideoFileClip at 0x22c804d77d0>,\n",
       "   'punching person (boxing)_4419'],\n",
       "  [<moviepy.video.io.VideoFileClip.VideoFileClip at 0x22c804e8310>,\n",
       "   'punching person (boxing)_4445']],\n",
       " 'tying knot (not on a tie)': [[<moviepy.video.io.VideoFileClip.VideoFileClip at 0x22c80489190>,\n",
       "   'tying knot (not on a tie)_3486']],\n",
       " 'massaging feet': [[<moviepy.video.io.VideoFileClip.VideoFileClip at 0x22c80493950>,\n",
       "   'massaging feet_3682']],\n",
       " 'bandaging': [[<moviepy.video.io.VideoFileClip.VideoFileClip at 0x22c8049f810>,\n",
       "   'bandaging_3899']],\n",
       " 'waxing chest': [[<moviepy.video.io.VideoFileClip.VideoFileClip at 0x22c804abb90>,\n",
       "   'waxing chest_4076'],\n",
       "  [<moviepy.video.io.VideoFileClip.VideoFileClip at 0x22c804e8e10>,\n",
       "   'waxing chest_4507']],\n",
       " 'somersaulting': [[<moviepy.video.io.VideoFileClip.VideoFileClip at 0x22c804b91d0>,\n",
       "   'somersaulting_4105']],\n",
       " 'folding napkins': [[<moviepy.video.io.VideoFileClip.VideoFileClip at 0x22c804bbe10>,\n",
       "   'folding napkins_4162']],\n",
       " 'dunking basketball': [[<moviepy.video.io.VideoFileClip.VideoFileClip at 0x22c804cd450>,\n",
       "   'dunking basketball_4187']],\n",
       " 'bookbinding': [[<moviepy.video.io.VideoFileClip.VideoFileClip at 0x22c804cdf50>,\n",
       "   'bookbinding_4193']],\n",
       " 'massaging legs': [[<moviepy.video.io.VideoFileClip.VideoFileClip at 0x22c804cea50>,\n",
       "   'massaging legs_4200']],\n",
       " 'taking a shower': [[<moviepy.video.io.VideoFileClip.VideoFileClip at 0x22c804d61d0>,\n",
       "   'taking a shower_4350'],\n",
       "  [<moviepy.video.io.VideoFileClip.VideoFileClip at 0x22c804d6cd0>,\n",
       "   'taking a shower_4360']],\n",
       " 'playing tennis': [[<moviepy.video.io.VideoFileClip.VideoFileClip at 0x22c804fbc90>,\n",
       "   'playing tennis_4730'],\n",
       "  [<moviepy.video.io.VideoFileClip.VideoFileClip at 0x22c805426d0>,\n",
       "   'playing tennis_5334']],\n",
       " 'gymnastics tumbling': [[<moviepy.video.io.VideoFileClip.VideoFileClip at 0x22c805176d0>,\n",
       "   'gymnastics tumbling_5051']],\n",
       " 'ice climbing': [[<moviepy.video.io.VideoFileClip.VideoFileClip at 0x22c80530d50>,\n",
       "   'ice climbing_5136'],\n",
       "  [<moviepy.video.io.VideoFileClip.VideoFileClip at 0x22c80531850>,\n",
       "   'ice climbing_5149']],\n",
       " 'snowboarding': [[<moviepy.video.io.VideoFileClip.VideoFileClip at 0x22c80540550>,\n",
       "   'snowboarding_5265']],\n",
       " 'salsa dancing': [[<moviepy.video.io.VideoFileClip.VideoFileClip at 0x22c80543d10>,\n",
       "   'salsa dancing_5483']]}"
      ]
     },
     "execution_count": 21,
     "metadata": {},
     "output_type": "execute_result"
    }
   ],
   "source": [
    "dictionary"
   ]
  },
  {
   "cell_type": "code",
   "execution_count": 22,
   "id": "509fd686",
   "metadata": {},
   "outputs": [],
   "source": [
    "def ensure_folder_exists(folder):\n",
    "    if not os.path.exists(folder):\n",
    "        os.makedirs(folder)"
   ]
  },
  {
   "cell_type": "code",
   "execution_count": 23,
   "id": "b07ccd80",
   "metadata": {},
   "outputs": [],
   "source": [
    "from PIL import Image"
   ]
  },
  {
   "cell_type": "code",
   "execution_count": 24,
   "id": "2099f274",
   "metadata": {},
   "outputs": [
    {
     "name": "stdout",
     "output_type": "stream",
     "text": [
      "C:\\Users\\zl\\Input images\n"
     ]
    }
   ],
   "source": [
    "x=[]\n",
    "%cd C:\\Users\\zl\\Input images\n",
    "for i in class2:\n",
    "    ensure_folder_exists(i)\n",
    "    n=0\n",
    "    for y in dictionary[i]:\n",
    "        frame=y[0].get_frame(0.5)\n",
    "        frameimage=Image.fromarray(frame,'RGB')\n",
    "        output_path = os.path.join(i, str(n) + '.jpg')\n",
    "        frameimage.save(output_path)\n",
    "        n=n+1"
   ]
  },
  {
   "cell_type": "code",
   "execution_count": 25,
   "id": "ca879507",
   "metadata": {},
   "outputs": [
    {
     "name": "stdout",
     "output_type": "stream",
     "text": [
      "Requirement already satisfied: tensorflow in c:\\users\\zl\\anaconda3\\lib\\site-packages (2.14.0)\n",
      "Requirement already satisfied: tensorflow-intel==2.14.0 in c:\\users\\zl\\anaconda3\\lib\\site-packages (from tensorflow) (2.14.0)\n",
      "Requirement already satisfied: absl-py>=1.0.0 in c:\\users\\zl\\anaconda3\\lib\\site-packages (from tensorflow-intel==2.14.0->tensorflow) (2.0.0)\n",
      "Requirement already satisfied: astunparse>=1.6.0 in c:\\users\\zl\\anaconda3\\lib\\site-packages (from tensorflow-intel==2.14.0->tensorflow) (1.6.3)\n",
      "Requirement already satisfied: flatbuffers>=23.5.26 in c:\\users\\zl\\anaconda3\\lib\\site-packages (from tensorflow-intel==2.14.0->tensorflow) (23.5.26)\n",
      "Requirement already satisfied: gast!=0.5.0,!=0.5.1,!=0.5.2,>=0.2.1 in c:\\users\\zl\\anaconda3\\lib\\site-packages (from tensorflow-intel==2.14.0->tensorflow) (0.5.4)\n",
      "Requirement already satisfied: google-pasta>=0.1.1 in c:\\users\\zl\\anaconda3\\lib\\site-packages (from tensorflow-intel==2.14.0->tensorflow) (0.2.0)\n",
      "Requirement already satisfied: h5py>=2.9.0 in c:\\users\\zl\\anaconda3\\lib\\site-packages (from tensorflow-intel==2.14.0->tensorflow) (3.9.0)\n",
      "Requirement already satisfied: libclang>=13.0.0 in c:\\users\\zl\\anaconda3\\lib\\site-packages (from tensorflow-intel==2.14.0->tensorflow) (16.0.6)\n",
      "Requirement already satisfied: ml-dtypes==0.2.0 in c:\\users\\zl\\anaconda3\\lib\\site-packages (from tensorflow-intel==2.14.0->tensorflow) (0.2.0)\n",
      "Requirement already satisfied: numpy>=1.23.5 in c:\\users\\zl\\anaconda3\\lib\\site-packages (from tensorflow-intel==2.14.0->tensorflow) (1.24.3)\n",
      "Requirement already satisfied: opt-einsum>=2.3.2 in c:\\users\\zl\\anaconda3\\lib\\site-packages (from tensorflow-intel==2.14.0->tensorflow) (3.3.0)\n",
      "Requirement already satisfied: packaging in c:\\users\\zl\\anaconda3\\lib\\site-packages (from tensorflow-intel==2.14.0->tensorflow) (23.1)\n",
      "Requirement already satisfied: protobuf!=4.21.0,!=4.21.1,!=4.21.2,!=4.21.3,!=4.21.4,!=4.21.5,<5.0.0dev,>=3.20.3 in c:\\users\\zl\\anaconda3\\lib\\site-packages (from tensorflow-intel==2.14.0->tensorflow) (4.25.0)\n",
      "Requirement already satisfied: setuptools in c:\\users\\zl\\anaconda3\\lib\\site-packages (from tensorflow-intel==2.14.0->tensorflow) (68.0.0)\n",
      "Requirement already satisfied: six>=1.12.0 in c:\\users\\zl\\anaconda3\\lib\\site-packages (from tensorflow-intel==2.14.0->tensorflow) (1.16.0)\n",
      "Requirement already satisfied: termcolor>=1.1.0 in c:\\users\\zl\\anaconda3\\lib\\site-packages (from tensorflow-intel==2.14.0->tensorflow) (2.3.0)\n",
      "Requirement already satisfied: typing-extensions>=3.6.6 in c:\\users\\zl\\anaconda3\\lib\\site-packages (from tensorflow-intel==2.14.0->tensorflow) (4.7.1)\n",
      "Requirement already satisfied: wrapt<1.15,>=1.11.0 in c:\\users\\zl\\anaconda3\\lib\\site-packages (from tensorflow-intel==2.14.0->tensorflow) (1.14.1)\n",
      "Requirement already satisfied: tensorflow-io-gcs-filesystem>=0.23.1 in c:\\users\\zl\\anaconda3\\lib\\site-packages (from tensorflow-intel==2.14.0->tensorflow) (0.31.0)\n",
      "Requirement already satisfied: grpcio<2.0,>=1.24.3 in c:\\users\\zl\\anaconda3\\lib\\site-packages (from tensorflow-intel==2.14.0->tensorflow) (1.59.2)\n",
      "Requirement already satisfied: tensorboard<2.15,>=2.14 in c:\\users\\zl\\anaconda3\\lib\\site-packages (from tensorflow-intel==2.14.0->tensorflow) (2.14.1)\n",
      "Requirement already satisfied: tensorflow-estimator<2.15,>=2.14.0 in c:\\users\\zl\\anaconda3\\lib\\site-packages (from tensorflow-intel==2.14.0->tensorflow) (2.14.0)\n",
      "Requirement already satisfied: keras<2.15,>=2.14.0 in c:\\users\\zl\\anaconda3\\lib\\site-packages (from tensorflow-intel==2.14.0->tensorflow) (2.14.0)\n",
      "Requirement already satisfied: wheel<1.0,>=0.23.0 in c:\\users\\zl\\anaconda3\\lib\\site-packages (from astunparse>=1.6.0->tensorflow-intel==2.14.0->tensorflow) (0.38.4)\n",
      "Requirement already satisfied: google-auth<3,>=1.6.3 in c:\\users\\zl\\anaconda3\\lib\\site-packages (from tensorboard<2.15,>=2.14->tensorflow-intel==2.14.0->tensorflow) (2.23.4)\n",
      "Requirement already satisfied: google-auth-oauthlib<1.1,>=0.5 in c:\\users\\zl\\anaconda3\\lib\\site-packages (from tensorboard<2.15,>=2.14->tensorflow-intel==2.14.0->tensorflow) (1.0.0)\n",
      "Requirement already satisfied: markdown>=2.6.8 in c:\\users\\zl\\anaconda3\\lib\\site-packages (from tensorboard<2.15,>=2.14->tensorflow-intel==2.14.0->tensorflow) (3.4.1)\n",
      "Requirement already satisfied: requests<3,>=2.21.0 in c:\\users\\zl\\anaconda3\\lib\\site-packages (from tensorboard<2.15,>=2.14->tensorflow-intel==2.14.0->tensorflow) (2.31.0)\n",
      "Requirement already satisfied: tensorboard-data-server<0.8.0,>=0.7.0 in c:\\users\\zl\\anaconda3\\lib\\site-packages (from tensorboard<2.15,>=2.14->tensorflow-intel==2.14.0->tensorflow) (0.7.2)\n",
      "Requirement already satisfied: werkzeug>=1.0.1 in c:\\users\\zl\\anaconda3\\lib\\site-packages (from tensorboard<2.15,>=2.14->tensorflow-intel==2.14.0->tensorflow) (2.2.3)\n",
      "Requirement already satisfied: cachetools<6.0,>=2.0.0 in c:\\users\\zl\\anaconda3\\lib\\site-packages (from google-auth<3,>=1.6.3->tensorboard<2.15,>=2.14->tensorflow-intel==2.14.0->tensorflow) (5.3.2)\n",
      "Requirement already satisfied: pyasn1-modules>=0.2.1 in c:\\users\\zl\\anaconda3\\lib\\site-packages (from google-auth<3,>=1.6.3->tensorboard<2.15,>=2.14->tensorflow-intel==2.14.0->tensorflow) (0.2.8)\n",
      "Requirement already satisfied: rsa<5,>=3.1.4 in c:\\users\\zl\\anaconda3\\lib\\site-packages (from google-auth<3,>=1.6.3->tensorboard<2.15,>=2.14->tensorflow-intel==2.14.0->tensorflow) (4.9)\n",
      "Requirement already satisfied: requests-oauthlib>=0.7.0 in c:\\users\\zl\\anaconda3\\lib\\site-packages (from google-auth-oauthlib<1.1,>=0.5->tensorboard<2.15,>=2.14->tensorflow-intel==2.14.0->tensorflow) (1.3.1)\n",
      "Requirement already satisfied: charset-normalizer<4,>=2 in c:\\users\\zl\\anaconda3\\lib\\site-packages (from requests<3,>=2.21.0->tensorboard<2.15,>=2.14->tensorflow-intel==2.14.0->tensorflow) (2.0.4)\n",
      "Requirement already satisfied: idna<4,>=2.5 in c:\\users\\zl\\anaconda3\\lib\\site-packages (from requests<3,>=2.21.0->tensorboard<2.15,>=2.14->tensorflow-intel==2.14.0->tensorflow) (3.4)\n",
      "Requirement already satisfied: urllib3<3,>=1.21.1 in c:\\users\\zl\\anaconda3\\lib\\site-packages (from requests<3,>=2.21.0->tensorboard<2.15,>=2.14->tensorflow-intel==2.14.0->tensorflow) (1.26.16)\n",
      "Requirement already satisfied: certifi>=2017.4.17 in c:\\users\\zl\\anaconda3\\lib\\site-packages (from requests<3,>=2.21.0->tensorboard<2.15,>=2.14->tensorflow-intel==2.14.0->tensorflow) (2023.7.22)\n",
      "Requirement already satisfied: MarkupSafe>=2.1.1 in c:\\users\\zl\\anaconda3\\lib\\site-packages (from werkzeug>=1.0.1->tensorboard<2.15,>=2.14->tensorflow-intel==2.14.0->tensorflow) (2.1.1)\n",
      "Requirement already satisfied: pyasn1<0.5.0,>=0.4.6 in c:\\users\\zl\\anaconda3\\lib\\site-packages (from pyasn1-modules>=0.2.1->google-auth<3,>=1.6.3->tensorboard<2.15,>=2.14->tensorflow-intel==2.14.0->tensorflow) (0.4.8)\n",
      "Requirement already satisfied: oauthlib>=3.0.0 in c:\\users\\zl\\anaconda3\\lib\\site-packages (from requests-oauthlib>=0.7.0->google-auth-oauthlib<1.1,>=0.5->tensorboard<2.15,>=2.14->tensorflow-intel==2.14.0->tensorflow) (3.2.2)\n",
      "Requirement already satisfied: pillow in c:\\users\\zl\\anaconda3\\lib\\site-packages (9.4.0)\n",
      "Requirement already satisfied: scipy in c:\\users\\zl\\anaconda3\\lib\\site-packages (1.11.1)\n",
      "Requirement already satisfied: numpy<1.28.0,>=1.21.6 in c:\\users\\zl\\anaconda3\\lib\\site-packages (from scipy) (1.24.3)\n",
      "Requirement already satisfied: matplotlib in c:\\users\\zl\\anaconda3\\lib\\site-packages (3.7.2)\n",
      "Requirement already satisfied: contourpy>=1.0.1 in c:\\users\\zl\\anaconda3\\lib\\site-packages (from matplotlib) (1.0.5)\n",
      "Requirement already satisfied: cycler>=0.10 in c:\\users\\zl\\anaconda3\\lib\\site-packages (from matplotlib) (0.11.0)\n",
      "Requirement already satisfied: fonttools>=4.22.0 in c:\\users\\zl\\anaconda3\\lib\\site-packages (from matplotlib) (4.25.0)\n",
      "Requirement already satisfied: kiwisolver>=1.0.1 in c:\\users\\zl\\anaconda3\\lib\\site-packages (from matplotlib) (1.4.4)\n",
      "Requirement already satisfied: numpy>=1.20 in c:\\users\\zl\\anaconda3\\lib\\site-packages (from matplotlib) (1.24.3)\n",
      "Requirement already satisfied: packaging>=20.0 in c:\\users\\zl\\anaconda3\\lib\\site-packages (from matplotlib) (23.1)\n",
      "Requirement already satisfied: pillow>=6.2.0 in c:\\users\\zl\\anaconda3\\lib\\site-packages (from matplotlib) (9.4.0)\n",
      "Requirement already satisfied: pyparsing<3.1,>=2.3.1 in c:\\users\\zl\\anaconda3\\lib\\site-packages (from matplotlib) (3.0.9)\n",
      "Requirement already satisfied: python-dateutil>=2.7 in c:\\users\\zl\\anaconda3\\lib\\site-packages (from matplotlib) (2.8.2)\n",
      "Requirement already satisfied: six>=1.5 in c:\\users\\zl\\anaconda3\\lib\\site-packages (from python-dateutil>=2.7->matplotlib) (1.16.0)\n"
     ]
    }
   ],
   "source": [
    "!pip install tensorflow\n",
    "!pip install pillow\n",
    "!pip install scipy\n",
    "!pip install matplotlib"
   ]
  },
  {
   "cell_type": "code",
   "execution_count": 26,
   "id": "238c467a",
   "metadata": {},
   "outputs": [],
   "source": [
    "import tensorflow as tf\n",
    "import PIL\n",
    "from PIL import Image\n",
    "from tensorflow.keras.models import Model\n",
    "from tensorflow.keras.layers import (Dropout, Dense, Softmax)\n",
    "from tensorflow.keras.applications import mobilenet as _mobilenet\n",
    "import random\n",
    "import os\n",
    "import numpy as np\n",
    "from subprocess import call\n",
    "import scipy\n",
    "import matplotlib.pyplot as plt\n",
    "from matplotlib import cm\n",
    "import math\n",
    "from decimal import Decimal, localcontext\n",
    "\n",
    "from pathlib import Path\n"
   ]
  },
  {
   "cell_type": "code",
   "execution_count": 27,
   "id": "77599b3a",
   "metadata": {},
   "outputs": [],
   "source": [
    "def opF(path):\n",
    "    p = Path(path)\n",
    "    os.startfile(p) # for Windows"
   ]
  },
  {
   "cell_type": "code",
   "execution_count": 28,
   "id": "4f038d24",
   "metadata": {},
   "outputs": [],
   "source": [
    "def load_image(img_file, target_size=(224,224)):\n",
    "    X = np.zeros((1, *target_size, 3))\n",
    "    X[0, ] = np.asarray(tf.keras.preprocessing.image.load_img(\n",
    "        img_file, \n",
    "        target_size=target_size)\n",
    "    )\n",
    "    X = tf.keras.applications.mobilenet.preprocess_input(X)\n",
    "    return X\n"
   ]
  },
  {
   "cell_type": "code",
   "execution_count": 29,
   "id": "8735ad70",
   "metadata": {},
   "outputs": [],
   "source": [
    "model = tf.keras.applications.mobilenet.MobileNet(\n",
    "# The 3 is the three dimensions of the input: r,g,b.\n",
    "  input_shape=(224, 224, 3), \n",
    "  include_top=False, \n",
    "  pooling='avg'\n",
    ")"
   ]
  },
  {
   "cell_type": "code",
   "execution_count": 85,
   "id": "f935778e",
   "metadata": {},
   "outputs": [
    {
     "data": {
      "text/plain": [
       "['answering questions',\n",
       " 'archery',\n",
       " 'bandaging',\n",
       " 'bartending',\n",
       " 'blowing glass',\n",
       " 'blowing out candles',\n",
       " 'bookbinding',\n",
       " 'bowling',\n",
       " 'breakdancing',\n",
       " 'brushing hair',\n",
       " 'changing oil',\n",
       " 'checking tires',\n",
       " 'cheerleading',\n",
       " 'chopping wood',\n",
       " 'cleaning windows',\n",
       " 'cracking neck',\n",
       " 'crying',\n",
       " 'dancing ballet',\n",
       " 'diving cliff',\n",
       " 'drawing',\n",
       " 'dunking basketball',\n",
       " 'extinguishing fire',\n",
       " 'fixing hair',\n",
       " 'folding napkins',\n",
       " 'front raises',\n",
       " 'getting a tattoo',\n",
       " 'giving or receiving award',\n",
       " 'golf putting',\n",
       " 'gymnastics tumbling',\n",
       " 'high jump',\n",
       " 'hockey stop',\n",
       " 'ice climbing',\n",
       " 'ice fishing',\n",
       " 'kissing',\n",
       " 'massaging back',\n",
       " 'massaging feet',\n",
       " 'massaging legs',\n",
       " \"massaging person's head\",\n",
       " 'milking cow',\n",
       " 'news anchoring',\n",
       " 'passing American football (not in game)',\n",
       " 'playing chess',\n",
       " 'playing clarinet',\n",
       " 'playing cymbals',\n",
       " 'playing didgeridoo',\n",
       " 'playing guitar',\n",
       " 'playing poker',\n",
       " 'playing recorder',\n",
       " 'playing tennis',\n",
       " 'playing trombone',\n",
       " 'playing volleyball',\n",
       " 'playing xylophone',\n",
       " 'punching person (boxing)',\n",
       " 'riding or walking with horse',\n",
       " 'robot dancing',\n",
       " 'salsa dancing',\n",
       " 'setting table',\n",
       " 'sharpening knives',\n",
       " 'sharpening pencil',\n",
       " 'shining shoes',\n",
       " 'sign language interpreting',\n",
       " 'singing',\n",
       " 'situp',\n",
       " 'skateboarding',\n",
       " 'sled dog racing',\n",
       " 'smoking',\n",
       " 'snatch weight lifting',\n",
       " 'snowboarding',\n",
       " 'somersaulting',\n",
       " 'stretching arm',\n",
       " 'stretching leg',\n",
       " 'tai chi',\n",
       " 'taking a shower',\n",
       " 'tango dancing',\n",
       " 'tap dancing',\n",
       " 'tasting beer',\n",
       " 'testifying',\n",
       " 'texting',\n",
       " 'tying knot (not on a tie)',\n",
       " 'walking the dog',\n",
       " 'washing feet',\n",
       " 'waxing chest',\n",
       " 'waxing legs',\n",
       " 'whistling',\n",
       " 'writing',\n",
       " 'yoga']"
      ]
     },
     "execution_count": 85,
     "metadata": {},
     "output_type": "execute_result"
    }
   ],
   "source": [
    "classnamelist=[]\n",
    "class_path = r'C:\\Users\\zl\\Input images'\n",
    "items = os.listdir(class_path)\n",
    "subfolders = [item for item in items if os.path.isdir(os.path.join(class_path, item))]\n",
    "for folder in subfolders:\n",
    "    classnamelist.append(folder)\n",
    "classnamelist"
   ]
  },
  {
   "cell_type": "code",
   "execution_count": 86,
   "id": "f0ab4613",
   "metadata": {},
   "outputs": [],
   "source": [
    "T=len(classnamelist)"
   ]
  },
  {
   "cell_type": "code",
   "execution_count": 87,
   "id": "62408884",
   "metadata": {},
   "outputs": [],
   "source": [
    "x = Dropout(rate=0.4)(model.output)\n",
    "# This determines the number of outputs, and thus the number of categories, in my test case 2: dog or cat\n",
    "x = Dense(T)(x)\n",
    "x = Softmax()(x)\n",
    "model= Model(model.inputs, x)"
   ]
  },
  {
   "cell_type": "code",
   "execution_count": 88,
   "id": "0c591e18",
   "metadata": {},
   "outputs": [],
   "source": [
    "for layer in model.layers[:-3]:\n",
    "    layer.trainable = False"
   ]
  },
  {
   "cell_type": "code",
   "execution_count": 89,
   "id": "6c21ccf5",
   "metadata": {},
   "outputs": [],
   "source": [
    "from tensorflow.keras.optimizers import Adam\n",
    "model.compile(\n",
    "    optimizer=Adam(learning_rate=0.001),\n",
    "    loss='categorical_crossentropy'\n",
    ")"
   ]
  },
  {
   "cell_type": "code",
   "execution_count": 90,
   "id": "3f384c5c",
   "metadata": {},
   "outputs": [
    {
     "name": "stdout",
     "output_type": "stream",
     "text": [
      "C:\\Users\\zl\n"
     ]
    }
   ],
   "source": [
    "%cd C:\\Users\\zl"
   ]
  },
  {
   "cell_type": "code",
   "execution_count": 91,
   "id": "488a6ec3",
   "metadata": {},
   "outputs": [
    {
     "name": "stdout",
     "output_type": "stream",
     "text": [
      "Found 340 images belonging to 86 classes.\n",
      "Found 48 images belonging to 86 classes.\n"
     ]
    }
   ],
   "source": [
    "datagen = tf.keras.preprocessing.image.ImageDataGenerator(\n",
    "    preprocessing_function=_mobilenet.preprocess_input,\n",
    "    shear_range=0.2,\n",
    "    zoom_range=0.2,\n",
    "    horizontal_flip=True,\n",
    "    validation_split=0.2\n",
    ")\n",
    "\n",
    "ensure_folder_exists('training_aug')\n",
    "training = datagen.flow_from_directory( \n",
    "    'Input images', \n",
    "    target_size=(224, 224),\n",
    "    save_to_dir='./training_aug',\n",
    "    subset='training'\n",
    ") \n",
    "\n",
    "ensure_folder_exists('validation_aug')\n",
    "validation = datagen.flow_from_directory( \n",
    "    'Input images',\n",
    "    target_size=(224, 224),\n",
    "    save_to_dir='./validation_aug',\n",
    "    subset='validation'\n",
    ") "
   ]
  },
  {
   "cell_type": "code",
   "execution_count": 100,
   "id": "8bd86ca1",
   "metadata": {},
   "outputs": [
    {
     "name": "stdout",
     "output_type": "stream",
     "text": [
      "Epoch 1/5\n",
      "11/11 [==============================] - 7s 657ms/step - loss: 4.3701 - val_loss: 4.3096\n",
      "Epoch 2/5\n",
      "11/11 [==============================] - 7s 607ms/step - loss: 4.3581 - val_loss: 4.2891\n",
      "Epoch 3/5\n",
      "11/11 [==============================] - 7s 617ms/step - loss: 4.3487 - val_loss: 4.2663\n",
      "Epoch 4/5\n",
      "11/11 [==============================] - 7s 623ms/step - loss: 4.3378 - val_loss: 4.2507\n",
      "Epoch 5/5\n",
      "11/11 [==============================] - 7s 618ms/step - loss: 4.3285 - val_loss: 4.2362\n"
     ]
    }
   ],
   "source": [
    "batch_size = 30\n",
    "\n",
    "history = model.fit(\n",
    "    x=training,\n",
    "    steps_per_epoch=training.samples // batch_size,\n",
    "    # this needs to be much higher than 1, but for demo here we'll keep it at this\n",
    "    epochs=5,\n",
    "    validation_data=validation,\n",
    "    validation_steps=validation.samples // batch_size\n",
    ")"
   ]
  },
  {
   "cell_type": "code",
   "execution_count": 101,
   "id": "b81c4cb6",
   "metadata": {},
   "outputs": [],
   "source": [
    "picture_path = 'Input images/1.jpg'\n",
    "picture = load_image(picture_path)"
   ]
  },
  {
   "cell_type": "code",
   "execution_count": 102,
   "id": "aba5b0c5",
   "metadata": {},
   "outputs": [
    {
     "data": {
      "image/png": "[encoded data removed]",
      "text/plain": [
       "<PIL.Image.Image image mode=RGB size=224x224>"
      ]
     },
     "execution_count": 102,
     "metadata": {},
     "output_type": "execute_result"
    }
   ],
   "source": [
    "tf.keras.preprocessing.image.load_img(picture_path, target_size=(224,224))"
   ]
  },
  {
   "cell_type": "code",
   "execution_count": 103,
   "id": "fc0ca256",
   "metadata": {},
   "outputs": [
    {
     "name": "stdout",
     "output_type": "stream",
     "text": [
      "1/1 [==============================] - 0s 33ms/step\n",
      "picture:[[0.01 0.01 0.01 0.01 0.01 0.01 0.01 0.01 0.01 0.01 0.01 0.01 0.01 0.01\n",
      "  0.01 0.01 0.01 0.01 0.01 0.01 0.01 0.01 0.01 0.01 0.01 0.01 0.01 0.01\n",
      "  0.01 0.01 0.01 0.01 0.01 0.01 0.01 0.01 0.01 0.01 0.01 0.01 0.01 0.01\n",
      "  0.01 0.01 0.01 0.01 0.01 0.01 0.01 0.01 0.01 0.01 0.01 0.01 0.01 0.01\n",
      "  0.01 0.01 0.01 0.01 0.01 0.01 0.01 0.01 0.01 0.01 0.01 0.01 0.01 0.01\n",
      "  0.01 0.01 0.01 0.01 0.01 0.01 0.01 0.01 0.01 0.01 0.01 0.01 0.01 0.02\n",
      "  0.01 0.01]]\n"
     ]
    }
   ],
   "source": [
    "print(f'''picture:{np.round(model.predict(picture),2)}''')"
   ]
  },
  {
   "cell_type": "code",
   "execution_count": 104,
   "id": "d6bc475a",
   "metadata": {},
   "outputs": [
    {
     "name": "stdout",
     "output_type": "stream",
     "text": [
      "1/1 [==============================] - 0s 31ms/step\n"
     ]
    }
   ],
   "source": [
    "score=np.round(model.predict(picture),2)"
   ]
  },
  {
   "cell_type": "code",
   "execution_count": 105,
   "id": "024a37cf",
   "metadata": {},
   "outputs": [
    {
     "data": {
      "text/plain": [
       "array([0.01, 0.01, 0.01, 0.01, 0.01, 0.01, 0.01, 0.01, 0.01, 0.01, 0.01,\n",
       "       0.01, 0.01, 0.01, 0.01, 0.01, 0.01, 0.01, 0.01, 0.01, 0.01, 0.01,\n",
       "       0.01, 0.01, 0.01, 0.01, 0.01, 0.01, 0.01, 0.01, 0.01, 0.01, 0.01,\n",
       "       0.01, 0.01, 0.01, 0.01, 0.01, 0.01, 0.01, 0.01, 0.01, 0.01, 0.01,\n",
       "       0.01, 0.01, 0.01, 0.01, 0.01, 0.01, 0.01, 0.01, 0.01, 0.01, 0.01,\n",
       "       0.01, 0.01, 0.01, 0.01, 0.01, 0.01, 0.01, 0.01, 0.01, 0.01, 0.01,\n",
       "       0.01, 0.01, 0.01, 0.01, 0.01, 0.01, 0.01, 0.01, 0.01, 0.01, 0.01,\n",
       "       0.01, 0.01, 0.01, 0.01, 0.01, 0.01, 0.02, 0.01, 0.01],\n",
       "      dtype=float32)"
      ]
     },
     "execution_count": 105,
     "metadata": {},
     "output_type": "execute_result"
    }
   ],
   "source": [
    "score[0]"
   ]
  },
  {
   "cell_type": "code",
   "execution_count": 106,
   "id": "0280ea02",
   "metadata": {},
   "outputs": [
    {
     "name": "stdout",
     "output_type": "stream",
     "text": [
      "0.02\n"
     ]
    }
   ],
   "source": [
    "a=0\n",
    "for i in range(0,len(score[0])):\n",
    "    if score[0][i]>a:\n",
    "        a=score[0][i]       \n",
    "print(a)"
   ]
  },
  {
   "cell_type": "code",
   "execution_count": 107,
   "id": "bc0c64d5",
   "metadata": {},
   "outputs": [
    {
     "name": "stdout",
     "output_type": "stream",
     "text": [
      "whistling\n"
     ]
    }
   ],
   "source": [
    "for i in range(0,len(score[0])):\n",
    "    if score[0][i]==a:\n",
    "        searching_label=classnamelist[i]\n",
    "        print(classnamelist[i])"
   ]
  },
  {
   "cell_type": "code",
   "execution_count": 78,
   "id": "3f5ebe71",
   "metadata": {
    "scrolled": true
   },
   "outputs": [],
   "source": [
    "finallist=dictionary['whistling']"
   ]
  },
  {
   "cell_type": "code",
   "execution_count": 79,
   "id": "c6fd9000",
   "metadata": {},
   "outputs": [
    {
     "data": {
      "text/plain": [
       "[[<moviepy.video.io.VideoFileClip.VideoFileClip at 0x22ce00cc690>,\n",
       "  'whistling_603'],\n",
       " [<moviepy.video.io.VideoFileClip.VideoFileClip at 0x22ce00ecbd0>,\n",
       "  'whistling_1109'],\n",
       " [<moviepy.video.io.VideoFileClip.VideoFileClip at 0x22ce00ed650>,\n",
       "  'whistling_1118'],\n",
       " [<moviepy.video.io.VideoFileClip.VideoFileClip at 0x22ce00ee190>,\n",
       "  'whistling_1159'],\n",
       " [<moviepy.video.io.VideoFileClip.VideoFileClip at 0x22ce0112650>,\n",
       "  'whistling_1714'],\n",
       " [<moviepy.video.io.VideoFileClip.VideoFileClip at 0x22ce0113150>,\n",
       "  'whistling_1728'],\n",
       " [<moviepy.video.io.VideoFileClip.VideoFileClip at 0x22ce0113650>,\n",
       "  'whistling_1739'],\n",
       " [<moviepy.video.io.VideoFileClip.VideoFileClip at 0x22ce0120810>,\n",
       "  'whistling_1751'],\n",
       " [<moviepy.video.io.VideoFileClip.VideoFileClip at 0x22ce0121290>,\n",
       "  'whistling_1757'],\n",
       " [<moviepy.video.io.VideoFileClip.VideoFileClip at 0x22ce0121d10>,\n",
       "  'whistling_1780'],\n",
       " [<moviepy.video.io.VideoFileClip.VideoFileClip at 0x22ce0122810>,\n",
       "  'whistling_1790'],\n",
       " [<moviepy.video.io.VideoFileClip.VideoFileClip at 0x22ce0123310>,\n",
       "  'whistling_1805'],\n",
       " [<moviepy.video.io.VideoFileClip.VideoFileClip at 0x22ce0123e10>,\n",
       "  'whistling_1824'],\n",
       " [<moviepy.video.io.VideoFileClip.VideoFileClip at 0x22ce0128910>,\n",
       "  'whistling_1833'],\n",
       " [<moviepy.video.io.VideoFileClip.VideoFileClip at 0x22ce0129390>,\n",
       "  'whistling_1845'],\n",
       " [<moviepy.video.io.VideoFileClip.VideoFileClip at 0x22ce0129e90>,\n",
       "  'whistling_1852'],\n",
       " [<moviepy.video.io.VideoFileClip.VideoFileClip at 0x22ce012aa50>,\n",
       "  'whistling_1861'],\n",
       " [<moviepy.video.io.VideoFileClip.VideoFileClip at 0x22ce012b550>,\n",
       "  'whistling_1870'],\n",
       " [<moviepy.video.io.VideoFileClip.VideoFileClip at 0x22ce012bd10>,\n",
       "  'whistling_1877'],\n",
       " [<moviepy.video.io.VideoFileClip.VideoFileClip at 0x22ce0138a90>,\n",
       "  'whistling_1883'],\n",
       " [<moviepy.video.io.VideoFileClip.VideoFileClip at 0x22ce0139510>,\n",
       "  'whistling_1903'],\n",
       " [<moviepy.video.io.VideoFileClip.VideoFileClip at 0x22ce013a010>,\n",
       "  'whistling_1927'],\n",
       " [<moviepy.video.io.VideoFileClip.VideoFileClip at 0x22ce013aa90>,\n",
       "  'whistling_1946'],\n",
       " [<moviepy.video.io.VideoFileClip.VideoFileClip at 0x22ce013b590>,\n",
       "  'whistling_1966'],\n",
       " [<moviepy.video.io.VideoFileClip.VideoFileClip at 0x22ce013b890>,\n",
       "  'whistling_1973'],\n",
       " [<moviepy.video.io.VideoFileClip.VideoFileClip at 0x22ce0148c10>,\n",
       "  'whistling_1980'],\n",
       " [<moviepy.video.io.VideoFileClip.VideoFileClip at 0x22ce01496d0>,\n",
       "  'whistling_1997'],\n",
       " [<moviepy.video.io.VideoFileClip.VideoFileClip at 0x22ce014a1d0>,\n",
       "  'whistling_2011'],\n",
       " [<moviepy.video.io.VideoFileClip.VideoFileClip at 0x22ce014ac90>,\n",
       "  'whistling_2035'],\n",
       " [<moviepy.video.io.VideoFileClip.VideoFileClip at 0x22ce014b650>,\n",
       "  'whistling_2041'],\n",
       " [<moviepy.video.io.VideoFileClip.VideoFileClip at 0x22ce014bc50>,\n",
       "  'whistling_2051'],\n",
       " [<moviepy.video.io.VideoFileClip.VideoFileClip at 0x22ce0154dd0>,\n",
       "  'whistling_2065'],\n",
       " [<moviepy.video.io.VideoFileClip.VideoFileClip at 0x22ce0155950>,\n",
       "  'whistling_2082'],\n",
       " [<moviepy.video.io.VideoFileClip.VideoFileClip at 0x22ce01563d0>,\n",
       "  'whistling_2091'],\n",
       " [<moviepy.video.io.VideoFileClip.VideoFileClip at 0x22ce0156ed0>,\n",
       "  'whistling_2108'],\n",
       " [<moviepy.video.io.VideoFileClip.VideoFileClip at 0x22ce0157950>,\n",
       "  'whistling_2133'],\n",
       " [<moviepy.video.io.VideoFileClip.VideoFileClip at 0x22ce0158510>,\n",
       "  'whistling_2143'],\n",
       " [<moviepy.video.io.VideoFileClip.VideoFileClip at 0x22ce0158fd0>,\n",
       "  'whistling_2148'],\n",
       " [<moviepy.video.io.VideoFileClip.VideoFileClip at 0x22ce0159a50>,\n",
       "  'whistling_2170'],\n",
       " [<moviepy.video.io.VideoFileClip.VideoFileClip at 0x22ce015a550>,\n",
       "  'whistling_2220'],\n",
       " [<moviepy.video.io.VideoFileClip.VideoFileClip at 0x22ce015b090>,\n",
       "  'whistling_2228'],\n",
       " [<moviepy.video.io.VideoFileClip.VideoFileClip at 0x22ce015bb90>,\n",
       "  'whistling_2264'],\n",
       " [<moviepy.video.io.VideoFileClip.VideoFileClip at 0x22ce0174750>,\n",
       "  'whistling_2274'],\n",
       " [<moviepy.video.io.VideoFileClip.VideoFileClip at 0x22ce01752d0>,\n",
       "  'whistling_2280'],\n",
       " [<moviepy.video.io.VideoFileClip.VideoFileClip at 0x22ce0175e10>,\n",
       "  'whistling_2286'],\n",
       " [<moviepy.video.io.VideoFileClip.VideoFileClip at 0x22ce0176a50>,\n",
       "  'whistling_2296'],\n",
       " [<moviepy.video.io.VideoFileClip.VideoFileClip at 0x22ce0177650>,\n",
       "  'whistling_2307'],\n",
       " [<moviepy.video.io.VideoFileClip.VideoFileClip at 0x22ce0177ad0>,\n",
       "  'whistling_2333'],\n",
       " [<moviepy.video.io.VideoFileClip.VideoFileClip at 0x22ce017ce10>,\n",
       "  'whistling_2346'],\n",
       " [<moviepy.video.io.VideoFileClip.VideoFileClip at 0x22ce017d950>,\n",
       "  'whistling_2364'],\n",
       " [<moviepy.video.io.VideoFileClip.VideoFileClip at 0x22ce017e5d0>,\n",
       "  'whistling_2376'],\n",
       " [<moviepy.video.io.VideoFileClip.VideoFileClip at 0x22ce017f110>,\n",
       "  'whistling_2407'],\n",
       " [<moviepy.video.io.VideoFileClip.VideoFileClip at 0x22ce017fc90>,\n",
       "  'whistling_2423'],\n",
       " [<moviepy.video.io.VideoFileClip.VideoFileClip at 0x22ce01888d0>,\n",
       "  'whistling_2430'],\n",
       " [<moviepy.video.io.VideoFileClip.VideoFileClip at 0x22ce0189450>,\n",
       "  'whistling_2437'],\n",
       " [<moviepy.video.io.VideoFileClip.VideoFileClip at 0x22ce0189fd0>,\n",
       "  'whistling_2443'],\n",
       " [<moviepy.video.io.VideoFileClip.VideoFileClip at 0x22ce018ab10>,\n",
       "  'whistling_2468'],\n",
       " [<moviepy.video.io.VideoFileClip.VideoFileClip at 0x22ce018b650>,\n",
       "  'whistling_2473'],\n",
       " [<moviepy.video.io.VideoFileClip.VideoFileClip at 0x22ce018b810>,\n",
       "  'whistling_2483'],\n",
       " [<moviepy.video.io.VideoFileClip.VideoFileClip at 0x22ce019cd50>,\n",
       "  'whistling_2492'],\n",
       " [<moviepy.video.io.VideoFileClip.VideoFileClip at 0x22ce019d8d0>,\n",
       "  'whistling_2500'],\n",
       " [<moviepy.video.io.VideoFileClip.VideoFileClip at 0x22ce019e410>,\n",
       "  'whistling_2509'],\n",
       " [<moviepy.video.io.VideoFileClip.VideoFileClip at 0x22ce019ef50>,\n",
       "  'whistling_2518'],\n",
       " [<moviepy.video.io.VideoFileClip.VideoFileClip at 0x22ce019fa90>,\n",
       "  'whistling_2530'],\n",
       " [<moviepy.video.io.VideoFileClip.VideoFileClip at 0x22ce01a4610>,\n",
       "  'whistling_2536'],\n",
       " [<moviepy.video.io.VideoFileClip.VideoFileClip at 0x22ce01a51d0>,\n",
       "  'whistling_2549'],\n",
       " [<moviepy.video.io.VideoFileClip.VideoFileClip at 0x22ce01a5d10>,\n",
       "  'whistling_2557'],\n",
       " [<moviepy.video.io.VideoFileClip.VideoFileClip at 0x22ce01a6850>,\n",
       "  'whistling_2567'],\n",
       " [<moviepy.video.io.VideoFileClip.VideoFileClip at 0x22ce01a73d0>,\n",
       "  'whistling_2603'],\n",
       " [<moviepy.video.io.VideoFileClip.VideoFileClip at 0x22c80354ed0>,\n",
       "  'whistling_192'],\n",
       " [<moviepy.video.io.VideoFileClip.VideoFileClip at 0x22c80367390>,\n",
       "  'whistling_354'],\n",
       " [<moviepy.video.io.VideoFileClip.VideoFileClip at 0x22c80367ed0>,\n",
       "  'whistling_374'],\n",
       " [<moviepy.video.io.VideoFileClip.VideoFileClip at 0x22c80373710>,\n",
       "  'whistling_502'],\n",
       " [<moviepy.video.io.VideoFileClip.VideoFileClip at 0x22c8037ce10>,\n",
       "  'whistling_529'],\n",
       " [<moviepy.video.io.VideoFileClip.VideoFileClip at 0x22c8037e490>,\n",
       "  'whistling_554'],\n",
       " [<moviepy.video.io.VideoFileClip.VideoFileClip at 0x22c80391cd0>,\n",
       "  'whistling_648'],\n",
       " [<moviepy.video.io.VideoFileClip.VideoFileClip at 0x22c80399510>,\n",
       "  'whistling_738'],\n",
       " [<moviepy.video.io.VideoFileClip.VideoFileClip at 0x22c803e26d0>,\n",
       "  'whistling_1346']]"
      ]
     },
     "execution_count": 79,
     "metadata": {},
     "output_type": "execute_result"
    }
   ],
   "source": [
    "finallist"
   ]
  },
  {
   "cell_type": "code",
   "execution_count": 80,
   "id": "13545708",
   "metadata": {},
   "outputs": [
    {
     "name": "stdout",
     "output_type": "stream",
     "text": [
      "C:\\Users\\zl\\video-classification-3d-cnn-pytorch-master\n"
     ]
    }
   ],
   "source": [
    "%cd C:\\Users\\zl\\video-classification-3d-cnn-pytorch-master\n",
    "file = open('../output.json')\n",
    "segments = json.load(file)"
   ]
  },
  {
   "cell_type": "code",
   "execution_count": 81,
   "id": "3fd37745",
   "metadata": {},
   "outputs": [],
   "source": [
    "fps=video.fps"
   ]
  },
  {
   "cell_type": "code",
   "execution_count": 82,
   "id": "d7ae9094",
   "metadata": {},
   "outputs": [
    {
     "name": "stdout",
     "output_type": "stream",
     "text": [
      "Moviepy - Building video ../image_match_output/whistling_603.mp4.\n",
      "MoviePy - Writing audio in whistling_603TEMP_MPY_wvf_snd.mp4\n"
     ]
    },
    {
     "name": "stderr",
     "output_type": "stream",
     "text": [
      "                                                                  \r"
     ]
    },
    {
     "name": "stdout",
     "output_type": "stream",
     "text": [
      "MoviePy - Done.\n",
      "Moviepy - Writing video ../image_match_output/whistling_603.mp4\n",
      "\n"
     ]
    },
    {
     "name": "stderr",
     "output_type": "stream",
     "text": [
      "                                                               \r"
     ]
    },
    {
     "name": "stdout",
     "output_type": "stream",
     "text": [
      "Moviepy - Done !\n",
      "Moviepy - video ready ../image_match_output/whistling_603.mp4\n",
      "Moviepy - Building video ../image_match_output/whistling_1109.mp4.\n",
      "MoviePy - Writing audio in whistling_1109TEMP_MPY_wvf_snd.mp4\n"
     ]
    },
    {
     "name": "stderr",
     "output_type": "stream",
     "text": [
      "                                                                    \r"
     ]
    },
    {
     "name": "stdout",
     "output_type": "stream",
     "text": [
      "MoviePy - Done.\n",
      "Moviepy - Writing video ../image_match_output/whistling_1109.mp4\n",
      "\n"
     ]
    },
    {
     "name": "stderr",
     "output_type": "stream",
     "text": [
      "                                                               \r"
     ]
    },
    {
     "name": "stdout",
     "output_type": "stream",
     "text": [
      "Moviepy - Done !\n",
      "Moviepy - video ready ../image_match_output/whistling_1109.mp4\n",
      "Moviepy - Building video ../image_match_output/whistling_1118.mp4.\n",
      "MoviePy - Writing audio in whistling_1118TEMP_MPY_wvf_snd.mp4\n"
     ]
    },
    {
     "name": "stderr",
     "output_type": "stream",
     "text": [
      "                                                                    \r"
     ]
    },
    {
     "name": "stdout",
     "output_type": "stream",
     "text": [
      "MoviePy - Done.\n",
      "Moviepy - Writing video ../image_match_output/whistling_1118.mp4\n",
      "\n"
     ]
    },
    {
     "name": "stderr",
     "output_type": "stream",
     "text": [
      "                                                               \r"
     ]
    },
    {
     "name": "stdout",
     "output_type": "stream",
     "text": [
      "Moviepy - Done !\n",
      "Moviepy - video ready ../image_match_output/whistling_1118.mp4\n",
      "Moviepy - Building video ../image_match_output/whistling_1159.mp4.\n",
      "MoviePy - Writing audio in whistling_1159TEMP_MPY_wvf_snd.mp4\n"
     ]
    },
    {
     "name": "stderr",
     "output_type": "stream",
     "text": [
      "                                                                    \r"
     ]
    },
    {
     "name": "stdout",
     "output_type": "stream",
     "text": [
      "MoviePy - Done.\n",
      "Moviepy - Writing video ../image_match_output/whistling_1159.mp4\n",
      "\n"
     ]
    },
    {
     "name": "stderr",
     "output_type": "stream",
     "text": [
      "                                                               \r"
     ]
    },
    {
     "name": "stdout",
     "output_type": "stream",
     "text": [
      "Moviepy - Done !\n",
      "Moviepy - video ready ../image_match_output/whistling_1159.mp4\n",
      "Moviepy - Building video ../image_match_output/whistling_1714.mp4.\n",
      "MoviePy - Writing audio in whistling_1714TEMP_MPY_wvf_snd.mp4\n"
     ]
    },
    {
     "name": "stderr",
     "output_type": "stream",
     "text": [
      "                                                                    \r"
     ]
    },
    {
     "name": "stdout",
     "output_type": "stream",
     "text": [
      "MoviePy - Done.\n",
      "Moviepy - Writing video ../image_match_output/whistling_1714.mp4\n",
      "\n"
     ]
    },
    {
     "name": "stderr",
     "output_type": "stream",
     "text": [
      "                                                               \r"
     ]
    },
    {
     "name": "stdout",
     "output_type": "stream",
     "text": [
      "Moviepy - Done !\n",
      "Moviepy - video ready ../image_match_output/whistling_1714.mp4\n",
      "Moviepy - Building video ../image_match_output/whistling_1728.mp4.\n",
      "MoviePy - Writing audio in whistling_1728TEMP_MPY_wvf_snd.mp4\n"
     ]
    },
    {
     "name": "stderr",
     "output_type": "stream",
     "text": [
      "                                                                    \r"
     ]
    },
    {
     "name": "stdout",
     "output_type": "stream",
     "text": [
      "MoviePy - Done.\n",
      "Moviepy - Writing video ../image_match_output/whistling_1728.mp4\n",
      "\n"
     ]
    },
    {
     "name": "stderr",
     "output_type": "stream",
     "text": [
      "                                                               \r"
     ]
    },
    {
     "name": "stdout",
     "output_type": "stream",
     "text": [
      "Moviepy - Done !\n",
      "Moviepy - video ready ../image_match_output/whistling_1728.mp4\n",
      "Moviepy - Building video ../image_match_output/whistling_1739.mp4.\n",
      "MoviePy - Writing audio in whistling_1739TEMP_MPY_wvf_snd.mp4\n"
     ]
    },
    {
     "name": "stderr",
     "output_type": "stream",
     "text": [
      "                                                                  \r"
     ]
    },
    {
     "name": "stdout",
     "output_type": "stream",
     "text": [
      "MoviePy - Done.\n",
      "Moviepy - Writing video ../image_match_output/whistling_1739.mp4\n",
      "\n"
     ]
    },
    {
     "name": "stderr",
     "output_type": "stream",
     "text": [
      "                                                               \r"
     ]
    },
    {
     "name": "stdout",
     "output_type": "stream",
     "text": [
      "Moviepy - Done !\n",
      "Moviepy - video ready ../image_match_output/whistling_1739.mp4\n",
      "Moviepy - Building video ../image_match_output/whistling_1751.mp4.\n",
      "MoviePy - Writing audio in whistling_1751TEMP_MPY_wvf_snd.mp4\n"
     ]
    },
    {
     "name": "stderr",
     "output_type": "stream",
     "text": [
      "                                                                  \r"
     ]
    },
    {
     "name": "stdout",
     "output_type": "stream",
     "text": [
      "MoviePy - Done.\n",
      "Moviepy - Writing video ../image_match_output/whistling_1751.mp4\n",
      "\n"
     ]
    },
    {
     "name": "stderr",
     "output_type": "stream",
     "text": [
      "                                                               \r"
     ]
    },
    {
     "name": "stdout",
     "output_type": "stream",
     "text": [
      "Moviepy - Done !\n",
      "Moviepy - video ready ../image_match_output/whistling_1751.mp4\n",
      "Moviepy - Building video ../image_match_output/whistling_1757.mp4.\n",
      "MoviePy - Writing audio in whistling_1757TEMP_MPY_wvf_snd.mp4\n"
     ]
    },
    {
     "name": "stderr",
     "output_type": "stream",
     "text": [
      "                                                                  \r"
     ]
    },
    {
     "name": "stdout",
     "output_type": "stream",
     "text": [
      "MoviePy - Done.\n",
      "Moviepy - Writing video ../image_match_output/whistling_1757.mp4\n",
      "\n"
     ]
    },
    {
     "name": "stderr",
     "output_type": "stream",
     "text": [
      "                                                               \r"
     ]
    },
    {
     "name": "stdout",
     "output_type": "stream",
     "text": [
      "Moviepy - Done !\n",
      "Moviepy - video ready ../image_match_output/whistling_1757.mp4\n",
      "Moviepy - Building video ../image_match_output/whistling_1780.mp4.\n",
      "MoviePy - Writing audio in whistling_1780TEMP_MPY_wvf_snd.mp4\n"
     ]
    },
    {
     "name": "stderr",
     "output_type": "stream",
     "text": [
      "                                                                  \r"
     ]
    },
    {
     "name": "stdout",
     "output_type": "stream",
     "text": [
      "MoviePy - Done.\n",
      "Moviepy - Writing video ../image_match_output/whistling_1780.mp4\n",
      "\n"
     ]
    },
    {
     "name": "stderr",
     "output_type": "stream",
     "text": [
      "                                                               \r"
     ]
    },
    {
     "name": "stdout",
     "output_type": "stream",
     "text": [
      "Moviepy - Done !\n",
      "Moviepy - video ready ../image_match_output/whistling_1780.mp4\n",
      "Moviepy - Building video ../image_match_output/whistling_1790.mp4.\n",
      "MoviePy - Writing audio in whistling_1790TEMP_MPY_wvf_snd.mp4\n"
     ]
    },
    {
     "name": "stderr",
     "output_type": "stream",
     "text": [
      "                                                                  \r"
     ]
    },
    {
     "name": "stdout",
     "output_type": "stream",
     "text": [
      "MoviePy - Done.\n",
      "Moviepy - Writing video ../image_match_output/whistling_1790.mp4\n",
      "\n"
     ]
    },
    {
     "name": "stderr",
     "output_type": "stream",
     "text": [
      "                                                               \r"
     ]
    },
    {
     "name": "stdout",
     "output_type": "stream",
     "text": [
      "Moviepy - Done !\n",
      "Moviepy - video ready ../image_match_output/whistling_1790.mp4\n",
      "Moviepy - Building video ../image_match_output/whistling_1805.mp4.\n",
      "MoviePy - Writing audio in whistling_1805TEMP_MPY_wvf_snd.mp4\n"
     ]
    },
    {
     "name": "stderr",
     "output_type": "stream",
     "text": [
      "                                                                  \r"
     ]
    },
    {
     "name": "stdout",
     "output_type": "stream",
     "text": [
      "MoviePy - Done.\n",
      "Moviepy - Writing video ../image_match_output/whistling_1805.mp4\n",
      "\n"
     ]
    },
    {
     "name": "stderr",
     "output_type": "stream",
     "text": [
      "                                                               \r"
     ]
    },
    {
     "name": "stdout",
     "output_type": "stream",
     "text": [
      "Moviepy - Done !\n",
      "Moviepy - video ready ../image_match_output/whistling_1805.mp4\n",
      "Moviepy - Building video ../image_match_output/whistling_1824.mp4.\n",
      "MoviePy - Writing audio in whistling_1824TEMP_MPY_wvf_snd.mp4\n"
     ]
    },
    {
     "name": "stderr",
     "output_type": "stream",
     "text": [
      "                                                                   \r"
     ]
    },
    {
     "name": "stdout",
     "output_type": "stream",
     "text": [
      "MoviePy - Done.\n",
      "Moviepy - Writing video ../image_match_output/whistling_1824.mp4\n",
      "\n"
     ]
    },
    {
     "name": "stderr",
     "output_type": "stream",
     "text": [
      "                                                               \r"
     ]
    },
    {
     "name": "stdout",
     "output_type": "stream",
     "text": [
      "Moviepy - Done !\n",
      "Moviepy - video ready ../image_match_output/whistling_1824.mp4\n",
      "Moviepy - Building video ../image_match_output/whistling_1833.mp4.\n",
      "MoviePy - Writing audio in whistling_1833TEMP_MPY_wvf_snd.mp4\n"
     ]
    },
    {
     "name": "stderr",
     "output_type": "stream",
     "text": [
      "                                                                 \r"
     ]
    },
    {
     "name": "stdout",
     "output_type": "stream",
     "text": [
      "MoviePy - Done.\n",
      "Moviepy - Writing video ../image_match_output/whistling_1833.mp4\n",
      "\n"
     ]
    },
    {
     "name": "stderr",
     "output_type": "stream",
     "text": [
      "                                                               \r"
     ]
    },
    {
     "name": "stdout",
     "output_type": "stream",
     "text": [
      "Moviepy - Done !\n",
      "Moviepy - video ready ../image_match_output/whistling_1833.mp4\n",
      "Moviepy - Building video ../image_match_output/whistling_1845.mp4.\n",
      "MoviePy - Writing audio in whistling_1845TEMP_MPY_wvf_snd.mp4\n"
     ]
    },
    {
     "name": "stderr",
     "output_type": "stream",
     "text": [
      "                                                                  \r"
     ]
    },
    {
     "name": "stdout",
     "output_type": "stream",
     "text": [
      "MoviePy - Done.\n",
      "Moviepy - Writing video ../image_match_output/whistling_1845.mp4\n",
      "\n"
     ]
    },
    {
     "name": "stderr",
     "output_type": "stream",
     "text": [
      "                                                               \r"
     ]
    },
    {
     "name": "stdout",
     "output_type": "stream",
     "text": [
      "Moviepy - Done !\n",
      "Moviepy - video ready ../image_match_output/whistling_1845.mp4\n",
      "Moviepy - Building video ../image_match_output/whistling_1852.mp4.\n",
      "MoviePy - Writing audio in whistling_1852TEMP_MPY_wvf_snd.mp4\n"
     ]
    },
    {
     "name": "stderr",
     "output_type": "stream",
     "text": [
      "                                                                    \r"
     ]
    },
    {
     "name": "stdout",
     "output_type": "stream",
     "text": [
      "MoviePy - Done.\n",
      "Moviepy - Writing video ../image_match_output/whistling_1852.mp4\n",
      "\n"
     ]
    },
    {
     "name": "stderr",
     "output_type": "stream",
     "text": [
      "                                                               \r"
     ]
    },
    {
     "name": "stdout",
     "output_type": "stream",
     "text": [
      "Moviepy - Done !\n",
      "Moviepy - video ready ../image_match_output/whistling_1852.mp4\n",
      "Moviepy - Building video ../image_match_output/whistling_1861.mp4.\n",
      "MoviePy - Writing audio in whistling_1861TEMP_MPY_wvf_snd.mp4\n"
     ]
    },
    {
     "name": "stderr",
     "output_type": "stream",
     "text": [
      "                                                                   \r"
     ]
    },
    {
     "name": "stdout",
     "output_type": "stream",
     "text": [
      "MoviePy - Done.\n",
      "Moviepy - Writing video ../image_match_output/whistling_1861.mp4\n",
      "\n"
     ]
    },
    {
     "name": "stderr",
     "output_type": "stream",
     "text": [
      "                                                               \r"
     ]
    },
    {
     "name": "stdout",
     "output_type": "stream",
     "text": [
      "Moviepy - Done !\n",
      "Moviepy - video ready ../image_match_output/whistling_1861.mp4\n",
      "Moviepy - Building video ../image_match_output/whistling_1870.mp4.\n",
      "MoviePy - Writing audio in whistling_1870TEMP_MPY_wvf_snd.mp4\n"
     ]
    },
    {
     "name": "stderr",
     "output_type": "stream",
     "text": [
      "                                                                 \r"
     ]
    },
    {
     "name": "stdout",
     "output_type": "stream",
     "text": [
      "MoviePy - Done.\n",
      "Moviepy - Writing video ../image_match_output/whistling_1870.mp4\n",
      "\n"
     ]
    },
    {
     "name": "stderr",
     "output_type": "stream",
     "text": [
      "                                                               \r"
     ]
    },
    {
     "name": "stdout",
     "output_type": "stream",
     "text": [
      "Moviepy - Done !\n",
      "Moviepy - video ready ../image_match_output/whistling_1870.mp4\n",
      "Moviepy - Building video ../image_match_output/whistling_1877.mp4.\n",
      "MoviePy - Writing audio in whistling_1877TEMP_MPY_wvf_snd.mp4\n"
     ]
    },
    {
     "name": "stderr",
     "output_type": "stream",
     "text": [
      "                                                        \r"
     ]
    },
    {
     "name": "stdout",
     "output_type": "stream",
     "text": [
      "MoviePy - Done.\n",
      "Moviepy - Writing video ../image_match_output/whistling_1877.mp4\n",
      "\n"
     ]
    },
    {
     "name": "stderr",
     "output_type": "stream",
     "text": [
      "                                                               \r"
     ]
    },
    {
     "name": "stdout",
     "output_type": "stream",
     "text": [
      "Moviepy - Done !\n",
      "Moviepy - video ready ../image_match_output/whistling_1877.mp4\n",
      "Moviepy - Building video ../image_match_output/whistling_1883.mp4.\n",
      "MoviePy - Writing audio in whistling_1883TEMP_MPY_wvf_snd.mp4\n"
     ]
    },
    {
     "name": "stderr",
     "output_type": "stream",
     "text": [
      "                                                                    \r"
     ]
    },
    {
     "name": "stdout",
     "output_type": "stream",
     "text": [
      "MoviePy - Done.\n",
      "Moviepy - Writing video ../image_match_output/whistling_1883.mp4\n",
      "\n"
     ]
    },
    {
     "name": "stderr",
     "output_type": "stream",
     "text": [
      "                                                               \r"
     ]
    },
    {
     "name": "stdout",
     "output_type": "stream",
     "text": [
      "Moviepy - Done !\n",
      "Moviepy - video ready ../image_match_output/whistling_1883.mp4\n",
      "Moviepy - Building video ../image_match_output/whistling_1903.mp4.\n",
      "MoviePy - Writing audio in whistling_1903TEMP_MPY_wvf_snd.mp4\n"
     ]
    },
    {
     "name": "stderr",
     "output_type": "stream",
     "text": [
      "                                                                    \r"
     ]
    },
    {
     "name": "stdout",
     "output_type": "stream",
     "text": [
      "MoviePy - Done.\n",
      "Moviepy - Writing video ../image_match_output/whistling_1903.mp4\n",
      "\n"
     ]
    },
    {
     "name": "stderr",
     "output_type": "stream",
     "text": [
      "                                                               \r"
     ]
    },
    {
     "name": "stdout",
     "output_type": "stream",
     "text": [
      "Moviepy - Done !\n",
      "Moviepy - video ready ../image_match_output/whistling_1903.mp4\n",
      "Moviepy - Building video ../image_match_output/whistling_1927.mp4.\n",
      "MoviePy - Writing audio in whistling_1927TEMP_MPY_wvf_snd.mp4\n"
     ]
    },
    {
     "name": "stderr",
     "output_type": "stream",
     "text": [
      "                                                                    \r"
     ]
    },
    {
     "name": "stdout",
     "output_type": "stream",
     "text": [
      "MoviePy - Done.\n",
      "Moviepy - Writing video ../image_match_output/whistling_1927.mp4\n",
      "\n"
     ]
    },
    {
     "name": "stderr",
     "output_type": "stream",
     "text": [
      "                                                               \r"
     ]
    },
    {
     "name": "stdout",
     "output_type": "stream",
     "text": [
      "Moviepy - Done !\n",
      "Moviepy - video ready ../image_match_output/whistling_1927.mp4\n",
      "Moviepy - Building video ../image_match_output/whistling_1946.mp4.\n",
      "MoviePy - Writing audio in whistling_1946TEMP_MPY_wvf_snd.mp4\n"
     ]
    },
    {
     "name": "stderr",
     "output_type": "stream",
     "text": [
      "                                                                    \r"
     ]
    },
    {
     "name": "stdout",
     "output_type": "stream",
     "text": [
      "MoviePy - Done.\n",
      "Moviepy - Writing video ../image_match_output/whistling_1946.mp4\n",
      "\n"
     ]
    },
    {
     "name": "stderr",
     "output_type": "stream",
     "text": [
      "                                                               \r"
     ]
    },
    {
     "name": "stdout",
     "output_type": "stream",
     "text": [
      "Moviepy - Done !\n",
      "Moviepy - video ready ../image_match_output/whistling_1946.mp4\n",
      "Moviepy - Building video ../image_match_output/whistling_1966.mp4.\n",
      "MoviePy - Writing audio in whistling_1966TEMP_MPY_wvf_snd.mp4\n"
     ]
    },
    {
     "name": "stderr",
     "output_type": "stream",
     "text": [
      "                                                                    \r"
     ]
    },
    {
     "name": "stdout",
     "output_type": "stream",
     "text": [
      "MoviePy - Done.\n",
      "Moviepy - Writing video ../image_match_output/whistling_1966.mp4\n",
      "\n"
     ]
    },
    {
     "name": "stderr",
     "output_type": "stream",
     "text": [
      "                                                               \r"
     ]
    },
    {
     "name": "stdout",
     "output_type": "stream",
     "text": [
      "Moviepy - Done !\n",
      "Moviepy - video ready ../image_match_output/whistling_1966.mp4\n",
      "Moviepy - Building video ../image_match_output/whistling_1973.mp4.\n",
      "MoviePy - Writing audio in whistling_1973TEMP_MPY_wvf_snd.mp4\n"
     ]
    },
    {
     "name": "stderr",
     "output_type": "stream",
     "text": [
      "                                                                  \r"
     ]
    },
    {
     "name": "stdout",
     "output_type": "stream",
     "text": [
      "MoviePy - Done.\n",
      "Moviepy - Writing video ../image_match_output/whistling_1973.mp4\n",
      "\n"
     ]
    },
    {
     "name": "stderr",
     "output_type": "stream",
     "text": [
      "                                                               \r"
     ]
    },
    {
     "name": "stdout",
     "output_type": "stream",
     "text": [
      "Moviepy - Done !\n",
      "Moviepy - video ready ../image_match_output/whistling_1973.mp4\n",
      "Moviepy - Building video ../image_match_output/whistling_1980.mp4.\n",
      "MoviePy - Writing audio in whistling_1980TEMP_MPY_wvf_snd.mp4\n"
     ]
    },
    {
     "name": "stderr",
     "output_type": "stream",
     "text": [
      "                                                                  \r"
     ]
    },
    {
     "name": "stdout",
     "output_type": "stream",
     "text": [
      "MoviePy - Done.\n",
      "Moviepy - Writing video ../image_match_output/whistling_1980.mp4\n",
      "\n"
     ]
    },
    {
     "name": "stderr",
     "output_type": "stream",
     "text": [
      "                                                               \r"
     ]
    },
    {
     "name": "stdout",
     "output_type": "stream",
     "text": [
      "Moviepy - Done !\n",
      "Moviepy - video ready ../image_match_output/whistling_1980.mp4\n",
      "Moviepy - Building video ../image_match_output/whistling_1997.mp4.\n",
      "MoviePy - Writing audio in whistling_1997TEMP_MPY_wvf_snd.mp4\n"
     ]
    },
    {
     "name": "stderr",
     "output_type": "stream",
     "text": [
      "                                                                  \r"
     ]
    },
    {
     "name": "stdout",
     "output_type": "stream",
     "text": [
      "MoviePy - Done.\n",
      "Moviepy - Writing video ../image_match_output/whistling_1997.mp4\n",
      "\n"
     ]
    },
    {
     "name": "stderr",
     "output_type": "stream",
     "text": [
      "                                                               \r"
     ]
    },
    {
     "name": "stdout",
     "output_type": "stream",
     "text": [
      "Moviepy - Done !\n",
      "Moviepy - video ready ../image_match_output/whistling_1997.mp4\n",
      "Moviepy - Building video ../image_match_output/whistling_2011.mp4.\n",
      "MoviePy - Writing audio in whistling_2011TEMP_MPY_wvf_snd.mp4\n"
     ]
    },
    {
     "name": "stderr",
     "output_type": "stream",
     "text": [
      "                                                                    \r"
     ]
    },
    {
     "name": "stdout",
     "output_type": "stream",
     "text": [
      "MoviePy - Done.\n",
      "Moviepy - Writing video ../image_match_output/whistling_2011.mp4\n",
      "\n"
     ]
    },
    {
     "name": "stderr",
     "output_type": "stream",
     "text": [
      "                                                               \r"
     ]
    },
    {
     "name": "stdout",
     "output_type": "stream",
     "text": [
      "Moviepy - Done !\n",
      "Moviepy - video ready ../image_match_output/whistling_2011.mp4\n",
      "Moviepy - Building video ../image_match_output/whistling_2035.mp4.\n",
      "MoviePy - Writing audio in whistling_2035TEMP_MPY_wvf_snd.mp4\n"
     ]
    },
    {
     "name": "stderr",
     "output_type": "stream",
     "text": [
      "                                                       \r"
     ]
    },
    {
     "name": "stdout",
     "output_type": "stream",
     "text": [
      "MoviePy - Done.\n",
      "Moviepy - Writing video ../image_match_output/whistling_2035.mp4\n",
      "\n"
     ]
    },
    {
     "name": "stderr",
     "output_type": "stream",
     "text": [
      "                                                               \r"
     ]
    },
    {
     "name": "stdout",
     "output_type": "stream",
     "text": [
      "Moviepy - Done !\n",
      "Moviepy - video ready ../image_match_output/whistling_2035.mp4\n",
      "Moviepy - Building video ../image_match_output/whistling_2041.mp4.\n",
      "MoviePy - Writing audio in whistling_2041TEMP_MPY_wvf_snd.mp4\n"
     ]
    },
    {
     "name": "stderr",
     "output_type": "stream",
     "text": [
      "                                                                    \r"
     ]
    },
    {
     "name": "stdout",
     "output_type": "stream",
     "text": [
      "MoviePy - Done.\n",
      "Moviepy - Writing video ../image_match_output/whistling_2041.mp4\n",
      "\n"
     ]
    },
    {
     "name": "stderr",
     "output_type": "stream",
     "text": [
      "                                                               \r"
     ]
    },
    {
     "name": "stdout",
     "output_type": "stream",
     "text": [
      "Moviepy - Done !\n",
      "Moviepy - video ready ../image_match_output/whistling_2041.mp4\n",
      "Moviepy - Building video ../image_match_output/whistling_2051.mp4.\n",
      "MoviePy - Writing audio in whistling_2051TEMP_MPY_wvf_snd.mp4\n"
     ]
    },
    {
     "name": "stderr",
     "output_type": "stream",
     "text": [
      "                                                                    \r"
     ]
    },
    {
     "name": "stdout",
     "output_type": "stream",
     "text": [
      "MoviePy - Done.\n",
      "Moviepy - Writing video ../image_match_output/whistling_2051.mp4\n",
      "\n"
     ]
    },
    {
     "name": "stderr",
     "output_type": "stream",
     "text": [
      "                                                               \r"
     ]
    },
    {
     "name": "stdout",
     "output_type": "stream",
     "text": [
      "Moviepy - Done !\n",
      "Moviepy - video ready ../image_match_output/whistling_2051.mp4\n",
      "Moviepy - Building video ../image_match_output/whistling_2065.mp4.\n",
      "MoviePy - Writing audio in whistling_2065TEMP_MPY_wvf_snd.mp4\n"
     ]
    },
    {
     "name": "stderr",
     "output_type": "stream",
     "text": [
      "                                                                    \r"
     ]
    },
    {
     "name": "stdout",
     "output_type": "stream",
     "text": [
      "MoviePy - Done.\n",
      "Moviepy - Writing video ../image_match_output/whistling_2065.mp4\n",
      "\n"
     ]
    },
    {
     "name": "stderr",
     "output_type": "stream",
     "text": [
      "                                                               \r"
     ]
    },
    {
     "name": "stdout",
     "output_type": "stream",
     "text": [
      "Moviepy - Done !\n",
      "Moviepy - video ready ../image_match_output/whistling_2065.mp4\n",
      "Moviepy - Building video ../image_match_output/whistling_2082.mp4.\n",
      "MoviePy - Writing audio in whistling_2082TEMP_MPY_wvf_snd.mp4\n"
     ]
    },
    {
     "name": "stderr",
     "output_type": "stream",
     "text": [
      "                                                                    \r"
     ]
    },
    {
     "name": "stdout",
     "output_type": "stream",
     "text": [
      "MoviePy - Done.\n",
      "Moviepy - Writing video ../image_match_output/whistling_2082.mp4\n",
      "\n"
     ]
    },
    {
     "name": "stderr",
     "output_type": "stream",
     "text": [
      "                                                               \r"
     ]
    },
    {
     "name": "stdout",
     "output_type": "stream",
     "text": [
      "Moviepy - Done !\n",
      "Moviepy - video ready ../image_match_output/whistling_2082.mp4\n",
      "Moviepy - Building video ../image_match_output/whistling_2091.mp4.\n",
      "MoviePy - Writing audio in whistling_2091TEMP_MPY_wvf_snd.mp4\n"
     ]
    },
    {
     "name": "stderr",
     "output_type": "stream",
     "text": [
      "                                                                    \r"
     ]
    },
    {
     "name": "stdout",
     "output_type": "stream",
     "text": [
      "MoviePy - Done.\n",
      "Moviepy - Writing video ../image_match_output/whistling_2091.mp4\n",
      "\n"
     ]
    },
    {
     "name": "stderr",
     "output_type": "stream",
     "text": [
      "                                                               \r"
     ]
    },
    {
     "name": "stdout",
     "output_type": "stream",
     "text": [
      "Moviepy - Done !\n",
      "Moviepy - video ready ../image_match_output/whistling_2091.mp4\n",
      "Moviepy - Building video ../image_match_output/whistling_2108.mp4.\n",
      "MoviePy - Writing audio in whistling_2108TEMP_MPY_wvf_snd.mp4\n"
     ]
    },
    {
     "name": "stderr",
     "output_type": "stream",
     "text": [
      "                                                                    \r"
     ]
    },
    {
     "name": "stdout",
     "output_type": "stream",
     "text": [
      "MoviePy - Done.\n",
      "Moviepy - Writing video ../image_match_output/whistling_2108.mp4\n",
      "\n"
     ]
    },
    {
     "name": "stderr",
     "output_type": "stream",
     "text": [
      "                                                               \r"
     ]
    },
    {
     "name": "stdout",
     "output_type": "stream",
     "text": [
      "Moviepy - Done !\n",
      "Moviepy - video ready ../image_match_output/whistling_2108.mp4\n",
      "Moviepy - Building video ../image_match_output/whistling_2133.mp4.\n",
      "MoviePy - Writing audio in whistling_2133TEMP_MPY_wvf_snd.mp4\n"
     ]
    },
    {
     "name": "stderr",
     "output_type": "stream",
     "text": [
      "                                                                    \r"
     ]
    },
    {
     "name": "stdout",
     "output_type": "stream",
     "text": [
      "MoviePy - Done.\n",
      "Moviepy - Writing video ../image_match_output/whistling_2133.mp4\n",
      "\n"
     ]
    },
    {
     "name": "stderr",
     "output_type": "stream",
     "text": [
      "                                                               \r"
     ]
    },
    {
     "name": "stdout",
     "output_type": "stream",
     "text": [
      "Moviepy - Done !\n",
      "Moviepy - video ready ../image_match_output/whistling_2133.mp4\n",
      "Moviepy - Building video ../image_match_output/whistling_2143.mp4.\n",
      "MoviePy - Writing audio in whistling_2143TEMP_MPY_wvf_snd.mp4\n"
     ]
    },
    {
     "name": "stderr",
     "output_type": "stream",
     "text": [
      "                                                                 \r"
     ]
    },
    {
     "name": "stdout",
     "output_type": "stream",
     "text": [
      "MoviePy - Done.\n",
      "Moviepy - Writing video ../image_match_output/whistling_2143.mp4\n",
      "\n"
     ]
    },
    {
     "name": "stderr",
     "output_type": "stream",
     "text": [
      "                                                               \r"
     ]
    },
    {
     "name": "stdout",
     "output_type": "stream",
     "text": [
      "Moviepy - Done !\n",
      "Moviepy - video ready ../image_match_output/whistling_2143.mp4\n",
      "Moviepy - Building video ../image_match_output/whistling_2148.mp4.\n",
      "MoviePy - Writing audio in whistling_2148TEMP_MPY_wvf_snd.mp4\n"
     ]
    },
    {
     "name": "stderr",
     "output_type": "stream",
     "text": [
      "                                                                    \r"
     ]
    },
    {
     "name": "stdout",
     "output_type": "stream",
     "text": [
      "MoviePy - Done.\n",
      "Moviepy - Writing video ../image_match_output/whistling_2148.mp4\n",
      "\n"
     ]
    },
    {
     "name": "stderr",
     "output_type": "stream",
     "text": [
      "                                                               \r"
     ]
    },
    {
     "name": "stdout",
     "output_type": "stream",
     "text": [
      "Moviepy - Done !\n",
      "Moviepy - video ready ../image_match_output/whistling_2148.mp4\n",
      "Moviepy - Building video ../image_match_output/whistling_2170.mp4.\n",
      "MoviePy - Writing audio in whistling_2170TEMP_MPY_wvf_snd.mp4\n"
     ]
    },
    {
     "name": "stderr",
     "output_type": "stream",
     "text": [
      "                                                                    \r"
     ]
    },
    {
     "name": "stdout",
     "output_type": "stream",
     "text": [
      "MoviePy - Done.\n",
      "Moviepy - Writing video ../image_match_output/whistling_2170.mp4\n",
      "\n"
     ]
    },
    {
     "name": "stderr",
     "output_type": "stream",
     "text": [
      "                                                                \r"
     ]
    },
    {
     "name": "stdout",
     "output_type": "stream",
     "text": [
      "Moviepy - Done !\n",
      "Moviepy - video ready ../image_match_output/whistling_2170.mp4\n",
      "Moviepy - Building video ../image_match_output/whistling_2220.mp4.\n",
      "MoviePy - Writing audio in whistling_2220TEMP_MPY_wvf_snd.mp4\n"
     ]
    },
    {
     "name": "stderr",
     "output_type": "stream",
     "text": [
      "                                                                  \r"
     ]
    },
    {
     "name": "stdout",
     "output_type": "stream",
     "text": [
      "MoviePy - Done.\n",
      "Moviepy - Writing video ../image_match_output/whistling_2220.mp4\n",
      "\n"
     ]
    },
    {
     "name": "stderr",
     "output_type": "stream",
     "text": [
      "                                                               \r"
     ]
    },
    {
     "name": "stdout",
     "output_type": "stream",
     "text": [
      "Moviepy - Done !\n",
      "Moviepy - video ready ../image_match_output/whistling_2220.mp4\n",
      "Moviepy - Building video ../image_match_output/whistling_2228.mp4.\n",
      "MoviePy - Writing audio in whistling_2228TEMP_MPY_wvf_snd.mp4\n"
     ]
    },
    {
     "name": "stderr",
     "output_type": "stream",
     "text": [
      "                                                                    \r"
     ]
    },
    {
     "name": "stdout",
     "output_type": "stream",
     "text": [
      "MoviePy - Done.\n",
      "Moviepy - Writing video ../image_match_output/whistling_2228.mp4\n",
      "\n"
     ]
    },
    {
     "name": "stderr",
     "output_type": "stream",
     "text": [
      "                                                                  \r"
     ]
    },
    {
     "name": "stdout",
     "output_type": "stream",
     "text": [
      "Moviepy - Done !\n",
      "Moviepy - video ready ../image_match_output/whistling_2228.mp4\n",
      "Moviepy - Building video ../image_match_output/whistling_2264.mp4.\n",
      "MoviePy - Writing audio in whistling_2264TEMP_MPY_wvf_snd.mp4\n"
     ]
    },
    {
     "name": "stderr",
     "output_type": "stream",
     "text": [
      "                                                                  \r"
     ]
    },
    {
     "name": "stdout",
     "output_type": "stream",
     "text": [
      "MoviePy - Done.\n",
      "Moviepy - Writing video ../image_match_output/whistling_2264.mp4\n",
      "\n"
     ]
    },
    {
     "name": "stderr",
     "output_type": "stream",
     "text": [
      "                                                               \r"
     ]
    },
    {
     "name": "stdout",
     "output_type": "stream",
     "text": [
      "Moviepy - Done !\n",
      "Moviepy - video ready ../image_match_output/whistling_2264.mp4\n",
      "Moviepy - Building video ../image_match_output/whistling_2274.mp4.\n",
      "MoviePy - Writing audio in whistling_2274TEMP_MPY_wvf_snd.mp4\n"
     ]
    },
    {
     "name": "stderr",
     "output_type": "stream",
     "text": [
      "                                                                  \r"
     ]
    },
    {
     "name": "stdout",
     "output_type": "stream",
     "text": [
      "MoviePy - Done.\n",
      "Moviepy - Writing video ../image_match_output/whistling_2274.mp4\n",
      "\n"
     ]
    },
    {
     "name": "stderr",
     "output_type": "stream",
     "text": [
      "                                                              \r"
     ]
    },
    {
     "name": "stdout",
     "output_type": "stream",
     "text": [
      "Moviepy - Done !\n",
      "Moviepy - video ready ../image_match_output/whistling_2274.mp4\n",
      "Moviepy - Building video ../image_match_output/whistling_2280.mp4.\n",
      "MoviePy - Writing audio in whistling_2280TEMP_MPY_wvf_snd.mp4\n"
     ]
    },
    {
     "name": "stderr",
     "output_type": "stream",
     "text": [
      "                                                                  \r"
     ]
    },
    {
     "name": "stdout",
     "output_type": "stream",
     "text": [
      "MoviePy - Done.\n",
      "Moviepy - Writing video ../image_match_output/whistling_2280.mp4\n",
      "\n"
     ]
    },
    {
     "name": "stderr",
     "output_type": "stream",
     "text": [
      "                                                              \r"
     ]
    },
    {
     "name": "stdout",
     "output_type": "stream",
     "text": [
      "Moviepy - Done !\n",
      "Moviepy - video ready ../image_match_output/whistling_2280.mp4\n",
      "Moviepy - Building video ../image_match_output/whistling_2286.mp4.\n",
      "MoviePy - Writing audio in whistling_2286TEMP_MPY_wvf_snd.mp4\n"
     ]
    },
    {
     "name": "stderr",
     "output_type": "stream",
     "text": [
      "                                                                   \r"
     ]
    },
    {
     "name": "stdout",
     "output_type": "stream",
     "text": [
      "MoviePy - Done.\n",
      "Moviepy - Writing video ../image_match_output/whistling_2286.mp4\n",
      "\n"
     ]
    },
    {
     "name": "stderr",
     "output_type": "stream",
     "text": [
      "                                                               \r"
     ]
    },
    {
     "name": "stdout",
     "output_type": "stream",
     "text": [
      "Moviepy - Done !\n",
      "Moviepy - video ready ../image_match_output/whistling_2286.mp4\n",
      "Moviepy - Building video ../image_match_output/whistling_2296.mp4.\n",
      "MoviePy - Writing audio in whistling_2296TEMP_MPY_wvf_snd.mp4\n"
     ]
    },
    {
     "name": "stderr",
     "output_type": "stream",
     "text": [
      "                                                                  \r"
     ]
    },
    {
     "name": "stdout",
     "output_type": "stream",
     "text": [
      "MoviePy - Done.\n",
      "Moviepy - Writing video ../image_match_output/whistling_2296.mp4\n",
      "\n"
     ]
    },
    {
     "name": "stderr",
     "output_type": "stream",
     "text": [
      "                                                               \r"
     ]
    },
    {
     "name": "stdout",
     "output_type": "stream",
     "text": [
      "Moviepy - Done !\n",
      "Moviepy - video ready ../image_match_output/whistling_2296.mp4\n",
      "Moviepy - Building video ../image_match_output/whistling_2307.mp4.\n",
      "MoviePy - Writing audio in whistling_2307TEMP_MPY_wvf_snd.mp4\n"
     ]
    },
    {
     "name": "stderr",
     "output_type": "stream",
     "text": [
      "                                                                    \r"
     ]
    },
    {
     "name": "stdout",
     "output_type": "stream",
     "text": [
      "MoviePy - Done.\n",
      "Moviepy - Writing video ../image_match_output/whistling_2307.mp4\n",
      "\n"
     ]
    },
    {
     "name": "stderr",
     "output_type": "stream",
     "text": [
      "                                                               \r"
     ]
    },
    {
     "name": "stdout",
     "output_type": "stream",
     "text": [
      "Moviepy - Done !\n",
      "Moviepy - video ready ../image_match_output/whistling_2307.mp4\n",
      "Moviepy - Building video ../image_match_output/whistling_2333.mp4.\n",
      "MoviePy - Writing audio in whistling_2333TEMP_MPY_wvf_snd.mp4\n"
     ]
    },
    {
     "name": "stderr",
     "output_type": "stream",
     "text": [
      "                                                                  \r"
     ]
    },
    {
     "name": "stdout",
     "output_type": "stream",
     "text": [
      "MoviePy - Done.\n",
      "Moviepy - Writing video ../image_match_output/whistling_2333.mp4\n",
      "\n"
     ]
    },
    {
     "name": "stderr",
     "output_type": "stream",
     "text": [
      "                                                               \r"
     ]
    },
    {
     "name": "stdout",
     "output_type": "stream",
     "text": [
      "Moviepy - Done !\n",
      "Moviepy - video ready ../image_match_output/whistling_2333.mp4\n",
      "Moviepy - Building video ../image_match_output/whistling_2346.mp4.\n",
      "MoviePy - Writing audio in whistling_2346TEMP_MPY_wvf_snd.mp4\n"
     ]
    },
    {
     "name": "stderr",
     "output_type": "stream",
     "text": [
      "                                                                  \r"
     ]
    },
    {
     "name": "stdout",
     "output_type": "stream",
     "text": [
      "MoviePy - Done.\n",
      "Moviepy - Writing video ../image_match_output/whistling_2346.mp4\n",
      "\n"
     ]
    },
    {
     "name": "stderr",
     "output_type": "stream",
     "text": [
      "                                                               \r"
     ]
    },
    {
     "name": "stdout",
     "output_type": "stream",
     "text": [
      "Moviepy - Done !\n",
      "Moviepy - video ready ../image_match_output/whistling_2346.mp4\n",
      "Moviepy - Building video ../image_match_output/whistling_2364.mp4.\n",
      "MoviePy - Writing audio in whistling_2364TEMP_MPY_wvf_snd.mp4\n"
     ]
    },
    {
     "name": "stderr",
     "output_type": "stream",
     "text": [
      "                                                                  \r"
     ]
    },
    {
     "name": "stdout",
     "output_type": "stream",
     "text": [
      "MoviePy - Done.\n",
      "Moviepy - Writing video ../image_match_output/whistling_2364.mp4\n",
      "\n"
     ]
    },
    {
     "name": "stderr",
     "output_type": "stream",
     "text": [
      "                                                               \r"
     ]
    },
    {
     "name": "stdout",
     "output_type": "stream",
     "text": [
      "Moviepy - Done !\n",
      "Moviepy - video ready ../image_match_output/whistling_2364.mp4\n",
      "Moviepy - Building video ../image_match_output/whistling_2376.mp4.\n",
      "MoviePy - Writing audio in whistling_2376TEMP_MPY_wvf_snd.mp4\n"
     ]
    },
    {
     "name": "stderr",
     "output_type": "stream",
     "text": [
      "                                                                  \r"
     ]
    },
    {
     "name": "stdout",
     "output_type": "stream",
     "text": [
      "MoviePy - Done.\n",
      "Moviepy - Writing video ../image_match_output/whistling_2376.mp4\n",
      "\n"
     ]
    },
    {
     "name": "stderr",
     "output_type": "stream",
     "text": [
      "                                                               \r"
     ]
    },
    {
     "name": "stdout",
     "output_type": "stream",
     "text": [
      "Moviepy - Done !\n",
      "Moviepy - video ready ../image_match_output/whistling_2376.mp4\n",
      "Moviepy - Building video ../image_match_output/whistling_2407.mp4.\n",
      "MoviePy - Writing audio in whistling_2407TEMP_MPY_wvf_snd.mp4\n"
     ]
    },
    {
     "name": "stderr",
     "output_type": "stream",
     "text": [
      "                                                                  \r"
     ]
    },
    {
     "name": "stdout",
     "output_type": "stream",
     "text": [
      "MoviePy - Done.\n",
      "Moviepy - Writing video ../image_match_output/whistling_2407.mp4\n",
      "\n"
     ]
    },
    {
     "name": "stderr",
     "output_type": "stream",
     "text": [
      "                                                               \r"
     ]
    },
    {
     "name": "stdout",
     "output_type": "stream",
     "text": [
      "Moviepy - Done !\n",
      "Moviepy - video ready ../image_match_output/whistling_2407.mp4\n",
      "Moviepy - Building video ../image_match_output/whistling_2423.mp4.\n",
      "MoviePy - Writing audio in whistling_2423TEMP_MPY_wvf_snd.mp4\n"
     ]
    },
    {
     "name": "stderr",
     "output_type": "stream",
     "text": [
      "                                                                  \r"
     ]
    },
    {
     "name": "stdout",
     "output_type": "stream",
     "text": [
      "MoviePy - Done.\n",
      "Moviepy - Writing video ../image_match_output/whistling_2423.mp4\n",
      "\n"
     ]
    },
    {
     "name": "stderr",
     "output_type": "stream",
     "text": [
      "                                                               \r"
     ]
    },
    {
     "name": "stdout",
     "output_type": "stream",
     "text": [
      "Moviepy - Done !\n",
      "Moviepy - video ready ../image_match_output/whistling_2423.mp4\n",
      "Moviepy - Building video ../image_match_output/whistling_2430.mp4.\n",
      "MoviePy - Writing audio in whistling_2430TEMP_MPY_wvf_snd.mp4\n"
     ]
    },
    {
     "name": "stderr",
     "output_type": "stream",
     "text": [
      "                                                                 \r"
     ]
    },
    {
     "name": "stdout",
     "output_type": "stream",
     "text": [
      "MoviePy - Done.\n",
      "Moviepy - Writing video ../image_match_output/whistling_2430.mp4\n",
      "\n"
     ]
    },
    {
     "name": "stderr",
     "output_type": "stream",
     "text": [
      "                                                               \r"
     ]
    },
    {
     "name": "stdout",
     "output_type": "stream",
     "text": [
      "Moviepy - Done !\n",
      "Moviepy - video ready ../image_match_output/whistling_2430.mp4\n",
      "Moviepy - Building video ../image_match_output/whistling_2437.mp4.\n",
      "MoviePy - Writing audio in whistling_2437TEMP_MPY_wvf_snd.mp4\n"
     ]
    },
    {
     "name": "stderr",
     "output_type": "stream",
     "text": [
      "                                                        \r"
     ]
    },
    {
     "name": "stdout",
     "output_type": "stream",
     "text": [
      "MoviePy - Done.\n",
      "Moviepy - Writing video ../image_match_output/whistling_2437.mp4\n",
      "\n"
     ]
    },
    {
     "name": "stderr",
     "output_type": "stream",
     "text": [
      "                                                               \r"
     ]
    },
    {
     "name": "stdout",
     "output_type": "stream",
     "text": [
      "Moviepy - Done !\n",
      "Moviepy - video ready ../image_match_output/whistling_2437.mp4\n",
      "Moviepy - Building video ../image_match_output/whistling_2443.mp4.\n",
      "MoviePy - Writing audio in whistling_2443TEMP_MPY_wvf_snd.mp4\n"
     ]
    },
    {
     "name": "stderr",
     "output_type": "stream",
     "text": [
      "                                                                    \r"
     ]
    },
    {
     "name": "stdout",
     "output_type": "stream",
     "text": [
      "MoviePy - Done.\n",
      "Moviepy - Writing video ../image_match_output/whistling_2443.mp4\n",
      "\n"
     ]
    },
    {
     "name": "stderr",
     "output_type": "stream",
     "text": [
      "                                                               \r"
     ]
    },
    {
     "name": "stdout",
     "output_type": "stream",
     "text": [
      "Moviepy - Done !\n",
      "Moviepy - video ready ../image_match_output/whistling_2443.mp4\n",
      "Moviepy - Building video ../image_match_output/whistling_2468.mp4.\n",
      "MoviePy - Writing audio in whistling_2468TEMP_MPY_wvf_snd.mp4\n"
     ]
    },
    {
     "name": "stderr",
     "output_type": "stream",
     "text": [
      "                                                       \r"
     ]
    },
    {
     "name": "stdout",
     "output_type": "stream",
     "text": [
      "MoviePy - Done.\n",
      "Moviepy - Writing video ../image_match_output/whistling_2468.mp4\n",
      "\n"
     ]
    },
    {
     "name": "stderr",
     "output_type": "stream",
     "text": [
      "                                                               \r"
     ]
    },
    {
     "name": "stdout",
     "output_type": "stream",
     "text": [
      "Moviepy - Done !\n",
      "Moviepy - video ready ../image_match_output/whistling_2468.mp4\n",
      "Moviepy - Building video ../image_match_output/whistling_2473.mp4.\n",
      "MoviePy - Writing audio in whistling_2473TEMP_MPY_wvf_snd.mp4\n"
     ]
    },
    {
     "name": "stderr",
     "output_type": "stream",
     "text": [
      "                                                                  \r"
     ]
    },
    {
     "name": "stdout",
     "output_type": "stream",
     "text": [
      "MoviePy - Done.\n",
      "Moviepy - Writing video ../image_match_output/whistling_2473.mp4\n",
      "\n"
     ]
    },
    {
     "name": "stderr",
     "output_type": "stream",
     "text": [
      "                                                               \r"
     ]
    },
    {
     "name": "stdout",
     "output_type": "stream",
     "text": [
      "Moviepy - Done !\n",
      "Moviepy - video ready ../image_match_output/whistling_2473.mp4\n",
      "Moviepy - Building video ../image_match_output/whistling_2483.mp4.\n",
      "MoviePy - Writing audio in whistling_2483TEMP_MPY_wvf_snd.mp4\n"
     ]
    },
    {
     "name": "stderr",
     "output_type": "stream",
     "text": [
      "                                                                    \r"
     ]
    },
    {
     "name": "stdout",
     "output_type": "stream",
     "text": [
      "MoviePy - Done.\n",
      "Moviepy - Writing video ../image_match_output/whistling_2483.mp4\n",
      "\n"
     ]
    },
    {
     "name": "stderr",
     "output_type": "stream",
     "text": [
      "                                                               \r"
     ]
    },
    {
     "name": "stdout",
     "output_type": "stream",
     "text": [
      "Moviepy - Done !\n",
      "Moviepy - video ready ../image_match_output/whistling_2483.mp4\n",
      "Moviepy - Building video ../image_match_output/whistling_2492.mp4.\n",
      "MoviePy - Writing audio in whistling_2492TEMP_MPY_wvf_snd.mp4\n"
     ]
    },
    {
     "name": "stderr",
     "output_type": "stream",
     "text": [
      "                                                                  \r"
     ]
    },
    {
     "name": "stdout",
     "output_type": "stream",
     "text": [
      "MoviePy - Done.\n",
      "Moviepy - Writing video ../image_match_output/whistling_2492.mp4\n",
      "\n"
     ]
    },
    {
     "name": "stderr",
     "output_type": "stream",
     "text": [
      "                                                               \r"
     ]
    },
    {
     "name": "stdout",
     "output_type": "stream",
     "text": [
      "Moviepy - Done !\n",
      "Moviepy - video ready ../image_match_output/whistling_2492.mp4\n",
      "Moviepy - Building video ../image_match_output/whistling_2500.mp4.\n",
      "MoviePy - Writing audio in whistling_2500TEMP_MPY_wvf_snd.mp4\n"
     ]
    },
    {
     "name": "stderr",
     "output_type": "stream",
     "text": [
      "                                                                    \r"
     ]
    },
    {
     "name": "stdout",
     "output_type": "stream",
     "text": [
      "MoviePy - Done.\n",
      "Moviepy - Writing video ../image_match_output/whistling_2500.mp4\n",
      "\n"
     ]
    },
    {
     "name": "stderr",
     "output_type": "stream",
     "text": [
      "                                                               \r"
     ]
    },
    {
     "name": "stdout",
     "output_type": "stream",
     "text": [
      "Moviepy - Done !\n",
      "Moviepy - video ready ../image_match_output/whistling_2500.mp4\n",
      "Moviepy - Building video ../image_match_output/whistling_2509.mp4.\n",
      "MoviePy - Writing audio in whistling_2509TEMP_MPY_wvf_snd.mp4\n"
     ]
    },
    {
     "name": "stderr",
     "output_type": "stream",
     "text": [
      "                                                       \r"
     ]
    },
    {
     "name": "stdout",
     "output_type": "stream",
     "text": [
      "MoviePy - Done.\n",
      "Moviepy - Writing video ../image_match_output/whistling_2509.mp4\n",
      "\n"
     ]
    },
    {
     "name": "stderr",
     "output_type": "stream",
     "text": [
      "                                                              \r"
     ]
    },
    {
     "name": "stdout",
     "output_type": "stream",
     "text": [
      "Moviepy - Done !\n",
      "Moviepy - video ready ../image_match_output/whistling_2509.mp4\n",
      "Moviepy - Building video ../image_match_output/whistling_2518.mp4.\n",
      "MoviePy - Writing audio in whistling_2518TEMP_MPY_wvf_snd.mp4\n"
     ]
    },
    {
     "name": "stderr",
     "output_type": "stream",
     "text": [
      "                                                                    \r"
     ]
    },
    {
     "name": "stdout",
     "output_type": "stream",
     "text": [
      "MoviePy - Done.\n",
      "Moviepy - Writing video ../image_match_output/whistling_2518.mp4\n",
      "\n"
     ]
    },
    {
     "name": "stderr",
     "output_type": "stream",
     "text": [
      "                                                               \r"
     ]
    },
    {
     "name": "stdout",
     "output_type": "stream",
     "text": [
      "Moviepy - Done !\n",
      "Moviepy - video ready ../image_match_output/whistling_2518.mp4\n",
      "Moviepy - Building video ../image_match_output/whistling_2530.mp4.\n",
      "MoviePy - Writing audio in whistling_2530TEMP_MPY_wvf_snd.mp4\n"
     ]
    },
    {
     "name": "stderr",
     "output_type": "stream",
     "text": [
      "                                                                  \r"
     ]
    },
    {
     "name": "stdout",
     "output_type": "stream",
     "text": [
      "MoviePy - Done.\n",
      "Moviepy - Writing video ../image_match_output/whistling_2530.mp4\n",
      "\n"
     ]
    },
    {
     "name": "stderr",
     "output_type": "stream",
     "text": [
      "                                                               \r"
     ]
    },
    {
     "name": "stdout",
     "output_type": "stream",
     "text": [
      "Moviepy - Done !\n",
      "Moviepy - video ready ../image_match_output/whistling_2530.mp4\n",
      "Moviepy - Building video ../image_match_output/whistling_2536.mp4.\n",
      "MoviePy - Writing audio in whistling_2536TEMP_MPY_wvf_snd.mp4\n"
     ]
    },
    {
     "name": "stderr",
     "output_type": "stream",
     "text": [
      "                                                                    \r"
     ]
    },
    {
     "name": "stdout",
     "output_type": "stream",
     "text": [
      "MoviePy - Done.\n",
      "Moviepy - Writing video ../image_match_output/whistling_2536.mp4\n",
      "\n"
     ]
    },
    {
     "name": "stderr",
     "output_type": "stream",
     "text": [
      "                                                               \r"
     ]
    },
    {
     "name": "stdout",
     "output_type": "stream",
     "text": [
      "Moviepy - Done !\n",
      "Moviepy - video ready ../image_match_output/whistling_2536.mp4\n",
      "Moviepy - Building video ../image_match_output/whistling_2549.mp4.\n",
      "MoviePy - Writing audio in whistling_2549TEMP_MPY_wvf_snd.mp4\n"
     ]
    },
    {
     "name": "stderr",
     "output_type": "stream",
     "text": [
      "                                                                  \r"
     ]
    },
    {
     "name": "stdout",
     "output_type": "stream",
     "text": [
      "MoviePy - Done.\n",
      "Moviepy - Writing video ../image_match_output/whistling_2549.mp4\n",
      "\n"
     ]
    },
    {
     "name": "stderr",
     "output_type": "stream",
     "text": [
      "                                                               \r"
     ]
    },
    {
     "name": "stdout",
     "output_type": "stream",
     "text": [
      "Moviepy - Done !\n",
      "Moviepy - video ready ../image_match_output/whistling_2549.mp4\n",
      "Moviepy - Building video ../image_match_output/whistling_2557.mp4.\n",
      "MoviePy - Writing audio in whistling_2557TEMP_MPY_wvf_snd.mp4\n"
     ]
    },
    {
     "name": "stderr",
     "output_type": "stream",
     "text": [
      "                                                                  \r"
     ]
    },
    {
     "name": "stdout",
     "output_type": "stream",
     "text": [
      "MoviePy - Done.\n",
      "Moviepy - Writing video ../image_match_output/whistling_2557.mp4\n",
      "\n"
     ]
    },
    {
     "name": "stderr",
     "output_type": "stream",
     "text": [
      "                                                              \r"
     ]
    },
    {
     "name": "stdout",
     "output_type": "stream",
     "text": [
      "Moviepy - Done !\n",
      "Moviepy - video ready ../image_match_output/whistling_2557.mp4\n",
      "Moviepy - Building video ../image_match_output/whistling_2567.mp4.\n",
      "MoviePy - Writing audio in whistling_2567TEMP_MPY_wvf_snd.mp4\n"
     ]
    },
    {
     "name": "stderr",
     "output_type": "stream",
     "text": [
      "                                                                    \r"
     ]
    },
    {
     "name": "stdout",
     "output_type": "stream",
     "text": [
      "MoviePy - Done.\n",
      "Moviepy - Writing video ../image_match_output/whistling_2567.mp4\n",
      "\n"
     ]
    },
    {
     "name": "stderr",
     "output_type": "stream",
     "text": [
      "                                                                \r"
     ]
    },
    {
     "name": "stdout",
     "output_type": "stream",
     "text": [
      "Moviepy - Done !\n",
      "Moviepy - video ready ../image_match_output/whistling_2567.mp4\n",
      "Moviepy - Building video ../image_match_output/whistling_2603.mp4.\n",
      "MoviePy - Writing audio in whistling_2603TEMP_MPY_wvf_snd.mp4\n"
     ]
    },
    {
     "name": "stderr",
     "output_type": "stream",
     "text": [
      "                                                                  \r"
     ]
    },
    {
     "name": "stdout",
     "output_type": "stream",
     "text": [
      "MoviePy - Done.\n",
      "Moviepy - Writing video ../image_match_output/whistling_2603.mp4\n",
      "\n"
     ]
    },
    {
     "name": "stderr",
     "output_type": "stream",
     "text": [
      "                                                               \r"
     ]
    },
    {
     "name": "stdout",
     "output_type": "stream",
     "text": [
      "Moviepy - Done !\n",
      "Moviepy - video ready ../image_match_output/whistling_2603.mp4\n",
      "Moviepy - Building video ../image_match_output/whistling_192.mp4.\n",
      "MoviePy - Writing audio in whistling_192TEMP_MPY_wvf_snd.mp4\n"
     ]
    },
    {
     "name": "stderr",
     "output_type": "stream",
     "text": [
      "                                                                   \r"
     ]
    },
    {
     "name": "stdout",
     "output_type": "stream",
     "text": [
      "MoviePy - Done.\n",
      "Moviepy - Writing video ../image_match_output/whistling_192.mp4\n",
      "\n"
     ]
    },
    {
     "name": "stderr",
     "output_type": "stream",
     "text": [
      "                                                               \r"
     ]
    },
    {
     "name": "stdout",
     "output_type": "stream",
     "text": [
      "Moviepy - Done !\n",
      "Moviepy - video ready ../image_match_output/whistling_192.mp4\n",
      "Moviepy - Building video ../image_match_output/whistling_354.mp4.\n",
      "MoviePy - Writing audio in whistling_354TEMP_MPY_wvf_snd.mp4\n"
     ]
    },
    {
     "name": "stderr",
     "output_type": "stream",
     "text": [
      "                                                                    \r"
     ]
    },
    {
     "name": "stdout",
     "output_type": "stream",
     "text": [
      "MoviePy - Done.\n",
      "Moviepy - Writing video ../image_match_output/whistling_354.mp4\n",
      "\n"
     ]
    },
    {
     "name": "stderr",
     "output_type": "stream",
     "text": [
      "                                                               \r"
     ]
    },
    {
     "name": "stdout",
     "output_type": "stream",
     "text": [
      "Moviepy - Done !\n",
      "Moviepy - video ready ../image_match_output/whistling_354.mp4\n",
      "Moviepy - Building video ../image_match_output/whistling_374.mp4.\n",
      "MoviePy - Writing audio in whistling_374TEMP_MPY_wvf_snd.mp4\n"
     ]
    },
    {
     "name": "stderr",
     "output_type": "stream",
     "text": [
      "                                                                    \r"
     ]
    },
    {
     "name": "stdout",
     "output_type": "stream",
     "text": [
      "MoviePy - Done.\n",
      "Moviepy - Writing video ../image_match_output/whistling_374.mp4\n",
      "\n"
     ]
    },
    {
     "name": "stderr",
     "output_type": "stream",
     "text": [
      "                                                               \r"
     ]
    },
    {
     "name": "stdout",
     "output_type": "stream",
     "text": [
      "Moviepy - Done !\n",
      "Moviepy - video ready ../image_match_output/whistling_374.mp4\n",
      "Moviepy - Building video ../image_match_output/whistling_502.mp4.\n",
      "MoviePy - Writing audio in whistling_502TEMP_MPY_wvf_snd.mp4\n"
     ]
    },
    {
     "name": "stderr",
     "output_type": "stream",
     "text": [
      "                                                                    \r"
     ]
    },
    {
     "name": "stdout",
     "output_type": "stream",
     "text": [
      "MoviePy - Done.\n",
      "Moviepy - Writing video ../image_match_output/whistling_502.mp4\n",
      "\n"
     ]
    },
    {
     "name": "stderr",
     "output_type": "stream",
     "text": [
      "                                                               \r"
     ]
    },
    {
     "name": "stdout",
     "output_type": "stream",
     "text": [
      "Moviepy - Done !\n",
      "Moviepy - video ready ../image_match_output/whistling_502.mp4\n",
      "Moviepy - Building video ../image_match_output/whistling_529.mp4.\n",
      "MoviePy - Writing audio in whistling_529TEMP_MPY_wvf_snd.mp4\n"
     ]
    },
    {
     "name": "stderr",
     "output_type": "stream",
     "text": [
      "                                                                    \r"
     ]
    },
    {
     "name": "stdout",
     "output_type": "stream",
     "text": [
      "MoviePy - Done.\n",
      "Moviepy - Writing video ../image_match_output/whistling_529.mp4\n",
      "\n"
     ]
    },
    {
     "name": "stderr",
     "output_type": "stream",
     "text": [
      "                                                               \r"
     ]
    },
    {
     "name": "stdout",
     "output_type": "stream",
     "text": [
      "Moviepy - Done !\n",
      "Moviepy - video ready ../image_match_output/whistling_529.mp4\n",
      "Moviepy - Building video ../image_match_output/whistling_554.mp4.\n",
      "MoviePy - Writing audio in whistling_554TEMP_MPY_wvf_snd.mp4\n"
     ]
    },
    {
     "name": "stderr",
     "output_type": "stream",
     "text": [
      "                                                                    \r"
     ]
    },
    {
     "name": "stdout",
     "output_type": "stream",
     "text": [
      "MoviePy - Done.\n",
      "Moviepy - Writing video ../image_match_output/whistling_554.mp4\n",
      "\n"
     ]
    },
    {
     "name": "stderr",
     "output_type": "stream",
     "text": [
      "                                                               \r"
     ]
    },
    {
     "name": "stdout",
     "output_type": "stream",
     "text": [
      "Moviepy - Done !\n",
      "Moviepy - video ready ../image_match_output/whistling_554.mp4\n",
      "Moviepy - Building video ../image_match_output/whistling_648.mp4.\n",
      "MoviePy - Writing audio in whistling_648TEMP_MPY_wvf_snd.mp4\n"
     ]
    },
    {
     "name": "stderr",
     "output_type": "stream",
     "text": [
      "                                                                    \r"
     ]
    },
    {
     "name": "stdout",
     "output_type": "stream",
     "text": [
      "MoviePy - Done.\n",
      "Moviepy - Writing video ../image_match_output/whistling_648.mp4\n",
      "\n"
     ]
    },
    {
     "name": "stderr",
     "output_type": "stream",
     "text": [
      "                                                               \r"
     ]
    },
    {
     "name": "stdout",
     "output_type": "stream",
     "text": [
      "Moviepy - Done !\n",
      "Moviepy - video ready ../image_match_output/whistling_648.mp4\n",
      "Moviepy - Building video ../image_match_output/whistling_738.mp4.\n",
      "MoviePy - Writing audio in whistling_738TEMP_MPY_wvf_snd.mp4\n"
     ]
    },
    {
     "name": "stderr",
     "output_type": "stream",
     "text": [
      "                                                                  \r"
     ]
    },
    {
     "name": "stdout",
     "output_type": "stream",
     "text": [
      "MoviePy - Done.\n",
      "Moviepy - Writing video ../image_match_output/whistling_738.mp4\n",
      "\n"
     ]
    },
    {
     "name": "stderr",
     "output_type": "stream",
     "text": [
      "                                                               \r"
     ]
    },
    {
     "name": "stdout",
     "output_type": "stream",
     "text": [
      "Moviepy - Done !\n",
      "Moviepy - video ready ../image_match_output/whistling_738.mp4\n",
      "Moviepy - Building video ../image_match_output/whistling_1346.mp4.\n",
      "MoviePy - Writing audio in whistling_1346TEMP_MPY_wvf_snd.mp4\n"
     ]
    },
    {
     "name": "stderr",
     "output_type": "stream",
     "text": [
      "                                                                  \r"
     ]
    },
    {
     "name": "stdout",
     "output_type": "stream",
     "text": [
      "MoviePy - Done.\n",
      "Moviepy - Writing video ../image_match_output/whistling_1346.mp4\n",
      "\n"
     ]
    },
    {
     "name": "stderr",
     "output_type": "stream",
     "text": [
      "                                                               \r"
     ]
    },
    {
     "name": "stdout",
     "output_type": "stream",
     "text": [
      "Moviepy - Done !\n",
      "Moviepy - video ready ../image_match_output/whistling_1346.mp4\n"
     ]
    }
   ],
   "source": [
    "folderPath = '../image_match_output/'\n",
    "for i in finallist:\n",
    "    i[0].write_videofile(folderPath + i[1] + '.mp4', audio_codec='aac')"
   ]
  },
  {
   "cell_type": "code",
   "execution_count": null,
   "id": "466c7055",
   "metadata": {},
   "outputs": [],
   "source": []
  },
  {
   "cell_type": "code",
   "execution_count": null,
   "id": "dde4993b",
   "metadata": {},
   "outputs": [],
   "source": []
  }
 ],
 "metadata": {
  "kernelspec": {
   "display_name": "Python 3 (ipykernel)",
   "language": "python",
   "name": "python3"
  },
  "language_info": {
   "codemirror_mode": {
    "name": "ipython",
    "version": 3
   },
   "file_extension": ".py",
   "mimetype": "text/x-python",
   "name": "python",
   "nbconvert_exporter": "python",
   "pygments_lexer": "ipython3",
   "version": "3.11.5"
  }
 },
 "nbformat": 4,
 "nbformat_minor": 5
}
